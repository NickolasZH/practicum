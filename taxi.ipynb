{
 "cells": [
  {
   "cell_type": "markdown",
   "metadata": {},
   "source": [
    "# Прогнозирование заказов такси"
   ]
  },
  {
   "cell_type": "markdown",
   "metadata": {},
   "source": [
    "**Цель проекта:**  \n",
    "Разработать модель машинного обучения для предсказания количества заказов такси в аэропорту на следующий час. Это позволит компании «Чётенькое такси» оптимизировать распределение водителей в периоды пиковой нагрузки и улучшить качество обслуживания клиентов.\n",
    "\n",
    "**Описание проекта:**  \n",
    "Компания «Чётенькое такси» собирает данные о заказах такси, сделанных в аэропортах. На основе исторических данных необходимо предсказать количество заказов такси на следующий час. Построенная модель будет использоваться для оптимизации распределения водителей и повышения качества обслуживания в пиковые часы. Ключевая метрика — RMSE, значение которой должно быть не больше 48.\n",
    "\n",
    "**Критерии, важные заказчику:**  \n",
    "- Высокая точность предсказания (метрика RMSE на тестовой выборке не более 48).\n",
    "- Оптимизация времени обучения модели.\n",
    "- Возможность работы с историческими данными для корректного прогнозирования.\n",
    "\n",
    "---\n",
    "\n",
    "**Этапы выполнения проекта:**\n",
    "\n",
    "**1. Загрузка и анализ данных**  \n",
    "- Загрузить данные из файла `/datasets/taxi.csv`.\n",
    "- Ознакомиться с общей структурой данных: столбцы, типы признаков, распределение данных.\n",
    "- Проверить наличие пропусков, выбросов и аномалий в данных.\n",
    "\n",
    "**2. Предобработка данных**  \n",
    "- Привести данные к необходимому формату: выполнить ресемплирование данных по одному часу для временного ряда.\n",
    "\n",
    "**3. Разделение данных**  \n",
    "- Определить целевой признак (`num_orders`).\n",
    "- Разделить выборку на обучающую и тестовую: тестовая выборка — 10% от всех данных.\n",
    "\n",
    "**4. Построение и обучение моделей**  \n",
    "- Создать pipeline для обработки данных и обучения моделей.\n",
    "- Обучить несколько моделей, используя различные алгоритмы:\n",
    "  - Линейная регрессия (`LinearRegression`).\n",
    "  - Решающее дерево (`DecisionTreeRegressor`).\n",
    "  - Случайный лес (`RandomForestRegressor`).\n",
    "- Настроить гиперпараметры моделей с использованием `GridSearchCV` или `RandomizedSearchCV`.\n",
    "\n",
    "**5. Оценка моделей**  \n",
    "- Оценить каждую модель по метрике RMSE на тестовой выборке.\n",
    "- Проанализировать:\n",
    "  - Время обучения каждой модели.\n",
    "  - Время предсказания для каждой модели.\n",
    "  - Качество предсказаний (на основе RMSE и визуализации ошибок).\n",
    "\n",
    "**6. Выбор лучшей модели и финальное тестирование**  \n",
    "- Выбрать модель с наилучшей метрикой RMSE и оптимальной скоростью работы."
   ]
  },
  {
   "cell_type": "markdown",
   "metadata": {},
   "source": [
    "## Подготовка данных"
   ]
  },
  {
   "cell_type": "markdown",
   "metadata": {},
   "source": [
    "### Загрузка данных"
   ]
  },
  {
   "cell_type": "code",
   "execution_count": 264,
   "metadata": {},
   "outputs": [],
   "source": [
    "# Базовые библиотеки\n",
    "import os, time, sklearn, warnings\n",
    "import numpy as np\n",
    "import pandas as pd\n",
    "import matplotlib.pyplot as plt\n",
    "import seaborn as sns\n",
    "from datetime import datetime\n",
    "\n",
    "# Модели и обработка данных\n",
    "from sklearn.model_selection import train_test_split, GridSearchCV, RandomizedSearchCV, TimeSeriesSplit \n",
    "from sklearn.preprocessing import OneHotEncoder, StandardScaler, OrdinalEncoder\n",
    "from sklearn.compose import ColumnTransformer\n",
    "from sklearn.impute import SimpleImputer\n",
    "from sklearn.pipeline import Pipeline\n",
    "from sklearn.linear_model import LinearRegression\n",
    "from sklearn.ensemble import RandomForestRegressor\n",
    "from sklearn.tree import DecisionTreeRegressor\n",
    "from xgboost import XGBRegressor\n",
    "\n",
    "# Метрики\n",
    "from sklearn.metrics import mean_squared_error\n",
    "\n",
    "# Тесты на нормальность распределения\n",
    "from scipy.stats import shapiro, normaltest, kstest\n",
    "\n",
    "# Константы\n",
    "RANDOM_STATE = 42\n"
   ]
  },
  {
   "cell_type": "code",
   "execution_count": 265,
   "metadata": {},
   "outputs": [],
   "source": [
    "# Загрузка данных с учетом разделителей\n",
    "path = 'taxi/taxi.csv'\n",
    "if os.path.exists(path):\n",
    "    taxi = pd.read_csv(path, delimiter=',')\n",
    "else: print('Не получилось найти файл по указанному пути')"
   ]
  },
  {
   "cell_type": "code",
   "execution_count": 266,
   "metadata": {},
   "outputs": [],
   "source": [
    "# Преобразование столбца 'datetime' в формат datetime\n",
    "taxi['datetime'] = pd.to_datetime(taxi['datetime'])\n",
    "\n",
    "# Установка 'datetime' как индекс\n",
    "taxi.set_index('datetime', inplace=True)\n",
    "\n",
    "# Сортировка датасета по индексу (дата)\n",
    "taxi = taxi.sort_index()\n",
    "\n",
    "# Ресемплирование по часам и агрегация по сумме заказов\n",
    "taxi = taxi.resample('h').sum()"
   ]
  },
  {
   "cell_type": "code",
   "execution_count": 267,
   "metadata": {},
   "outputs": [
    {
     "name": "stdout",
     "output_type": "stream",
     "text": [
      "Пропущенные даты: DatetimeIndex([], dtype='datetime64[ns]', freq='h')\n"
     ]
    }
   ],
   "source": [
    "# Проверка на пропуски в датах\n",
    "missing_dates = pd.date_range(start=taxi.index.min(), end=taxi.index.max(), freq='h')\n",
    "missing_dates = missing_dates.difference(taxi.index)\n",
    "\n",
    "print(f\"Пропущенные даты: {missing_dates}\")"
   ]
  },
  {
   "cell_type": "code",
   "execution_count": 268,
   "metadata": {},
   "outputs": [],
   "source": [
    "# Добавляем временные признаки\n",
    "taxi['month'] = taxi.index.month  # Месяц\n",
    "taxi['day_of_week'] = taxi.index.dayofweek  # День недели (0 - понедельник, 6 - воскресенье)\n",
    "taxi['day_of_month'] = taxi.index.day  # День месяца\n",
    "taxi['hour'] = taxi.index.hour  # Час дня\n",
    "\n",
    "# Добавляем лаги (например, за 1, 2 и 3 шаги)\n",
    "taxi['lag_1'] = taxi['num_orders'].shift(1)\n",
    "taxi['lag_2'] = taxi['num_orders'].shift(2)\n",
    "taxi['lag_3'] = taxi['num_orders'].shift(3)"
   ]
  },
  {
   "cell_type": "code",
   "execution_count": 269,
   "metadata": {},
   "outputs": [],
   "source": [
    "# Удаляем строки с пропусками (они появятся из-за лагов)\n",
    "taxi = taxi.dropna()"
   ]
  },
  {
   "cell_type": "code",
   "execution_count": 270,
   "metadata": {},
   "outputs": [
    {
     "data": {
      "text/html": [
       "<div>\n",
       "<style scoped>\n",
       "    .dataframe tbody tr th:only-of-type {\n",
       "        vertical-align: middle;\n",
       "    }\n",
       "\n",
       "    .dataframe tbody tr th {\n",
       "        vertical-align: top;\n",
       "    }\n",
       "\n",
       "    .dataframe thead th {\n",
       "        text-align: right;\n",
       "    }\n",
       "</style>\n",
       "<table border=\"1\" class=\"dataframe\">\n",
       "  <thead>\n",
       "    <tr style=\"text-align: right;\">\n",
       "      <th></th>\n",
       "      <th>num_orders</th>\n",
       "      <th>month</th>\n",
       "      <th>day_of_week</th>\n",
       "      <th>day_of_month</th>\n",
       "      <th>hour</th>\n",
       "      <th>lag_1</th>\n",
       "      <th>lag_2</th>\n",
       "      <th>lag_3</th>\n",
       "    </tr>\n",
       "    <tr>\n",
       "      <th>datetime</th>\n",
       "      <th></th>\n",
       "      <th></th>\n",
       "      <th></th>\n",
       "      <th></th>\n",
       "      <th></th>\n",
       "      <th></th>\n",
       "      <th></th>\n",
       "      <th></th>\n",
       "    </tr>\n",
       "  </thead>\n",
       "  <tbody>\n",
       "    <tr>\n",
       "      <th>2018-03-01 03:00:00</th>\n",
       "      <td>66</td>\n",
       "      <td>3</td>\n",
       "      <td>3</td>\n",
       "      <td>1</td>\n",
       "      <td>3</td>\n",
       "      <td>71.0</td>\n",
       "      <td>85.0</td>\n",
       "      <td>124.0</td>\n",
       "    </tr>\n",
       "    <tr>\n",
       "      <th>2018-03-01 04:00:00</th>\n",
       "      <td>43</td>\n",
       "      <td>3</td>\n",
       "      <td>3</td>\n",
       "      <td>1</td>\n",
       "      <td>4</td>\n",
       "      <td>66.0</td>\n",
       "      <td>71.0</td>\n",
       "      <td>85.0</td>\n",
       "    </tr>\n",
       "    <tr>\n",
       "      <th>2018-03-01 05:00:00</th>\n",
       "      <td>6</td>\n",
       "      <td>3</td>\n",
       "      <td>3</td>\n",
       "      <td>1</td>\n",
       "      <td>5</td>\n",
       "      <td>43.0</td>\n",
       "      <td>66.0</td>\n",
       "      <td>71.0</td>\n",
       "    </tr>\n",
       "    <tr>\n",
       "      <th>2018-03-01 06:00:00</th>\n",
       "      <td>12</td>\n",
       "      <td>3</td>\n",
       "      <td>3</td>\n",
       "      <td>1</td>\n",
       "      <td>6</td>\n",
       "      <td>6.0</td>\n",
       "      <td>43.0</td>\n",
       "      <td>66.0</td>\n",
       "    </tr>\n",
       "    <tr>\n",
       "      <th>2018-03-01 07:00:00</th>\n",
       "      <td>15</td>\n",
       "      <td>3</td>\n",
       "      <td>3</td>\n",
       "      <td>1</td>\n",
       "      <td>7</td>\n",
       "      <td>12.0</td>\n",
       "      <td>6.0</td>\n",
       "      <td>43.0</td>\n",
       "    </tr>\n",
       "  </tbody>\n",
       "</table>\n",
       "</div>"
      ],
      "text/plain": [
       "                     num_orders  month  day_of_week  day_of_month  hour  \\\n",
       "datetime                                                                  \n",
       "2018-03-01 03:00:00          66      3            3             1     3   \n",
       "2018-03-01 04:00:00          43      3            3             1     4   \n",
       "2018-03-01 05:00:00           6      3            3             1     5   \n",
       "2018-03-01 06:00:00          12      3            3             1     6   \n",
       "2018-03-01 07:00:00          15      3            3             1     7   \n",
       "\n",
       "                     lag_1  lag_2  lag_3  \n",
       "datetime                                  \n",
       "2018-03-01 03:00:00   71.0   85.0  124.0  \n",
       "2018-03-01 04:00:00   66.0   71.0   85.0  \n",
       "2018-03-01 05:00:00   43.0   66.0   71.0  \n",
       "2018-03-01 06:00:00    6.0   43.0   66.0  \n",
       "2018-03-01 07:00:00   12.0    6.0   43.0  "
      ]
     },
     "metadata": {},
     "output_type": "display_data"
    }
   ],
   "source": [
    "# Проверка результата\n",
    "display(taxi.head())"
   ]
  },
  {
   "cell_type": "markdown",
   "metadata": {},
   "source": [
    "Пропусков в датах нет"
   ]
  },
  {
   "cell_type": "markdown",
   "metadata": {},
   "source": [
    "## Исследовательский анализ"
   ]
  },
  {
   "cell_type": "code",
   "execution_count": 271,
   "metadata": {},
   "outputs": [
    {
     "name": "stdout",
     "output_type": "stream",
     "text": [
      "Статистический анализ taxi:\n"
     ]
    },
    {
     "data": {
      "text/html": [
       "<div>\n",
       "<style scoped>\n",
       "    .dataframe tbody tr th:only-of-type {\n",
       "        vertical-align: middle;\n",
       "    }\n",
       "\n",
       "    .dataframe tbody tr th {\n",
       "        vertical-align: top;\n",
       "    }\n",
       "\n",
       "    .dataframe thead th {\n",
       "        text-align: right;\n",
       "    }\n",
       "</style>\n",
       "<table border=\"1\" class=\"dataframe\">\n",
       "  <thead>\n",
       "    <tr style=\"text-align: right;\">\n",
       "      <th></th>\n",
       "      <th>num_orders</th>\n",
       "      <th>month</th>\n",
       "      <th>day_of_week</th>\n",
       "      <th>day_of_month</th>\n",
       "      <th>hour</th>\n",
       "      <th>lag_1</th>\n",
       "      <th>lag_2</th>\n",
       "      <th>lag_3</th>\n",
       "    </tr>\n",
       "  </thead>\n",
       "  <tbody>\n",
       "    <tr>\n",
       "      <th>count</th>\n",
       "      <td>4413.000000</td>\n",
       "      <td>4413.000000</td>\n",
       "      <td>4413.000000</td>\n",
       "      <td>4413.000000</td>\n",
       "      <td>4413.000000</td>\n",
       "      <td>4413.000000</td>\n",
       "      <td>4413.000000</td>\n",
       "      <td>4413.000000</td>\n",
       "    </tr>\n",
       "    <tr>\n",
       "      <th>mean</th>\n",
       "      <td>84.416723</td>\n",
       "      <td>5.507138</td>\n",
       "      <td>3.005438</td>\n",
       "      <td>15.847043</td>\n",
       "      <td>11.507138</td>\n",
       "      <td>84.386358</td>\n",
       "      <td>84.355087</td>\n",
       "      <td>84.347156</td>\n",
       "    </tr>\n",
       "    <tr>\n",
       "      <th>std</th>\n",
       "      <td>45.034762</td>\n",
       "      <td>1.712642</td>\n",
       "      <td>1.991361</td>\n",
       "      <td>8.849781</td>\n",
       "      <td>6.919873</td>\n",
       "      <td>44.998600</td>\n",
       "      <td>44.950175</td>\n",
       "      <td>44.940088</td>\n",
       "    </tr>\n",
       "    <tr>\n",
       "      <th>min</th>\n",
       "      <td>0.000000</td>\n",
       "      <td>3.000000</td>\n",
       "      <td>0.000000</td>\n",
       "      <td>1.000000</td>\n",
       "      <td>0.000000</td>\n",
       "      <td>0.000000</td>\n",
       "      <td>0.000000</td>\n",
       "      <td>0.000000</td>\n",
       "    </tr>\n",
       "    <tr>\n",
       "      <th>25%</th>\n",
       "      <td>54.000000</td>\n",
       "      <td>4.000000</td>\n",
       "      <td>1.000000</td>\n",
       "      <td>8.000000</td>\n",
       "      <td>6.000000</td>\n",
       "      <td>54.000000</td>\n",
       "      <td>54.000000</td>\n",
       "      <td>54.000000</td>\n",
       "    </tr>\n",
       "    <tr>\n",
       "      <th>50%</th>\n",
       "      <td>78.000000</td>\n",
       "      <td>6.000000</td>\n",
       "      <td>3.000000</td>\n",
       "      <td>16.000000</td>\n",
       "      <td>12.000000</td>\n",
       "      <td>78.000000</td>\n",
       "      <td>78.000000</td>\n",
       "      <td>78.000000</td>\n",
       "    </tr>\n",
       "    <tr>\n",
       "      <th>75%</th>\n",
       "      <td>107.000000</td>\n",
       "      <td>7.000000</td>\n",
       "      <td>5.000000</td>\n",
       "      <td>24.000000</td>\n",
       "      <td>18.000000</td>\n",
       "      <td>107.000000</td>\n",
       "      <td>107.000000</td>\n",
       "      <td>107.000000</td>\n",
       "    </tr>\n",
       "    <tr>\n",
       "      <th>max</th>\n",
       "      <td>462.000000</td>\n",
       "      <td>8.000000</td>\n",
       "      <td>6.000000</td>\n",
       "      <td>31.000000</td>\n",
       "      <td>23.000000</td>\n",
       "      <td>462.000000</td>\n",
       "      <td>462.000000</td>\n",
       "      <td>462.000000</td>\n",
       "    </tr>\n",
       "  </tbody>\n",
       "</table>\n",
       "</div>"
      ],
      "text/plain": [
       "        num_orders        month  day_of_week  day_of_month         hour  \\\n",
       "count  4413.000000  4413.000000  4413.000000   4413.000000  4413.000000   \n",
       "mean     84.416723     5.507138     3.005438     15.847043    11.507138   \n",
       "std      45.034762     1.712642     1.991361      8.849781     6.919873   \n",
       "min       0.000000     3.000000     0.000000      1.000000     0.000000   \n",
       "25%      54.000000     4.000000     1.000000      8.000000     6.000000   \n",
       "50%      78.000000     6.000000     3.000000     16.000000    12.000000   \n",
       "75%     107.000000     7.000000     5.000000     24.000000    18.000000   \n",
       "max     462.000000     8.000000     6.000000     31.000000    23.000000   \n",
       "\n",
       "             lag_1        lag_2        lag_3  \n",
       "count  4413.000000  4413.000000  4413.000000  \n",
       "mean     84.386358    84.355087    84.347156  \n",
       "std      44.998600    44.950175    44.940088  \n",
       "min       0.000000     0.000000     0.000000  \n",
       "25%      54.000000    54.000000    54.000000  \n",
       "50%      78.000000    78.000000    78.000000  \n",
       "75%     107.000000   107.000000   107.000000  \n",
       "max     462.000000   462.000000   462.000000  "
      ]
     },
     "metadata": {},
     "output_type": "display_data"
    }
   ],
   "source": [
    "# Анализ количественных признаков\n",
    "print(\"Статистический анализ taxi:\")\n",
    "display(taxi.describe())"
   ]
  },
  {
   "cell_type": "markdown",
   "metadata": {},
   "source": [
    "**Статистические характеристики:**\n",
    "\n",
    "1. **Количество записей (`count`)**:  \n",
    "   В датасете 4416 записей, что означает, что у нас есть данные по 4416 часам.\n",
    "\n",
    "2. **Среднее количество заказов (`mean`)**:  \n",
    "   Среднее количество заказов за час составляет 84.42. Это ориентировочная оценка того, сколько заказов происходит в среднем за один час.\n",
    "\n",
    "3. **Стандартное отклонение (`std`)**:  \n",
    "   Стандартное отклонение равно 45.02, что указывает на значительные колебания в количестве заказов. Это значит, что данные могут сильно варьироваться от среднего значения.\n",
    "\n",
    "4. **Минимальное значение (`min`)**:  \n",
    "   Минимальное количество заказов за час — 0. Это может означать, что в некоторые часы не было заказов (например, в ночное время или в периоды низкой активности).\n",
    "\n",
    "5. **Квартиль 25% (`25%`)**:  \n",
    "   25% всех часов имеют количество заказов меньше или равное 54. Это означает, что в 25% случаев заказы в течение часа были относительно редкими.\n",
    "\n",
    "6. **Медиана (`50%`)**:  \n",
    "   Медианное значение (или 50-й процентиль) равно 78. Это значит, что половина всех наблюдений имеет количество заказов меньше или равно 78. Медиана обычно меньше среднего значения, что говорит о наличии выбросов или асимметрии в данных.\n",
    "\n",
    "7. **Квартиль 75% (`75%`)**:  \n",
    "   75% всех часов имеют количество заказов меньше или равное 107. Это также указывает на то, что большинство значений сосредоточены в пределах от 54 до 107 заказов.\n",
    "\n",
    "8. **Максимальное значение (`max`)**:  \n",
    "   Максимальное количество заказов за час — 462. Это может быть выбросом или пиковым значением в периоды высокого спроса, например, во время праздников или крупных событий."
   ]
  },
  {
   "cell_type": "code",
   "execution_count": 272,
   "metadata": {},
   "outputs": [
    {
     "data": {
      "image/png": "[encoded data removed]",
      "text/plain": [
       "<Figure size 1000x600 with 1 Axes>"
      ]
     },
     "metadata": {},
     "output_type": "display_data"
    }
   ],
   "source": [
    "# Визуализация распределения количества заказов\n",
    "plt.figure(figsize=(10, 6))\n",
    "sns.histplot(taxi['num_orders'], bins=50, kde=True)\n",
    "plt.title('Распределение количества заказов')\n",
    "plt.xlabel('Количество заказов')\n",
    "plt.ylabel('Частота')\n",
    "plt.show()\n"
   ]
  },
  {
   "cell_type": "markdown",
   "metadata": {},
   "source": [
    "Проверим нормальность распределения с помощью стат.тестов."
   ]
  },
  {
   "cell_type": "code",
   "execution_count": 273,
   "metadata": {},
   "outputs": [
    {
     "name": "stdout",
     "output_type": "stream",
     "text": [
      "Shapiro-Wilk test: статистика=0.94198741, p-значение=0.00000000\n",
      "D’Agostino and Pearson test: статистика=1062.98094659, p-значение=0.00000000\n",
      "Kolmogorov-Smirnov test: статистика=0.07040534, p-значение=0.00000000\n",
      "\n",
      "Распределение статистически значимо отличается от нормального (отклоняем H0).\n",
      "\n"
     ]
    }
   ],
   "source": [
    "# Все данные для теста\n",
    "sample_data = taxi['num_orders']\n",
    "\n",
    "# Имя признака\n",
    "feature_name = 'num_orders'\n",
    "\n",
    "# Тест Шапиро-Уилка\n",
    "stat_shapiro, p_shapiro = shapiro(sample_data)\n",
    "print(f\"Shapiro-Wilk test: статистика={stat_shapiro:.8f}, p-значение={p_shapiro:.8f}\")\n",
    "\n",
    "# Тест Д'Агостино и Пирсона\n",
    "stat_normaltest, p_normaltest = normaltest(sample_data)\n",
    "print(f\"D’Agostino and Pearson test: статистика={stat_normaltest:.8f}, p-значение={p_normaltest:.8f}\")\n",
    "\n",
    "# Тест Колмогорова-Смирнова\n",
    "stat_kstest, p_kstest = kstest(sample_data, 'norm', args=(sample_data.mean(), sample_data.std()))\n",
    "print(f\"Kolmogorov-Smirnov test: статистика={stat_kstest:.8f}, p-значение={p_kstest:.8f}\")\n",
    "\n",
    "# Интерпретация\n",
    "if p_shapiro < 0.05 or p_normaltest < 0.05 or p_kstest < 0.05:\n",
    "    print(\"\\nРаспределение статистически значимо отличается от нормального (отклоняем H0).\\n\")\n",
    "else:\n",
    "    print(\"\\nРаспределение статистически не отличается от нормального (не отклоняем H0).\\n\")\n"
   ]
  },
  {
   "cell_type": "markdown",
   "metadata": {},
   "source": [
    "## Подготовка и обучение моделей"
   ]
  },
  {
   "cell_type": "code",
   "execution_count": 274,
   "metadata": {},
   "outputs": [
    {
     "name": "stdout",
     "output_type": "stream",
     "text": [
      "Размер тренировочной выборки: 3971\n",
      "Размер тестовой выборки: 442\n"
     ]
    }
   ],
   "source": [
    "# Разделяем данные на X (признаки) и y (целевая переменная)\n",
    "X = taxi[['month', 'day_of_week', 'day_of_month', 'hour', 'lag_1', 'lag_2', 'lag_3']]\n",
    "y = taxi['num_orders']\n",
    "\n",
    "# Разделение на тренировочную и тестовую выборки (10% на тест), shuffle=False для временного ряда\n",
    "X_train, X_test, y_train, y_test = train_test_split(X, y, test_size=0.1, shuffle=False)\n",
    "\n",
    "# Проверка разделения\n",
    "print(f\"Размер тренировочной выборки: {X_train.shape[0]}\")\n",
    "print(f\"Размер тестовой выборки: {X_test.shape[0]}\")"
   ]
  },
  {
   "cell_type": "code",
   "execution_count": 275,
   "metadata": {},
   "outputs": [],
   "source": [
    "# Преобразование числовых признаков\n",
    "numerical_transformer = Pipeline(steps=[\n",
    "    ('imputer', SimpleImputer(strategy='median')),  # Обработка пропусков\n",
    "    ('scaler', StandardScaler())  # Масштабирование\n",
    "])\n",
    "\n",
    "# Пайплайн для Линейной регрессии\n",
    "preprocessor_lr = ColumnTransformer(transformers=[\n",
    "    ('num', numerical_transformer, X.columns)  # Применяем к всем признакам\n",
    "])\n",
    "\n",
    "# Пайплайн для решающего дерева\n",
    "preprocessor_tree = ColumnTransformer(transformers=[\n",
    "    ('num', numerical_transformer, X.columns)  # Применяем к всем признакам\n",
    "])\n",
    "\n",
    "# Пайплайн для случайного леса\n",
    "preprocessor_rf = ColumnTransformer(transformers=[\n",
    "    ('num', numerical_transformer, X.columns)  # Применяем к всем признакам\n",
    "])\n",
    "\n",
    "# Пайплайн для XGBoost\n",
    "preprocessor_xgb = ColumnTransformer(transformers=[\n",
    "    ('num', numerical_transformer, X.columns)  # Применяем к всем признакам\n",
    "])\n"
   ]
  },
  {
   "cell_type": "code",
   "execution_count": 276,
   "metadata": {},
   "outputs": [],
   "source": [
    "# Модели для обучения с различными гиперпараметрами\n",
    "models = {\n",
    "    \"Линейная регрессия\": Pipeline(steps=[('preprocessor', preprocessor_lr), ('model', LinearRegression())]),\n",
    "    \"Решающее дерево\": Pipeline(steps=[('preprocessor', preprocessor_tree), ('model', DecisionTreeRegressor(max_depth=20, random_state=RANDOM_STATE))]),\n",
    "    \"Случайный лес\": Pipeline(steps=[('preprocessor', preprocessor_rf), ('model', RandomForestRegressor(n_estimators=200, max_depth=20, random_state=RANDOM_STATE))]),\n",
    "    \"XGBoost\": Pipeline(steps=[('preprocessor', preprocessor_xgb), ('model', XGBRegressor(random_state=RANDOM_STATE))])\n",
    "}"
   ]
  },
  {
   "cell_type": "code",
   "execution_count": 277,
   "metadata": {},
   "outputs": [],
   "source": [
    "# Параметры для GridSearchCV\n",
    "param_grids = {\n",
    "    \"Линейная регрессия\": {'model__fit_intercept': [True, False]},\n",
    "    \"Решающее дерево\": {'model__max_depth': [10, 20, 30], 'model__min_samples_split': [2, 5, 10, 15, 20, 30]},\n",
    "    \"Случайный лес\": {'model__n_estimators': [100, 200, 300], 'model__max_depth': [10, 20, 30, 40], 'model__min_samples_split': [2, 5, 10, 15]},\n",
    "    \"XGBoost\": {\n",
    "        'model__n_estimators': [100, 200, 300],\n",
    "        'model__learning_rate': [0.01, 0.05, 0.1],\n",
    "        'model__max_depth': [3, 5, 7],\n",
    "        'model__min_child_weight': [1, 5, 10],\n",
    "        'model__subsample': [0.7, 0.8, 1],\n",
    "        'model__colsample_bytree': [0.7, 0.8, 1],\n",
    "        'model__gamma': [0, 0.1, 0.2]\n",
    "    }\n",
    "}"
   ]
  },
  {
   "cell_type": "code",
   "execution_count": 278,
   "metadata": {},
   "outputs": [],
   "source": [
    "# Используем TimeSeriesSplit для кросс-валидации\n",
    "tscv = TimeSeriesSplit(n_splits=10)"
   ]
  },
  {
   "cell_type": "code",
   "execution_count": 279,
   "metadata": {},
   "outputs": [],
   "source": [
    "# Функция для вычисления RMSE вручную\n",
    "def rmse(y_true, y_pred):\n",
    "    mse = np.mean((y_true - y_pred) ** 2)\n",
    "    return np.sqrt(mse)"
   ]
  },
  {
   "cell_type": "code",
   "execution_count": null,
   "metadata": {},
   "outputs": [],
   "source": [
    "# Функция для оценки модели на тестовых данных с учетом GridSearchCV\n",
    "def evaluate_model_with_grid_search(pipeline, X_train, y_train, X_test, y_test, param_grid):\n",
    "    \"\"\"\n",
    "    Оценивает модель на тестовых данных с использованием GridSearchCV.\n",
    "    \n",
    "    Args:\n",
    "        pipeline (Pipeline): Полный пайплайн с препроцессингом.\n",
    "        X_train (DataFrame): Обучающий набор данных.\n",
    "        y_train (Series): Целевая переменная для обучения.\n",
    "        X_test (DataFrame): Тестовый набор данных.\n",
    "        y_test (Series): Целевая переменная для тестирования.\n",
    "        param_grid (dict): Словарь гиперпараметров для GridSearchCV.\n",
    "    \n",
    "    Returns:\n",
    "        tuple: (RMSE на обучении, RMSE на тесте, Время обучения, Время предсказания, Лучший RMSE на тесте)\n",
    "    \"\"\"\n",
    "    \n",
    "    # Инициализация TimeSeriesSplit для временных рядов\n",
    "    tscv = TimeSeriesSplit(n_splits=10)\n",
    "    \n",
    "    # Инициализация RandomizedSearchCV\n",
    "    grid_search = RandomizedSearchCV(pipeline, param_grid, cv=tscv, n_jobs=-1, verbose=1, scoring='neg_root_mean_squared_error')\n",
    "    \n",
    "    # Обучение модели с GridSearchCV\n",
    "    start_time = time.time()\n",
    "    grid_search.fit(X_train, y_train)\n",
    "    fit_time = time.time() - start_time\n",
    "    \n",
    "    # Лучший параметр\n",
    "    best_params = grid_search.best_params_\n",
    "    \n",
    "    # Оценка на обучающих данных\n",
    "    train_rmse = rmse(y_train, grid_search.predict(X_train))\n",
    "    \n",
    "    # Оценка на тестовых данных\n",
    "    start_time = time.time()\n",
    "    test_rmse = rmse(y_test, grid_search.predict(X_test))\n",
    "    score_time = time.time() - start_time\n",
    "    \n",
    "    return train_rmse, test_rmse, fit_time, score_time,  best_params"
   ]
  },
  {
   "cell_type": "code",
   "execution_count": 281,
   "metadata": {},
   "outputs": [
    {
     "name": "stdout",
     "output_type": "stream",
     "text": [
      "Fitting 10 folds for each of 2 candidates, totalling 20 fits\n",
      "Fitting 10 folds for each of 10 candidates, totalling 100 fits\n"
     ]
    },
    {
     "name": "stderr",
     "output_type": "stream",
     "text": [
      "/home/nickolas/python_projects/practicum/.venv/lib/python3.10/site-packages/sklearn/model_selection/_search.py:317: UserWarning: The total space of parameters 2 is smaller than n_iter=10. Running 2 iterations. For exhaustive searches, use GridSearchCV.\n",
      "  warnings.warn(\n"
     ]
    },
    {
     "name": "stdout",
     "output_type": "stream",
     "text": [
      "Fitting 10 folds for each of 10 candidates, totalling 100 fits\n",
      "Fitting 10 folds for each of 10 candidates, totalling 100 fits\n"
     ]
    }
   ],
   "source": [
    "# Оценка моделей с GridSearchCV\n",
    "results = []\n",
    "for model_name, pipeline in models.items():\n",
    "    param_grid = param_grids[model_name]  # Получаем параметры для текущей модели\n",
    "    \n",
    "    train_rmse, test_rmse, fit_time, score_time, best_params = evaluate_model_with_grid_search(\n",
    "        pipeline, X_train, y_train, X_test, y_test, param_grid\n",
    "    )\n",
    "    \n",
    "    # Округление значений RMSE до 3 знаков после запятой\n",
    "    train_rmse = round(train_rmse, 3)\n",
    "    test_rmse = round(test_rmse, 3)\n",
    "    \n",
    "    results.append([model_name, train_rmse, test_rmse, fit_time, score_time, best_params])\n",
    "\n"
   ]
  },
  {
   "cell_type": "code",
   "execution_count": 282,
   "metadata": {},
   "outputs": [],
   "source": [
    "# Формируем DataFrame с результатами\n",
    "results_df = pd.DataFrame(results, columns=[\n",
    "    \"Модель\", \"RMSE (train)\", \"RMSE (test)\", \"Время обучения (сек)\", \"Время предсказания (сек)\", \"Лучшие параметры\"\n",
    "])\n",
    "\n",
    "# Сортируем по лучшему RMSE на тесте\n",
    "results_df.sort_values(by=\"RMSE (test)\", ascending=True, inplace=True)"
   ]
  },
  {
   "cell_type": "code",
   "execution_count": 283,
   "metadata": {},
   "outputs": [],
   "source": [
    "# Убираем ограничение на ширину столбца\n",
    "pd.set_option('display.max_colwidth', None)\n"
   ]
  },
  {
   "cell_type": "code",
   "execution_count": 284,
   "metadata": {},
   "outputs": [
    {
     "data": {
      "text/html": [
       "<div>\n",
       "<style scoped>\n",
       "    .dataframe tbody tr th:only-of-type {\n",
       "        vertical-align: middle;\n",
       "    }\n",
       "\n",
       "    .dataframe tbody tr th {\n",
       "        vertical-align: top;\n",
       "    }\n",
       "\n",
       "    .dataframe thead th {\n",
       "        text-align: right;\n",
       "    }\n",
       "</style>\n",
       "<table border=\"1\" class=\"dataframe\">\n",
       "  <thead>\n",
       "    <tr style=\"text-align: right;\">\n",
       "      <th></th>\n",
       "      <th>Модель</th>\n",
       "      <th>RMSE (train)</th>\n",
       "      <th>RMSE (test)</th>\n",
       "      <th>Время обучения (сек)</th>\n",
       "      <th>Время предсказания (сек)</th>\n",
       "      <th>Лучшие параметры</th>\n",
       "    </tr>\n",
       "  </thead>\n",
       "  <tbody>\n",
       "    <tr>\n",
       "      <th>3</th>\n",
       "      <td>XGBoost</td>\n",
       "      <td>17.095</td>\n",
       "      <td>43.036</td>\n",
       "      <td>1.146419</td>\n",
       "      <td>0.005225</td>\n",
       "      <td>{'model__subsample': 0.8, 'model__n_estimators': 200, 'model__min_child_weight': 5, 'model__max_depth': 5, 'model__learning_rate': 0.05, 'model__gamma': 0.2, 'model__colsample_bytree': 0.7}</td>\n",
       "    </tr>\n",
       "    <tr>\n",
       "      <th>2</th>\n",
       "      <td>Случайный лес</td>\n",
       "      <td>13.551</td>\n",
       "      <td>47.808</td>\n",
       "      <td>10.991516</td>\n",
       "      <td>0.025941</td>\n",
       "      <td>{'model__n_estimators': 200, 'model__min_samples_split': 10, 'model__max_depth': 40}</td>\n",
       "    </tr>\n",
       "    <tr>\n",
       "      <th>1</th>\n",
       "      <td>Решающее дерево</td>\n",
       "      <td>20.072</td>\n",
       "      <td>51.292</td>\n",
       "      <td>0.396738</td>\n",
       "      <td>0.005674</td>\n",
       "      <td>{'model__min_samples_split': 30, 'model__max_depth': 10}</td>\n",
       "    </tr>\n",
       "    <tr>\n",
       "      <th>0</th>\n",
       "      <td>Линейная регрессия</td>\n",
       "      <td>30.562</td>\n",
       "      <td>52.431</td>\n",
       "      <td>0.105843</td>\n",
       "      <td>0.005740</td>\n",
       "      <td>{'model__fit_intercept': True}</td>\n",
       "    </tr>\n",
       "  </tbody>\n",
       "</table>\n",
       "</div>"
      ],
      "text/plain": [
       "               Модель  RMSE (train)  RMSE (test)  Время обучения (сек)  \\\n",
       "3             XGBoost        17.095       43.036              1.146419   \n",
       "2       Случайный лес        13.551       47.808             10.991516   \n",
       "1     Решающее дерево        20.072       51.292              0.396738   \n",
       "0  Линейная регрессия        30.562       52.431              0.105843   \n",
       "\n",
       "   Время предсказания (сек)  \\\n",
       "3                  0.005225   \n",
       "2                  0.025941   \n",
       "1                  0.005674   \n",
       "0                  0.005740   \n",
       "\n",
       "                                                                                                                                                                                Лучшие параметры  \n",
       "3  {'model__subsample': 0.8, 'model__n_estimators': 200, 'model__min_child_weight': 5, 'model__max_depth': 5, 'model__learning_rate': 0.05, 'model__gamma': 0.2, 'model__colsample_bytree': 0.7}  \n",
       "2                                                                                                           {'model__n_estimators': 200, 'model__min_samples_split': 10, 'model__max_depth': 40}  \n",
       "1                                                                                                                                       {'model__min_samples_split': 30, 'model__max_depth': 10}  \n",
       "0                                                                                                                                                                 {'model__fit_intercept': True}  "
      ]
     },
     "metadata": {},
     "output_type": "display_data"
    }
   ],
   "source": [
    "# Вывод результатов\n",
    "display(results_df)"
   ]
  },
  {
   "cell_type": "markdown",
   "metadata": {},
   "source": [
    "**1. Анализ результатов по метрике RMSE:**\n",
    "\n",
    "- **XGBoost** показала лучший результат на тестовой выборке с **RMSE = 45.322**, что находится в пределах целевого порога RMSE (не более 48). Это делает её лидером среди всех моделей по точности предсказания.\n",
    "- **Случайный лес** также показал хорошие результаты с **RMSE = 47.493**, что также удовлетворяет целевому порогу. Эта модель близка к XGBoost по точности, но её RMSE немного выше.\n",
    "- **Решающее дерево** продемонстрировало **RMSE = 51.292**, что превышает допустимый порог и означает, что эта модель не подходит для задачи, несмотря на умеренное время обучения.\n",
    "- **Линейная регрессия** имеет наибольшее **RMSE = 52.431**, что значительно превышает целевой порог, и, следовательно, эта модель не подходит для данной задачи.\n",
    "\n",
    "**2. Время обучения:**\n",
    "\n",
    "- **XGBoost** требует значительное время для обучения (**65.23 сек**), что существенно больше по сравнению с другими моделями.\n",
    "- **Случайный лес** имеет значительно меньшее время обучения (**17.57 сек**), что делает его более быстрым вариантом, если время обучения важно.\n",
    "- **Решающее дерево** имеет минимальное время обучения (**0.27 сек**), что делает его очень быстрым для обработки больших объемов данных, но его точность оставляет желать лучшего.\n",
    "- **Линейная регрессия** имеет самое быстрое время обучения (**0.07 сек**), но её точность не подходит для задачи.\n",
    "\n",
    "**3. Время предсказания:**\n",
    "\n",
    "- **XGBoost** имеет оптимальное время предсказания (**0.0052 сек**), что достаточно быстро, учитывая его сложность и высокое качество.\n",
    "- **Случайный лес** имеет большее время предсказания (**0.0372 сек**), что может быть значительным для очень больших данных.\n",
    "- **Решающее дерево** и **Линейная регрессия** имеют сопоставимое и минимальное время предсказания (0.005013 сек и 0.005837 сек соответственно), но их точность на тестовой выборке слишком низка для эффективного использования.\n",
    "\n",
    "### Заключение:\n",
    "\n",
    "- **Лучшая модель** для данной задачи — это **XGBoost**. Она имеет наименьший RMSE на тестовой выборке (45.322), который находится в пределах требуемого порога, и демонстрирует хорошее время предсказания (0.0052 сек). Несмотря на длительное время обучения (65.23 сек), её точность делает её предпочтительным выбором.\n",
    "- **Случайный лес** — также хорошая альтернатива с чуть более высоким RMSE, но при этом быстрее обучается, чем XGBoost, что делает его хорошим выбором в случае, когда время обучения имеет большее значение.\n",
    "- **Решающее дерево** и **Линейная регрессия** не подходят для этой задачи из-за высоких значений RMSE на тестовой выборке, несмотря на их быстрые времена обучения и предсказания.\n",
    "\n",
    "Таким образом, для оптимального баланса между точностью предсказания и временем работы рекомендована модель **XGBoost**."
   ]
  },
  {
   "cell_type": "markdown",
   "metadata": {},
   "source": [
    "## Общий вывод"
   ]
  },
  {
   "cell_type": "markdown",
   "metadata": {},
   "source": [
    "В рамках проекта поставлена задача предсказать количество заказов такси в аэропорту на следующий час. Это необходимо для того, чтобы компания «Чётенькое такси» могла оптимизировать распределение водителей в периоды пиковой нагрузки и улучшить качество обслуживания клиентов. Для решения задачи использовались несколько моделей машинного обучения, а ключевым критерием оценки является метрика RMSE (корень из среднеквадратичной ошибки), значение которой должно быть не более 48.\n",
    "\n",
    "---\n",
    "\n",
    "**Ключевые итоги проекта**\n",
    "\n",
    "**1. Анализ данных**\n",
    "- В процессе анализа данных был выявлен ряд важных статистических характеристик. Среднее количество заказов в час составило 84.42, а стандартное отклонение равно 45.02, что свидетельствует о значительных колебаниях в данных.\n",
    "- Пропусков и аномалий в датах не обнаружено, что упрощает дальнейшую работу с данными.\n",
    "- Для прогнозирования были использованы дополнительные признаки, такие как месяц, день недели, день месяца, час, а также лаги по предыдущим часам (lag_1, lag_2, lag_3), что позволило улучшить точность модели.\n",
    "\n",
    "**2. Построение моделей**\n",
    "- Обучены несколько моделей, включая **Линейную регрессию**, **Решающее дерево**, **Случайный лес** и **XGBoost**. Для каждой модели настроены гиперпараметры с использованием `GridSearchCV` и `TimeSeriesSplit` для оценки на временных рядах.\n",
    "\n",
    "**3. Оценка моделей**\n",
    "- **XGBoost** показала наилучший результат с **RMSE = 45.322**, что находится в пределах требуемого порога (не более 48), и оказалась лучшей моделью по точности предсказания.\n",
    "- **Случайный лес** имел схожие результаты с **RMSE = 47.493**, но обучался быстрее, чем XGBoost.\n",
    "- **Решающее дерево** и **Линейная регрессия** показали наихудшие результаты с **RMSE = 51.292** и **RMSE = 52.431** соответственно, что делает их неподходящими для этой задачи.\n",
    "\n",
    "**4. Время обучения и предсказания**\n",
    "- **XGBoost** имеет более долгое время обучения (65.23 сек), но при этом демонстрирует быстрое время предсказания (0.0052 сек).\n",
    "- **Случайный лес** обучается быстрее (17.57 сек), но время предсказания больше (0.0372 сек).\n",
    "- **Решающее дерево** и **Линейная регрессия** обучаются очень быстро, но их точность на тестовых данных значительно ниже.\n",
    "\n",
    "---\n",
    "\n",
    "**Итоговый выбор модели**\n",
    "\n",
    "**Лучший выбор — модель XGBoost**. Несмотря на более длительное время обучения, она дает наименьшее значение RMSE (45.322), что делает её наиболее подходящей для задачи предсказания заказов такси. Это подтверждается её высокой точностью при сравнительно небольшом времени предсказания.\n",
    "\n",
    "---"
   ]
  },
  {
   "cell_type": "markdown",
   "metadata": {},
   "source": []
  }
 ],
 "metadata": {
  "kernelspec": {
   "display_name": ".venv",
   "language": "python",
   "name": "python3"
  },
  "language_info": {
   "codemirror_mode": {
    "name": "ipython",
    "version": 3
   },
   "file_extension": ".py",
   "mimetype": "text/x-python",
   "name": "python",
   "nbconvert_exporter": "python",
   "pygments_lexer": "ipython3",
   "version": "3.10.12"
  }
 },
 "nbformat": 4,
 "nbformat_minor": 2
}
