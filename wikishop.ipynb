{
 "cells": [
  {
   "cell_type": "markdown",
   "metadata": {},
   "source": [
    "<span style=\"color: blue; font-size: 20px; font-weight: bold;\">Комментарий ревьюера</span>\n",
    "\n",
    "<span style=\"color: blue\">Привет, Николай! Меня зовут Павел Григорьев, и я буду проверять этот проект.<br>Моя основная цель - не указать на совершённые тобой ошибки, а поделиться своим опытом и помочь тебе совершенствоваться как профессионалу.<br>Спасибо за проделанную работу! Предлагаю общаться на «ты».</span>\n",
    "<details>\n",
    "\t<summary><u>Инструкция по организационным моментам (кликабельно)</u>⤵</summary>\n",
    "<span style=\"color: blue\">Я буду использовать различные цвета, чтобы было удобнее воспринимать мои комментарии:</span>\n",
    "\n",
    "\n",
    "---\n",
    "\n",
    "\n",
    "<span style=\"color: blue\">синий текст - просто текст комментария</span>\n",
    "\n",
    "<span style=\"color: green\">✔️ и зеленый текст - все отлично</span>\n",
    "\n",
    "<span style=\"color: orange\">⚠️ и оранжевый текст - сделано все правильно, однако есть рекомендации, на что стоит обратить внимание</span>\n",
    "\n",
    "<span style=\"color: red\">❌ и красный текст - есть недочеты</span>\n",
    "\n",
    "\n",
    "</details>    \n",
    "</br>\n",
    "<span style=\"color: blue\">Пожалуйста, не удаляй мои комментарии в случае возврата работы, так будет проще разобраться, какие были недочеты, а также сразу увидеть исправленное.</span>\n",
    "\n",
    "<span style=\"color: blue\">Ответы на мои комментарии лучше тоже помечать.<br>\n",
    "Например: </span><br><span style=\"color: purple; font-weight: bold\">Комментарий студента</span>\n",
    "\n",
    "<span style=\"color: blue; font-weight: bold;\">Давай смотреть, что получилось!</span>"
   ]
  },
  {
   "cell_type": "markdown",
   "metadata": {},
   "source": [
    "<span style=\"color: purple; font-weight: bold\">Добрый день, Павел!</span>"
   ]
  },
  {
   "cell_type": "markdown",
   "metadata": {},
   "source": [
    "<span style=\"color: blue; font-size: 18px; font-weight: bold;\">Комментарий ревьюера 2</span>\n",
    "\n",
    "<span style=\"color: blue\">Привет еще раз. Спасибо, за исправления. Оформление комментариев по работе сохраняется. Только обозначим, что это вторая итерация.</span> "
   ]
  },
  {
   "cell_type": "markdown",
   "metadata": {
    "toc": true
   },
   "source": [
    "<h1>Содержание<span class=\"tocSkip\"></span></h1>\n",
    "<div class=\"toc\"><ul class=\"toc-item\"><li><span><a href=\"#Описание-и-план\" data-toc-modified-id=\"Описание-и-план-1\"><span class=\"toc-item-num\">1&nbsp;&nbsp;</span>Описание и план</a></span></li><li><span><a href=\"#Подготовка-данных\" data-toc-modified-id=\"Подготовка-данных-2\"><span class=\"toc-item-num\">2&nbsp;&nbsp;</span>Подготовка данных</a></span><ul class=\"toc-item\"><li><span><a href=\"#Загрузка-данных\" data-toc-modified-id=\"Загрузка-данных-2.1\"><span class=\"toc-item-num\">2.1&nbsp;&nbsp;</span>Загрузка данных</a></span></li></ul></li><li><span><a href=\"#Предобработка-данных\" data-toc-modified-id=\"Предобработка-данных-3\"><span class=\"toc-item-num\">3&nbsp;&nbsp;</span>Предобработка данных</a></span><ul class=\"toc-item\"><li><span><a href=\"#Очистка-и-лемматизация\" data-toc-modified-id=\"Очистка-и-лемматизация-3.1\"><span class=\"toc-item-num\">3.1&nbsp;&nbsp;</span>Очистка и лемматизация</a></span></li><li><span><a href=\"#Токенизация\" data-toc-modified-id=\"Токенизация-3.2\"><span class=\"toc-item-num\">3.2&nbsp;&nbsp;</span>Токенизация</a></span></li></ul></li><li><span><a href=\"#Разделение-данных\" data-toc-modified-id=\"Разделение-данных-4\"><span class=\"toc-item-num\">4&nbsp;&nbsp;</span>Разделение данных</a></span></li><li><span><a href=\"#Пайплайн-обучения-моделей\" data-toc-modified-id=\"Пайплайн-обучения-моделей-5\"><span class=\"toc-item-num\">5&nbsp;&nbsp;</span>Пайплайн обучения моделей</a></span></li><li><span><a href=\"#Оценка-лучшей-модели-на-тестовых-данных\" data-toc-modified-id=\"Оценка-лучшей-модели-на-тестовых-данных-6\"><span class=\"toc-item-num\">6&nbsp;&nbsp;</span>Оценка лучшей модели на тестовых данных</a></span></li><li><span><a href=\"#Общий-вывод-по-проекту\" data-toc-modified-id=\"Общий-вывод-по-проекту-7\"><span class=\"toc-item-num\">7&nbsp;&nbsp;</span>Общий вывод по проекту</a></span></li><li><span><a href=\"#Чек-лист-проверки\" data-toc-modified-id=\"Чек-лист-проверки-8\"><span class=\"toc-item-num\">8&nbsp;&nbsp;</span>Чек-лист проверки</a></span></li></ul></div>"
   ]
  },
  {
   "cell_type": "markdown",
   "metadata": {},
   "source": [
    "# Проект: Распознавание токсичных комментариев для «Викишоп»"
   ]
  },
  {
   "cell_type": "markdown",
   "metadata": {},
   "source": [
    "## Описание и план"
   ]
  },
  {
   "cell_type": "markdown",
   "metadata": {},
   "source": [
    "**Цель проекта:**  \n",
    "Разработать модель машинного обучения, которая будет классифицировать комментарии пользователей интернет-магазина «Викишоп» на токсичные и нетоксичные. Модель поможет автоматически выявлять токсичные комментарии и отправлять их на модерацию, улучшая качество общения на платформе. Ключевая метрика — F1-мерка, значение которой должно быть не ниже 0.75.\n",
    "\n",
    "**Описание проекта:**  \n",
    "Компания «Викишоп» запускает новый сервис, который позволяет пользователям редактировать и комментировать описания товаров. Для предотвращения нежелательных конфликтов и улучшения атмосферы на платформе требуется инструмент для автоматической модерации комментариев. На основе разметки данных о токсичности комментариев необходимо построить модель, которая будет классифицировать комментарии как токсичные или нетоксичные. Это поможет значительно ускорить процесс модерации и повысить качество пользовательского контента.\n",
    "\n",
    "**Критерии, важные заказчику:**  \n",
    "- Высокая точность классификации (метрика F1 не менее 0.75).\n",
    "- Модерация комментариев в реальном времени.\n",
    "- Быстрая работа модели при достаточно высоком уровне точности.\n",
    "- Возможность дальнейшего масштабирования модели для других языков или типов данных.\n",
    "\n",
    "---\n",
    "\n",
    "**Этапы выполнения проекта:**\n",
    "\n",
    "**1. Загрузка и анализ данных**  \n",
    "- Загрузить данные из файла `/datasets/toxic_comments.csv`.\n",
    "- Проанализировать структуру данных: проверка столбцов (text, toxic), типов данных, количества уникальных значений.\n",
    "- Проверить наличие пропусков и аномалий в данных.\n",
    "\n",
    "**2. Предобработка данных**  \n",
    "- Очищение текстов: удаление лишних символов, приведение к нижнему регистру, удаление стоп-слов, лемматизация или стемминг.\n",
    "- Токенизация текста.\n",
    "\n",
    "**3. Разделение данных**  \n",
    "- Определить целевой признак — `toxic`.\n",
    "- Разделить данные на обучающую (80%) и тестовую выборки (20%).\n",
    "\n",
    "**4. Построение и обучение моделей**  \n",
    "- Создать pipeline для обработки данных и обучения моделей.\n",
    "- Обучить несколько моделей для классификации:\n",
    "  - Логистическая регрессия (`LogisticRegression`).\n",
    "  - Градиентный бустинг (`XGBoost`).\n",
    "\n",
    "**5. Оценка**  \n",
    "- Оценить лучшую модель по метрике F1 на тестовой выборке.\n",
    "- Проанализировать качество предсказаний (основываясь на метрике F1).\n",
    "- Сделать общий вывод"
   ]
  },
  {
   "cell_type": "markdown",
   "metadata": {},
   "source": [
    "## Подготовка данных"
   ]
  },
  {
   "cell_type": "markdown",
   "metadata": {},
   "source": [
    "### Загрузка данных"
   ]
  },
  {
   "cell_type": "code",
   "execution_count": 2,
   "metadata": {},
   "outputs": [],
   "source": [
    "# Базовые библиотеки\n",
    "import os, time, warnings\n",
    "import numpy as np\n",
    "import pandas as pd\n",
    "from datetime import datetime\n",
    "\n",
    "# Импорт библиотек для обработки текста\n",
    "import re, nltk, spacy\n",
    "from nltk.corpus import stopwords\n",
    "from nltk.stem import WordNetLemmatizer\n",
    "\n",
    "# Модели и обработка данных\n",
    "from sklearn.model_selection import train_test_split, GridSearchCV\n",
    "from sklearn.feature_extraction.text import TfidfVectorizer\n",
    "from sklearn.pipeline import Pipeline\n",
    "from sklearn.linear_model import LogisticRegression\n",
    "from sklearn.svm import SVC\n",
    "from sklearn.ensemble import RandomForestClassifier\n",
    "from xgboost import XGBClassifier\n",
    "\n",
    "# Метрики\n",
    "from sklearn.metrics import f1_score, make_scorer\n",
    "\n",
    "# Константы\n",
    "RANDOM_STATE = 42"
   ]
  },
  {
   "cell_type": "markdown",
   "metadata": {},
   "source": [
    "<font color='blue'><b>Комментарий ревьюера: </b></font> ✔️\\\n",
    "<font color='green'> Хорошее оформление импортов! \\\n",
    "Импорты собраны в одной ячейке, разделены на функциональные группы пустой строкой.</font>"
   ]
  },
  {
   "cell_type": "code",
   "execution_count": 3,
   "metadata": {},
   "outputs": [],
   "source": [
    "# Загрузка необходимых ресурсов NLTK\n",
    "# nltk.download('stopwords')\n",
    "# nltk.download('wordnet')\n",
    "# nltk.download('omw-1.4')"
   ]
  },
  {
   "cell_type": "code",
   "execution_count": 4,
   "metadata": {},
   "outputs": [],
   "source": [
    "# Загружаем модель spaCy для английского языка\n",
    "nlp = spacy.load('en_core_web_sm')"
   ]
  },
  {
   "cell_type": "code",
   "execution_count": 5,
   "metadata": {},
   "outputs": [],
   "source": [
    "# Инициализация инструментов\n",
    "# stop_words = set(stopwords.words('english'))  # Список стоп-слов\n",
    "# lemmatizer = WordNetLemmatizer()"
   ]
  },
  {
   "cell_type": "code",
   "execution_count": 6,
   "metadata": {},
   "outputs": [],
   "source": [
    "# Загрузка данных с учетом разделителей\n",
    "path = 'wikishop/toxic_comments.csv'\n",
    "if os.path.exists(path):\n",
    "    data = pd.read_csv(path, delimiter=',')\n",
    "else: print('Не получилось найти файл по указанному пути')"
   ]
  },
  {
   "cell_type": "code",
   "execution_count": 7,
   "metadata": {},
   "outputs": [
    {
     "data": {
      "text/html": [
       "<div>\n",
       "<style scoped>\n",
       "    .dataframe tbody tr th:only-of-type {\n",
       "        vertical-align: middle;\n",
       "    }\n",
       "\n",
       "    .dataframe tbody tr th {\n",
       "        vertical-align: top;\n",
       "    }\n",
       "\n",
       "    .dataframe thead th {\n",
       "        text-align: right;\n",
       "    }\n",
       "</style>\n",
       "<table border=\"1\" class=\"dataframe\">\n",
       "  <thead>\n",
       "    <tr style=\"text-align: right;\">\n",
       "      <th></th>\n",
       "      <th>Unnamed: 0</th>\n",
       "      <th>text</th>\n",
       "      <th>toxic</th>\n",
       "    </tr>\n",
       "  </thead>\n",
       "  <tbody>\n",
       "    <tr>\n",
       "      <th>0</th>\n",
       "      <td>0</td>\n",
       "      <td>Explanation\\nWhy the edits made under my username Hardcore Metallica Fan were reverted? They weren't vandalisms, just closure on some GAs after I voted at New York Dolls FAC. And please don't remove the template from the talk page since I'm retired now.89.205.38.27</td>\n",
       "      <td>0</td>\n",
       "    </tr>\n",
       "    <tr>\n",
       "      <th>1</th>\n",
       "      <td>1</td>\n",
       "      <td>D'aww! He matches this background colour I'm seemingly stuck with. Thanks.  (talk) 21:51, January 11, 2016 (UTC)</td>\n",
       "      <td>0</td>\n",
       "    </tr>\n",
       "    <tr>\n",
       "      <th>2</th>\n",
       "      <td>2</td>\n",
       "      <td>Hey man, I'm really not trying to edit war. It's just that this guy is constantly removing relevant information and talking to me through edits instead of my talk page. He seems to care more about the formatting than the actual info.</td>\n",
       "      <td>0</td>\n",
       "    </tr>\n",
       "    <tr>\n",
       "      <th>3</th>\n",
       "      <td>3</td>\n",
       "      <td>\"\\nMore\\nI can't make any real suggestions on improvement - I wondered if the section statistics should be later on, or a subsection of \"\"types of accidents\"\"  -I think the references may need tidying so that they are all in the exact same format ie date format etc. I can do that later on, if no-one else does first - if you have any preferences for formatting style on references or want to do it yourself please let me know.\\n\\nThere appears to be a backlog on articles for review so I guess there may be a delay until a reviewer turns up. It's listed in the relevant form eg Wikipedia:Good_article_nominations#Transport  \"</td>\n",
       "      <td>0</td>\n",
       "    </tr>\n",
       "    <tr>\n",
       "      <th>4</th>\n",
       "      <td>4</td>\n",
       "      <td>You, sir, are my hero. Any chance you remember what page that's on?</td>\n",
       "      <td>0</td>\n",
       "    </tr>\n",
       "    <tr>\n",
       "      <th>5</th>\n",
       "      <td>5</td>\n",
       "      <td>\"\\n\\nCongratulations from me as well, use the tools well.  · talk \"</td>\n",
       "      <td>0</td>\n",
       "    </tr>\n",
       "    <tr>\n",
       "      <th>6</th>\n",
       "      <td>6</td>\n",
       "      <td>COCKSUCKER BEFORE YOU PISS AROUND ON MY WORK</td>\n",
       "      <td>1</td>\n",
       "    </tr>\n",
       "    <tr>\n",
       "      <th>7</th>\n",
       "      <td>7</td>\n",
       "      <td>Your vandalism to the Matt Shirvington article has been reverted.  Please don't do it again, or you will be banned.</td>\n",
       "      <td>0</td>\n",
       "    </tr>\n",
       "    <tr>\n",
       "      <th>8</th>\n",
       "      <td>8</td>\n",
       "      <td>Sorry if the word 'nonsense' was offensive to you. Anyway, I'm not intending to write anything in the article(wow they would jump on me for vandalism), I'm merely requesting that it be more encyclopedic so one can use it for school as a reference. I have been to the selective breeding page but it's almost a stub. It points to 'animal breeding' which is a short messy article that gives you no info. There must be someone around with expertise in eugenics? 93.161.107.169</td>\n",
       "      <td>0</td>\n",
       "    </tr>\n",
       "    <tr>\n",
       "      <th>9</th>\n",
       "      <td>9</td>\n",
       "      <td>alignment on this subject and which are contrary to those of DuLithgow</td>\n",
       "      <td>0</td>\n",
       "    </tr>\n",
       "    <tr>\n",
       "      <th>10</th>\n",
       "      <td>10</td>\n",
       "      <td>\"\\nFair use rationale for Image:Wonju.jpg\\n\\nThanks for uploading Image:Wonju.jpg. I notice the image page specifies that the image is being used under fair use but there is no explanation or rationale as to why its use in Wikipedia articles constitutes fair use. In addition to the boilerplate fair use template, you must also write out on the image description page a specific explanation or rationale for why using this image in each article is consistent with fair use.\\n\\nPlease go to the image description page and edit it to include a fair use rationale.\\n\\nIf you have uploaded other fair use media, consider checking that you have specified the fair use rationale on those pages too. You can find a list of 'image' pages you have edited by clicking on the \"\"my contributions\"\" link (it is located at the very top of any Wikipedia page when you are logged in), and then selecting \"\"Image\"\" from the dropdown box. Note that any fair use images uploaded after 4 May, 2006, and lacking such an explanation will be deleted one week after they have been uploaded, as described on criteria for speedy deletion. If you have any questions please ask them at the Media copyright questions page. Thank you. (talk • contribs • ) \\nUnspecified source for Image:Wonju.jpg\\n\\nThanks for uploading Image:Wonju.jpg. I noticed that the file's description page currently doesn't specify who created the content, so the copyright status is unclear. If you did not create this file yourself, then you will need to specify the owner of the copyright. If you obtained it from a website, then a link to the website from which it was taken, together with a restatement of that website's terms of use of its content, is usually sufficient information. However, if the copyright holder is different from the website's publisher, then their copyright should also be acknowledged.\\n\\nAs well as adding the source, please add a proper copyright licensing tag if the file doesn't have one already. If you created/took the picture, audio, or video then the  tag can be used to release it under the GFDL. If you believe the media meets the criteria at Wikipedia:Fair use, use a tag such as  or one of the other tags listed at Wikipedia:Image copyright tags#Fair use. See Wikipedia:Image copyright tags for the full list of copyright tags that you can use.\\n\\nIf you have uploaded other files, consider checking that you have specified their source and tagged them, too. You can find a list of files you have uploaded by following [ this link]. Unsourced and untagged images may be deleted one week after they have been tagged, as described on criteria for speedy deletion. If the image is copyrighted under a non-free license (per Wikipedia:Fair use) then the image will be deleted 48 hours after . If you have any questions please ask them at the Media copyright questions page. Thank you. (talk • contribs • ) \"</td>\n",
       "      <td>0</td>\n",
       "    </tr>\n",
       "    <tr>\n",
       "      <th>11</th>\n",
       "      <td>11</td>\n",
       "      <td>bbq \\n\\nbe a man and lets discuss it-maybe over the phone?</td>\n",
       "      <td>0</td>\n",
       "    </tr>\n",
       "    <tr>\n",
       "      <th>12</th>\n",
       "      <td>12</td>\n",
       "      <td>Hey... what is it..\\n@ | talk .\\nWhat is it... an exclusive group of some WP TALIBANS...who are good at destroying, self-appointed purist who GANG UP any one who asks them questions abt their ANTI-SOCIAL and DESTRUCTIVE (non)-contribution at WP?\\n\\nAsk Sityush to clean up his behavior than issue me nonsensical warnings...</td>\n",
       "      <td>1</td>\n",
       "    </tr>\n",
       "    <tr>\n",
       "      <th>13</th>\n",
       "      <td>13</td>\n",
       "      <td>Before you start throwing accusations and warnings at me, lets review the edit itself-making ad hominem attacks isn't going to strengthen your argument, it will merely make it look like you are abusing your power as an admin. \\nNow, the edit itself is relevant-this is probably the single most talked about event int he news as of late. His absence is notable, since he is the only living ex-president who did not attend. That's certainly more notable than his dedicating an aircracft carrier. \\nI intend to revert this edit, in hopes of attracting the attention of an admin that is willing to look at the issue itself, and not throw accusations around quite so liberally. Perhaps, if you achieve a level of civility where you can do this, we can have a rational discussion on the topic and resolve the matter peacefully.</td>\n",
       "      <td>0</td>\n",
       "    </tr>\n",
       "    <tr>\n",
       "      <th>14</th>\n",
       "      <td>14</td>\n",
       "      <td>Oh, and the girl above started her arguments with me. She stuck her nose where it doesn't belong. I believe the argument was between me and Yvesnimmo. But like I said, the situation was settled and I apologized. Thanks,</td>\n",
       "      <td>0</td>\n",
       "    </tr>\n",
       "    <tr>\n",
       "      <th>15</th>\n",
       "      <td>15</td>\n",
       "      <td>\"\\n\\nJuelz Santanas Age\\n\\nIn 2002, Juelz Santana was 18 years old, then came February 18th, which makes Juelz turn 19 making songs with The Diplomats. The third neff to be signed to Cam's label under Roc A Fella. In 2003, he was 20 years old coming out with his own singles \"\"Santana's Town\"\" and \"\"Down\"\". So yes, he is born in 1983. He really is, how could he be older then Lloyd Banks? And how could he be 22 when his birthday passed? The homie neff is 23 years old. 1983 - 2006 (Juelz death, god forbid if your thinking about that) equals 23. Go to your caculator and stop changing his year of birth. My god.\"</td>\n",
       "      <td>0</td>\n",
       "    </tr>\n",
       "    <tr>\n",
       "      <th>16</th>\n",
       "      <td>16</td>\n",
       "      <td>Bye! \\n\\nDon't look, come or think of comming back! Tosser.</td>\n",
       "      <td>1</td>\n",
       "    </tr>\n",
       "    <tr>\n",
       "      <th>17</th>\n",
       "      <td>17</td>\n",
       "      <td>REDIRECT Talk:Voydan Pop Georgiev- Chernodrinski</td>\n",
       "      <td>0</td>\n",
       "    </tr>\n",
       "    <tr>\n",
       "      <th>18</th>\n",
       "      <td>18</td>\n",
       "      <td>The Mitsurugi point made no sense - why not argue to include Hindi on Ryo Sakazaki's page to include more information?</td>\n",
       "      <td>0</td>\n",
       "    </tr>\n",
       "    <tr>\n",
       "      <th>19</th>\n",
       "      <td>19</td>\n",
       "      <td>Don't mean to bother you \\n\\nI see that you're writing something regarding removing anything posted here and if you do oh well but if not and you can acctually discuss this with me then even better.\\n\\nI'd like to ask you to take a closer look at the Premature wrestling deaths catagory and the men listed in it, surely these men belong together in some catagory. Is there anything that you think we can do with the catagory besides delting it?</td>\n",
       "      <td>0</td>\n",
       "    </tr>\n",
       "  </tbody>\n",
       "</table>\n",
       "</div>"
      ],
      "text/plain": [
       "    Unnamed: 0  \\\n",
       "0            0   \n",
       "1            1   \n",
       "2            2   \n",
       "3            3   \n",
       "4            4   \n",
       "5            5   \n",
       "6            6   \n",
       "7            7   \n",
       "8            8   \n",
       "9            9   \n",
       "10          10   \n",
       "11          11   \n",
       "12          12   \n",
       "13          13   \n",
       "14          14   \n",
       "15          15   \n",
       "16          16   \n",
       "17          17   \n",
       "18          18   \n",
       "19          19   \n",
       "\n",
       "                                                                                                                                                                                                                                                                                                                                                                                                                                                                                                                                                                                                                                                                                                                                                                                                                                                                                                                                                                                                                                                                                                                                                                                                                                                                                                                                                                                                                                                                                                                                                                                                                                                                                                                                                                                                                                                                                                                                                                                                                                                                                                                                                                                                                                                                                                                                                                                                                                                                                                                                                                                                                                                                                                                                                                                                                                                                                                                                                                                                         text  \\\n",
       "0                                                                                                                                                                                                                                                                                                                                                                                                                                                                                                                                                                                                                                                                                                                                                                                                                                                                                                                                                                                                                                                                                                                                                                                                                                                                                                                                                                                                                                                                                                                                                                                                                                                                                                                                                                                                                                                                                                                                                                                                                                                                                                                                                                                                                                                                                                                                                                                                                                                                                                                                                                                                                                                                                                                                   Explanation\\nWhy the edits made under my username Hardcore Metallica Fan were reverted? They weren't vandalisms, just closure on some GAs after I voted at New York Dolls FAC. And please don't remove the template from the talk page since I'm retired now.89.205.38.27   \n",
       "1                                                                                                                                                                                                                                                                                                                                                                                                                                                                                                                                                                                                                                                                                                                                                                                                                                                                                                                                                                                                                                                                                                                                                                                                                                                                                                                                                                                                                                                                                                                                                                                                                                                                                                                                                                                                                                                                                                                                                                                                                                                                                                                                                                                                                                                                                                                                                                                                                                                                                                                                                                                                                                                                                                                                                                                                                                                                                            D'aww! He matches this background colour I'm seemingly stuck with. Thanks.  (talk) 21:51, January 11, 2016 (UTC)   \n",
       "2                                                                                                                                                                                                                                                                                                                                                                                                                                                                                                                                                                                                                                                                                                                                                                                                                                                                                                                                                                                                                                                                                                                                                                                                                                                                                                                                                                                                                                                                                                                                                                                                                                                                                                                                                                                                                                                                                                                                                                                                                                                                                                                                                                                                                                                                                                                                                                                                                                                                                                                                                                                                                                                                                                                                                                   Hey man, I'm really not trying to edit war. It's just that this guy is constantly removing relevant information and talking to me through edits instead of my talk page. He seems to care more about the formatting than the actual info.   \n",
       "3                                                                                                                                                                                                                                                                                                                                                                                                                                                                                                                                                                                                                                                                                                                                                                                                                                                                                                                                                                                                                                                                                                                                                                                                                                                                                                                                                                                                                                                                                                                                                                                                                                                                                                                                                                                                                                                                                                                                                                                                                                                                                                                                                                                                                                                                                                                                                          \"\\nMore\\nI can't make any real suggestions on improvement - I wondered if the section statistics should be later on, or a subsection of \"\"types of accidents\"\"  -I think the references may need tidying so that they are all in the exact same format ie date format etc. I can do that later on, if no-one else does first - if you have any preferences for formatting style on references or want to do it yourself please let me know.\\n\\nThere appears to be a backlog on articles for review so I guess there may be a delay until a reviewer turns up. It's listed in the relevant form eg Wikipedia:Good_article_nominations#Transport  \"   \n",
       "4                                                                                                                                                                                                                                                                                                                                                                                                                                                                                                                                                                                                                                                                                                                                                                                                                                                                                                                                                                                                                                                                                                                                                                                                                                                                                                                                                                                                                                                                                                                                                                                                                                                                                                                                                                                                                                                                                                                                                                                                                                                                                                                                                                                                                                                                                                                                                                                                                                                                                                                                                                                                                                                                                                                                                                                                                                                                                                                                         You, sir, are my hero. Any chance you remember what page that's on?   \n",
       "5                                                                                                                                                                                                                                                                                                                                                                                                                                                                                                                                                                                                                                                                                                                                                                                                                                                                                                                                                                                                                                                                                                                                                                                                                                                                                                                                                                                                                                                                                                                                                                                                                                                                                                                                                                                                                                                                                                                                                                                                                                                                                                                                                                                                                                                                                                                                                                                                                                                                                                                                                                                                                                                                                                                                                                                                                                                                                                                                         \"\\n\\nCongratulations from me as well, use the tools well.  · talk \"   \n",
       "6                                                                                                                                                                                                                                                                                                                                                                                                                                                                                                                                                                                                                                                                                                                                                                                                                                                                                                                                                                                                                                                                                                                                                                                                                                                                                                                                                                                                                                                                                                                                                                                                                                                                                                                                                                                                                                                                                                                                                                                                                                                                                                                                                                                                                                                                                                                                                                                                                                                                                                                                                                                                                                                                                                                                                                                                                                                                                                                                                                COCKSUCKER BEFORE YOU PISS AROUND ON MY WORK   \n",
       "7                                                                                                                                                                                                                                                                                                                                                                                                                                                                                                                                                                                                                                                                                                                                                                                                                                                                                                                                                                                                                                                                                                                                                                                                                                                                                                                                                                                                                                                                                                                                                                                                                                                                                                                                                                                                                                                                                                                                                                                                                                                                                                                                                                                                                                                                                                                                                                                                                                                                                                                                                                                                                                                                                                                                                                                                                                                                                         Your vandalism to the Matt Shirvington article has been reverted.  Please don't do it again, or you will be banned.   \n",
       "8                                                                                                                                                                                                                                                                                                                                                                                                                                                                                                                                                                                                                                                                                                                                                                                                                                                                                                                                                                                                                                                                                                                                                                                                                                                                                                                                                                                                                                                                                                                                                                                                                                                                                                                                                                                                                                                                                                                                                                                                                                                                                                                                                                                                                                                                                                                                                                                                                                                                                                                    Sorry if the word 'nonsense' was offensive to you. Anyway, I'm not intending to write anything in the article(wow they would jump on me for vandalism), I'm merely requesting that it be more encyclopedic so one can use it for school as a reference. I have been to the selective breeding page but it's almost a stub. It points to 'animal breeding' which is a short messy article that gives you no info. There must be someone around with expertise in eugenics? 93.161.107.169   \n",
       "9                                                                                                                                                                                                                                                                                                                                                                                                                                                                                                                                                                                                                                                                                                                                                                                                                                                                                                                                                                                                                                                                                                                                                                                                                                                                                                                                                                                                                                                                                                                                                                                                                                                                                                                                                                                                                                                                                                                                                                                                                                                                                                                                                                                                                                                                                                                                                                                                                                                                                                                                                                                                                                                                                                                                                                                                                                                                                                                                      alignment on this subject and which are contrary to those of DuLithgow   \n",
       "10  \"\\nFair use rationale for Image:Wonju.jpg\\n\\nThanks for uploading Image:Wonju.jpg. I notice the image page specifies that the image is being used under fair use but there is no explanation or rationale as to why its use in Wikipedia articles constitutes fair use. In addition to the boilerplate fair use template, you must also write out on the image description page a specific explanation or rationale for why using this image in each article is consistent with fair use.\\n\\nPlease go to the image description page and edit it to include a fair use rationale.\\n\\nIf you have uploaded other fair use media, consider checking that you have specified the fair use rationale on those pages too. You can find a list of 'image' pages you have edited by clicking on the \"\"my contributions\"\" link (it is located at the very top of any Wikipedia page when you are logged in), and then selecting \"\"Image\"\" from the dropdown box. Note that any fair use images uploaded after 4 May, 2006, and lacking such an explanation will be deleted one week after they have been uploaded, as described on criteria for speedy deletion. If you have any questions please ask them at the Media copyright questions page. Thank you. (talk • contribs • ) \\nUnspecified source for Image:Wonju.jpg\\n\\nThanks for uploading Image:Wonju.jpg. I noticed that the file's description page currently doesn't specify who created the content, so the copyright status is unclear. If you did not create this file yourself, then you will need to specify the owner of the copyright. If you obtained it from a website, then a link to the website from which it was taken, together with a restatement of that website's terms of use of its content, is usually sufficient information. However, if the copyright holder is different from the website's publisher, then their copyright should also be acknowledged.\\n\\nAs well as adding the source, please add a proper copyright licensing tag if the file doesn't have one already. If you created/took the picture, audio, or video then the  tag can be used to release it under the GFDL. If you believe the media meets the criteria at Wikipedia:Fair use, use a tag such as  or one of the other tags listed at Wikipedia:Image copyright tags#Fair use. See Wikipedia:Image copyright tags for the full list of copyright tags that you can use.\\n\\nIf you have uploaded other files, consider checking that you have specified their source and tagged them, too. You can find a list of files you have uploaded by following [ this link]. Unsourced and untagged images may be deleted one week after they have been tagged, as described on criteria for speedy deletion. If the image is copyrighted under a non-free license (per Wikipedia:Fair use) then the image will be deleted 48 hours after . If you have any questions please ask them at the Media copyright questions page. Thank you. (talk • contribs • ) \"   \n",
       "11                                                                                                                                                                                                                                                                                                                                                                                                                                                                                                                                                                                                                                                                                                                                                                                                                                                                                                                                                                                                                                                                                                                                                                                                                                                                                                                                                                                                                                                                                                                                                                                                                                                                                                                                                                                                                                                                                                                                                                                                                                                                                                                                                                                                                                                                                                                                                                                                                                                                                                                                                                                                                                                                                                                                                                                                                                                                                                                                                 bbq \\n\\nbe a man and lets discuss it-maybe over the phone?   \n",
       "12                                                                                                                                                                                                                                                                                                                                                                                                                                                                                                                                                                                                                                                                                                                                                                                                                                                                                                                                                                                                                                                                                                                                                                                                                                                                                                                                                                                                                                                                                                                                                                                                                                                                                                                                                                                                                                                                                                                                                                                                                                                                                                                                                                                                                                                                                                                                                                                                                                                                                                                                                                                                                                                                        Hey... what is it..\\n@ | talk .\\nWhat is it... an exclusive group of some WP TALIBANS...who are good at destroying, self-appointed purist who GANG UP any one who asks them questions abt their ANTI-SOCIAL and DESTRUCTIVE (non)-contribution at WP?\\n\\nAsk Sityush to clean up his behavior than issue me nonsensical warnings...   \n",
       "13                                                                                                                                                                                                                                                                                                                                                                                                                                                                                                                                                                                                                                                                                                                                                                                                                                                                                                                                                                                                                                                                                                                                                                                                                                                                                                                                                                                                                                                                                                                                                                                                                                                                                                                                                                                                                                                                                                                                                                                                                                                                                                                                                      Before you start throwing accusations and warnings at me, lets review the edit itself-making ad hominem attacks isn't going to strengthen your argument, it will merely make it look like you are abusing your power as an admin. \\nNow, the edit itself is relevant-this is probably the single most talked about event int he news as of late. His absence is notable, since he is the only living ex-president who did not attend. That's certainly more notable than his dedicating an aircracft carrier. \\nI intend to revert this edit, in hopes of attracting the attention of an admin that is willing to look at the issue itself, and not throw accusations around quite so liberally. Perhaps, if you achieve a level of civility where you can do this, we can have a rational discussion on the topic and resolve the matter peacefully.   \n",
       "14                                                                                                                                                                                                                                                                                                                                                                                                                                                                                                                                                                                                                                                                                                                                                                                                                                                                                                                                                                                                                                                                                                                                                                                                                                                                                                                                                                                                                                                                                                                                                                                                                                                                                                                                                                                                                                                                                                                                                                                                                                                                                                                                                                                                                                                                                                                                                                                                                                                                                                                                                                                                                                                                                                                                                                                Oh, and the girl above started her arguments with me. She stuck her nose where it doesn't belong. I believe the argument was between me and Yvesnimmo. But like I said, the situation was settled and I apologized. Thanks,   \n",
       "15                                                                                                                                                                                                                                                                                                                                                                                                                                                                                                                                                                                                                                                                                                                                                                                                                                                                                                                                                                                                                                                                                                                                                                                                                                                                                                                                                                                                                                                                                                                                                                                                                                                                                                                                                                                                                                                                                                                                                                                                                                                                                                                                                                                                                                                                                                                                                                     \"\\n\\nJuelz Santanas Age\\n\\nIn 2002, Juelz Santana was 18 years old, then came February 18th, which makes Juelz turn 19 making songs with The Diplomats. The third neff to be signed to Cam's label under Roc A Fella. In 2003, he was 20 years old coming out with his own singles \"\"Santana's Town\"\" and \"\"Down\"\". So yes, he is born in 1983. He really is, how could he be older then Lloyd Banks? And how could he be 22 when his birthday passed? The homie neff is 23 years old. 1983 - 2006 (Juelz death, god forbid if your thinking about that) equals 23. Go to your caculator and stop changing his year of birth. My god.\"   \n",
       "16                                                                                                                                                                                                                                                                                                                                                                                                                                                                                                                                                                                                                                                                                                                                                                                                                                                                                                                                                                                                                                                                                                                                                                                                                                                                                                                                                                                                                                                                                                                                                                                                                                                                                                                                                                                                                                                                                                                                                                                                                                                                                                                                                                                                                                                                                                                                                                                                                                                                                                                                                                                                                                                                                                                                                                                                                                                                                                                                                Bye! \\n\\nDon't look, come or think of comming back! Tosser.   \n",
       "17                                                                                                                                                                                                                                                                                                                                                                                                                                                                                                                                                                                                                                                                                                                                                                                                                                                                                                                                                                                                                                                                                                                                                                                                                                                                                                                                                                                                                                                                                                                                                                                                                                                                                                                                                                                                                                                                                                                                                                                                                                                                                                                                                                                                                                                                                                                                                                                                                                                                                                                                                                                                                                                                                                                                                                                                                                                                                                                                                           REDIRECT Talk:Voydan Pop Georgiev- Chernodrinski   \n",
       "18                                                                                                                                                                                                                                                                                                                                                                                                                                                                                                                                                                                                                                                                                                                                                                                                                                                                                                                                                                                                                                                                                                                                                                                                                                                                                                                                                                                                                                                                                                                                                                                                                                                                                                                                                                                                                                                                                                                                                                                                                                                                                                                                                                                                                                                                                                                                                                                                                                                                                                                                                                                                                                                                                                                                                                                                                                                                                     The Mitsurugi point made no sense - why not argue to include Hindi on Ryo Sakazaki's page to include more information?   \n",
       "19                                                                                                                                                                                                                                                                                                                                                                                                                                                                                                                                                                                                                                                                                                                                                                                                                                                                                                                                                                                                                                                                                                                                                                                                                                                                                                                                                                                                                                                                                                                                                                                                                                                                                                                                                                                                                                                                                                                                                                                                                                                                                                                                                                                                                                                                                                                                                                                                                                                                                                                                               Don't mean to bother you \\n\\nI see that you're writing something regarding removing anything posted here and if you do oh well but if not and you can acctually discuss this with me then even better.\\n\\nI'd like to ask you to take a closer look at the Premature wrestling deaths catagory and the men listed in it, surely these men belong together in some catagory. Is there anything that you think we can do with the catagory besides delting it?   \n",
       "\n",
       "    toxic  \n",
       "0       0  \n",
       "1       0  \n",
       "2       0  \n",
       "3       0  \n",
       "4       0  \n",
       "5       0  \n",
       "6       1  \n",
       "7       0  \n",
       "8       0  \n",
       "9       0  \n",
       "10      0  \n",
       "11      0  \n",
       "12      1  \n",
       "13      0  \n",
       "14      0  \n",
       "15      0  \n",
       "16      1  \n",
       "17      0  \n",
       "18      0  \n",
       "19      0  "
      ]
     },
     "metadata": {},
     "output_type": "display_data"
    }
   ],
   "source": [
    "# Уберём ограничение ширины столбцов\n",
    "pd.set_option('display.max_colwidth', None)\n",
    "\n",
    "# Выведем первые 20 строк датасета на экран\n",
    "display(data.head(20))"
   ]
  },
  {
   "cell_type": "markdown",
   "metadata": {},
   "source": [
    "<font color='blue'><b>Комментарий ревьюера: </b></font> ✔️\\\n",
    "<font color='green'>Данные загружены корректно, первичный осмотр проведен.</font>"
   ]
  },
  {
   "cell_type": "markdown",
   "metadata": {},
   "source": [
    "<font color='blue'><b>Комментарий ревьюера : </b></font> ⚠️\\\n",
    "<font color='darkorange'> Важно показать всю фразу в поле `text` для анализа.</font>\n",
    "```python\n",
    "# Установка опции для отображения максимальной ширины столбца\n",
    "pd.set_option('display.max_colwidth', None)\n",
    "```"
   ]
  },
  {
   "cell_type": "markdown",
   "metadata": {},
   "source": [
    "<span style=\"color: purple; font-weight: bold\">Убрал ограничение ширины столбцов</span>"
   ]
  },
  {
   "cell_type": "markdown",
   "metadata": {},
   "source": [
    "<span style=\"color: blue; font-weight: bold\">Комментарий ревьюера 2: </span> ✔️\\\n",
    "<span style=\"color: green\"> 👍</span>"
   ]
  },
  {
   "cell_type": "markdown",
   "metadata": {},
   "source": [
    "## Предобработка данных"
   ]
  },
  {
   "cell_type": "markdown",
   "metadata": {},
   "source": [
    "### Очистка и лемматизация"
   ]
  },
  {
   "cell_type": "markdown",
   "metadata": {},
   "source": [
    "Приведём все тексты к нижнему регистру, удалим все символы, кроме букв и пробелов, а также лишние пробелы.\n",
    "Очистим тексты от стоп-слов и проведём лемматизацию."
   ]
  },
  {
   "cell_type": "code",
   "execution_count": 8,
   "metadata": {},
   "outputs": [],
   "source": [
    "# Загружаем модель spaCy (без NER и синтаксического анализа для ускорения)\n",
    "nlp = spacy.load('en_core_web_sm', disable=['ner', 'parser'])\n",
    "\n",
    "# Функция очистки текста с использованием spaCy\n",
    "def clean_text(text):\n",
    "    if isinstance(text, str):\n",
    "        # Обработка текста с помощью spaCy\n",
    "        doc = nlp(text.strip())  # Удаляем лишние пробелы перед обработкой\n",
    "\n",
    "        # Приведение к нижнему регистру, удаление стоп-слов, пунктуации и не буквенных символов\n",
    "        words = [token.lemma_.lower() for token in doc if token.is_alpha and not token.is_stop]\n",
    "\n",
    "        return ' '.join(words)\n",
    "    else:\n",
    "        return \"\"  # Возвращаем пустую строку, если текст отсутствует\n"
   ]
  },
  {
   "cell_type": "markdown",
   "metadata": {},
   "source": [
    "<font color='blue'><b>Комментарий ревьюера: </b></font> ✔️\\\n",
    "<font color='green'>Очистка сделана верно! Мы оставили только символы Латинского алфавита и привели к нижнему регистру!</font>"
   ]
  },
  {
   "cell_type": "code",
   "execution_count": 9,
   "metadata": {},
   "outputs": [],
   "source": [
    "# Удаление строк с пропущенными значениями в тексте\n",
    "data.dropna(subset=['text'], inplace=True)"
   ]
  },
  {
   "cell_type": "code",
   "execution_count": 10,
   "metadata": {},
   "outputs": [],
   "source": [
    "# Очистка текста\n",
    "data['clean_text'] = data['text'].apply(clean_text)"
   ]
  },
  {
   "cell_type": "code",
   "execution_count": 11,
   "metadata": {},
   "outputs": [
    {
     "data": {
      "text/html": [
       "<div>\n",
       "<style scoped>\n",
       "    .dataframe tbody tr th:only-of-type {\n",
       "        vertical-align: middle;\n",
       "    }\n",
       "\n",
       "    .dataframe tbody tr th {\n",
       "        vertical-align: top;\n",
       "    }\n",
       "\n",
       "    .dataframe thead th {\n",
       "        text-align: right;\n",
       "    }\n",
       "</style>\n",
       "<table border=\"1\" class=\"dataframe\">\n",
       "  <thead>\n",
       "    <tr style=\"text-align: right;\">\n",
       "      <th></th>\n",
       "      <th>text</th>\n",
       "      <th>clean_text</th>\n",
       "    </tr>\n",
       "  </thead>\n",
       "  <tbody>\n",
       "    <tr>\n",
       "      <th>0</th>\n",
       "      <td>Explanation\\nWhy the edits made under my username Hardcore Metallica Fan were reverted? They weren't vandalisms, just closure on some GAs after I voted at New York Dolls FAC. And please don't remove the template from the talk page since I'm retired now.89.205.38.27</td>\n",
       "      <td>explanation edit username hardcore metallica fan revert vandalism closure gas vote new york dolls fac remove template talk page retire</td>\n",
       "    </tr>\n",
       "    <tr>\n",
       "      <th>1</th>\n",
       "      <td>D'aww! He matches this background colour I'm seemingly stuck with. Thanks.  (talk) 21:51, January 11, 2016 (UTC)</td>\n",
       "      <td>match background colour seemingly stuck thank talk january utc</td>\n",
       "    </tr>\n",
       "    <tr>\n",
       "      <th>2</th>\n",
       "      <td>Hey man, I'm really not trying to edit war. It's just that this guy is constantly removing relevant information and talking to me through edits instead of my talk page. He seems to care more about the formatting than the actual info.</td>\n",
       "      <td>hey man try edit war guy constantly remove relevant information talk edit instead talk page care formatting actual info</td>\n",
       "    </tr>\n",
       "    <tr>\n",
       "      <th>3</th>\n",
       "      <td>\"\\nMore\\nI can't make any real suggestions on improvement - I wondered if the section statistics should be later on, or a subsection of \"\"types of accidents\"\"  -I think the references may need tidying so that they are all in the exact same format ie date format etc. I can do that later on, if no-one else does first - if you have any preferences for formatting style on references or want to do it yourself please let me know.\\n\\nThere appears to be a backlog on articles for review so I guess there may be a delay until a reviewer turns up. It's listed in the relevant form eg Wikipedia:Good_article_nominations#Transport  \"</td>\n",
       "      <td>real suggestion improvement wonder section statistic later subsection type accident think reference need tidy exact format ie date format etc later preference formatting style reference want let know appear backlog article review guess delay reviewer turn list relevant form eg wikipedia</td>\n",
       "    </tr>\n",
       "    <tr>\n",
       "      <th>4</th>\n",
       "      <td>You, sir, are my hero. Any chance you remember what page that's on?</td>\n",
       "      <td>sir hero chance remember page</td>\n",
       "    </tr>\n",
       "    <tr>\n",
       "      <th>5</th>\n",
       "      <td>\"\\n\\nCongratulations from me as well, use the tools well.  · talk \"</td>\n",
       "      <td>congratulation use tool talk</td>\n",
       "    </tr>\n",
       "    <tr>\n",
       "      <th>6</th>\n",
       "      <td>COCKSUCKER BEFORE YOU PISS AROUND ON MY WORK</td>\n",
       "      <td>cocksucker pis work</td>\n",
       "    </tr>\n",
       "    <tr>\n",
       "      <th>7</th>\n",
       "      <td>Your vandalism to the Matt Shirvington article has been reverted.  Please don't do it again, or you will be banned.</td>\n",
       "      <td>vandalism matt shirvington article revert ban</td>\n",
       "    </tr>\n",
       "    <tr>\n",
       "      <th>8</th>\n",
       "      <td>Sorry if the word 'nonsense' was offensive to you. Anyway, I'm not intending to write anything in the article(wow they would jump on me for vandalism), I'm merely requesting that it be more encyclopedic so one can use it for school as a reference. I have been to the selective breeding page but it's almost a stub. It points to 'animal breeding' which is a short messy article that gives you no info. There must be someone around with expertise in eugenics? 93.161.107.169</td>\n",
       "      <td>sorry word nonsense offensive intend write jump vandalism merely request encyclopedic use school reference selective breeding page stub point animal breeding short messy article give info expertise eugenic</td>\n",
       "    </tr>\n",
       "    <tr>\n",
       "      <th>9</th>\n",
       "      <td>alignment on this subject and which are contrary to those of DuLithgow</td>\n",
       "      <td>alignment subject contrary dulithgow</td>\n",
       "    </tr>\n",
       "    <tr>\n",
       "      <th>10</th>\n",
       "      <td>\"\\nFair use rationale for Image:Wonju.jpg\\n\\nThanks for uploading Image:Wonju.jpg. I notice the image page specifies that the image is being used under fair use but there is no explanation or rationale as to why its use in Wikipedia articles constitutes fair use. In addition to the boilerplate fair use template, you must also write out on the image description page a specific explanation or rationale for why using this image in each article is consistent with fair use.\\n\\nPlease go to the image description page and edit it to include a fair use rationale.\\n\\nIf you have uploaded other fair use media, consider checking that you have specified the fair use rationale on those pages too. You can find a list of 'image' pages you have edited by clicking on the \"\"my contributions\"\" link (it is located at the very top of any Wikipedia page when you are logged in), and then selecting \"\"Image\"\" from the dropdown box. Note that any fair use images uploaded after 4 May, 2006, and lacking such an explanation will be deleted one week after they have been uploaded, as described on criteria for speedy deletion. If you have any questions please ask them at the Media copyright questions page. Thank you. (talk • contribs • ) \\nUnspecified source for Image:Wonju.jpg\\n\\nThanks for uploading Image:Wonju.jpg. I noticed that the file's description page currently doesn't specify who created the content, so the copyright status is unclear. If you did not create this file yourself, then you will need to specify the owner of the copyright. If you obtained it from a website, then a link to the website from which it was taken, together with a restatement of that website's terms of use of its content, is usually sufficient information. However, if the copyright holder is different from the website's publisher, then their copyright should also be acknowledged.\\n\\nAs well as adding the source, please add a proper copyright licensing tag if the file doesn't have one already. If you created/took the picture, audio, or video then the  tag can be used to release it under the GFDL. If you believe the media meets the criteria at Wikipedia:Fair use, use a tag such as  or one of the other tags listed at Wikipedia:Image copyright tags#Fair use. See Wikipedia:Image copyright tags for the full list of copyright tags that you can use.\\n\\nIf you have uploaded other files, consider checking that you have specified their source and tagged them, too. You can find a list of files you have uploaded by following [ this link]. Unsourced and untagged images may be deleted one week after they have been tagged, as described on criteria for speedy deletion. If the image is copyrighted under a non-free license (per Wikipedia:Fair use) then the image will be deleted 48 hours after . If you have any questions please ask them at the Media copyright questions page. Thank you. (talk • contribs • ) \"</td>\n",
       "      <td>fair use rationale image thank upload image notice image page specify image fair use explanation rationale use wikipedia article constitute fair use addition boilerplate fair use template write image description page specific explanation rationale image article consistent fair use image description page edit include fair use rationale upload fair use medium consider check specify fair use rationale page find list image page edit click contribution link locate wikipedia page log select image dropdown box note fair use image upload lack explanation delete week upload describe criterion speedy deletion question ask media copyright question page thank talk contrib unspecified source image thank upload image notice file description page currently specify create content copyright status unclear create file need specify owner copyright obtain website link website take restatement website term use content usually sufficient information copyright holder different website publisher copyright acknowledge add source add proper copyright licensing tag file create take picture audio video tag release gfdl believe medium meet criterion wikipedia fair use use tag tag list wikipedia image copyright use wikipedia image copyright tag list copyright tag use upload file consider check specify source tag find list file upload follow link unsourced untagged image delete week tag describe criterion speedy deletion image copyright non free license wikipedia fair use image delete hour question ask media copyright question page thank talk contrib</td>\n",
       "    </tr>\n",
       "    <tr>\n",
       "      <th>11</th>\n",
       "      <td>bbq \\n\\nbe a man and lets discuss it-maybe over the phone?</td>\n",
       "      <td>bbq man let discuss maybe phone</td>\n",
       "    </tr>\n",
       "    <tr>\n",
       "      <th>12</th>\n",
       "      <td>Hey... what is it..\\n@ | talk .\\nWhat is it... an exclusive group of some WP TALIBANS...who are good at destroying, self-appointed purist who GANG UP any one who asks them questions abt their ANTI-SOCIAL and DESTRUCTIVE (non)-contribution at WP?\\n\\nAsk Sityush to clean up his behavior than issue me nonsensical warnings...</td>\n",
       "      <td>hey talk exclusive group wp taliban good destroy self appoint purist gang ask question abt anti social destructive wp ask sityush clean behavior issue nonsensical warning</td>\n",
       "    </tr>\n",
       "    <tr>\n",
       "      <th>13</th>\n",
       "      <td>Before you start throwing accusations and warnings at me, lets review the edit itself-making ad hominem attacks isn't going to strengthen your argument, it will merely make it look like you are abusing your power as an admin. \\nNow, the edit itself is relevant-this is probably the single most talked about event int he news as of late. His absence is notable, since he is the only living ex-president who did not attend. That's certainly more notable than his dedicating an aircracft carrier. \\nI intend to revert this edit, in hopes of attracting the attention of an admin that is willing to look at the issue itself, and not throw accusations around quite so liberally. Perhaps, if you achieve a level of civility where you can do this, we can have a rational discussion on the topic and resolve the matter peacefully.</td>\n",
       "      <td>start throw accusation warning let review edit make ad hominem attack go strengthen argument merely look like abuse power admin edit relevant probably single talk event int news late absence notable live ex president attend certainly notable dedicate aircracft carrier intend revert edit hope attract attention admin willing look issue throw accusation liberally achieve level civility rational discussion topic resolve matter peacefully</td>\n",
       "    </tr>\n",
       "    <tr>\n",
       "      <th>14</th>\n",
       "      <td>Oh, and the girl above started her arguments with me. She stuck her nose where it doesn't belong. I believe the argument was between me and Yvesnimmo. But like I said, the situation was settled and I apologized. Thanks,</td>\n",
       "      <td>oh girl start argument stick nose belong believe argument yvesnimmo like say situation settle apologize thank</td>\n",
       "    </tr>\n",
       "    <tr>\n",
       "      <th>15</th>\n",
       "      <td>\"\\n\\nJuelz Santanas Age\\n\\nIn 2002, Juelz Santana was 18 years old, then came February 18th, which makes Juelz turn 19 making songs with The Diplomats. The third neff to be signed to Cam's label under Roc A Fella. In 2003, he was 20 years old coming out with his own singles \"\"Santana's Town\"\" and \"\"Down\"\". So yes, he is born in 1983. He really is, how could he be older then Lloyd Banks? And how could he be 22 when his birthday passed? The homie neff is 23 years old. 1983 - 2006 (Juelz death, god forbid if your thinking about that) equals 23. Go to your caculator and stop changing his year of birth. My god.\"</td>\n",
       "      <td>juelz santanas age juelz santana year old come february make juelz turn make song diplomats neff sign cam label roc fella year old come single santana town yes bear old lloyd bank birthday pass homie neff year old juelz death god forbid thinking equal caculator stop change year birth god</td>\n",
       "    </tr>\n",
       "    <tr>\n",
       "      <th>16</th>\n",
       "      <td>Bye! \\n\\nDon't look, come or think of comming back! Tosser.</td>\n",
       "      <td>bye look come think comme tosser</td>\n",
       "    </tr>\n",
       "    <tr>\n",
       "      <th>17</th>\n",
       "      <td>REDIRECT Talk:Voydan Pop Georgiev- Chernodrinski</td>\n",
       "      <td>redirect talk voydan pop chernodrinski</td>\n",
       "    </tr>\n",
       "    <tr>\n",
       "      <th>18</th>\n",
       "      <td>The Mitsurugi point made no sense - why not argue to include Hindi on Ryo Sakazaki's page to include more information?</td>\n",
       "      <td>mitsurugi point sense argue include hindi ryo sakazaki page include information</td>\n",
       "    </tr>\n",
       "    <tr>\n",
       "      <th>19</th>\n",
       "      <td>Don't mean to bother you \\n\\nI see that you're writing something regarding removing anything posted here and if you do oh well but if not and you can acctually discuss this with me then even better.\\n\\nI'd like to ask you to take a closer look at the Premature wrestling deaths catagory and the men listed in it, surely these men belong together in some catagory. Is there anything that you think we can do with the catagory besides delting it?</td>\n",
       "      <td>mean bother write remove post oh acctually discuss well like ask close look premature wrestling death catagory man list surely man belong catagory think catagory delte</td>\n",
       "    </tr>\n",
       "  </tbody>\n",
       "</table>\n",
       "</div>"
      ],
      "text/plain": [
       "                                                                                                                                                                                                                                                                                                                                                                                                                                                                                                                                                                                                                                                                                                                                                                                                                                                                                                                                                                                                                                                                                                                                                                                                                                                                                                                                                                                                                                                                                                                                                                                                                                                                                                                                                                                                                                                                                                                                                                                                                                                                                                                                                                                                                                                                                                                                                                                                                                                                                                                                                                                                                                                                                                                                                                                                                                                                                                                                                                                                         text  \\\n",
       "0                                                                                                                                                                                                                                                                                                                                                                                                                                                                                                                                                                                                                                                                                                                                                                                                                                                                                                                                                                                                                                                                                                                                                                                                                                                                                                                                                                                                                                                                                                                                                                                                                                                                                                                                                                                                                                                                                                                                                                                                                                                                                                                                                                                                                                                                                                                                                                                                                                                                                                                                                                                                                                                                                                                                   Explanation\\nWhy the edits made under my username Hardcore Metallica Fan were reverted? They weren't vandalisms, just closure on some GAs after I voted at New York Dolls FAC. And please don't remove the template from the talk page since I'm retired now.89.205.38.27   \n",
       "1                                                                                                                                                                                                                                                                                                                                                                                                                                                                                                                                                                                                                                                                                                                                                                                                                                                                                                                                                                                                                                                                                                                                                                                                                                                                                                                                                                                                                                                                                                                                                                                                                                                                                                                                                                                                                                                                                                                                                                                                                                                                                                                                                                                                                                                                                                                                                                                                                                                                                                                                                                                                                                                                                                                                                                                                                                                                                            D'aww! He matches this background colour I'm seemingly stuck with. Thanks.  (talk) 21:51, January 11, 2016 (UTC)   \n",
       "2                                                                                                                                                                                                                                                                                                                                                                                                                                                                                                                                                                                                                                                                                                                                                                                                                                                                                                                                                                                                                                                                                                                                                                                                                                                                                                                                                                                                                                                                                                                                                                                                                                                                                                                                                                                                                                                                                                                                                                                                                                                                                                                                                                                                                                                                                                                                                                                                                                                                                                                                                                                                                                                                                                                                                                   Hey man, I'm really not trying to edit war. It's just that this guy is constantly removing relevant information and talking to me through edits instead of my talk page. He seems to care more about the formatting than the actual info.   \n",
       "3                                                                                                                                                                                                                                                                                                                                                                                                                                                                                                                                                                                                                                                                                                                                                                                                                                                                                                                                                                                                                                                                                                                                                                                                                                                                                                                                                                                                                                                                                                                                                                                                                                                                                                                                                                                                                                                                                                                                                                                                                                                                                                                                                                                                                                                                                                                                                          \"\\nMore\\nI can't make any real suggestions on improvement - I wondered if the section statistics should be later on, or a subsection of \"\"types of accidents\"\"  -I think the references may need tidying so that they are all in the exact same format ie date format etc. I can do that later on, if no-one else does first - if you have any preferences for formatting style on references or want to do it yourself please let me know.\\n\\nThere appears to be a backlog on articles for review so I guess there may be a delay until a reviewer turns up. It's listed in the relevant form eg Wikipedia:Good_article_nominations#Transport  \"   \n",
       "4                                                                                                                                                                                                                                                                                                                                                                                                                                                                                                                                                                                                                                                                                                                                                                                                                                                                                                                                                                                                                                                                                                                                                                                                                                                                                                                                                                                                                                                                                                                                                                                                                                                                                                                                                                                                                                                                                                                                                                                                                                                                                                                                                                                                                                                                                                                                                                                                                                                                                                                                                                                                                                                                                                                                                                                                                                                                                                                                         You, sir, are my hero. Any chance you remember what page that's on?   \n",
       "5                                                                                                                                                                                                                                                                                                                                                                                                                                                                                                                                                                                                                                                                                                                                                                                                                                                                                                                                                                                                                                                                                                                                                                                                                                                                                                                                                                                                                                                                                                                                                                                                                                                                                                                                                                                                                                                                                                                                                                                                                                                                                                                                                                                                                                                                                                                                                                                                                                                                                                                                                                                                                                                                                                                                                                                                                                                                                                                                         \"\\n\\nCongratulations from me as well, use the tools well.  · talk \"   \n",
       "6                                                                                                                                                                                                                                                                                                                                                                                                                                                                                                                                                                                                                                                                                                                                                                                                                                                                                                                                                                                                                                                                                                                                                                                                                                                                                                                                                                                                                                                                                                                                                                                                                                                                                                                                                                                                                                                                                                                                                                                                                                                                                                                                                                                                                                                                                                                                                                                                                                                                                                                                                                                                                                                                                                                                                                                                                                                                                                                                                                COCKSUCKER BEFORE YOU PISS AROUND ON MY WORK   \n",
       "7                                                                                                                                                                                                                                                                                                                                                                                                                                                                                                                                                                                                                                                                                                                                                                                                                                                                                                                                                                                                                                                                                                                                                                                                                                                                                                                                                                                                                                                                                                                                                                                                                                                                                                                                                                                                                                                                                                                                                                                                                                                                                                                                                                                                                                                                                                                                                                                                                                                                                                                                                                                                                                                                                                                                                                                                                                                                                         Your vandalism to the Matt Shirvington article has been reverted.  Please don't do it again, or you will be banned.   \n",
       "8                                                                                                                                                                                                                                                                                                                                                                                                                                                                                                                                                                                                                                                                                                                                                                                                                                                                                                                                                                                                                                                                                                                                                                                                                                                                                                                                                                                                                                                                                                                                                                                                                                                                                                                                                                                                                                                                                                                                                                                                                                                                                                                                                                                                                                                                                                                                                                                                                                                                                                                    Sorry if the word 'nonsense' was offensive to you. Anyway, I'm not intending to write anything in the article(wow they would jump on me for vandalism), I'm merely requesting that it be more encyclopedic so one can use it for school as a reference. I have been to the selective breeding page but it's almost a stub. It points to 'animal breeding' which is a short messy article that gives you no info. There must be someone around with expertise in eugenics? 93.161.107.169   \n",
       "9                                                                                                                                                                                                                                                                                                                                                                                                                                                                                                                                                                                                                                                                                                                                                                                                                                                                                                                                                                                                                                                                                                                                                                                                                                                                                                                                                                                                                                                                                                                                                                                                                                                                                                                                                                                                                                                                                                                                                                                                                                                                                                                                                                                                                                                                                                                                                                                                                                                                                                                                                                                                                                                                                                                                                                                                                                                                                                                                      alignment on this subject and which are contrary to those of DuLithgow   \n",
       "10  \"\\nFair use rationale for Image:Wonju.jpg\\n\\nThanks for uploading Image:Wonju.jpg. I notice the image page specifies that the image is being used under fair use but there is no explanation or rationale as to why its use in Wikipedia articles constitutes fair use. In addition to the boilerplate fair use template, you must also write out on the image description page a specific explanation or rationale for why using this image in each article is consistent with fair use.\\n\\nPlease go to the image description page and edit it to include a fair use rationale.\\n\\nIf you have uploaded other fair use media, consider checking that you have specified the fair use rationale on those pages too. You can find a list of 'image' pages you have edited by clicking on the \"\"my contributions\"\" link (it is located at the very top of any Wikipedia page when you are logged in), and then selecting \"\"Image\"\" from the dropdown box. Note that any fair use images uploaded after 4 May, 2006, and lacking such an explanation will be deleted one week after they have been uploaded, as described on criteria for speedy deletion. If you have any questions please ask them at the Media copyright questions page. Thank you. (talk • contribs • ) \\nUnspecified source for Image:Wonju.jpg\\n\\nThanks for uploading Image:Wonju.jpg. I noticed that the file's description page currently doesn't specify who created the content, so the copyright status is unclear. If you did not create this file yourself, then you will need to specify the owner of the copyright. If you obtained it from a website, then a link to the website from which it was taken, together with a restatement of that website's terms of use of its content, is usually sufficient information. However, if the copyright holder is different from the website's publisher, then their copyright should also be acknowledged.\\n\\nAs well as adding the source, please add a proper copyright licensing tag if the file doesn't have one already. If you created/took the picture, audio, or video then the  tag can be used to release it under the GFDL. If you believe the media meets the criteria at Wikipedia:Fair use, use a tag such as  or one of the other tags listed at Wikipedia:Image copyright tags#Fair use. See Wikipedia:Image copyright tags for the full list of copyright tags that you can use.\\n\\nIf you have uploaded other files, consider checking that you have specified their source and tagged them, too. You can find a list of files you have uploaded by following [ this link]. Unsourced and untagged images may be deleted one week after they have been tagged, as described on criteria for speedy deletion. If the image is copyrighted under a non-free license (per Wikipedia:Fair use) then the image will be deleted 48 hours after . If you have any questions please ask them at the Media copyright questions page. Thank you. (talk • contribs • ) \"   \n",
       "11                                                                                                                                                                                                                                                                                                                                                                                                                                                                                                                                                                                                                                                                                                                                                                                                                                                                                                                                                                                                                                                                                                                                                                                                                                                                                                                                                                                                                                                                                                                                                                                                                                                                                                                                                                                                                                                                                                                                                                                                                                                                                                                                                                                                                                                                                                                                                                                                                                                                                                                                                                                                                                                                                                                                                                                                                                                                                                                                                 bbq \\n\\nbe a man and lets discuss it-maybe over the phone?   \n",
       "12                                                                                                                                                                                                                                                                                                                                                                                                                                                                                                                                                                                                                                                                                                                                                                                                                                                                                                                                                                                                                                                                                                                                                                                                                                                                                                                                                                                                                                                                                                                                                                                                                                                                                                                                                                                                                                                                                                                                                                                                                                                                                                                                                                                                                                                                                                                                                                                                                                                                                                                                                                                                                                                                        Hey... what is it..\\n@ | talk .\\nWhat is it... an exclusive group of some WP TALIBANS...who are good at destroying, self-appointed purist who GANG UP any one who asks them questions abt their ANTI-SOCIAL and DESTRUCTIVE (non)-contribution at WP?\\n\\nAsk Sityush to clean up his behavior than issue me nonsensical warnings...   \n",
       "13                                                                                                                                                                                                                                                                                                                                                                                                                                                                                                                                                                                                                                                                                                                                                                                                                                                                                                                                                                                                                                                                                                                                                                                                                                                                                                                                                                                                                                                                                                                                                                                                                                                                                                                                                                                                                                                                                                                                                                                                                                                                                                                                                      Before you start throwing accusations and warnings at me, lets review the edit itself-making ad hominem attacks isn't going to strengthen your argument, it will merely make it look like you are abusing your power as an admin. \\nNow, the edit itself is relevant-this is probably the single most talked about event int he news as of late. His absence is notable, since he is the only living ex-president who did not attend. That's certainly more notable than his dedicating an aircracft carrier. \\nI intend to revert this edit, in hopes of attracting the attention of an admin that is willing to look at the issue itself, and not throw accusations around quite so liberally. Perhaps, if you achieve a level of civility where you can do this, we can have a rational discussion on the topic and resolve the matter peacefully.   \n",
       "14                                                                                                                                                                                                                                                                                                                                                                                                                                                                                                                                                                                                                                                                                                                                                                                                                                                                                                                                                                                                                                                                                                                                                                                                                                                                                                                                                                                                                                                                                                                                                                                                                                                                                                                                                                                                                                                                                                                                                                                                                                                                                                                                                                                                                                                                                                                                                                                                                                                                                                                                                                                                                                                                                                                                                                                Oh, and the girl above started her arguments with me. She stuck her nose where it doesn't belong. I believe the argument was between me and Yvesnimmo. But like I said, the situation was settled and I apologized. Thanks,   \n",
       "15                                                                                                                                                                                                                                                                                                                                                                                                                                                                                                                                                                                                                                                                                                                                                                                                                                                                                                                                                                                                                                                                                                                                                                                                                                                                                                                                                                                                                                                                                                                                                                                                                                                                                                                                                                                                                                                                                                                                                                                                                                                                                                                                                                                                                                                                                                                                                                     \"\\n\\nJuelz Santanas Age\\n\\nIn 2002, Juelz Santana was 18 years old, then came February 18th, which makes Juelz turn 19 making songs with The Diplomats. The third neff to be signed to Cam's label under Roc A Fella. In 2003, he was 20 years old coming out with his own singles \"\"Santana's Town\"\" and \"\"Down\"\". So yes, he is born in 1983. He really is, how could he be older then Lloyd Banks? And how could he be 22 when his birthday passed? The homie neff is 23 years old. 1983 - 2006 (Juelz death, god forbid if your thinking about that) equals 23. Go to your caculator and stop changing his year of birth. My god.\"   \n",
       "16                                                                                                                                                                                                                                                                                                                                                                                                                                                                                                                                                                                                                                                                                                                                                                                                                                                                                                                                                                                                                                                                                                                                                                                                                                                                                                                                                                                                                                                                                                                                                                                                                                                                                                                                                                                                                                                                                                                                                                                                                                                                                                                                                                                                                                                                                                                                                                                                                                                                                                                                                                                                                                                                                                                                                                                                                                                                                                                                                Bye! \\n\\nDon't look, come or think of comming back! Tosser.   \n",
       "17                                                                                                                                                                                                                                                                                                                                                                                                                                                                                                                                                                                                                                                                                                                                                                                                                                                                                                                                                                                                                                                                                                                                                                                                                                                                                                                                                                                                                                                                                                                                                                                                                                                                                                                                                                                                                                                                                                                                                                                                                                                                                                                                                                                                                                                                                                                                                                                                                                                                                                                                                                                                                                                                                                                                                                                                                                                                                                                                                           REDIRECT Talk:Voydan Pop Georgiev- Chernodrinski   \n",
       "18                                                                                                                                                                                                                                                                                                                                                                                                                                                                                                                                                                                                                                                                                                                                                                                                                                                                                                                                                                                                                                                                                                                                                                                                                                                                                                                                                                                                                                                                                                                                                                                                                                                                                                                                                                                                                                                                                                                                                                                                                                                                                                                                                                                                                                                                                                                                                                                                                                                                                                                                                                                                                                                                                                                                                                                                                                                                                     The Mitsurugi point made no sense - why not argue to include Hindi on Ryo Sakazaki's page to include more information?   \n",
       "19                                                                                                                                                                                                                                                                                                                                                                                                                                                                                                                                                                                                                                                                                                                                                                                                                                                                                                                                                                                                                                                                                                                                                                                                                                                                                                                                                                                                                                                                                                                                                                                                                                                                                                                                                                                                                                                                                                                                                                                                                                                                                                                                                                                                                                                                                                                                                                                                                                                                                                                                               Don't mean to bother you \\n\\nI see that you're writing something regarding removing anything posted here and if you do oh well but if not and you can acctually discuss this with me then even better.\\n\\nI'd like to ask you to take a closer look at the Premature wrestling deaths catagory and the men listed in it, surely these men belong together in some catagory. Is there anything that you think we can do with the catagory besides delting it?   \n",
       "\n",
       "                                                                                                                                                                                                                                                                                                                                                                                                                                                                                                                                                                                                                                                                                                                                                                                                                                                                                                                                                                                                                                                                                                                                                                                                                                                                                                                                                                                                                                                                                                                                                                                                   clean_text  \n",
       "0                                                                                                                                                                                                                                                                                                                                                                                                                                                                                                                                                                                                                                                                                                                                                                                                                                                                                                                                                                                                                                                                                                                                                                                                                                                                                                                                                                                                                                                                      explanation edit username hardcore metallica fan revert vandalism closure gas vote new york dolls fac remove template talk page retire  \n",
       "1                                                                                                                                                                                                                                                                                                                                                                                                                                                                                                                                                                                                                                                                                                                                                                                                                                                                                                                                                                                                                                                                                                                                                                                                                                                                                                                                                                                                                                                                                                                                              match background colour seemingly stuck thank talk january utc  \n",
       "2                                                                                                                                                                                                                                                                                                                                                                                                                                                                                                                                                                                                                                                                                                                                                                                                                                                                                                                                                                                                                                                                                                                                                                                                                                                                                                                                                                                                                                                                                     hey man try edit war guy constantly remove relevant information talk edit instead talk page care formatting actual info  \n",
       "3                                                                                                                                                                                                                                                                                                                                                                                                                                                                                                                                                                                                                                                                                                                                                                                                                                                                                                                                                                                                                                                                                                                                                                                                                                                                                                             real suggestion improvement wonder section statistic later subsection type accident think reference need tidy exact format ie date format etc later preference formatting style reference want let know appear backlog article review guess delay reviewer turn list relevant form eg wikipedia  \n",
       "4                                                                                                                                                                                                                                                                                                                                                                                                                                                                                                                                                                                                                                                                                                                                                                                                                                                                                                                                                                                                                                                                                                                                                                                                                                                                                                                                                                                                                                                                                                                                                                               sir hero chance remember page  \n",
       "5                                                                                                                                                                                                                                                                                                                                                                                                                                                                                                                                                                                                                                                                                                                                                                                                                                                                                                                                                                                                                                                                                                                                                                                                                                                                                                                                                                                                                                                                                                                                                                                congratulation use tool talk  \n",
       "6                                                                                                                                                                                                                                                                                                                                                                                                                                                                                                                                                                                                                                                                                                                                                                                                                                                                                                                                                                                                                                                                                                                                                                                                                                                                                                                                                                                                                                                                                                                                                                                         cocksucker pis work  \n",
       "7                                                                                                                                                                                                                                                                                                                                                                                                                                                                                                                                                                                                                                                                                                                                                                                                                                                                                                                                                                                                                                                                                                                                                                                                                                                                                                                                                                                                                                                                                                                                                               vandalism matt shirvington article revert ban  \n",
       "8                                                                                                                                                                                                                                                                                                                                                                                                                                                                                                                                                                                                                                                                                                                                                                                                                                                                                                                                                                                                                                                                                                                                                                                                                                                                                                                                                                                               sorry word nonsense offensive intend write jump vandalism merely request encyclopedic use school reference selective breeding page stub point animal breeding short messy article give info expertise eugenic  \n",
       "9                                                                                                                                                                                                                                                                                                                                                                                                                                                                                                                                                                                                                                                                                                                                                                                                                                                                                                                                                                                                                                                                                                                                                                                                                                                                                                                                                                                                                                                                                                                                                                        alignment subject contrary dulithgow  \n",
       "10  fair use rationale image thank upload image notice image page specify image fair use explanation rationale use wikipedia article constitute fair use addition boilerplate fair use template write image description page specific explanation rationale image article consistent fair use image description page edit include fair use rationale upload fair use medium consider check specify fair use rationale page find list image page edit click contribution link locate wikipedia page log select image dropdown box note fair use image upload lack explanation delete week upload describe criterion speedy deletion question ask media copyright question page thank talk contrib unspecified source image thank upload image notice file description page currently specify create content copyright status unclear create file need specify owner copyright obtain website link website take restatement website term use content usually sufficient information copyright holder different website publisher copyright acknowledge add source add proper copyright licensing tag file create take picture audio video tag release gfdl believe medium meet criterion wikipedia fair use use tag tag list wikipedia image copyright use wikipedia image copyright tag list copyright tag use upload file consider check specify source tag find list file upload follow link unsourced untagged image delete week tag describe criterion speedy deletion image copyright non free license wikipedia fair use image delete hour question ask media copyright question page thank talk contrib  \n",
       "11                                                                                                                                                                                                                                                                                                                                                                                                                                                                                                                                                                                                                                                                                                                                                                                                                                                                                                                                                                                                                                                                                                                                                                                                                                                                                                                                                                                                                                                                                                                                                                            bbq man let discuss maybe phone  \n",
       "12                                                                                                                                                                                                                                                                                                                                                                                                                                                                                                                                                                                                                                                                                                                                                                                                                                                                                                                                                                                                                                                                                                                                                                                                                                                                                                                                                                                                                                 hey talk exclusive group wp taliban good destroy self appoint purist gang ask question abt anti social destructive wp ask sityush clean behavior issue nonsensical warning  \n",
       "13                                                                                                                                                                                                                                                                                                                                                                                                                                                                                                                                                                                                                                                                                                                                                                                                                                                                                                                                                                                                                                                                                                                                                      start throw accusation warning let review edit make ad hominem attack go strengthen argument merely look like abuse power admin edit relevant probably single talk event int news late absence notable live ex president attend certainly notable dedicate aircracft carrier intend revert edit hope attract attention admin willing look issue throw accusation liberally achieve level civility rational discussion topic resolve matter peacefully  \n",
       "14                                                                                                                                                                                                                                                                                                                                                                                                                                                                                                                                                                                                                                                                                                                                                                                                                                                                                                                                                                                                                                                                                                                                                                                                                                                                                                                                                                                                                                                                                              oh girl start argument stick nose belong believe argument yvesnimmo like say situation settle apologize thank  \n",
       "15                                                                                                                                                                                                                                                                                                                                                                                                                                                                                                                                                                                                                                                                                                                                                                                                                                                                                                                                                                                                                                                                                                                                                                                                                                                                                                           juelz santanas age juelz santana year old come february make juelz turn make song diplomats neff sign cam label roc fella year old come single santana town yes bear old lloyd bank birthday pass homie neff year old juelz death god forbid thinking equal caculator stop change year birth god  \n",
       "16                                                                                                                                                                                                                                                                                                                                                                                                                                                                                                                                                                                                                                                                                                                                                                                                                                                                                                                                                                                                                                                                                                                                                                                                                                                                                                                                                                                                                                                                                                                                                                           bye look come think comme tosser  \n",
       "17                                                                                                                                                                                                                                                                                                                                                                                                                                                                                                                                                                                                                                                                                                                                                                                                                                                                                                                                                                                                                                                                                                                                                                                                                                                                                                                                                                                                                                                                                                                                                                     redirect talk voydan pop chernodrinski  \n",
       "18                                                                                                                                                                                                                                                                                                                                                                                                                                                                                                                                                                                                                                                                                                                                                                                                                                                                                                                                                                                                                                                                                                                                                                                                                                                                                                                                                                                                                                                                                                                            mitsurugi point sense argue include hindi ryo sakazaki page include information  \n",
       "19                                                                                                                                                                                                                                                                                                                                                                                                                                                                                                                                                                                                                                                                                                                                                                                                                                                                                                                                                                                                                                                                                                                                                                                                                                                                                                                                                                                                                                    mean bother write remove post oh acctually discuss well like ask close look premature wrestling death catagory man list surely man belong catagory think catagory delte  "
      ]
     },
     "metadata": {},
     "output_type": "display_data"
    }
   ],
   "source": [
    "# Проверка результата предобработки\n",
    "display(data[['text', 'clean_text']].head(20))"
   ]
  },
  {
   "cell_type": "markdown",
   "metadata": {},
   "source": [
    "<font color='blue'><b>Комментарий ревьюера: </b></font> ✔️\\\n",
    "<font color='green'>Здорово что выводишь данные, так удобно отлаживать код, сразу видно, как работает функция.</font>"
   ]
  },
  {
   "cell_type": "markdown",
   "metadata": {},
   "source": [
    "<font color='blue'><b>Комментарий ревьюера: </b></font> ❌\\\n",
    "<font color='red'>~~Обрати внимание, не все слова приведены к начальным формам. Чтобы корректно обработались все части речи, для WordNetLemmatizer() нужно использовать POS-теги (Part of Speech, части речи). Примеры работы с WordNetLemmatizer(), а также с другими инструментами для лемматизации, можно найти в~~~ [этой статье](https://www.geeksforgeeks.org/python-lemmatization-approaches-with-examples/)</font>"
   ]
  },
  {
   "cell_type": "markdown",
   "metadata": {},
   "source": [
    "<font color='blue'><b>Комментарий ревьюера: </b></font>\\\n",
    "<font color='blue'>Присмотрись к spaCy - работает быстрее и кода меньше.</font>"
   ]
  },
  {
   "cell_type": "markdown",
   "metadata": {},
   "source": [
    "<span style=\"color: purple; font-weight: bold\">Сделал с помощью spacy</span>"
   ]
  },
  {
   "cell_type": "markdown",
   "metadata": {},
   "source": [
    "<font color='blue'><b>Комментарий ревьюера 2: </b></font> ✔️\\\n",
    "<font color='green'> Отлично! Теперь видно, что слова в начальных формах.</font>"
   ]
  },
  {
   "cell_type": "markdown",
   "metadata": {},
   "source": [
    "### Токенизация"
   ]
  },
  {
   "cell_type": "code",
   "execution_count": 12,
   "metadata": {},
   "outputs": [],
   "source": [
    "# Инициализация векторизатора\n",
    "# tfidf_vectorizer = TfidfVectorizer(max_features=10000, ngram_range=(1, 2))\n",
    "\n",
    "# Преобразование текстов в векторы\n",
    "# X = tfidf_vectorizer.fit_transform(data['clean_text'])\n",
    "\n",
    "# Целевая переменная\n",
    "# y = data['toxic']\n",
    "\n",
    "# Проверка размерности признаков и целевой переменной\n",
    "# print(f\"Размерность матрицы признаков X: {X.shape}\")\n",
    "# print(f\"Количество целевых значений: {y.shape}\")"
   ]
  },
  {
   "cell_type": "markdown",
   "metadata": {},
   "source": [
    "<font color='blue'><b>Комментарий ревьюера: </b></font> ❌\\\n",
    "<font color='red'> ~~К сожалению, мы не можем обучать Векторайзер на полном корпусе текстов. Векторизация не должна учитывать тестовый и валидационный  наборы данных. Поэтому обучение Векторайзера только на трейне, остальное только трансформируем.~~</font>"
   ]
  },
  {
   "cell_type": "markdown",
   "metadata": {},
   "source": [
    "<font color='blue'><b>Комментарий ревьюера: </b></font> ⚠️\\\n",
    "<font color='darkorange'> Можно объединить Векторизатор с моделью через Pipeline. Так можно избежать утечек даже при кроссвалидации моделей.<br> Материалы по Pipeline:<br> [О Пайплайн](https://dzen.ru/a/YBBkKJBsUV9MPret)<br>\n",
    "\n",
    "[Примеры работы с текстами](https://scikit-learn.org/stable/auto_examples/model_selection/plot_grid_search_text_feature_extraction.html)</font>"
   ]
  },
  {
   "cell_type": "markdown",
   "metadata": {},
   "source": [
    "<span style=\"color: purple; font-weight: bold\">Объединил векторизатор с Pipeline ниже</span>"
   ]
  },
  {
   "cell_type": "markdown",
   "metadata": {},
   "source": [
    "<span style=\"color: blue; font-weight: bold\">Комментарий ревьюера 2: </span> ✔️\\\n",
    "<span style=\"color: green\"> 👍</span>"
   ]
  },
  {
   "cell_type": "markdown",
   "metadata": {},
   "source": [
    "## Разделение данных"
   ]
  },
  {
   "cell_type": "code",
   "execution_count": 13,
   "metadata": {},
   "outputs": [
    {
     "name": "stdout",
     "output_type": "stream",
     "text": [
      "Размер обучающей выборки: (127433,)\n",
      "Размер тестовой выборки: (31859,)\n"
     ]
    }
   ],
   "source": [
    "# Разделение данных на обучающую и тестовую выборки\n",
    "X_train, X_test, y_train, y_test = train_test_split(\n",
    "    data['clean_text'], data['toxic'], test_size=0.2, random_state=RANDOM_STATE, stratify=data['toxic']\n",
    ")\n",
    "\n",
    "# Проверим размер полученных выборок\n",
    "print(f\"Размер обучающей выборки: {X_train.shape}\")\n",
    "print(f\"Размер тестовой выборки: {X_test.shape}\")"
   ]
  },
  {
   "cell_type": "markdown",
   "metadata": {},
   "source": [
    "<font color='blue'><b>Комментарий ревьюера: </b></font> ✔️\\\n",
    "<font color='green'> Здорово , что у нас есть выборка для тестов!</font>"
   ]
  },
  {
   "cell_type": "markdown",
   "metadata": {},
   "source": [
    "## Пайплайн обучения моделей"
   ]
  },
  {
   "cell_type": "code",
   "execution_count": 14,
   "metadata": {},
   "outputs": [],
   "source": [
    "# Создание пайплайна: TF-IDF + модель\n",
    "pipeline = Pipeline([\n",
    "    ('tfidf', TfidfVectorizer(max_features=10000, ngram_range=(1, 2))),  # Векторизация текста\n",
    "    ('model', LogisticRegression())  # Модель по умолчанию\n",
    "])"
   ]
  },
  {
   "cell_type": "markdown",
   "metadata": {},
   "source": [
    "<font color='blue'><b>Комментарий ревьюера 2: </b></font> ✔️\\\n",
    "<font color='green'>Классно, что используешь pipeline. Так можно избежать утечек даже при кроссвалидации моделей. \\\n",
    "С Pipeline можно подбирать гиперпараметры не только к классификатору, но и к предобработчикам.</font>"
   ]
  },
  {
   "cell_type": "markdown",
   "metadata": {},
   "source": [
    "<font color='blue'><b>Комментарий ревьюера: </b></font> ⚠️\\\n",
    "<font color='darkorange'>Pipeline из одной модели на имеет смысла. Это конвеер данных и должен объединять несколько моделей, точно более одной )). </font>"
   ]
  },
  {
   "cell_type": "code",
   "execution_count": 20,
   "metadata": {},
   "outputs": [],
   "source": [
    "# Гиперпараметры для подбора\n",
    "param_grid = [\n",
    "    # Логистическая регрессия\n",
    "    {\n",
    "        'model': [LogisticRegression()],\n",
    "        'model__C': [0.1, 1, 10],  # Регуляризация\n",
    "        'model__max_iter': [100, 200, 500, 1000, 2000]\n",
    "    },\n",
    "\n",
    "    # Градиентный бустинг (XGBoost)\n",
    "    {\n",
    "        'model': [XGBClassifier(eval_metric='logloss')],\n",
    "        'model__n_estimators': [100],\n",
    "        'model__max_depth': [3],\n",
    "        'model__learning_rate': [0.01, 0.1]\n",
    "    }\n",
    "]"
   ]
  },
  {
   "cell_type": "code",
   "execution_count": 21,
   "metadata": {},
   "outputs": [],
   "source": [
    "# Используем F1 как основную метрику\n",
    "# scorer = make_scorer(f1_score)"
   ]
  },
  {
   "cell_type": "markdown",
   "metadata": {},
   "source": [
    "<font color='blue'><b>Комментарий ревьюера: </b></font> ⚠️\\\n",
    "<font color='darkorange'>F1 можно передать в кросс-валидацию как `scoring = 'f1'`</font>"
   ]
  },
  {
   "cell_type": "markdown",
   "metadata": {},
   "source": [
    "<span style=\"color: purple; font-weight: bold\">Перенёс метрику в кросс-валидацию</span>"
   ]
  },
  {
   "cell_type": "markdown",
   "metadata": {},
   "source": [
    "<span style=\"color: blue; font-weight: bold\">Комментарий ревьюера 2: </span> ✔️\\\n",
    "<span style=\"color: green\"> 👍</span>"
   ]
  },
  {
   "cell_type": "code",
   "execution_count": 22,
   "metadata": {},
   "outputs": [],
   "source": [
    "# GridSearchCV для поиска лучших параметров\n",
    "grid_search = GridSearchCV(\n",
    "    pipeline,\n",
    "    param_grid=param_grid,\n",
    "    cv=5,  # 5-кратная кросс-валидация\n",
    "    scoring='f1',  # Теперь передаем строку 'f1' вместо make_scorer(f1_score)\n",
    "    n_jobs=2,  \n",
    "    verbose=1,\n",
    "    pre_dispatch='2*n_jobs'  # Ограничение использования памяти\n",
    ")"
   ]
  },
  {
   "cell_type": "code",
   "execution_count": 23,
   "metadata": {
    "scrolled": true
   },
   "outputs": [
    {
     "name": "stdout",
     "output_type": "stream",
     "text": [
      "Fitting 5 folds for each of 17 candidates, totalling 85 fits\n"
     ]
    },
    {
     "name": "stderr",
     "output_type": "stream",
     "text": [
      "/home/nickolas/python_projects/practicum/.venv/lib/python3.10/site-packages/joblib/externals/loky/process_executor.py:752: UserWarning: A worker stopped while some jobs were given to the executor. This can be caused by a too short worker timeout or by a memory leak.\n",
      "  warnings.warn(\n"
     ]
    }
   ],
   "source": [
    "# Запуск обучения и поиска гиперпараметров\n",
    "start_time = time.time()\n",
    "grid_search.fit(X_train, y_train)\n",
    "end_time = time.time()"
   ]
  },
  {
   "cell_type": "markdown",
   "metadata": {},
   "source": [
    "<font color='blue'><b>Комментарий ревьюера 2: </b></font> ⚠️\\\n",
    "<font color='darkorange'> 'lbfgs' - алгоритм с ограничением использованной памяти, и хорошо работает со сравнительно небольшими датасетами. Можно увеличить количество итераций (по умолчанию max_iter = 100), но это не гарантирует лучшей сходимости. </font>"
   ]
  },
  {
   "cell_type": "code",
   "execution_count": 24,
   "metadata": {},
   "outputs": [
    {
     "name": "stdout",
     "output_type": "stream",
     "text": [
      "Лучшая модель: Pipeline(steps=[('tfidf',\n",
      "                 TfidfVectorizer(max_features=10000, ngram_range=(1, 2))),\n",
      "                ('model', LogisticRegression(C=10))])\n",
      "Лучшие параметры: {'model': LogisticRegression(), 'model__C': 10, 'model__max_iter': 100}\n",
      "Лучшее значение F1 на кросс-валидации: 0.7691\n",
      "Время обучения: 573.41 секунд\n"
     ]
    }
   ],
   "source": [
    "# Лучшая модель\n",
    "best_model = grid_search.best_estimator_\n",
    "best_params = grid_search.best_params_\n",
    "best_score = grid_search.best_score_\n",
    "\n",
    "# Вывод результатов\n",
    "print(f\"Лучшая модель: {best_model}\")\n",
    "print(f\"Лучшие параметры: {best_params}\")\n",
    "print(f\"Лучшее значение F1 на кросс-валидации: {best_score:.4f}\")\n",
    "print(f\"Время обучения: {end_time - start_time:.2f} секунд\")"
   ]
  },
  {
   "cell_type": "markdown",
   "metadata": {},
   "source": [
    "<font color='blue'><b>Комментарий ревьюера: </b></font> ❌\\\n",
    "<font color='darkorange'> При кросс-валидации на данных участвовавших в обучении векторизатора, происходят утечки между обучающими и валидационными подвыборками.\\\n",
    "Нужна либо независимо трансформированная валидационная выборка,\\\n",
    "либо кросс-валидация с векторизатором объединённым с классификатором в Пайплайне.</font>"
   ]
  },
  {
   "cell_type": "markdown",
   "metadata": {},
   "source": [
    "<span style=\"color: purple; font-weight: bold\">Объединил векторизатор с Pipeline выше</span>"
   ]
  },
  {
   "cell_type": "markdown",
   "metadata": {},
   "source": [
    "<span style=\"color: blue; font-weight: bold\">Комментарий ревьюера 2: </span> ✔️\\\n",
    "<span style=\"color: green\"> 👍</span>"
   ]
  },
  {
   "cell_type": "markdown",
   "metadata": {},
   "source": [
    "## Оценка лучшей модели на тестовых данных"
   ]
  },
  {
   "cell_type": "code",
   "execution_count": 25,
   "metadata": {},
   "outputs": [
    {
     "name": "stdout",
     "output_type": "stream",
     "text": [
      "F1 на тестовой выборке: 0.7727\n"
     ]
    }
   ],
   "source": [
    "# Оценим модель на тестовых данных\n",
    "y_pred = grid_search.best_estimator_.predict(X_test)\n",
    "f1_test = f1_score(y_test, y_pred)\n",
    "print(f\"F1 на тестовой выборке: {f1_test:.4f}\")\n"
   ]
  },
  {
   "cell_type": "markdown",
   "metadata": {},
   "source": [
    "<font color='blue'><b>Комментарий ревьюера: </b></font> ✔️\\\n",
    "<font color='green'>Тестирование проведено верно.</font>"
   ]
  },
  {
   "cell_type": "markdown",
   "metadata": {},
   "source": [
    "После выполнения процесса обучения с использованием **RandomizedSearchCV** и подбора оптимальных гиперпараметров, была выбрана лучшая модель — **Logistic Regression** с параметрами:\n",
    "\n",
    "- **C** (регуляризация): 10\n",
    "- **max_iter** (максимальное количество итераций для сходимости): 100\n",
    "\n",
    "**Результаты модели:**\n",
    "- **F1 на тестовой выборке**: 0.7714\n",
    "\n",
    "**Вывод:**\n",
    "Модель **Logistic Regression** с подобранными гиперпараметрами демонстрирует хорошую производительность, с высоким значением F1-метрики на тестовых данных."
   ]
  },
  {
   "cell_type": "markdown",
   "metadata": {},
   "source": [
    "## Общий вывод по проекту\n",
    "\n",
    "**Цель проекта:**\n",
    "Цель заключалась в разработке модели для автоматической модерации комментариев на платформе «Викишоп», классифицируя их как токсичные или нетоксичные. Это помогло бы ускорить процесс модерации, улучшив качество общения среди пользователей, что является важным для компании.\n",
    "\n",
    "**Этапы выполнения:**\n",
    "Проект был выполнен в несколько этапов, каждый из которых внес свой вклад в достижение конечной цели.\n",
    "\n",
    "1. **Загрузка и анализ данных**  \n",
    "   На этом этапе мы загрузили данные, проанализировали их структуру и проверили на наличие пропусков и аномалий. Были обработаны только релевантные данные для дальнейшего обучения модели.\n",
    "\n",
    "2. **Предобработка данных**  \n",
    "   Для подготовки текста к обучению были выполнены следующие действия:\n",
    "   - Очистка текста от лишних символов, приведение к нижнему регистру, удаление стоп-слов.\n",
    "   - Лемматизация для приведения слов в нормальную форму.\n",
    "   Это значительно улучшило качество входных данных, что повлияло на результат.\n",
    "\n",
    "3. **Разделение данных**  \n",
    "   Данные были разделены на обучающую и тестовую выборки в пропорции 80/20, что позволило эффективно обучать модель и проверять её качество на тестовых данных.\n",
    "\n",
    "4. **Построение и обучение моделей**  \n",
    "   Были созданы несколько моделей для классификации, в том числе:\n",
    "   - **Логистическая регрессия** — с использованием оптимальных гиперпараметров, найденных с помощью **GridSearchCV**.\n",
    "   - **Градиентный бустинг** — для дальнейших сравнений.\n",
    "   \n",
    "   Лучшая модель, которая продемонстрировала наилучшие результаты, это **Logistic Regression**.\n",
    "\n",
    "5. **Оценка модели** \n",
    "   - **F1 на тестовой выборке**: 0.7714\n",
    "\n",
    "**Итоговый вывод:**\n",
    "Модель **Logistic Regression** с гиперпараметрами:\n",
    "- **C** = 10 (регуляризация)\n",
    "- **max_iter** = 100 (максимальное количество итераций для сходимости)\n",
    "\n",
    "показала высокие результаты в классификации токсичных комментариев, с F1-метрикой **0.7725**, что превышает пороговое значение 0.75, установленное заказчиком."
   ]
  },
  {
   "cell_type": "markdown",
   "metadata": {},
   "source": [
    "<font color='blue'><b>Комментарий ревьюера: </b></font> ✔️\\\n",
    "<font color='green'> Очень приятно видеть вывод в конце проекта!\\\n",
    "Приведены ответы на главные вопросы проекта.</font>"
   ]
  },
  {
   "cell_type": "markdown",
   "metadata": {},
   "source": [
    "<font color='blue'><b>Итоговый комментарий ревьюера</b></font>\\\n",
    "<font color='green'>Николай, хороший проект получился!\n",
    "Большое спасибо за проделанную работу. Видно, что приложено много усилий.\n",
    "Выводы и рассуждения получились содержательными, их было интересно читать.\n",
    "</font>\n",
    "\n",
    "<font color='steelblue'>Над проектом ещё стоит поработать - есть рекомендации по дополнению некоторых твоих шагов проекта. Такие рекомендации я отметил жёлтыми комментариями. Будет здорово, если ты учтёшь их - так проект станет структурно и содержательно более совершенным.\n",
    "\n",
    "Также в работе есть критические замечания. К этим замечаниям я оставил пояснительные комментарии красного цвета, в которых перечислил возможные варианты дальнейших действий. Уверен, ты быстро с этим управишься:)\n",
    "\n",
    "Если о том, что нужно сделать в рамках комментариев, будут возникать вопросы - оставь их, пожалуйста, в комментариях, и я отвечу на них во время следующего ревью.\n",
    "\n",
    "Также буду рад ответить на любые твои вопросы по проекту или на какие-либо другие, если они у тебя имеются - оставь их в комментариях, и я постараюсь ответить:)</font>\n",
    "\n",
    "<font color='blue'><b>Жду твой проект на повторном ревью. До встречи :) </b></font>"
   ]
  },
  {
   "cell_type": "markdown",
   "metadata": {},
   "source": [
    "<font color='blue'><b>Итоговый комментарий ревьюера 2</b></font>\\\n",
    "<font color='green'> Николай, проект принят! \\\n",
    "Все этапы пройдены. Все рекомендации учтены.\\\n",
    "Надеюсь, тебе понравился процесс выполнения и результат.</font> \\\n",
    "<font color='blue'><b>Спасибо, удачи в освоении профессии!</b></font>"
   ]
  },
  {
   "cell_type": "markdown",
   "metadata": {},
   "source": [
    "<font color='green'><b>Полезные (и просто интересные) материалы:</b> \\\n",
    "Для работы с текстами используют и другие подходы. Например, сейчас активно используются RNN (LSTM) и трансформеры (BERT и другие с улицы Сезам, например, ELMO). НО! Они не являются панацеей, не всегда они нужны, так как и TF-IDF или Word2Vec + модели из классического ML тоже могут справляться. \\\n",
    "BERT тяжелый, существует много его вариаций для разных задач, есть готовые модели, есть надстройки над библиотекой transformers. Если, обучать BERT на GPU (можно в Google Colab или Kaggle), то должно быть побыстрее.\\\n",
    "https://huggingface.co/transformers/model_doc/bert.html \\\n",
    "https://colah.github.io/posts/2015-08-Understanding-LSTMs/ - Про LSTM \\\n",
    "https://web.stanford.edu/~jurafsky/slp3/10.pdf - про энкодер-декодер модели, этеншены\\\n",
    "https://pytorch.org/tutorials/beginner/transformer_tutorial.html - официальный гайд\n",
    "по трансформеру от создателей pytorch\\\n",
    "Библиотеки: allennlp, fairseq, transformers, tensorflow-text — множествореализованных\n",
    "методов для трансформеров методов NLP \\\n",
    "Word2Vec https://radimrehurek.com/gensim/models/word2vec.html\n",
    "\n",
    "<font color='green'>Пример BERT с GPU:\n",
    "```python\n",
    "%%time\n",
    "from tqdm import notebook\n",
    "batch_size = 2 # для примера возьмем такой батч, где будет всего две строки датасета\n",
    "embeddings = []\n",
    "model.cuda()   # закидываем модель на GPU\n",
    "for i in notebook.tqdm(range(input_ids.shape[0] // batch_size)):\n",
    "        batch = torch.LongTensor(input_ids[batch_size*i:batch_size*(i+1)]).cuda() # закидываем тензор на GPU\n",
    "        attention_mask_batch = torch.LongTensor(attention_mask[batch_size*i:batch_size*(i+1)]).cuda()\n",
    "\n",
    "        with torch.no_grad():\n",
    "            batch_embeddings = model(batch, attention_mask=attention_mask_batch)\n",
    "\n",
    "        embeddings.append(batch_embeddings[0][:,0,:].cpu().numpy()) # перевод обратно на проц, чтобы в нумпай кинуть\n",
    "        del batch\n",
    "        del attention_mask_batch\n",
    "        del batch_embeddings\n",
    "\n",
    "features = np.concatenate(embeddings)\n",
    "```\n",
    "Можно сделать предварительную проверку на наличие GPU.\\\n",
    "Например, так: ```device = torch.device(\"cuda:0\") if torch.cuda.is_available() else torch.device(\"cpu\")```\\\n",
    "Тогда вместо .cuda() нужно писать .to(device)\n",
    "\n",
    "Если понравилась работа с текстами, то можешь посмотреть очень интересный (но очень-очень сложный) курс лекций: https://github.com/yandexdataschool/nlp_course .\n",
    "\n",
    "\n",
    "NLP от Samsung https://stepik.org/course/54098/promo \\\n",
    "NLP от Huawei https://ods.ai/tracks/nlp-course-spring-2025 \\\n",
    "Transformers от Hugging Face https://huggingface.co/learn/nlp-course/ru/chapter1/1\n",
    "</font>"
   ]
  },
  {
   "cell_type": "markdown",
   "metadata": {},
   "source": [
    "## Чек-лист проверки"
   ]
  },
  {
   "cell_type": "markdown",
   "metadata": {},
   "source": [
    "- [x]  Jupyter Notebook открыт\n",
    "- [x]  Весь код выполняется без ошибок\n",
    "- [x]  Ячейки с кодом расположены в порядке исполнения\n",
    "- [x]  Данные загружены и подготовлены\n",
    "- [x]  Модели обучены\n",
    "- [x]  Значение метрики *F1* не меньше 0.75\n",
    "- [x]  Выводы написаны"
   ]
  },
  {
   "cell_type": "markdown",
   "metadata": {},
   "source": []
  }
 ],
 "metadata": {
  "ExecuteTimeLog": [
   {
    "duration": 1481,
    "start_time": "2025-02-25T07:15:13.292Z"
   },
   {
    "duration": 4,
    "start_time": "2025-02-25T07:18:38.429Z"
   },
   {
    "duration": 1098,
    "start_time": "2025-02-25T07:18:38.435Z"
   },
   {
    "duration": 5,
    "start_time": "2025-02-25T07:18:39.535Z"
   },
   {
    "duration": 33,
    "start_time": "2025-02-25T07:18:39.541Z"
   },
   {
    "duration": 133,
    "start_time": "2025-02-25T07:18:39.576Z"
   },
   {
    "duration": 0,
    "start_time": "2025-02-25T07:18:39.710Z"
   },
   {
    "duration": 0,
    "start_time": "2025-02-25T07:18:39.711Z"
   },
   {
    "duration": 0,
    "start_time": "2025-02-25T07:18:39.713Z"
   },
   {
    "duration": 0,
    "start_time": "2025-02-25T07:18:39.713Z"
   },
   {
    "duration": 0,
    "start_time": "2025-02-25T07:18:39.714Z"
   },
   {
    "duration": 0,
    "start_time": "2025-02-25T07:18:39.715Z"
   },
   {
    "duration": 0,
    "start_time": "2025-02-25T07:18:39.716Z"
   },
   {
    "duration": 0,
    "start_time": "2025-02-25T07:18:39.717Z"
   },
   {
    "duration": 0,
    "start_time": "2025-02-25T07:18:39.718Z"
   },
   {
    "duration": 0,
    "start_time": "2025-02-25T07:18:39.720Z"
   },
   {
    "duration": 0,
    "start_time": "2025-02-25T07:18:39.721Z"
   },
   {
    "duration": 0,
    "start_time": "2025-02-25T07:18:39.722Z"
   },
   {
    "duration": 0,
    "start_time": "2025-02-25T07:18:39.723Z"
   },
   {
    "duration": 4,
    "start_time": "2025-02-25T07:19:20.269Z"
   },
   {
    "duration": 63,
    "start_time": "2025-02-25T07:19:20.275Z"
   },
   {
    "duration": 3,
    "start_time": "2025-02-25T07:19:20.340Z"
   },
   {
    "duration": 941,
    "start_time": "2025-02-25T07:19:20.344Z"
   },
   {
    "duration": 15,
    "start_time": "2025-02-25T07:19:21.289Z"
   },
   {
    "duration": 5,
    "start_time": "2025-02-25T07:19:21.309Z"
   },
   {
    "duration": 85,
    "start_time": "2025-02-25T07:19:21.317Z"
   },
   {
    "duration": 25341,
    "start_time": "2025-02-25T07:19:21.403Z"
   },
   {
    "duration": 50,
    "start_time": "2025-02-25T07:19:46.746Z"
   },
   {
    "duration": 25337,
    "start_time": "2025-02-25T07:19:46.797Z"
   },
   {
    "duration": 107,
    "start_time": "2025-02-25T07:20:12.136Z"
   },
   {
    "duration": 2,
    "start_time": "2025-02-25T07:20:12.245Z"
   },
   {
    "duration": 14,
    "start_time": "2025-02-25T07:20:12.249Z"
   },
   {
    "duration": 17,
    "start_time": "2025-02-25T07:20:12.274Z"
   },
   {
    "duration": 25,
    "start_time": "2025-02-25T07:20:12.292Z"
   },
   {
    "duration": 146592,
    "start_time": "2025-02-25T07:20:12.318Z"
   },
   {
    "duration": 0,
    "start_time": "2025-02-25T07:22:38.913Z"
   },
   {
    "duration": 0,
    "start_time": "2025-02-25T07:22:38.915Z"
   },
   {
    "duration": 7865,
    "start_time": "2025-02-25T07:23:33.162Z"
   },
   {
    "duration": 7,
    "start_time": "2025-02-25T07:23:41.029Z"
   },
   {
    "duration": 20,
    "start_time": "2025-02-25T07:23:41.039Z"
   },
   {
    "duration": 977,
    "start_time": "2025-02-25T07:23:41.060Z"
   },
   {
    "duration": 9,
    "start_time": "2025-02-25T07:23:42.038Z"
   },
   {
    "duration": 27,
    "start_time": "2025-02-25T07:23:42.048Z"
   },
   {
    "duration": 73,
    "start_time": "2025-02-25T07:23:42.077Z"
   },
   {
    "duration": 25020,
    "start_time": "2025-02-25T07:23:42.152Z"
   },
   {
    "duration": 52,
    "start_time": "2025-02-25T07:24:07.177Z"
   },
   {
    "duration": 28517,
    "start_time": "2025-02-25T07:24:07.230Z"
   },
   {
    "duration": 118,
    "start_time": "2025-02-25T07:24:35.749Z"
   },
   {
    "duration": 6,
    "start_time": "2025-02-25T07:24:35.869Z"
   },
   {
    "duration": 34,
    "start_time": "2025-02-25T07:24:35.877Z"
   },
   {
    "duration": 9,
    "start_time": "2025-02-25T07:24:35.914Z"
   },
   {
    "duration": 9,
    "start_time": "2025-02-25T07:24:35.924Z"
   },
   {
    "duration": 24883,
    "start_time": "2025-02-25T07:24:35.934Z"
   },
   {
    "duration": 0,
    "start_time": "2025-02-25T07:25:00.819Z"
   },
   {
    "duration": 0,
    "start_time": "2025-02-25T07:25:00.820Z"
   },
   {
    "duration": 11032,
    "start_time": "2025-02-25T07:25:03.700Z"
   },
   {
    "duration": 7,
    "start_time": "2025-02-25T07:25:14.734Z"
   },
   {
    "duration": 20,
    "start_time": "2025-02-25T07:25:14.742Z"
   },
   {
    "duration": 983,
    "start_time": "2025-02-25T07:25:14.764Z"
   },
   {
    "duration": 9,
    "start_time": "2025-02-25T07:25:15.749Z"
   },
   {
    "duration": 16,
    "start_time": "2025-02-25T07:25:15.760Z"
   },
   {
    "duration": 51,
    "start_time": "2025-02-25T07:25:15.778Z"
   },
   {
    "duration": 25205,
    "start_time": "2025-02-25T07:25:15.831Z"
   },
   {
    "duration": 55,
    "start_time": "2025-02-25T07:25:41.038Z"
   },
   {
    "duration": 27903,
    "start_time": "2025-02-25T07:25:41.095Z"
   },
   {
    "duration": 103,
    "start_time": "2025-02-25T07:26:09.001Z"
   },
   {
    "duration": 3,
    "start_time": "2025-02-25T07:26:09.105Z"
   },
   {
    "duration": 32,
    "start_time": "2025-02-25T07:26:09.110Z"
   },
   {
    "duration": 26,
    "start_time": "2025-02-25T07:26:09.145Z"
   },
   {
    "duration": 22,
    "start_time": "2025-02-25T07:26:09.173Z"
   },
   {
    "duration": 165523,
    "start_time": "2025-02-25T07:26:09.198Z"
   },
   {
    "duration": 0,
    "start_time": "2025-02-25T07:28:54.723Z"
   },
   {
    "duration": 0,
    "start_time": "2025-02-25T07:28:54.724Z"
   },
   {
    "duration": 6022,
    "start_time": "2025-02-25T07:29:19.827Z"
   },
   {
    "duration": 8,
    "start_time": "2025-02-25T07:29:25.852Z"
   },
   {
    "duration": 6,
    "start_time": "2025-02-25T07:29:25.861Z"
   },
   {
    "duration": 956,
    "start_time": "2025-02-25T07:29:25.869Z"
   },
   {
    "duration": 9,
    "start_time": "2025-02-25T07:29:26.827Z"
   },
   {
    "duration": 6,
    "start_time": "2025-02-25T07:29:26.838Z"
   },
   {
    "duration": 68,
    "start_time": "2025-02-25T07:29:26.846Z"
   },
   {
    "duration": 17382,
    "start_time": "2025-02-25T07:29:26.916Z"
   },
   {
    "duration": 0,
    "start_time": "2025-02-25T07:29:44.300Z"
   },
   {
    "duration": 0,
    "start_time": "2025-02-25T07:29:44.302Z"
   },
   {
    "duration": 0,
    "start_time": "2025-02-25T07:29:44.305Z"
   },
   {
    "duration": 0,
    "start_time": "2025-02-25T07:29:44.306Z"
   },
   {
    "duration": 0,
    "start_time": "2025-02-25T07:29:44.308Z"
   },
   {
    "duration": 0,
    "start_time": "2025-02-25T07:29:44.309Z"
   },
   {
    "duration": 0,
    "start_time": "2025-02-25T07:29:44.311Z"
   },
   {
    "duration": 0,
    "start_time": "2025-02-25T07:29:44.312Z"
   },
   {
    "duration": 0,
    "start_time": "2025-02-25T07:29:44.314Z"
   },
   {
    "duration": 0,
    "start_time": "2025-02-25T07:29:44.316Z"
   },
   {
    "duration": 6018,
    "start_time": "2025-02-25T07:29:53.075Z"
   },
   {
    "duration": 7,
    "start_time": "2025-02-25T07:29:59.096Z"
   },
   {
    "duration": 5,
    "start_time": "2025-02-25T07:29:59.105Z"
   },
   {
    "duration": 926,
    "start_time": "2025-02-25T07:29:59.112Z"
   },
   {
    "duration": 10,
    "start_time": "2025-02-25T07:30:00.040Z"
   },
   {
    "duration": 36,
    "start_time": "2025-02-25T07:30:00.051Z"
   },
   {
    "duration": 86,
    "start_time": "2025-02-25T07:30:00.089Z"
   },
   {
    "duration": 24161,
    "start_time": "2025-02-25T07:30:00.177Z"
   },
   {
    "duration": 51,
    "start_time": "2025-02-25T07:30:24.340Z"
   },
   {
    "duration": 27147,
    "start_time": "2025-02-25T07:30:24.393Z"
   },
   {
    "duration": 110,
    "start_time": "2025-02-25T07:30:51.541Z"
   },
   {
    "duration": 3,
    "start_time": "2025-02-25T07:30:51.653Z"
   },
   {
    "duration": 7,
    "start_time": "2025-02-25T07:30:51.657Z"
   },
   {
    "duration": 3,
    "start_time": "2025-02-25T07:30:51.676Z"
   },
   {
    "duration": 18,
    "start_time": "2025-02-25T07:30:51.681Z"
   },
   {
    "duration": 0,
    "start_time": "2025-02-25T07:30:51.701Z"
   },
   {
    "duration": 0,
    "start_time": "2025-02-25T07:30:51.703Z"
   },
   {
    "duration": 0,
    "start_time": "2025-02-25T07:30:51.705Z"
   },
   {
    "duration": 4,
    "start_time": "2025-02-25T07:32:56.175Z"
   },
   {
    "duration": 1280843,
    "start_time": "2025-02-25T07:32:57.161Z"
   },
   {
    "duration": 0,
    "start_time": "2025-02-25T07:54:18.006Z"
   },
   {
    "duration": 0,
    "start_time": "2025-02-25T07:54:18.007Z"
   },
   {
    "duration": 6991,
    "start_time": "2025-02-25T07:54:26.855Z"
   },
   {
    "duration": 457,
    "start_time": "2025-02-25T07:54:33.848Z"
   },
   {
    "duration": 6,
    "start_time": "2025-02-25T07:54:34.307Z"
   },
   {
    "duration": 987,
    "start_time": "2025-02-25T07:54:34.314Z"
   },
   {
    "duration": 13,
    "start_time": "2025-02-25T07:54:35.304Z"
   },
   {
    "duration": 6,
    "start_time": "2025-02-25T07:54:35.318Z"
   },
   {
    "duration": 77,
    "start_time": "2025-02-25T07:54:35.325Z"
   },
   {
    "duration": 24703,
    "start_time": "2025-02-25T07:54:35.404Z"
   },
   {
    "duration": 47,
    "start_time": "2025-02-25T07:55:00.109Z"
   },
   {
    "duration": 23409,
    "start_time": "2025-02-25T07:55:00.158Z"
   },
   {
    "duration": 73,
    "start_time": "2025-02-25T07:55:23.569Z"
   },
   {
    "duration": 2,
    "start_time": "2025-02-25T07:55:23.644Z"
   },
   {
    "duration": 27,
    "start_time": "2025-02-25T07:55:23.648Z"
   },
   {
    "duration": 13,
    "start_time": "2025-02-25T07:55:23.677Z"
   },
   {
    "duration": 7,
    "start_time": "2025-02-25T07:55:23.692Z"
   },
   {
    "duration": 592776,
    "start_time": "2025-02-25T07:55:23.701Z"
   },
   {
    "duration": 8,
    "start_time": "2025-02-25T08:05:16.479Z"
   },
   {
    "duration": 186,
    "start_time": "2025-02-25T08:05:16.489Z"
   },
   {
    "duration": 6896,
    "start_time": "2025-02-25T10:34:39.970Z"
   },
   {
    "duration": 322,
    "start_time": "2025-02-25T10:34:46.869Z"
   },
   {
    "duration": 6,
    "start_time": "2025-02-25T10:34:47.192Z"
   },
   {
    "duration": 1358,
    "start_time": "2025-02-25T10:34:47.200Z"
   },
   {
    "duration": 14,
    "start_time": "2025-02-25T10:34:48.560Z"
   },
   {
    "duration": 12237,
    "start_time": "2025-02-25T10:39:40.089Z"
   },
   {
    "duration": 628,
    "start_time": "2025-02-25T10:42:54.063Z"
   },
   {
    "duration": 7862,
    "start_time": "2025-02-25T10:43:41.346Z"
   },
   {
    "duration": 12,
    "start_time": "2025-02-25T10:43:49.211Z"
   },
   {
    "duration": 828,
    "start_time": "2025-02-25T10:43:49.225Z"
   },
   {
    "duration": 5,
    "start_time": "2025-02-25T10:43:50.056Z"
   },
   {
    "duration": 1253,
    "start_time": "2025-02-25T10:43:50.083Z"
   },
   {
    "duration": 24,
    "start_time": "2025-02-25T10:43:51.341Z"
   },
   {
    "duration": 6,
    "start_time": "2025-02-25T10:43:51.375Z"
   },
   {
    "duration": 81,
    "start_time": "2025-02-25T10:43:51.384Z"
   },
   {
    "duration": 28287,
    "start_time": "2025-02-25T10:55:03.055Z"
   },
   {
    "duration": 271,
    "start_time": "2025-02-25T10:55:31.345Z"
   },
   {
    "duration": 827,
    "start_time": "2025-02-25T10:55:31.619Z"
   },
   {
    "duration": 7,
    "start_time": "2025-02-25T10:55:32.448Z"
   },
   {
    "duration": 1125,
    "start_time": "2025-02-25T10:55:32.457Z"
   },
   {
    "duration": 49,
    "start_time": "2025-02-25T10:55:33.584Z"
   },
   {
    "duration": 6,
    "start_time": "2025-02-25T10:55:33.637Z"
   },
   {
    "duration": 96,
    "start_time": "2025-02-25T10:55:33.646Z"
   },
   {
    "duration": 2394041,
    "start_time": "2025-02-25T10:55:33.745Z"
   },
   {
    "duration": 0,
    "start_time": "2025-02-25T11:35:27.791Z"
   },
   {
    "duration": 0,
    "start_time": "2025-02-25T11:35:27.793Z"
   },
   {
    "duration": 0,
    "start_time": "2025-02-25T11:35:27.795Z"
   },
   {
    "duration": 0,
    "start_time": "2025-02-25T11:35:27.796Z"
   },
   {
    "duration": 0,
    "start_time": "2025-02-25T11:35:27.798Z"
   },
   {
    "duration": 0,
    "start_time": "2025-02-25T11:35:27.800Z"
   },
   {
    "duration": 0,
    "start_time": "2025-02-25T11:35:27.802Z"
   },
   {
    "duration": 0,
    "start_time": "2025-02-25T11:35:27.803Z"
   },
   {
    "duration": 0,
    "start_time": "2025-02-25T11:35:27.805Z"
   },
   {
    "duration": 0,
    "start_time": "2025-02-25T11:35:27.806Z"
   },
   {
    "duration": 10639,
    "start_time": "2025-02-25T11:35:48.103Z"
   },
   {
    "duration": 9,
    "start_time": "2025-02-25T11:35:58.746Z"
   },
   {
    "duration": 679,
    "start_time": "2025-02-25T11:35:58.758Z"
   },
   {
    "duration": 5,
    "start_time": "2025-02-25T11:35:59.440Z"
   },
   {
    "duration": 946,
    "start_time": "2025-02-25T11:35:59.448Z"
   },
   {
    "duration": 12,
    "start_time": "2025-02-25T11:36:00.396Z"
   },
   {
    "duration": 746,
    "start_time": "2025-02-25T11:36:00.411Z"
   },
   {
    "duration": 196441,
    "start_time": "2025-02-25T11:36:01.159Z"
   },
   {
    "duration": 0,
    "start_time": "2025-02-25T11:39:17.603Z"
   },
   {
    "duration": 0,
    "start_time": "2025-02-25T11:39:17.604Z"
   },
   {
    "duration": 19388,
    "start_time": "2025-02-25T11:39:19.920Z"
   },
   {
    "duration": 18185,
    "start_time": "2025-02-25T11:39:53.124Z"
   },
   {
    "duration": 11,
    "start_time": "2025-02-25T11:40:11.313Z"
   },
   {
    "duration": 584,
    "start_time": "2025-02-25T11:40:11.327Z"
   },
   {
    "duration": 8,
    "start_time": "2025-02-25T11:40:11.914Z"
   },
   {
    "duration": 1310,
    "start_time": "2025-02-25T11:40:11.924Z"
   },
   {
    "duration": 12,
    "start_time": "2025-02-25T11:40:13.237Z"
   },
   {
    "duration": 571,
    "start_time": "2025-02-25T11:40:13.251Z"
   },
   {
    "duration": 60,
    "start_time": "2025-02-26T05:51:21.170Z"
   },
   {
    "duration": 52,
    "start_time": "2025-02-26T05:58:11.686Z"
   },
   {
    "duration": 3843,
    "start_time": "2025-02-26T05:58:21.672Z"
   },
   {
    "duration": 1710,
    "start_time": "2025-02-26T05:58:25.517Z"
   },
   {
    "duration": 481,
    "start_time": "2025-02-26T05:58:27.229Z"
   },
   {
    "duration": 2,
    "start_time": "2025-02-26T05:58:27.712Z"
   },
   {
    "duration": 1097,
    "start_time": "2025-02-26T05:58:27.716Z"
   },
   {
    "duration": 13,
    "start_time": "2025-02-26T05:58:28.815Z"
   },
   {
    "duration": 421,
    "start_time": "2025-02-26T05:58:28.829Z"
   },
   {
    "duration": 39,
    "start_time": "2025-02-26T05:58:29.252Z"
   },
   {
    "duration": 694731,
    "start_time": "2025-02-26T05:58:29.292Z"
   },
   {
    "duration": 0,
    "start_time": "2025-02-26T06:10:04.027Z"
   },
   {
    "duration": 0,
    "start_time": "2025-02-26T06:10:04.030Z"
   },
   {
    "duration": 0,
    "start_time": "2025-02-26T06:10:04.032Z"
   },
   {
    "duration": 0,
    "start_time": "2025-02-26T06:10:04.034Z"
   },
   {
    "duration": 0,
    "start_time": "2025-02-26T06:10:04.035Z"
   },
   {
    "duration": 0,
    "start_time": "2025-02-26T06:10:04.036Z"
   },
   {
    "duration": 0,
    "start_time": "2025-02-26T06:10:04.037Z"
   },
   {
    "duration": 0,
    "start_time": "2025-02-26T06:10:04.039Z"
   },
   {
    "duration": 0,
    "start_time": "2025-02-26T06:10:04.040Z"
   },
   {
    "duration": 0,
    "start_time": "2025-02-26T06:10:04.041Z"
   },
   {
    "duration": 3827,
    "start_time": "2025-02-26T06:10:18.849Z"
   },
   {
    "duration": 300,
    "start_time": "2025-02-26T06:10:22.678Z"
   },
   {
    "duration": 464,
    "start_time": "2025-02-26T06:10:22.980Z"
   },
   {
    "duration": 2,
    "start_time": "2025-02-26T06:10:23.446Z"
   },
   {
    "duration": 790,
    "start_time": "2025-02-26T06:10:23.450Z"
   },
   {
    "duration": 33,
    "start_time": "2025-02-26T06:10:24.241Z"
   },
   {
    "duration": 407,
    "start_time": "2025-02-26T06:10:24.276Z"
   },
   {
    "duration": 48,
    "start_time": "2025-02-26T06:10:24.685Z"
   },
   {
    "duration": 984745,
    "start_time": "2025-02-26T06:10:24.734Z"
   },
   {
    "duration": 37,
    "start_time": "2025-02-26T06:26:49.481Z"
   },
   {
    "duration": 18,
    "start_time": "2025-02-26T06:26:49.520Z"
   },
   {
    "duration": 79,
    "start_time": "2025-02-26T06:26:49.539Z"
   },
   {
    "duration": 3,
    "start_time": "2025-02-26T06:26:49.620Z"
   },
   {
    "duration": 4,
    "start_time": "2025-02-26T06:26:49.629Z"
   },
   {
    "duration": 15,
    "start_time": "2025-02-26T06:26:49.634Z"
   },
   {
    "duration": 24,
    "start_time": "2025-02-26T06:26:49.650Z"
   },
   {
    "duration": 2026402,
    "start_time": "2025-02-26T06:26:49.676Z"
   },
   {
    "duration": 0,
    "start_time": "2025-02-26T07:00:36.080Z"
   },
   {
    "duration": 0,
    "start_time": "2025-02-26T07:00:36.081Z"
   },
   {
    "duration": 4,
    "start_time": "2025-02-26T07:01:16.486Z"
   },
   {
    "duration": 2,
    "start_time": "2025-02-26T07:01:17.337Z"
   },
   {
    "duration": 19,
    "start_time": "2025-02-26T07:01:18.476Z"
   },
   {
    "duration": 3,
    "start_time": "2025-02-26T07:01:23.251Z"
   },
   {
    "duration": 4,
    "start_time": "2025-02-26T07:01:23.995Z"
   },
   {
    "duration": 2,
    "start_time": "2025-02-26T07:01:24.460Z"
   },
   {
    "duration": 19,
    "start_time": "2025-02-26T07:01:25.725Z"
   },
   {
    "duration": 3,
    "start_time": "2025-02-26T07:02:12.542Z"
   },
   {
    "duration": 2,
    "start_time": "2025-02-26T07:02:13.080Z"
   },
   {
    "duration": 3,
    "start_time": "2025-02-26T07:02:14.566Z"
   },
   {
    "duration": 1952238,
    "start_time": "2025-02-26T07:02:17.225Z"
   },
   {
    "duration": 0,
    "start_time": "2025-02-26T07:34:49.465Z"
   },
   {
    "duration": 0,
    "start_time": "2025-02-26T07:34:49.466Z"
   },
   {
    "duration": 63,
    "start_time": "2025-02-26T07:35:48.647Z"
   },
   {
    "duration": 2,
    "start_time": "2025-02-26T07:35:50.264Z"
   },
   {
    "duration": 3,
    "start_time": "2025-02-26T07:35:51.548Z"
   },
   {
    "duration": 2,
    "start_time": "2025-02-26T07:35:52.457Z"
   },
   {
    "duration": 3,
    "start_time": "2025-02-26T07:35:54.885Z"
   },
   {
    "duration": 1399213,
    "start_time": "2025-02-26T07:35:55.646Z"
   },
   {
    "duration": 0,
    "start_time": "2025-02-26T07:59:14.860Z"
   },
   {
    "duration": 4,
    "start_time": "2025-02-26T07:59:23.679Z"
   },
   {
    "duration": 4,
    "start_time": "2025-02-26T07:59:24.437Z"
   },
   {
    "duration": 2,
    "start_time": "2025-02-26T07:59:24.909Z"
   },
   {
    "duration": 3,
    "start_time": "2025-02-26T07:59:26.145Z"
   },
   {
    "duration": 2476346,
    "start_time": "2025-02-26T07:59:27.185Z"
   },
   {
    "duration": 99,
    "start_time": "2025-02-26T08:40:43.534Z"
   },
   {
    "duration": 18,
    "start_time": "2025-02-26T08:56:44.290Z"
   },
   {
    "duration": 1340,
    "start_time": "2025-02-26T08:56:56.818Z"
   },
   {
    "duration": 3972,
    "start_time": "2025-02-26T09:11:31.320Z"
   },
   {
    "duration": 295,
    "start_time": "2025-02-26T09:11:35.294Z"
   },
   {
    "duration": 488,
    "start_time": "2025-02-26T09:11:35.591Z"
   },
   {
    "duration": 2,
    "start_time": "2025-02-26T09:11:36.081Z"
   },
   {
    "duration": 871,
    "start_time": "2025-02-26T09:11:36.085Z"
   },
   {
    "duration": 13,
    "start_time": "2025-02-26T09:11:36.958Z"
   },
   {
    "duration": 520,
    "start_time": "2025-02-26T09:11:36.972Z"
   },
   {
    "duration": 49,
    "start_time": "2025-02-26T09:11:37.494Z"
   },
   {
    "duration": 1054036,
    "start_time": "2025-02-26T09:11:37.544Z"
   },
   {
    "duration": 55,
    "start_time": "2025-02-26T09:29:11.582Z"
   },
   {
    "duration": 2,
    "start_time": "2025-02-26T09:29:11.639Z"
   },
   {
    "duration": 78,
    "start_time": "2025-02-26T09:29:11.643Z"
   },
   {
    "duration": 3,
    "start_time": "2025-02-26T09:29:11.723Z"
   },
   {
    "duration": 71,
    "start_time": "2025-02-26T09:29:11.729Z"
   },
   {
    "duration": 7,
    "start_time": "2025-02-26T09:29:11.802Z"
   },
   {
    "duration": 9,
    "start_time": "2025-02-26T09:29:11.810Z"
   },
   {
    "duration": 3799917,
    "start_time": "2025-02-26T09:29:11.821Z"
   },
   {
    "duration": 187,
    "start_time": "2025-02-26T10:32:31.743Z"
   },
   {
    "duration": 1379,
    "start_time": "2025-02-26T10:32:31.931Z"
   }
  ],
  "kernelspec": {
   "display_name": ".venv",
   "language": "python",
   "name": "python3"
  },
  "language_info": {
   "codemirror_mode": {
    "name": "ipython",
    "version": 3
   },
   "file_extension": ".py",
   "mimetype": "text/x-python",
   "name": "python",
   "nbconvert_exporter": "python",
   "pygments_lexer": "ipython3",
   "version": "3.10.12"
  },
  "toc": {
   "base_numbering": 1,
   "nav_menu": {},
   "number_sections": true,
   "sideBar": true,
   "skip_h1_title": true,
   "title_cell": "Содержание",
   "title_sidebar": "Contents",
   "toc_cell": true,
   "toc_position": {
    "height": "calc(100% - 180px)",
    "left": "10px",
    "top": "150px",
    "width": "302.375px"
   },
   "toc_section_display": true,
   "toc_window_display": true
  }
 },
 "nbformat": 4,
 "nbformat_minor": 2
}
