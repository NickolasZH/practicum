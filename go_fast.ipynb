{
 "cells": [
  {
   "cell_type": "markdown",
   "id": "4e7c07d4",
   "metadata": {},
   "source": [
    "<div style=\"border:solid lightblue 3px; background:#f7faf8; padding: 20px\">\n",
    "<b>Николай, привет!</b>\n",
    "\n",
    "Меня зовут Владимир Бердников, и я буду проверять твой проект. Предлагаю общаться на «ты», но если это не совсем удобно для тебя — дай знать, и мы перейдем на \"вы\". Моя цель не указать на совершённые тобой ошибки, а поделиться своим опытом и помочь улучшить навыки. \n",
    "    \n",
    "Пожалуйста, не перемещай, не удаляй и не правь мои комментарии. Всё это поможет выполнить повторную проверку твоего проекта оперативнее.\n",
    "\n",
    "При проверке работы я буду отмечать комментарии цветом и примечанием. В конце заголовка комментария указан номер итерации проверки.\n",
    "<div class=\"alert alert-block alert-danger\" style=\"border-radius: 15px; box-shadow: 4px 4px 4px; border: 1px solid \">\n",
    "<h2> Комментарий ревьюера v_1: <a class=\"tocSkip\"></h2>\n",
    "    \n",
    "❌ Комментарии такого цвета нужно исправить, иначе проект не будет принят. \n",
    "</div>\n",
    "\n",
    "<div class=\"alert alert-warning\" style=\"border-radius: 15px; box-shadow: 4px 4px 4px; border: 1px solid \">\n",
    "<h2> Комментарий ревьюера v_1: <a class=\"tocSkip\"> </h2>\n",
    "    \n",
    "⚠️ Такой комментарий является рекомендацией или советом. Mожешь учесть их при выполнении задания.\n",
    "</div>\n",
    "\n",
    "<div class=\"alert alert-success\" style=\"border-radius: 15px; box-shadow: 4px 4px 4px; border: 1px solid \">\n",
    "<h2> Комментарий ревьюера v_1: <a class=\"tocSkip\"> </h2>\n",
    "    \n",
    "✅ Так выделены все остальные комментарии, включая позитивные моменты, пояснения и рассуждения.\n",
    "</div>  \n",
    "    \n",
    "Давай работать над проектом в диалоге: если ты что-то меняешь в проекте — пиши об этом в комментариях, например, с помощью такого кода в markdown ячейке:"
   ]
  },
  {
   "cell_type": "markdown",
   "id": "dbd164cf",
   "metadata": {},
   "source": [
    "<div class=\"alert alert-info\"  style=\"border-radius: 15px; box-shadow: 4px 4px 4px; border: 1px solid \">\n",
    "    \n",
    "<h2>Комментарий студента v_1: <a class=\"tocSkip\"> </h2>\n",
    "\n",
    "Ок.   "
   ]
  },
  {
   "cell_type": "markdown",
   "id": "e1446fa6",
   "metadata": {},
   "source": []
  },
  {
   "cell_type": "markdown",
   "id": "d6e16b3b",
   "metadata": {},
   "source": [
    "<div class=\"alert alert-block alert-danger\" style=\"border-radius: 15px; box-shadow: 4px 4px 4px; border: 1px solid \">\n",
    "<h2> Комментарий ревьюера v_1: <a class=\"tocSkip\"></h2>\n",
    "    \n",
    "❌ Необходимо добавить вступление (этот пункт есть в блоке курса: Полезные инструкции для учёбы - Оформление проекта - Рекомендации по выполнению проектов):\n",
    "    \t\n",
    "* заголовок \n",
    "* краткое описание проекта (желательно своими словами, не копируя из имеющегося описания)\n",
    "* цель проекта\n",
    "* описание данных (на усмотрение, данные можно описать в самой работе)\n",
    "* план работы.\n",
    "\n",
    "Со вступлением получатель отчета сможет получить общее представление о том, что будет в проекте"
   ]
  },
  {
   "cell_type": "markdown",
   "id": "0c95f119",
   "metadata": {},
   "source": [
    "<div class=\"alert alert-info\">\n",
    "Владимир, добрый день! Добавил, спасибо!\n",
    "</div>"
   ]
  },
  {
   "cell_type": "markdown",
   "id": "bbcc0ef8",
   "metadata": {},
   "source": [
    "**Вступление**\n",
    "\n",
    "**Проект:** Статистический анализ данных для сервиса аренды самокатов GoFast\n",
    "\n",
    "**Описание проекта:**\n",
    "\n",
    "В данном проекте анализируются данные сервиса аренды самокатов GoFast, представленные о пользователях разных городов и их поездках.\n",
    "Цель анализа - помочь компании понять, как оптимизировать подписки и увеличить доход. \n",
    "Отдельное внимание уделяется различиям в поездках пользователей с подпиской и без неё, а также проверке гипотез, которые могут быть полезны для маркетинговых и продуктовых решений.\n",
    "\n",
    "**Цель проекта:** анализ пользовательского поведения в сервисе GoFast, расчёт выручки от поездок и проверка ряда гипотез, чтобы помочь компании принять стратегические решения для роста числа подписчиков и увеличения дохода.\n",
    "\n",
    "**Описание данных:**\n",
    "\n",
    "В проекте используются следующие данные:\n",
    "1. Пользователи:\n",
    "- Информация о пользователях, включая их уникальный идентификатор, имя, возраст, город и тип подписки.\n",
    "2. Поездки:\n",
    "- Данные о каждой поездке: расстояние, продолжительность и дата поездки, а также ID пользователя.\n",
    "3. Подписки:\n",
    "- Информация о типах подписок, стоимости минуты поездки, стоимости начала поездки и ежемесячной стоимости подписки.\n",
    "\n",
    "**План работы:**\n",
    "1. Загрузка данных:\n",
    "    - Загрузка и первичный осмотр данных.\n",
    "2. Предобработка данных:\n",
    "    - Приведение данных к нужным типам и форматам.\n",
    "    - Проверка на наличие пропусков и дубликатов, их обработка.\n",
    "3. Исследовательский анализ данных:\n",
    "    - Анализ распределения пользователей по городам, типам подписок и возрастам.\n",
    "    - Анализ продолжительности поездок, расстояния и других показателей.\n",
    "4. Объединение данных:\n",
    "    - Объединение данных о пользователях, поездках и подписках для проведения дальнейшего анализа.\n",
    "5. Подсчёт выручки:\n",
    "    - Расчёт месячной выручки для каждого пользователя, с учётом количества поездок и их характеристик.\n",
    "6. Проверка гипотез:\n",
    "    - Гипотеза 1: Проверка того, тратят ли пользователи с подпиской больше времени на поездки.\n",
    "    - Гипотеза 2: Проверка, проезжают ли пользователи с подпиской в среднем менее 3130 метров за поездку.\n",
    "    - Гипотеза 3: Сравнение помесячной выручки пользователей с подпиской и без подписки.\n",
    "\n",
    "Таким образом, данное исследование поможет компании GoFast сделать выводы, которые могут способствовать увеличению числа подписчиков и улучшению их пользовательского опыта."
   ]
  },
  {
   "cell_type": "markdown",
   "id": "25c47849",
   "metadata": {},
   "source": [
    "<div class=\"alert alert-success\" style=\"border-radius: 15px; box-shadow: 4px 4px 4px; border: 1px solid \">\n",
    "<h2> Комментарий ревьюера v_2: <a class=\"tocSkip\"> </h2>\n",
    "    \n",
    "✅ Принято"
   ]
  },
  {
   "cell_type": "code",
   "execution_count": 1,
   "id": "72576667",
   "metadata": {},
   "outputs": [],
   "source": [
    "import pandas as pd\n",
    "import numpy as np\n",
    "import matplotlib.pyplot as plt\n",
    "\n",
    "import scipy.stats as stats\n",
    "from scipy.stats import binom, norm"
   ]
  },
  {
   "cell_type": "markdown",
   "id": "c42cbe00",
   "metadata": {},
   "source": [
    "## Загрузка данных"
   ]
  },
  {
   "cell_type": "code",
   "execution_count": 2,
   "id": "eff9f206",
   "metadata": {
    "scrolled": true
   },
   "outputs": [
    {
     "name": "stdout",
     "output_type": "stream",
     "text": [
      "Первые 5 строк справочника пользователей:\n"
     ]
    },
    {
     "data": {
      "text/html": [
       "<div>\n",
       "<style scoped>\n",
       "    .dataframe tbody tr th:only-of-type {\n",
       "        vertical-align: middle;\n",
       "    }\n",
       "\n",
       "    .dataframe tbody tr th {\n",
       "        vertical-align: top;\n",
       "    }\n",
       "\n",
       "    .dataframe thead th {\n",
       "        text-align: right;\n",
       "    }\n",
       "</style>\n",
       "<table border=\"1\" class=\"dataframe\">\n",
       "  <thead>\n",
       "    <tr style=\"text-align: right;\">\n",
       "      <th></th>\n",
       "      <th>user_id</th>\n",
       "      <th>name</th>\n",
       "      <th>age</th>\n",
       "      <th>city</th>\n",
       "      <th>subscription_type</th>\n",
       "    </tr>\n",
       "  </thead>\n",
       "  <tbody>\n",
       "    <tr>\n",
       "      <th>0</th>\n",
       "      <td>1</td>\n",
       "      <td>Кира</td>\n",
       "      <td>22</td>\n",
       "      <td>Тюмень</td>\n",
       "      <td>ultra</td>\n",
       "    </tr>\n",
       "    <tr>\n",
       "      <th>1</th>\n",
       "      <td>2</td>\n",
       "      <td>Станислав</td>\n",
       "      <td>31</td>\n",
       "      <td>Омск</td>\n",
       "      <td>ultra</td>\n",
       "    </tr>\n",
       "    <tr>\n",
       "      <th>2</th>\n",
       "      <td>3</td>\n",
       "      <td>Алексей</td>\n",
       "      <td>20</td>\n",
       "      <td>Москва</td>\n",
       "      <td>ultra</td>\n",
       "    </tr>\n",
       "    <tr>\n",
       "      <th>3</th>\n",
       "      <td>4</td>\n",
       "      <td>Константин</td>\n",
       "      <td>26</td>\n",
       "      <td>Ростов-на-Дону</td>\n",
       "      <td>ultra</td>\n",
       "    </tr>\n",
       "    <tr>\n",
       "      <th>4</th>\n",
       "      <td>5</td>\n",
       "      <td>Адель</td>\n",
       "      <td>28</td>\n",
       "      <td>Омск</td>\n",
       "      <td>ultra</td>\n",
       "    </tr>\n",
       "  </tbody>\n",
       "</table>\n",
       "</div>"
      ],
      "text/plain": [
       "   user_id        name  age            city subscription_type\n",
       "0        1        Кира   22          Тюмень             ultra\n",
       "1        2   Станислав   31            Омск             ultra\n",
       "2        3     Алексей   20          Москва             ultra\n",
       "3        4  Константин   26  Ростов-на-Дону             ultra\n",
       "4        5       Адель   28            Омск             ultra"
      ]
     },
     "metadata": {},
     "output_type": "display_data"
    },
    {
     "name": "stdout",
     "output_type": "stream",
     "text": [
      "\n",
      "Первые 5 строк из таблицы фактов совершённых поездок:\n"
     ]
    },
    {
     "data": {
      "text/html": [
       "<div>\n",
       "<style scoped>\n",
       "    .dataframe tbody tr th:only-of-type {\n",
       "        vertical-align: middle;\n",
       "    }\n",
       "\n",
       "    .dataframe tbody tr th {\n",
       "        vertical-align: top;\n",
       "    }\n",
       "\n",
       "    .dataframe thead th {\n",
       "        text-align: right;\n",
       "    }\n",
       "</style>\n",
       "<table border=\"1\" class=\"dataframe\">\n",
       "  <thead>\n",
       "    <tr style=\"text-align: right;\">\n",
       "      <th></th>\n",
       "      <th>user_id</th>\n",
       "      <th>distance</th>\n",
       "      <th>duration</th>\n",
       "      <th>date</th>\n",
       "    </tr>\n",
       "  </thead>\n",
       "  <tbody>\n",
       "    <tr>\n",
       "      <th>0</th>\n",
       "      <td>1</td>\n",
       "      <td>4409.919140</td>\n",
       "      <td>25.599769</td>\n",
       "      <td>2021-01-01</td>\n",
       "    </tr>\n",
       "    <tr>\n",
       "      <th>1</th>\n",
       "      <td>1</td>\n",
       "      <td>2617.592153</td>\n",
       "      <td>15.816871</td>\n",
       "      <td>2021-01-18</td>\n",
       "    </tr>\n",
       "    <tr>\n",
       "      <th>2</th>\n",
       "      <td>1</td>\n",
       "      <td>754.159807</td>\n",
       "      <td>6.232113</td>\n",
       "      <td>2021-04-20</td>\n",
       "    </tr>\n",
       "    <tr>\n",
       "      <th>3</th>\n",
       "      <td>1</td>\n",
       "      <td>2694.783254</td>\n",
       "      <td>18.511000</td>\n",
       "      <td>2021-08-11</td>\n",
       "    </tr>\n",
       "    <tr>\n",
       "      <th>4</th>\n",
       "      <td>1</td>\n",
       "      <td>4028.687306</td>\n",
       "      <td>26.265803</td>\n",
       "      <td>2021-08-28</td>\n",
       "    </tr>\n",
       "  </tbody>\n",
       "</table>\n",
       "</div>"
      ],
      "text/plain": [
       "   user_id     distance   duration        date\n",
       "0        1  4409.919140  25.599769  2021-01-01\n",
       "1        1  2617.592153  15.816871  2021-01-18\n",
       "2        1   754.159807   6.232113  2021-04-20\n",
       "3        1  2694.783254  18.511000  2021-08-11\n",
       "4        1  4028.687306  26.265803  2021-08-28"
      ]
     },
     "metadata": {},
     "output_type": "display_data"
    },
    {
     "name": "stdout",
     "output_type": "stream",
     "text": [
      "\n",
      "Первые 5 строк из таблицы фактов подписок:\n"
     ]
    },
    {
     "data": {
      "text/html": [
       "<div>\n",
       "<style scoped>\n",
       "    .dataframe tbody tr th:only-of-type {\n",
       "        vertical-align: middle;\n",
       "    }\n",
       "\n",
       "    .dataframe tbody tr th {\n",
       "        vertical-align: top;\n",
       "    }\n",
       "\n",
       "    .dataframe thead th {\n",
       "        text-align: right;\n",
       "    }\n",
       "</style>\n",
       "<table border=\"1\" class=\"dataframe\">\n",
       "  <thead>\n",
       "    <tr style=\"text-align: right;\">\n",
       "      <th></th>\n",
       "      <th>subscription_type</th>\n",
       "      <th>minute_price</th>\n",
       "      <th>start_ride_price</th>\n",
       "      <th>subscription_fee</th>\n",
       "    </tr>\n",
       "  </thead>\n",
       "  <tbody>\n",
       "    <tr>\n",
       "      <th>0</th>\n",
       "      <td>free</td>\n",
       "      <td>8</td>\n",
       "      <td>50</td>\n",
       "      <td>0</td>\n",
       "    </tr>\n",
       "    <tr>\n",
       "      <th>1</th>\n",
       "      <td>ultra</td>\n",
       "      <td>6</td>\n",
       "      <td>0</td>\n",
       "      <td>199</td>\n",
       "    </tr>\n",
       "  </tbody>\n",
       "</table>\n",
       "</div>"
      ],
      "text/plain": [
       "  subscription_type  minute_price  start_ride_price  subscription_fee\n",
       "0              free             8                50                 0\n",
       "1             ultra             6                 0               199"
      ]
     },
     "metadata": {},
     "output_type": "display_data"
    }
   ],
   "source": [
    "# Отобразим первые строки каждого датафрейма\n",
    "users_df = pd.read_csv('go_fast/users_go.csv')\n",
    "print('Первые 5 строк справочника пользователей:')\n",
    "display(users_df.head())\n",
    "\n",
    "rides_df = pd.read_csv('go_fast/rides_go.csv')\n",
    "print('\\nПервые 5 строк из таблицы фактов совершённых поездок:')\n",
    "display(rides_df.head())\n",
    "\n",
    "subscriptions_df = pd.read_csv('go_fast/subscriptions_go.csv')\n",
    "print('\\nПервые 5 строк из таблицы фактов подписок:')\n",
    "display(subscriptions_df.head())"
   ]
  },
  {
   "cell_type": "markdown",
   "id": "32b17e12",
   "metadata": {},
   "source": [
    "<div class=\"alert alert-warning\" style=\"border-radius: 15px; box-shadow: 4px 4px 4px; border: 1px solid \">\n",
    "<h2> Комментарий ревьюера v_1: <a class=\"tocSkip\"> </h2>\n",
    "    \n",
    "⚠️ Вместо print() лучше использовать display(). С display() таблицы лучше выглядят в jupyter. "
   ]
  },
  {
   "cell_type": "markdown",
   "id": "3c6fa325",
   "metadata": {},
   "source": [
    "<div class=\"alert alert-info\">\n",
    "Поправил.\n",
    "</div>"
   ]
  },
  {
   "cell_type": "code",
   "execution_count": 3,
   "id": "5acbb0bb",
   "metadata": {},
   "outputs": [
    {
     "name": "stdout",
     "output_type": "stream",
     "text": [
      "Информация о users_df:\n"
     ]
    },
    {
     "data": {
      "text/html": [
       "<div>\n",
       "<style scoped>\n",
       "    .dataframe tbody tr th:only-of-type {\n",
       "        vertical-align: middle;\n",
       "    }\n",
       "\n",
       "    .dataframe tbody tr th {\n",
       "        vertical-align: top;\n",
       "    }\n",
       "\n",
       "    .dataframe thead th {\n",
       "        text-align: right;\n",
       "    }\n",
       "</style>\n",
       "<table border=\"1\" class=\"dataframe\">\n",
       "  <thead>\n",
       "    <tr style=\"text-align: right;\">\n",
       "      <th></th>\n",
       "      <th>user_id</th>\n",
       "      <th>name</th>\n",
       "      <th>age</th>\n",
       "      <th>city</th>\n",
       "      <th>subscription_type</th>\n",
       "    </tr>\n",
       "  </thead>\n",
       "  <tbody>\n",
       "    <tr>\n",
       "      <th>0</th>\n",
       "      <td>1</td>\n",
       "      <td>Кира</td>\n",
       "      <td>22</td>\n",
       "      <td>Тюмень</td>\n",
       "      <td>ultra</td>\n",
       "    </tr>\n",
       "    <tr>\n",
       "      <th>1</th>\n",
       "      <td>2</td>\n",
       "      <td>Станислав</td>\n",
       "      <td>31</td>\n",
       "      <td>Омск</td>\n",
       "      <td>ultra</td>\n",
       "    </tr>\n",
       "    <tr>\n",
       "      <th>2</th>\n",
       "      <td>3</td>\n",
       "      <td>Алексей</td>\n",
       "      <td>20</td>\n",
       "      <td>Москва</td>\n",
       "      <td>ultra</td>\n",
       "    </tr>\n",
       "    <tr>\n",
       "      <th>3</th>\n",
       "      <td>4</td>\n",
       "      <td>Константин</td>\n",
       "      <td>26</td>\n",
       "      <td>Ростов-на-Дону</td>\n",
       "      <td>ultra</td>\n",
       "    </tr>\n",
       "    <tr>\n",
       "      <th>4</th>\n",
       "      <td>5</td>\n",
       "      <td>Адель</td>\n",
       "      <td>28</td>\n",
       "      <td>Омск</td>\n",
       "      <td>ultra</td>\n",
       "    </tr>\n",
       "  </tbody>\n",
       "</table>\n",
       "</div>"
      ],
      "text/plain": [
       "   user_id        name  age            city subscription_type\n",
       "0        1        Кира   22          Тюмень             ultra\n",
       "1        2   Станислав   31            Омск             ultra\n",
       "2        3     Алексей   20          Москва             ultra\n",
       "3        4  Константин   26  Ростов-на-Дону             ultra\n",
       "4        5       Адель   28            Омск             ultra"
      ]
     },
     "metadata": {},
     "output_type": "display_data"
    },
    {
     "name": "stdout",
     "output_type": "stream",
     "text": [
      "\n",
      "Информация о rides_df:\n"
     ]
    },
    {
     "data": {
      "text/html": [
       "<div>\n",
       "<style scoped>\n",
       "    .dataframe tbody tr th:only-of-type {\n",
       "        vertical-align: middle;\n",
       "    }\n",
       "\n",
       "    .dataframe tbody tr th {\n",
       "        vertical-align: top;\n",
       "    }\n",
       "\n",
       "    .dataframe thead th {\n",
       "        text-align: right;\n",
       "    }\n",
       "</style>\n",
       "<table border=\"1\" class=\"dataframe\">\n",
       "  <thead>\n",
       "    <tr style=\"text-align: right;\">\n",
       "      <th></th>\n",
       "      <th>user_id</th>\n",
       "      <th>distance</th>\n",
       "      <th>duration</th>\n",
       "      <th>date</th>\n",
       "    </tr>\n",
       "  </thead>\n",
       "  <tbody>\n",
       "    <tr>\n",
       "      <th>0</th>\n",
       "      <td>1</td>\n",
       "      <td>4409.919140</td>\n",
       "      <td>25.599769</td>\n",
       "      <td>2021-01-01</td>\n",
       "    </tr>\n",
       "    <tr>\n",
       "      <th>1</th>\n",
       "      <td>1</td>\n",
       "      <td>2617.592153</td>\n",
       "      <td>15.816871</td>\n",
       "      <td>2021-01-18</td>\n",
       "    </tr>\n",
       "    <tr>\n",
       "      <th>2</th>\n",
       "      <td>1</td>\n",
       "      <td>754.159807</td>\n",
       "      <td>6.232113</td>\n",
       "      <td>2021-04-20</td>\n",
       "    </tr>\n",
       "    <tr>\n",
       "      <th>3</th>\n",
       "      <td>1</td>\n",
       "      <td>2694.783254</td>\n",
       "      <td>18.511000</td>\n",
       "      <td>2021-08-11</td>\n",
       "    </tr>\n",
       "    <tr>\n",
       "      <th>4</th>\n",
       "      <td>1</td>\n",
       "      <td>4028.687306</td>\n",
       "      <td>26.265803</td>\n",
       "      <td>2021-08-28</td>\n",
       "    </tr>\n",
       "  </tbody>\n",
       "</table>\n",
       "</div>"
      ],
      "text/plain": [
       "   user_id     distance   duration        date\n",
       "0        1  4409.919140  25.599769  2021-01-01\n",
       "1        1  2617.592153  15.816871  2021-01-18\n",
       "2        1   754.159807   6.232113  2021-04-20\n",
       "3        1  2694.783254  18.511000  2021-08-11\n",
       "4        1  4028.687306  26.265803  2021-08-28"
      ]
     },
     "metadata": {},
     "output_type": "display_data"
    },
    {
     "name": "stdout",
     "output_type": "stream",
     "text": [
      "\n",
      "Информация о subscriptions_df:\n"
     ]
    },
    {
     "data": {
      "text/html": [
       "<div>\n",
       "<style scoped>\n",
       "    .dataframe tbody tr th:only-of-type {\n",
       "        vertical-align: middle;\n",
       "    }\n",
       "\n",
       "    .dataframe tbody tr th {\n",
       "        vertical-align: top;\n",
       "    }\n",
       "\n",
       "    .dataframe thead th {\n",
       "        text-align: right;\n",
       "    }\n",
       "</style>\n",
       "<table border=\"1\" class=\"dataframe\">\n",
       "  <thead>\n",
       "    <tr style=\"text-align: right;\">\n",
       "      <th></th>\n",
       "      <th>subscription_type</th>\n",
       "      <th>minute_price</th>\n",
       "      <th>start_ride_price</th>\n",
       "      <th>subscription_fee</th>\n",
       "    </tr>\n",
       "  </thead>\n",
       "  <tbody>\n",
       "    <tr>\n",
       "      <th>0</th>\n",
       "      <td>free</td>\n",
       "      <td>8</td>\n",
       "      <td>50</td>\n",
       "      <td>0</td>\n",
       "    </tr>\n",
       "    <tr>\n",
       "      <th>1</th>\n",
       "      <td>ultra</td>\n",
       "      <td>6</td>\n",
       "      <td>0</td>\n",
       "      <td>199</td>\n",
       "    </tr>\n",
       "  </tbody>\n",
       "</table>\n",
       "</div>"
      ],
      "text/plain": [
       "  subscription_type  minute_price  start_ride_price  subscription_fee\n",
       "0              free             8                50                 0\n",
       "1             ultra             6                 0               199"
      ]
     },
     "metadata": {},
     "output_type": "display_data"
    }
   ],
   "source": [
    "# Выведем информацию по каждому датафрейму\n",
    "print('Информация о users_df:')\n",
    "display(users_df.head())\n",
    "\n",
    "print('\\nИнформация о rides_df:')\n",
    "display(rides_df.head())\n",
    "\n",
    "print('\\nИнформация о subscriptions_df:')\n",
    "display(subscriptions_df.head())"
   ]
  },
  {
   "cell_type": "markdown",
   "id": "2e81213e",
   "metadata": {},
   "source": [
    "### Общая информация о датафреймах:\n",
    "**users_df:** - данные о пользователях.\n",
    "- 5 столбцов: user_id, name, age, city, subscription_type.\n",
    "- 1565 записей.\n",
    "\n",
    "**rides_df:** - данные о поездках пользователей.\n",
    "- 4 столбца: user_id, distance, duration, date.\n",
    "- 18068 записей.\n",
    "\n",
    "**subscriptions_df:** - данные о типах подписок.\n",
    "- Всего 4 столбца: subscription_type, minute_price, start_ride_price, subscription_fee.\n",
    "- Всего 2 строки."
   ]
  },
  {
   "cell_type": "markdown",
   "id": "9bb16458",
   "metadata": {},
   "source": [
    "<div class=\"alert alert-success\" style=\"border-radius: 15px; box-shadow: 4px 4px 4px; border: 1px solid \">\n",
    "<h2> Комментарий ревьюера v_1: <a class=\"tocSkip\"> </h2>\n",
    "    \n",
    "✅ Хорошо, есть первый взгляд на данные. Можно еще добавить, соответствуют ли типы данных имеющимся в столбцах значениям"
   ]
  },
  {
   "cell_type": "markdown",
   "id": "e95ebca7",
   "metadata": {},
   "source": [
    "## Предобработка данных"
   ]
  },
  {
   "cell_type": "markdown",
   "id": "43a27ba8",
   "metadata": {},
   "source": [
    "### Приведём столбец 'date' к типу даты в датафрейме с поездками"
   ]
  },
  {
   "cell_type": "code",
   "execution_count": 4,
   "id": "af6d202c",
   "metadata": {},
   "outputs": [
    {
     "name": "stdout",
     "output_type": "stream",
     "text": [
      "<class 'pandas.core.frame.DataFrame'>\n",
      "RangeIndex: 18068 entries, 0 to 18067\n",
      "Data columns (total 4 columns):\n",
      " #   Column    Non-Null Count  Dtype         \n",
      "---  ------    --------------  -----         \n",
      " 0   user_id   18068 non-null  int64         \n",
      " 1   distance  18068 non-null  float64       \n",
      " 2   duration  18068 non-null  float64       \n",
      " 3   date      18068 non-null  datetime64[ns]\n",
      "dtypes: datetime64[ns](1), float64(2), int64(1)\n",
      "memory usage: 564.8 KB\n",
      "None\n"
     ]
    }
   ],
   "source": [
    "rides_df['date'] = pd.to_datetime(rides_df['date'])\n",
    "print(rides_df.info())"
   ]
  },
  {
   "cell_type": "markdown",
   "id": "762285c2",
   "metadata": {},
   "source": [
    "### Создадим новый столбец с номером месяца на основе столбца 'date'"
   ]
  },
  {
   "cell_type": "code",
   "execution_count": 5,
   "id": "4295197d",
   "metadata": {},
   "outputs": [
    {
     "name": "stdout",
     "output_type": "stream",
     "text": [
      "Минимальная дата: 2021-01-01 00:00:00\n",
      "Максимальная дата: 2021-12-30 00:00:00\n"
     ]
    },
    {
     "data": {
      "text/html": [
       "<div>\n",
       "<style scoped>\n",
       "    .dataframe tbody tr th:only-of-type {\n",
       "        vertical-align: middle;\n",
       "    }\n",
       "\n",
       "    .dataframe tbody tr th {\n",
       "        vertical-align: top;\n",
       "    }\n",
       "\n",
       "    .dataframe thead th {\n",
       "        text-align: right;\n",
       "    }\n",
       "</style>\n",
       "<table border=\"1\" class=\"dataframe\">\n",
       "  <thead>\n",
       "    <tr style=\"text-align: right;\">\n",
       "      <th></th>\n",
       "      <th>user_id</th>\n",
       "      <th>distance</th>\n",
       "      <th>duration</th>\n",
       "      <th>date</th>\n",
       "      <th>year</th>\n",
       "      <th>month</th>\n",
       "    </tr>\n",
       "  </thead>\n",
       "  <tbody>\n",
       "    <tr>\n",
       "      <th>0</th>\n",
       "      <td>1</td>\n",
       "      <td>4409.919140</td>\n",
       "      <td>25.599769</td>\n",
       "      <td>2021-01-01</td>\n",
       "      <td>2021</td>\n",
       "      <td>1</td>\n",
       "    </tr>\n",
       "    <tr>\n",
       "      <th>1</th>\n",
       "      <td>1</td>\n",
       "      <td>2617.592153</td>\n",
       "      <td>15.816871</td>\n",
       "      <td>2021-01-18</td>\n",
       "      <td>2021</td>\n",
       "      <td>1</td>\n",
       "    </tr>\n",
       "    <tr>\n",
       "      <th>2</th>\n",
       "      <td>1</td>\n",
       "      <td>754.159807</td>\n",
       "      <td>6.232113</td>\n",
       "      <td>2021-04-20</td>\n",
       "      <td>2021</td>\n",
       "      <td>4</td>\n",
       "    </tr>\n",
       "    <tr>\n",
       "      <th>3</th>\n",
       "      <td>1</td>\n",
       "      <td>2694.783254</td>\n",
       "      <td>18.511000</td>\n",
       "      <td>2021-08-11</td>\n",
       "      <td>2021</td>\n",
       "      <td>8</td>\n",
       "    </tr>\n",
       "    <tr>\n",
       "      <th>4</th>\n",
       "      <td>1</td>\n",
       "      <td>4028.687306</td>\n",
       "      <td>26.265803</td>\n",
       "      <td>2021-08-28</td>\n",
       "      <td>2021</td>\n",
       "      <td>8</td>\n",
       "    </tr>\n",
       "  </tbody>\n",
       "</table>\n",
       "</div>"
      ],
      "text/plain": [
       "   user_id     distance   duration       date  year  month\n",
       "0        1  4409.919140  25.599769 2021-01-01  2021      1\n",
       "1        1  2617.592153  15.816871 2021-01-18  2021      1\n",
       "2        1   754.159807   6.232113 2021-04-20  2021      4\n",
       "3        1  2694.783254  18.511000 2021-08-11  2021      8\n",
       "4        1  4028.687306  26.265803 2021-08-28  2021      8"
      ]
     },
     "metadata": {},
     "output_type": "display_data"
    }
   ],
   "source": [
    "# Проверим минимальные и максимальные даты\n",
    "print(f\"Минимальная дата: {rides_df['date'].min()}\")\n",
    "print(f\"Максимальная дата: {rides_df['date'].max()}\")\n",
    "\n",
    "# Добавляем столбцы с годом и месяцем\n",
    "rides_df['year'] = rides_df['date'].dt.year\n",
    "rides_df['month'] = rides_df['date'].dt.month\n",
    "\n",
    "# Выведем первые строки датафрейма с новыми столбцами\n",
    "display(rides_df.head())"
   ]
  },
  {
   "cell_type": "markdown",
   "id": "87fb86c7",
   "metadata": {},
   "source": [
    "<div class=\"alert alert-warning\" style=\"border-radius: 15px; box-shadow: 4px 4px 4px; border: 1px solid \">\n",
    "<h2> Комментарий ревьюера v_1: <a class=\"tocSkip\"> </h2>\n",
    "    \n",
    "⚠️ Желательно еще проверить, за какой период имеются данные. Создается столбец с номерами месяцев, если здесь несколько лет, следует это учитывать. "
   ]
  },
  {
   "cell_type": "markdown",
   "id": "a8429060",
   "metadata": {},
   "source": [
    "<div class=\"alert alert-info\">\n",
    "Дополнил.\n",
    "</div>"
   ]
  },
  {
   "cell_type": "markdown",
   "id": "2dbaf267",
   "metadata": {},
   "source": [
    "### Проверим таблицы на наличие пропущенных значений и дубликатов"
   ]
  },
  {
   "cell_type": "code",
   "execution_count": 6,
   "id": "60e14b14",
   "metadata": {},
   "outputs": [
    {
     "name": "stdout",
     "output_type": "stream",
     "text": [
      "\n",
      "Пропущенные значения в подписках:\n",
      "subscription_type    0\n",
      "minute_price         0\n",
      "start_ride_price     0\n",
      "subscription_fee     0\n",
      "dtype: int64\n",
      "\n",
      "Пропущенные значения в поездках:\n",
      "user_id     0\n",
      "distance    0\n",
      "duration    0\n",
      "date        0\n",
      "year        0\n",
      "month       0\n",
      "dtype: int64\n",
      "\n",
      "Пропущенные значения в пользователях:\n",
      "user_id              0\n",
      "name                 0\n",
      "age                  0\n",
      "city                 0\n",
      "subscription_type    0\n",
      "dtype: int64\n",
      "\n",
      "Дубликаты в подписках: 0\n",
      "Дубликаты в поездках: 0\n",
      "Дубликаты в пользователях: 31\n"
     ]
    }
   ],
   "source": [
    "print(\"\\nПропущенные значения в подписках:\")\n",
    "print(subscriptions_df.isnull().sum())\n",
    "\n",
    "print(\"\\nПропущенные значения в поездках:\")\n",
    "print(rides_df.isnull().sum())\n",
    "\n",
    "print(\"\\nПропущенные значения в пользователях:\")\n",
    "print(users_df.isnull().sum())\n",
    "\n",
    "# Проверка на дубликаты\n",
    "print(\"\\nДубликаты в подписках:\", subscriptions_df.duplicated().sum())\n",
    "print(\"Дубликаты в поездках:\", rides_df.duplicated().sum())\n",
    "print(\"Дубликаты в пользователях:\", users_df.duplicated().sum())"
   ]
  },
  {
   "cell_type": "code",
   "execution_count": 7,
   "id": "d0e04d00",
   "metadata": {
    "scrolled": true
   },
   "outputs": [
    {
     "name": "stdout",
     "output_type": "stream",
     "text": [
      "\n",
      "Дубликаты в пользователях после удаления: 0\n"
     ]
    }
   ],
   "source": [
    "# Удаляем дубликаты в таблице users_df\n",
    "users_df = users_df.drop_duplicates()\n",
    "print(\"\\nДубликаты в пользователях после удаления:\", users_df.duplicated().sum())"
   ]
  },
  {
   "cell_type": "markdown",
   "id": "ffe583ec",
   "metadata": {},
   "source": [
    "<div class=\"alert alert-success\" style=\"border-radius: 15px; box-shadow: 4px 4px 4px; border: 1px solid \">\n",
    "<h2> Комментарий ревьюера v_1: <a class=\"tocSkip\"> </h2>\n",
    "    \n",
    "✅ Хорошо, проверены пропуски и дубликаты; удалены выявленные дубликаты "
   ]
  },
  {
   "cell_type": "markdown",
   "id": "212593c7",
   "metadata": {},
   "source": [
    "## Исследовательский анализ данных"
   ]
  },
  {
   "cell_type": "markdown",
   "id": "a141e3ac",
   "metadata": {},
   "source": [
    "### Частота встречаемости городов"
   ]
  },
  {
   "cell_type": "code",
   "execution_count": 8,
   "id": "e3a4274c",
   "metadata": {},
   "outputs": [
    {
     "name": "stdout",
     "output_type": "stream",
     "text": [
      "\n",
      "Частота встречаемости городов:\n",
      "city\n",
      "Пятигорск         219\n",
      "Екатеринбург      204\n",
      "Ростов-на-Дону    198\n",
      "Краснодар         193\n",
      "Сочи              189\n",
      "Омск              183\n",
      "Тюмень            180\n",
      "Москва            168\n",
      "Name: count, dtype: int64\n"
     ]
    }
   ],
   "source": [
    "city_frequency = users_df['city'].value_counts()\n",
    "print(\"\\nЧастота встречаемости городов:\")\n",
    "print(city_frequency)"
   ]
  },
  {
   "cell_type": "code",
   "execution_count": 9,
   "id": "bf6b8157",
   "metadata": {
    "scrolled": true
   },
   "outputs": [
    {
     "data": {
      "image/png": "[encoded data removed]",
      "text/plain": [
       "<Figure size 1000x600 with 1 Axes>"
      ]
     },
     "metadata": {},
     "output_type": "display_data"
    }
   ],
   "source": [
    "plt.figure(figsize=(10, 6))\n",
    "city_frequency.plot(kind='barh', color='skyblue')  # Используем 'barh' для горизонтальной диаграммы\n",
    "plt.title('Частота встречаемости городов', fontsize=16)\n",
    "plt.xlabel('Количество пользователей', fontsize=14)\n",
    "plt.ylabel('Город', fontsize=14)\n",
    "plt.gca().invert_yaxis()  # Инвертируем ось Y, чтобы города с большими значениями были вверху\n",
    "plt.tight_layout()"
   ]
  },
  {
   "cell_type": "markdown",
   "id": "11f56840",
   "metadata": {},
   "source": [
    "<div class=\"alert alert-warning\" style=\"border-radius: 15px; box-shadow: 4px 4px 4px; border: 1px solid \">\n",
    "<h2> Комментарий ревьюера v_1: <a class=\"tocSkip\"> </h2>\n",
    "    \n",
    "⚠️ Для большего удобства при считывании визуализации лучше использовать линейчатую диаграмму (столбчатую диаграмму с горизонтальными столбцами), т.е. повернуть ее на 90 градусов. Это позволит расположить названия городов горизонтально. \n",
    "    "
   ]
  },
  {
   "cell_type": "markdown",
   "id": "32665e99",
   "metadata": {},
   "source": [
    "<div class=\"alert alert-info\">\n",
    "Изменил тип визуализации.\n",
    "</div>"
   ]
  },
  {
   "cell_type": "markdown",
   "id": "0158b8f3",
   "metadata": {},
   "source": [
    "<div class=\"alert alert-success\" style=\"border-radius: 15px; box-shadow: 4px 4px 4px; border: 1px solid \">\n",
    "<h2> Комментарий ревьюера v_2: <a class=\"tocSkip\"> </h2>\n",
    "    \n",
    "✅ 👍"
   ]
  },
  {
   "cell_type": "markdown",
   "id": "b7e5a13c",
   "metadata": {},
   "source": [
    "Чаще всего электросамокатами GoFast пользуются в Пятигорске, реже всего - в Москве.\n",
    "В Краснодаре и Сочи - примерно одинаково."
   ]
  },
  {
   "cell_type": "markdown",
   "id": "5ab4aeee",
   "metadata": {},
   "source": [
    "### Соотношение пользователей с подпиской и без подписки"
   ]
  },
  {
   "cell_type": "code",
   "execution_count": 10,
   "id": "c880cd24",
   "metadata": {},
   "outputs": [
    {
     "name": "stdout",
     "output_type": "stream",
     "text": [
      "\n",
      "Соотношение подписчиков:\n",
      "subscription_type\n",
      "free     0.544329\n",
      "ultra    0.455671\n",
      "Name: proportion, dtype: float64\n"
     ]
    }
   ],
   "source": [
    "subscription_ratio = users_df['subscription_type'].value_counts(normalize=True)\n",
    "print(\"\\nСоотношение подписчиков:\")\n",
    "print(subscription_ratio)"
   ]
  },
  {
   "cell_type": "code",
   "execution_count": 11,
   "id": "0df57bad",
   "metadata": {},
   "outputs": [
    {
     "data": {
      "image/png": "[encoded data removed]",
      "text/plain": [
       "<Figure size 700x700 with 1 Axes>"
      ]
     },
     "metadata": {},
     "output_type": "display_data"
    }
   ],
   "source": [
    "# Визуализация соотношения подписчиков\n",
    "plt.figure(figsize=(7, 7))\n",
    "subscription_ratio.plot(kind='pie', autopct='%1.1f%%', startangle=90, colors=['lightcoral', 'lightgreen'])\n",
    "plt.title('Соотношение пользователей с подпиской и без подписки', fontsize=16)\n",
    "plt.ylabel('')  # Убираем метку оси y для более чистого отображения\n",
    "plt.tight_layout()\n",
    "\n",
    "# Отображаем график\n",
    "plt.show()"
   ]
  },
  {
   "cell_type": "markdown",
   "id": "bd3c17b9",
   "metadata": {},
   "source": [
    "Пользователей без подписки меньше на 8.8% - разница есть и она несущественная."
   ]
  },
  {
   "cell_type": "markdown",
   "id": "8459c2fd",
   "metadata": {},
   "source": [
    "### Возраст пользователей"
   ]
  },
  {
   "cell_type": "code",
   "execution_count": 12,
   "id": "8c18f086",
   "metadata": {},
   "outputs": [
    {
     "name": "stdout",
     "output_type": "stream",
     "text": [
      "\n",
      "Возраст пользователей:\n",
      "count    1534.000000\n",
      "mean       24.903520\n",
      "std         4.572367\n",
      "min        12.000000\n",
      "25%        22.000000\n",
      "50%        25.000000\n",
      "75%        28.000000\n",
      "max        43.000000\n",
      "Name: age, dtype: float64\n"
     ]
    }
   ],
   "source": [
    "age_distribution = users_df['age'].describe()\n",
    "print(\"\\nВозраст пользователей:\")\n",
    "print(age_distribution)"
   ]
  },
  {
   "cell_type": "code",
   "execution_count": 13,
   "id": "bca5ae0c",
   "metadata": {},
   "outputs": [
    {
     "data": {
      "image/png": "[encoded data removed]",
      "text/plain": [
       "<Figure size 1000x600 with 1 Axes>"
      ]
     },
     "metadata": {},
     "output_type": "display_data"
    }
   ],
   "source": [
    "# Визуализация распределения возраста пользователей\n",
    "plt.figure(figsize=(10, 6))\n",
    "plt.hist(users_df['age'], bins=15, color='skyblue', edgecolor='black')\n",
    "plt.title('Распределение возраста пользователей', fontsize=16)\n",
    "plt.xlabel('Возраст', fontsize=14)\n",
    "plt.ylabel('Количество пользователей', fontsize=14)\n",
    "plt.grid(True)\n",
    "plt.tight_layout()\n",
    "\n",
    "# Отображаем график\n",
    "plt.show()"
   ]
  },
  {
   "cell_type": "markdown",
   "id": "f4a89746",
   "metadata": {},
   "source": [
    "Пользователи самокатами - преимущественно молодые люди от 18 до 33 лет.\n",
    "До 18 лет пользоваться самокатами нельзя по закону, а после 35, верноятно, люди уже пользуются личным транспортом.\n",
    "Пиковые значения примерно от 22 до 25 лет."
   ]
  },
  {
   "cell_type": "markdown",
   "id": "564909b6",
   "metadata": {},
   "source": [
    "### Расстояние, которое пользователь преодолел за одну поездку"
   ]
  },
  {
   "cell_type": "code",
   "execution_count": 14,
   "id": "baf23857",
   "metadata": {},
   "outputs": [
    {
     "name": "stdout",
     "output_type": "stream",
     "text": [
      "\n",
      "Расстояние за одну поездку:\n",
      "count    18068.000000\n",
      "mean      3070.659976\n",
      "std       1116.831209\n",
      "min          0.855683\n",
      "25%       2543.226360\n",
      "50%       3133.609994\n",
      "75%       3776.222735\n",
      "max       7211.007745\n",
      "Name: distance, dtype: float64\n"
     ]
    }
   ],
   "source": [
    "distance_distribution = rides_df['distance'].describe()\n",
    "print(\"\\nРасстояние за одну поездку:\")\n",
    "print(distance_distribution)"
   ]
  },
  {
   "cell_type": "code",
   "execution_count": 15,
   "id": "69bc7de7",
   "metadata": {},
   "outputs": [
    {
     "data": {
      "image/png": "[encoded data removed]",
      "text/plain": [
       "<Figure size 1000x600 with 1 Axes>"
      ]
     },
     "metadata": {},
     "output_type": "display_data"
    }
   ],
   "source": [
    "# Визуализация распределения расстояния, которое пользователь преодолел за одну поездку\n",
    "plt.figure(figsize=(10, 6))\n",
    "plt.hist(rides_df['distance'], bins=20, color='lightgreen', edgecolor='black')\n",
    "plt.title('Распределение расстояния за одну поездку', fontsize=16)\n",
    "plt.xlabel('Расстояние (метры)', fontsize=14)\n",
    "plt.ylabel('Количество поездок', fontsize=14)\n",
    "plt.grid(True)\n",
    "plt.tight_layout()\n",
    "\n",
    "# Отображаем график\n",
    "plt.show()"
   ]
  },
  {
   "cell_type": "markdown",
   "id": "5ab04594",
   "metadata": {},
   "source": [
    "Самое любимое расстояние пользователей находится в районе 3 км. В городах с развитой инфраструктурой и наличием велодорожек - это оптимальная дистанция между домом и работой и хорошая возможность подышать свежим воздухом и принять солнечные ванны.\n",
    "\n",
    "Есть определённая масса коротких поездок: от 50 до 1800 м. Вероятно, в данных случаях самокат используется с целью доехать до остановки общественного транспорта."
   ]
  },
  {
   "cell_type": "markdown",
   "id": "e2c17b31",
   "metadata": {},
   "source": [
    "<div class=\"alert alert-success\" style=\"border-radius: 15px; box-shadow: 4px 4px 4px; border: 1px solid \">\n",
    "<h2> Комментарий ревьюера v_1: <a class=\"tocSkip\"> </h2>\n",
    "    \n",
    "✅ Слева на гистограмме виден небольшой всплеск. Часть клиентов используют самокаты для очень коротких поездок"
   ]
  },
  {
   "cell_type": "markdown",
   "id": "608f7c3e",
   "metadata": {},
   "source": [
    "### Продолжительность поездок"
   ]
  },
  {
   "cell_type": "code",
   "execution_count": 16,
   "id": "3275bbfe",
   "metadata": {},
   "outputs": [
    {
     "name": "stdout",
     "output_type": "stream",
     "text": [
      "\n",
      "Продолжительность поездок:\n",
      "count    18068.000000\n",
      "mean        17.805011\n",
      "std          6.091051\n",
      "min          0.500000\n",
      "25%         13.597563\n",
      "50%         17.678395\n",
      "75%         21.724800\n",
      "max         40.823963\n",
      "Name: duration, dtype: float64\n"
     ]
    }
   ],
   "source": [
    "duration_distribution = rides_df['duration'].describe()\n",
    "print(\"\\nПродолжительность поездок:\")\n",
    "print(duration_distribution)"
   ]
  },
  {
   "cell_type": "code",
   "execution_count": 17,
   "id": "d1469e7a",
   "metadata": {},
   "outputs": [
    {
     "data": {
      "image/png": "[encoded data removed]",
      "text/plain": [
       "<Figure size 1000x600 with 1 Axes>"
      ]
     },
     "metadata": {},
     "output_type": "display_data"
    }
   ],
   "source": [
    "# Визуализация распределения продолжительности поездок\n",
    "plt.figure(figsize=(10, 6))\n",
    "plt.hist(rides_df['duration'], bins=20, color='lightcoral', edgecolor='black')\n",
    "plt.title('Распределение продолжительности поездок', fontsize=16)\n",
    "plt.xlabel('Продолжительность (минуты)', fontsize=14)\n",
    "plt.ylabel('Количество поездок', fontsize=14)\n",
    "plt.grid(True)\n",
    "plt.tight_layout()\n",
    "\n",
    "# Отображаем график\n",
    "plt.show()"
   ]
  },
  {
   "cell_type": "markdown",
   "id": "a01e7b61",
   "metadata": {},
   "source": [
    "В среднем, на одну поездку уходит около 17 минут - это хорошее время для преодоления 3 км со скоростью 11 км/ч, чтобы добраться, например, на работу из дома.\n",
    "Распределение продолжительности поездок стремится к нормальному."
   ]
  },
  {
   "cell_type": "markdown",
   "id": "56988d0f",
   "metadata": {},
   "source": [
    "<div class=\"alert alert-warning\" style=\"border-radius: 15px; box-shadow: 4px 4px 4px; border: 1px solid \">\n",
    "<h2> Комментарий ревьюера v_1: <a class=\"tocSkip\"> </h2>\n",
    "    \n",
    "⚠️ Дополнительно можно посмотреть, есть ли в столбце с продолжительностью сессии аномалии. Можно сравнить продолжительность сессий (выбрав только короткие) и расстояние поездок и прокомментировать, насколько реально можно проехать такое расстояние за указанное время. В случае обнаружения удалять не рекомендуется, т.к. повлияет на выручку"
   ]
  },
  {
   "cell_type": "markdown",
   "id": "278048da",
   "metadata": {},
   "source": [
    "<div class=\"alert alert-info\">\n",
    "Дополнил анализ.\n",
    "</div>"
   ]
  },
  {
   "cell_type": "markdown",
   "id": "582c4bcb",
   "metadata": {},
   "source": [
    "<div class=\"alert alert-success\" style=\"border-radius: 15px; box-shadow: 4px 4px 4px; border: 1px solid \">\n",
    "<h2> Комментарий ревьюера v_2: <a class=\"tocSkip\"> </h2>\n",
    "    \n",
    "✅ Хорошо, выявлены аномальные значения"
   ]
  },
  {
   "cell_type": "markdown",
   "id": "bea0951c",
   "metadata": {},
   "source": [
    "Проанализируем аномалии в продолжительности поездок. Проверим, как соотносятся короткие поездки с пройденным расстоянием, чтобы понять, насколько реалистично такие поездки могли быть выполнены за это время. \n",
    "\n",
    "**Для этого:**\n",
    "1. Найдём поездки с очень коротким временем (например, менее 5 минут)\n",
    "2. Сравним расстояние, преодолённое за это время, чтобы понять, насколько это реалистично\n",
    "3. Визуализируем результаты"
   ]
  },
  {
   "cell_type": "code",
   "execution_count": 18,
   "id": "111daa84",
   "metadata": {},
   "outputs": [
    {
     "name": "stdout",
     "output_type": "stream",
     "text": [
      "\n",
      "Распределение расстояния для поездок с продолжительностью менее 5 минут:\n",
      "count     278.000000\n",
      "mean     2023.913605\n",
      "std      2272.477637\n",
      "min         2.570787\n",
      "25%       302.082500\n",
      "50%       612.438451\n",
      "75%      4630.166890\n",
      "max      7211.007745\n",
      "Name: distance, dtype: float64\n"
     ]
    }
   ],
   "source": [
    "# Зададим порог коротких поездок (например, менее 5 минут)\n",
    "short_rides = rides_df[rides_df['duration'] < 5]\n",
    "\n",
    "# Посмотрим на распределение расстояния для коротких поездок\n",
    "short_rides_distribution = short_rides['distance'].describe()\n",
    "print(\"\\nРаспределение расстояния для поездок с продолжительностью менее 5 минут:\")\n",
    "print(short_rides_distribution)"
   ]
  },
  {
   "cell_type": "code",
   "execution_count": 19,
   "id": "5e38736f",
   "metadata": {},
   "outputs": [
    {
     "data": {
      "image/png": "[encoded data removed]",
      "text/plain": [
       "<Figure size 1000x600 with 1 Axes>"
      ]
     },
     "metadata": {},
     "output_type": "display_data"
    }
   ],
   "source": [
    "# Построим график для распределения расстояния для коротких поездок\n",
    "plt.figure(figsize=(10, 6))\n",
    "plt.hist(short_rides['distance'], bins=20, color='lightgreen', edgecolor='black')\n",
    "plt.title('Распределение расстояния для коротких поездок (меньше 5 минут)', fontsize=16)\n",
    "plt.xlabel('Расстояние (метры)', fontsize=14)\n",
    "plt.ylabel('Количество поездок', fontsize=14)\n",
    "plt.grid(True)\n",
    "plt.tight_layout()\n",
    "\n",
    "# Отображаем график\n",
    "plt.show()"
   ]
  },
  {
   "cell_type": "markdown",
   "id": "d55303aa",
   "metadata": {},
   "source": [
    "Большинство поездок с продолжительностью менее 5 минут выглядят реалистичными, особенно с учетом того, что среднее расстояние около 2 км может быть преодолено за это время, если пользователь едет быстро.\n",
    "\n",
    "Внимание стоит обратить на поездки с очень большим расстоянием (например, более 7 км за менее чем 5 минут). Это может свидетельствовать о технических сбоях или ошибках в данных."
   ]
  },
  {
   "cell_type": "code",
   "execution_count": 20,
   "id": "71b8d59d",
   "metadata": {},
   "outputs": [
    {
     "name": "stdout",
     "output_type": "stream",
     "text": [
      "\n",
      "Примеры поездок с продолжительностью менее 5 минут:\n"
     ]
    },
    {
     "data": {
      "text/html": [
       "<div>\n",
       "<style scoped>\n",
       "    .dataframe tbody tr th:only-of-type {\n",
       "        vertical-align: middle;\n",
       "    }\n",
       "\n",
       "    .dataframe tbody tr th {\n",
       "        vertical-align: top;\n",
       "    }\n",
       "\n",
       "    .dataframe thead th {\n",
       "        text-align: right;\n",
       "    }\n",
       "</style>\n",
       "<table border=\"1\" class=\"dataframe\">\n",
       "  <thead>\n",
       "    <tr style=\"text-align: right;\">\n",
       "      <th></th>\n",
       "      <th>user_id</th>\n",
       "      <th>distance</th>\n",
       "      <th>duration</th>\n",
       "    </tr>\n",
       "  </thead>\n",
       "  <tbody>\n",
       "    <tr>\n",
       "      <th>16309</th>\n",
       "      <td>1411</td>\n",
       "      <td>7211.007745</td>\n",
       "      <td>0.5</td>\n",
       "    </tr>\n",
       "    <tr>\n",
       "      <th>17242</th>\n",
       "      <td>1477</td>\n",
       "      <td>6724.932981</td>\n",
       "      <td>0.5</td>\n",
       "    </tr>\n",
       "    <tr>\n",
       "      <th>11385</th>\n",
       "      <td>1057</td>\n",
       "      <td>6601.197575</td>\n",
       "      <td>0.5</td>\n",
       "    </tr>\n",
       "    <tr>\n",
       "      <th>13701</th>\n",
       "      <td>1224</td>\n",
       "      <td>6414.516026</td>\n",
       "      <td>0.5</td>\n",
       "    </tr>\n",
       "    <tr>\n",
       "      <th>14574</th>\n",
       "      <td>1285</td>\n",
       "      <td>6316.574814</td>\n",
       "      <td>0.5</td>\n",
       "    </tr>\n",
       "    <tr>\n",
       "      <th>7830</th>\n",
       "      <td>795</td>\n",
       "      <td>6262.302747</td>\n",
       "      <td>0.5</td>\n",
       "    </tr>\n",
       "    <tr>\n",
       "      <th>6860</th>\n",
       "      <td>724</td>\n",
       "      <td>6225.520342</td>\n",
       "      <td>0.5</td>\n",
       "    </tr>\n",
       "    <tr>\n",
       "      <th>14178</th>\n",
       "      <td>1257</td>\n",
       "      <td>6120.067697</td>\n",
       "      <td>0.5</td>\n",
       "    </tr>\n",
       "    <tr>\n",
       "      <th>7612</th>\n",
       "      <td>780</td>\n",
       "      <td>6112.644835</td>\n",
       "      <td>0.5</td>\n",
       "    </tr>\n",
       "    <tr>\n",
       "      <th>9622</th>\n",
       "      <td>931</td>\n",
       "      <td>6002.236438</td>\n",
       "      <td>0.5</td>\n",
       "    </tr>\n",
       "  </tbody>\n",
       "</table>\n",
       "</div>"
      ],
      "text/plain": [
       "       user_id     distance  duration\n",
       "16309     1411  7211.007745       0.5\n",
       "17242     1477  6724.932981       0.5\n",
       "11385     1057  6601.197575       0.5\n",
       "13701     1224  6414.516026       0.5\n",
       "14574     1285  6316.574814       0.5\n",
       "7830       795  6262.302747       0.5\n",
       "6860       724  6225.520342       0.5\n",
       "14178     1257  6120.067697       0.5\n",
       "7612       780  6112.644835       0.5\n",
       "9622       931  6002.236438       0.5"
      ]
     },
     "metadata": {},
     "output_type": "display_data"
    }
   ],
   "source": [
    "# Дополнительно посмотрим первые строки для коротких поездок, упорядоченные по убыванию\n",
    "print(\"\\nПримеры поездок с продолжительностью менее 5 минут:\")\n",
    "display(short_rides[['user_id', 'distance', 'duration']].sort_values(by='distance', ascending=False).head(10))"
   ]
  },
  {
   "cell_type": "markdown",
   "id": "49d98d6c",
   "metadata": {},
   "source": [
    "Судя по примерам поездок с продолжительностью 0.5 минуты (30 секунд), за это время пользователи якобы преодолевают очень большие расстояния — от 6 до 7 км. Такие поездки действительно выглядят как аномалии, поскольку за 30 секунд невозможно преодолеть такие расстояния на самокате. Скорость для этих поездок должна составлять около 720-840 км/ч, что нереалистично для данного типа транспорта.\n",
    "\n",
    "**Возможные причины аномалий:**\n",
    "1. Технические сбои: Возможно, произошёл сбой в системе трекинга времени или расстояния. Это может случиться из-за ошибок GPS или ошибок в приложении.\n",
    "2. Неправильная регистрация данных: Например, система могла зафиксировать неверное время начала или завершения поездки, что привело к аномальному значению продолжительности.\n",
    "\n",
    "**Как поступить с этими аномалиями:**\n",
    "1. Не удалять данные: Так как эти поездки могут влиять на выручку, удаление их может исказить общие результаты анализа.\n",
    "2. Пометить как аномальные: Можно добавить флаг или отдельный столбец для пометки подобных аномалий, чтобы учитывать их в дальнейших анализах и отчетах.\n",
    "3. Включить комментарий: В отчёте следует указать, что такие поездки выглядят как аномалии и, возможно, требуют дополнительных проверок со стороны технической команды."
   ]
  },
  {
   "cell_type": "markdown",
   "id": "4ef51331",
   "metadata": {},
   "source": [
    "## Объединение данных"
   ]
  },
  {
   "cell_type": "markdown",
   "id": "824d7286",
   "metadata": {},
   "source": [
    "### Объединение данных о пользователях, поездках и подписках"
   ]
  },
  {
   "cell_type": "code",
   "execution_count": 21,
   "id": "251c15ff",
   "metadata": {},
   "outputs": [
    {
     "name": "stdout",
     "output_type": "stream",
     "text": [
      "   user_id  name  age    city subscription_type     distance   duration  \\\n",
      "0        1  Кира   22  Тюмень             ultra  4409.919140  25.599769   \n",
      "1        1  Кира   22  Тюмень             ultra  2617.592153  15.816871   \n",
      "2        1  Кира   22  Тюмень             ultra   754.159807   6.232113   \n",
      "3        1  Кира   22  Тюмень             ultra  2694.783254  18.511000   \n",
      "4        1  Кира   22  Тюмень             ultra  4028.687306  26.265803   \n",
      "\n",
      "        date  year  month  \n",
      "0 2021-01-01  2021      1  \n",
      "1 2021-01-18  2021      1  \n",
      "2 2021-04-20  2021      4  \n",
      "3 2021-08-11  2021      8  \n",
      "4 2021-08-28  2021      8  \n"
     ]
    }
   ],
   "source": [
    "# Объединение users_df и rides_df по 'user_id'\n",
    "merged_df = pd.merge(users_df, rides_df, on='user_id')\n",
    "print(merged_df.head())"
   ]
  },
  {
   "cell_type": "code",
   "execution_count": 22,
   "id": "6bf288b5",
   "metadata": {
    "scrolled": true
   },
   "outputs": [
    {
     "name": "stdout",
     "output_type": "stream",
     "text": [
      "   user_id  name  age    city subscription_type     distance   duration  \\\n",
      "0        1  Кира   22  Тюмень             ultra  4409.919140  25.599769   \n",
      "1        1  Кира   22  Тюмень             ultra  2617.592153  15.816871   \n",
      "2        1  Кира   22  Тюмень             ultra   754.159807   6.232113   \n",
      "3        1  Кира   22  Тюмень             ultra  2694.783254  18.511000   \n",
      "4        1  Кира   22  Тюмень             ultra  4028.687306  26.265803   \n",
      "\n",
      "        date  year  month  minute_price  start_ride_price  subscription_fee  \n",
      "0 2021-01-01  2021      1             6                 0               199  \n",
      "1 2021-01-18  2021      1             6                 0               199  \n",
      "2 2021-04-20  2021      4             6                 0               199  \n",
      "3 2021-08-11  2021      8             6                 0               199  \n",
      "4 2021-08-28  2021      8             6                 0               199  \n"
     ]
    }
   ],
   "source": [
    "# Объединение с подписками по 'subscription_type'\n",
    "merged_df = pd.merge(merged_df, subscriptions_df, on='subscription_type')\n",
    "print(merged_df.head())"
   ]
  },
  {
   "cell_type": "markdown",
   "id": "5396d918",
   "metadata": {},
   "source": [
    "<div class=\"alert alert-block alert-danger\" style=\"border-radius: 15px; box-shadow: 4px 4px 4px; border: 1px solid \">\n",
    "<h2> Комментарий ревьюера v_1: <a class=\"tocSkip\"></h2>\n",
    "    \n",
    "❌ После объединения стоит проверить и написать, прошло ли оно корректно, не были ли потеряны данные или не появились ли лишние записи. Совпадает ли количество записей с одной из исходных таблиц? Имеются ли пропуски? Объединение проведено с таблицей, где удалены дубликаты? "
   ]
  },
  {
   "cell_type": "markdown",
   "id": "abf287b1",
   "metadata": {},
   "source": [
    "<div class=\"alert alert-info\">\n",
    "Дополнил анализ после объединения.\n",
    "</div>"
   ]
  },
  {
   "cell_type": "code",
   "execution_count": 23,
   "id": "f7020d58",
   "metadata": {},
   "outputs": [
    {
     "name": "stdout",
     "output_type": "stream",
     "text": [
      "Количество записей в users_df: 1534\n",
      "Количество записей в rides_df: 18068\n",
      "Количество записей в subscriptions_df: 2\n",
      "Количество записей в объединённом датафрейме merged_df: 18068\n",
      "\n",
      "Количество пропущенных значений в каждом столбце после объединения:\n",
      "user_id              0\n",
      "name                 0\n",
      "age                  0\n",
      "city                 0\n",
      "subscription_type    0\n",
      "distance             0\n",
      "duration             0\n",
      "date                 0\n",
      "year                 0\n",
      "month                0\n",
      "minute_price         0\n",
      "start_ride_price     0\n",
      "subscription_fee     0\n",
      "dtype: int64\n",
      "\n",
      "Количество дубликатов в объединённом датафрейме: 0\n",
      "\n",
      "Пропуски в ключевых столбцах (user_id, subscription_type, distance, duration):\n",
      "user_id              0\n",
      "subscription_type    0\n",
      "distance             0\n",
      "duration             0\n",
      "dtype: int64\n"
     ]
    }
   ],
   "source": [
    "# Проверим количество записей до объединения\n",
    "print(f\"Количество записей в users_df: {len(users_df)}\")\n",
    "print(f\"Количество записей в rides_df: {len(rides_df)}\")\n",
    "print(f\"Количество записей в subscriptions_df: {len(subscriptions_df)}\")\n",
    "\n",
    "# Проверим количество записей после объединения\n",
    "print(f\"Количество записей в объединённом датафрейме merged_df: {len(merged_df)}\")\n",
    "\n",
    "# Проверим, есть ли пропущенные значения после объединения\n",
    "missing_values = merged_df.isnull().sum()\n",
    "print(\"\\nКоличество пропущенных значений в каждом столбце после объединения:\")\n",
    "print(missing_values)\n",
    "\n",
    "# Проверим, не появилось ли дубликатов после объединения\n",
    "duplicates_count = merged_df.duplicated().sum()\n",
    "print(f\"\\nКоличество дубликатов в объединённом датафрейме: {duplicates_count}\")\n",
    "\n",
    "# Дополнительно можно проверить, есть ли строки с пустыми значениями в ключевых столбцах\n",
    "key_columns = ['user_id', 'subscription_type', 'distance', 'duration']\n",
    "missing_in_key_columns = merged_df[key_columns].isnull().sum()\n",
    "print(\"\\nПропуски в ключевых столбцах (user_id, subscription_type, distance, duration):\")\n",
    "print(missing_in_key_columns)"
   ]
  },
  {
   "cell_type": "markdown",
   "id": "d6ff6b0e",
   "metadata": {},
   "source": [
    "В объединённом датафрейме количество записей соответсвует количеству поездок, что говорит об удачном сопоставлении пользователей с подписками.\n",
    "\n",
    "Пропущенные значения и дубликаты отсутствуют.\n",
    "\n",
    "Объединение выполнено корректно."
   ]
  },
  {
   "cell_type": "markdown",
   "id": "032e9b47",
   "metadata": {},
   "source": [
    "<div class=\"alert alert-success\" style=\"border-radius: 15px; box-shadow: 4px 4px 4px; border: 1px solid \">\n",
    "<h2> Комментарий ревьюера v_2: <a class=\"tocSkip\"> </h2>\n",
    "    \n",
    "✅ Объединение прошло успешно"
   ]
  },
  {
   "cell_type": "markdown",
   "id": "ee6cdb13",
   "metadata": {},
   "source": [
    "### Создание датафреймов для пользователей без подписки и с подпиской"
   ]
  },
  {
   "cell_type": "code",
   "execution_count": 24,
   "id": "23e61c19",
   "metadata": {},
   "outputs": [
    {
     "name": "stdout",
     "output_type": "stream",
     "text": [
      "      user_id   name  age  city subscription_type     distance   duration  \\\n",
      "6500      700  Айдар   22  Омск              free  2515.690719  14.944286   \n",
      "6501      700  Айдар   22  Омск              free   846.932642  16.234663   \n",
      "6502      700  Айдар   22  Омск              free  4004.434142  20.016628   \n",
      "6503      700  Айдар   22  Омск              free  1205.911290   9.782872   \n",
      "6504      700  Айдар   22  Омск              free  3047.379435  17.427673   \n",
      "\n",
      "           date  year  month  minute_price  start_ride_price  subscription_fee  \n",
      "6500 2021-01-02  2021      1             8                50                 0  \n",
      "6501 2021-02-01  2021      2             8                50                 0  \n",
      "6502 2021-02-04  2021      2             8                50                 0  \n",
      "6503 2021-02-10  2021      2             8                50                 0  \n",
      "6504 2021-02-14  2021      2             8                50                 0  \n"
     ]
    }
   ],
   "source": [
    "users_without_subscription = merged_df[merged_df['subscription_type'] == 'free']\n",
    "print(users_without_subscription.head())"
   ]
  },
  {
   "cell_type": "code",
   "execution_count": 25,
   "id": "438cab8e",
   "metadata": {
    "scrolled": true
   },
   "outputs": [
    {
     "name": "stdout",
     "output_type": "stream",
     "text": [
      "   user_id  name  age    city subscription_type     distance   duration  \\\n",
      "0        1  Кира   22  Тюмень             ultra  4409.919140  25.599769   \n",
      "1        1  Кира   22  Тюмень             ultra  2617.592153  15.816871   \n",
      "2        1  Кира   22  Тюмень             ultra   754.159807   6.232113   \n",
      "3        1  Кира   22  Тюмень             ultra  2694.783254  18.511000   \n",
      "4        1  Кира   22  Тюмень             ultra  4028.687306  26.265803   \n",
      "\n",
      "        date  year  month  minute_price  start_ride_price  subscription_fee  \n",
      "0 2021-01-01  2021      1             6                 0               199  \n",
      "1 2021-01-18  2021      1             6                 0               199  \n",
      "2 2021-04-20  2021      4             6                 0               199  \n",
      "3 2021-08-11  2021      8             6                 0               199  \n",
      "4 2021-08-28  2021      8             6                 0               199  \n"
     ]
    }
   ],
   "source": [
    "users_with_subscription = merged_df[merged_df['subscription_type'] == 'ultra']\n",
    "print(users_with_subscription.head())"
   ]
  },
  {
   "cell_type": "markdown",
   "id": "482285ce",
   "metadata": {},
   "source": [
    "<div class=\"alert alert-success\" style=\"border-radius: 15px; box-shadow: 4px 4px 4px; border: 1px solid \">\n",
    "<h2> Комментарий ревьюера v_1: <a class=\"tocSkip\"> </h2>\n",
    "    \n",
    "✅ Отлично, созданы необходимые датафреймы. Я бы еще соватовал проверять, что совокупный размер датафреймов совпадает с количеством строк в исходной таблице."
   ]
  },
  {
   "cell_type": "markdown",
   "id": "776086d4",
   "metadata": {},
   "source": [
    "### Визуализация расстояний и времени поездок"
   ]
  },
  {
   "cell_type": "code",
   "execution_count": 26,
   "id": "0c14f359",
   "metadata": {
    "scrolled": true
   },
   "outputs": [
    {
     "data": {
      "image/png": "[encoded data removed]",
      "text/plain": [
       "<Figure size 1000x600 with 1 Axes>"
      ]
     },
     "metadata": {},
     "output_type": "display_data"
    }
   ],
   "source": [
    "# Визуализация распределения расстояний поездок\n",
    "plt.figure(figsize=(10, 6))\n",
    "plt.hist(users_without_subscription['distance'], bins=20, alpha=0.5, label='Без подписки', color='lightblue', edgecolor='black')\n",
    "plt.hist(users_with_subscription['distance'], bins=20, alpha=0.5, label='С подпиской', color='lightgreen', edgecolor='black')\n",
    "plt.title('Распределение расстояний поездок для пользователей с подпиской и без', fontsize=16)\n",
    "plt.xlabel('Расстояние (метры)', fontsize=14)\n",
    "plt.ylabel('Количество поездок', fontsize=14)\n",
    "plt.legend()\n",
    "plt.grid(True)\n",
    "plt.tight_layout()\n",
    "plt.show()"
   ]
  },
  {
   "cell_type": "markdown",
   "id": "fd7ac77f",
   "metadata": {},
   "source": [
    "<div class=\"alert alert-success\" style=\"border-radius: 15px; box-shadow: 4px 4px 4px; border: 1px solid \">\n",
    "<h2> Комментарий ревьюера v_1: <a class=\"tocSkip\"> </h2>\n",
    "    \n",
    "✅ Хорошее решение объединить два графика для сравнения профилей пользователей"
   ]
  },
  {
   "cell_type": "code",
   "execution_count": 27,
   "id": "de34ff49",
   "metadata": {
    "scrolled": true
   },
   "outputs": [
    {
     "data": {
      "image/png": "[encoded data removed]",
      "text/plain": [
       "<Figure size 1000x600 with 1 Axes>"
      ]
     },
     "metadata": {},
     "output_type": "display_data"
    }
   ],
   "source": [
    "# Визуализация продолжительности поездок\n",
    "plt.figure(figsize=(10, 6))\n",
    "plt.hist(users_without_subscription['duration'], bins=20, alpha=0.5, label='Без подписки', color='lightblue', edgecolor='black')\n",
    "plt.hist(users_with_subscription['duration'], bins=20, alpha=0.5, label='С подпиской', color='lightgreen', edgecolor='black')\n",
    "plt.title('Распределение продолжительности поездок для пользователей с подпиской и без', fontsize=16)\n",
    "plt.xlabel('Продолжительность (минуты)', fontsize=14)\n",
    "plt.ylabel('Количество поездок', fontsize=14)\n",
    "plt.legend()\n",
    "plt.grid(True)\n",
    "plt.tight_layout()\n",
    "plt.show()"
   ]
  },
  {
   "cell_type": "markdown",
   "id": "91268982",
   "metadata": {},
   "source": [
    "<div class=\"alert alert-block alert-danger\" style=\"border-radius: 15px; box-shadow: 4px 4px 4px; border: 1px solid \">\n",
    "<h2> Комментарий ревьюера v_1: <a class=\"tocSkip\"></h2>\n",
    "    \n",
    "❌ В каком диапазоне представлены данные?\n",
    "    \n",
    "Что касается дистанции, у каких пользователей бОльший диапазон расстояния поездок и чаще встречаются короткие поездки (до 500 м)? \n",
    "    \n",
    "По длительности у каких пользователей чуть бОльший разброс (на графике или сравнить стандартное отклонение)?\n",
    "    \n",
    "Не лишним было бы добавить, как различается среднее и медиана.\n",
    "    \n",
    "Можно ли сказать, что графики сильно различаются друг от друга?"
   ]
  },
  {
   "cell_type": "markdown",
   "id": "78a46b24",
   "metadata": {},
   "source": [
    "<div class=\"alert alert-info\">\n",
    "Дополнил.\n",
    "</div>"
   ]
  },
  {
   "cell_type": "code",
   "execution_count": 28,
   "id": "7a7f4bcf",
   "metadata": {},
   "outputs": [
    {
     "name": "stdout",
     "output_type": "stream",
     "text": [
      "\n",
      "Статистика по расстоянию для пользователей без подписки:\n",
      "count    11568.000000\n",
      "mean      3045.495282\n",
      "std       1246.173806\n",
      "min          0.855683\n",
      "25%       2366.562689\n",
      "50%       3114.648465\n",
      "75%       3905.697894\n",
      "max       7211.007745\n",
      "Name: distance, dtype: float64\n",
      "\n",
      "Статистика по расстоянию для пользователей с подпиской:\n",
      "count    6500.000000\n",
      "mean     3115.445388\n",
      "std       836.895330\n",
      "min       244.210438\n",
      "25%      2785.444017\n",
      "50%      3148.637229\n",
      "75%      3560.574425\n",
      "max      5699.769662\n",
      "Name: distance, dtype: float64\n",
      "\n",
      "Статистика по продолжительности поездок для пользователей без подписки:\n",
      "count    11568.000000\n",
      "mean        17.390909\n",
      "std          6.326803\n",
      "min          0.500000\n",
      "25%         12.958437\n",
      "50%         17.326890\n",
      "75%         21.594071\n",
      "max         34.948498\n",
      "Name: duration, dtype: float64\n",
      "\n",
      "Статистика по продолжительности поездок для пользователей с подпиской:\n",
      "count    6500.000000\n",
      "mean       18.541985\n",
      "std         5.572048\n",
      "min         3.760353\n",
      "25%        14.524654\n",
      "50%        18.178153\n",
      "75%        21.884129\n",
      "max        40.823963\n",
      "Name: duration, dtype: float64\n"
     ]
    },
    {
     "data": {
      "image/png": "[encoded data removed]",
      "text/plain": [
       "<Figure size 1000x600 with 1 Axes>"
      ]
     },
     "metadata": {},
     "output_type": "display_data"
    },
    {
     "data": {
      "image/png": "[encoded data removed]",
      "text/plain": [
       "<Figure size 1000x600 with 1 Axes>"
      ]
     },
     "metadata": {},
     "output_type": "display_data"
    },
    {
     "name": "stdout",
     "output_type": "stream",
     "text": [
      "\n",
      "Стандартное отклонение расстояний (без подписки): 1246.12\n",
      "Стандартное отклонение расстояний (с подпиской): 836.83\n",
      "Стандартное отклонение продолжительности (без подписки): 6.33\n",
      "Стандартное отклонение продолжительности (с подпиской): 5.57\n"
     ]
    }
   ],
   "source": [
    "# Рассчитываем основные статистики для пользователей без подписки\n",
    "distance_stats_no_sub = users_without_subscription['distance'].describe()\n",
    "duration_stats_no_sub = users_without_subscription['duration'].describe()\n",
    "\n",
    "# Рассчитываем основные статистики для пользователей с подпиской\n",
    "distance_stats_with_sub = users_with_subscription['distance'].describe()\n",
    "duration_stats_with_sub = users_with_subscription['duration'].describe()\n",
    "\n",
    "# Выводим статистику\n",
    "print(\"\\nСтатистика по расстоянию для пользователей без подписки:\")\n",
    "print(distance_stats_no_sub)\n",
    "\n",
    "print(\"\\nСтатистика по расстоянию для пользователей с подпиской:\")\n",
    "print(distance_stats_with_sub)\n",
    "\n",
    "print(\"\\nСтатистика по продолжительности поездок для пользователей без подписки:\")\n",
    "print(duration_stats_no_sub)\n",
    "\n",
    "print(\"\\nСтатистика по продолжительности поездок для пользователей с подпиской:\")\n",
    "print(duration_stats_with_sub)\n",
    "\n",
    "# Визуализация распределения расстояний поездок\n",
    "plt.figure(figsize=(10, 6))\n",
    "plt.hist(users_without_subscription['distance'], bins=20, alpha=0.5, label='Без подписки', color='lightblue', edgecolor='black')\n",
    "plt.hist(users_with_subscription['distance'], bins=20, alpha=0.5, label='С подпиской', color='lightgreen', edgecolor='black')\n",
    "plt.title('Распределение расстояний поездок для пользователей с подпиской и без', fontsize=16)\n",
    "plt.xlabel('Расстояние (метры)', fontsize=14)\n",
    "plt.ylabel('Количество поездок', fontsize=14)\n",
    "plt.legend()\n",
    "plt.grid(True)\n",
    "plt.tight_layout()\n",
    "plt.show()\n",
    "\n",
    "# Визуализация распределения продолжительности поездок\n",
    "plt.figure(figsize=(10, 6))\n",
    "plt.hist(users_without_subscription['duration'], bins=20, alpha=0.5, label='Без подписки', color='lightblue', edgecolor='black')\n",
    "plt.hist(users_with_subscription['duration'], bins=20, alpha=0.5, label='С подпиской', color='lightgreen', edgecolor='black')\n",
    "plt.title('Распределение продолжительности поездок для пользователей с подпиской и без', fontsize=16)\n",
    "plt.xlabel('Продолжительность (минуты)', fontsize=14)\n",
    "plt.ylabel('Количество поездок', fontsize=14)\n",
    "plt.legend()\n",
    "plt.grid(True)\n",
    "plt.tight_layout()\n",
    "plt.show()\n",
    "\n",
    "# Дополнительно можно рассчитать и сравнить стандартное отклонение\n",
    "std_distance_no_sub = np.std(users_without_subscription['distance'])\n",
    "std_distance_with_sub = np.std(users_with_subscription['distance'])\n",
    "std_duration_no_sub = np.std(users_without_subscription['duration'])\n",
    "std_duration_with_sub = np.std(users_with_subscription['duration'])\n",
    "\n",
    "print(f\"\\nСтандартное отклонение расстояний (без подписки): {std_distance_no_sub:.2f}\")\n",
    "print(f\"Стандартное отклонение расстояний (с подпиской): {std_distance_with_sub:.2f}\")\n",
    "print(f\"Стандартное отклонение продолжительности (без подписки): {std_duration_no_sub:.2f}\")\n",
    "print(f\"Стандартное отклонение продолжительности (с подпиской): {std_duration_with_sub:.2f}\")"
   ]
  },
  {
   "cell_type": "markdown",
   "id": "7dae7026",
   "metadata": {},
   "source": [
    "Основываясь на полученных данных, сделаем следующие выводы:\n",
    "1. Диапазон расстояний для пользователей с подпиской и без подписки:\n",
    "    - Без подписки:\n",
    "        - Среднее расстояние: 3045 метров\n",
    "        - Медиана: 3115 метров\n",
    "        - Стандартное отклонение: 1246 метров\n",
    "        - Минимальное расстояние: менее 1 метра\n",
    "        - Максимальное расстояние: 7221 метр\n",
    "    - С подпиской:\n",
    "        - Среднее расстояние: 3115 метров\n",
    "        - Медиана: 3149 метров\n",
    "        - Стандартное отклонение: 837 метров\n",
    "        - Минимальное расстояние: 244 метра\n",
    "        - Максимальное расстояние: 5699 метров\n",
    "**Вывод:** \n",
    "- пользователи без подписки демонстрируют больший разброс и диапазон расстояний\n",
    "- минимальное расстояние у пользователей без подписки менее 1 метра, что может быть аномалией\n",
    "- пользователи с подпиской чаще передвигаются в более узком диапазоне\n",
    "\n",
    "2. Частота коротких поездок (до 500 метров): у пользователей без подписки минимальное расстояние составляет менее 1 метра и разброс значений больше, чем у пользователей с подпиской, что указывает на наличие коротких поездок. Минимальное расстояние у пользователей с подпиской выше - очень короткие поездки встречаются реже.\n",
    "\n",
    "3. Диапазон продолжительности поездок:\n",
    "    - Без подписки:\n",
    "        - Средняя продолжительность: 17.39 минут\n",
    "        - Медиана: 17.3 минут\n",
    "        - Стандартное отклонение: 6.3\n",
    "        - Минимальная продолжительность: 0.5\n",
    "        - Максимальная продолжительность: 34.95\n",
    "    - С подпиской:\n",
    "        - Средняя продолжительность: 18.54 минуты\n",
    "        - Медиана: 18.18\n",
    "        - Стандартное отклонение: 5.57\n",
    "        - Минимальная продолжительность: 3.76\n",
    "        - Максимальная продолжительность: 40.82\n",
    "        \n",
    "**Вывод:**\n",
    "- пользователи без подписки имеют большие диапазон и разброс продолжительности\n",
    "- минимальное время аренды у пользователей без подписки: 0.5 минут, возможно это говорит о неудачных попытках арендовать самокат или о его неисправности, по причине которой аренда завершалась сразу после начала\n",
    "- пользователи с подпиской имеют меньший разброс, также их продолжительность поездок больше\n",
    "\n",
    "**Общий вывод:**\n",
    "- Пользователи с подпиской совершают поездки более продолжительные по времени и расстоянию, чем пользователи без подписки. \n",
    "- У пользователей без подписок больший разброс расстояний и длительности, чем у пользователей с подпиской. \n",
    "- Пользователи без подписки чаще совершают короткие поездки на небольшие расстояния."
   ]
  },
  {
   "cell_type": "markdown",
   "id": "678739a5",
   "metadata": {},
   "source": [
    "<div class=\"alert alert-success\" style=\"border-radius: 15px; box-shadow: 4px 4px 4px; border: 1px solid \">\n",
    "<h2> Комментарий ревьюера v_2: <a class=\"tocSkip\"> </h2>\n",
    "    \n",
    "✅ Некоторая разница присутствует, но, в целом, профили схожие.\n"
   ]
  },
  {
   "cell_type": "markdown",
   "id": "6b93ea49",
   "metadata": {},
   "source": [
    "## Подсчёт выручки"
   ]
  },
  {
   "cell_type": "markdown",
   "id": "a97b5470",
   "metadata": {},
   "source": [
    "### Агрегированные данные по пользователям и месяцам"
   ]
  },
  {
   "cell_type": "code",
   "execution_count": 29,
   "id": "0bb2dbf1",
   "metadata": {},
   "outputs": [
    {
     "name": "stdout",
     "output_type": "stream",
     "text": [
      "   user_id  month  total_distance  trip_count  total_duration\n",
      "0        1      1     7027.511294           2       41.416640\n",
      "1        1      4      754.159807           1        6.232113\n",
      "2        1      8     6723.470560           2       44.776802\n",
      "3        1     10     5809.911100           2       31.578017\n",
      "4        1     11     7003.499363           3       53.397424\n"
     ]
    }
   ],
   "source": [
    "# Агрегированные данные: суммарное расстояние, количество поездок и суммарное время\n",
    "aggregated_df = merged_df.groupby(['user_id', 'month']).agg(\n",
    "    total_distance=('distance', 'sum'),\n",
    "    trip_count=('distance', 'count'),\n",
    "    total_duration=('duration', 'sum')\n",
    ").reset_index()\n",
    "\n",
    "print(aggregated_df.head())"
   ]
  },
  {
   "cell_type": "markdown",
   "id": "f1eddae5",
   "metadata": {},
   "source": [
    "### Округление продолжительности поездок и расчёт выручки"
   ]
  },
  {
   "cell_type": "code",
   "execution_count": 30,
   "id": "c0717cef",
   "metadata": {
    "scrolled": true
   },
   "outputs": [
    {
     "name": "stdout",
     "output_type": "stream",
     "text": [
      "\n",
      "Сводная таблица с выручкой:\n"
     ]
    },
    {
     "data": {
      "text/html": [
       "<div>\n",
       "<style scoped>\n",
       "    .dataframe tbody tr th:only-of-type {\n",
       "        vertical-align: middle;\n",
       "    }\n",
       "\n",
       "    .dataframe tbody tr th {\n",
       "        vertical-align: top;\n",
       "    }\n",
       "\n",
       "    .dataframe thead th {\n",
       "        text-align: right;\n",
       "    }\n",
       "</style>\n",
       "<table border=\"1\" class=\"dataframe\">\n",
       "  <thead>\n",
       "    <tr style=\"text-align: right;\">\n",
       "      <th></th>\n",
       "      <th>user_id</th>\n",
       "      <th>month</th>\n",
       "      <th>subscription_type</th>\n",
       "      <th>minute_price</th>\n",
       "      <th>start_ride_price</th>\n",
       "      <th>subscription_fee</th>\n",
       "      <th>total_duration</th>\n",
       "      <th>trip_count</th>\n",
       "      <th>monthly_revenue</th>\n",
       "    </tr>\n",
       "  </thead>\n",
       "  <tbody>\n",
       "    <tr>\n",
       "      <th>0</th>\n",
       "      <td>1</td>\n",
       "      <td>1</td>\n",
       "      <td>ultra</td>\n",
       "      <td>6</td>\n",
       "      <td>0</td>\n",
       "      <td>199</td>\n",
       "      <td>42.0</td>\n",
       "      <td>2</td>\n",
       "      <td>451.0</td>\n",
       "    </tr>\n",
       "    <tr>\n",
       "      <th>1</th>\n",
       "      <td>1</td>\n",
       "      <td>4</td>\n",
       "      <td>ultra</td>\n",
       "      <td>6</td>\n",
       "      <td>0</td>\n",
       "      <td>199</td>\n",
       "      <td>7.0</td>\n",
       "      <td>1</td>\n",
       "      <td>241.0</td>\n",
       "    </tr>\n",
       "    <tr>\n",
       "      <th>2</th>\n",
       "      <td>1</td>\n",
       "      <td>8</td>\n",
       "      <td>ultra</td>\n",
       "      <td>6</td>\n",
       "      <td>0</td>\n",
       "      <td>199</td>\n",
       "      <td>46.0</td>\n",
       "      <td>2</td>\n",
       "      <td>475.0</td>\n",
       "    </tr>\n",
       "    <tr>\n",
       "      <th>3</th>\n",
       "      <td>1</td>\n",
       "      <td>10</td>\n",
       "      <td>ultra</td>\n",
       "      <td>6</td>\n",
       "      <td>0</td>\n",
       "      <td>199</td>\n",
       "      <td>32.0</td>\n",
       "      <td>2</td>\n",
       "      <td>391.0</td>\n",
       "    </tr>\n",
       "    <tr>\n",
       "      <th>4</th>\n",
       "      <td>1</td>\n",
       "      <td>11</td>\n",
       "      <td>ultra</td>\n",
       "      <td>6</td>\n",
       "      <td>0</td>\n",
       "      <td>199</td>\n",
       "      <td>56.0</td>\n",
       "      <td>3</td>\n",
       "      <td>535.0</td>\n",
       "    </tr>\n",
       "  </tbody>\n",
       "</table>\n",
       "</div>"
      ],
      "text/plain": [
       "   user_id  month subscription_type  minute_price  start_ride_price  \\\n",
       "0        1      1             ultra             6                 0   \n",
       "1        1      4             ultra             6                 0   \n",
       "2        1      8             ultra             6                 0   \n",
       "3        1     10             ultra             6                 0   \n",
       "4        1     11             ultra             6                 0   \n",
       "\n",
       "   subscription_fee  total_duration  trip_count  monthly_revenue  \n",
       "0               199            42.0           2            451.0  \n",
       "1               199             7.0           1            241.0  \n",
       "2               199            46.0           2            475.0  \n",
       "3               199            32.0           2            391.0  \n",
       "4               199            56.0           3            535.0  "
      ]
     },
     "metadata": {},
     "output_type": "display_data"
    }
   ],
   "source": [
    "# Округляем продолжительность каждой поездки в исходном датафрейме\n",
    "merged_df['duration'] = np.ceil(merged_df['duration'])\n",
    "\n",
    "# Создаём сводную таблицу с подсчётом количества и длительности поездок по пользователям\n",
    "monthly_revenue_df = merged_df.groupby(['user_id', 'month', 'subscription_type', 'minute_price', 'start_ride_price', 'subscription_fee']).agg(\n",
    "    total_duration=('duration', 'sum'),\n",
    "    trip_count=('distance', 'count')\n",
    ").reset_index()\n",
    "\n",
    "# Вычисляем помесячную выручку\n",
    "monthly_revenue_df['monthly_revenue'] = (\n",
    "    monthly_revenue_df['start_ride_price'] * monthly_revenue_df['trip_count'] +\n",
    "    monthly_revenue_df['minute_price'] * monthly_revenue_df['total_duration'] +\n",
    "    monthly_revenue_df['subscription_fee']\n",
    ")\n",
    "# Проверим данные по выручке\n",
    "print(\"\\nСводная таблица с выручкой:\")\n",
    "display(monthly_revenue_df.head())"
   ]
  },
  {
   "cell_type": "markdown",
   "id": "ecce6837",
   "metadata": {},
   "source": [
    "Объединим данные агрегированных поездок с помесячной выручкой"
   ]
  },
  {
   "cell_type": "code",
   "execution_count": 31,
   "id": "03310444",
   "metadata": {
    "scrolled": true
   },
   "outputs": [
    {
     "data": {
      "text/html": [
       "<div>\n",
       "<style scoped>\n",
       "    .dataframe tbody tr th:only-of-type {\n",
       "        vertical-align: middle;\n",
       "    }\n",
       "\n",
       "    .dataframe tbody tr th {\n",
       "        vertical-align: top;\n",
       "    }\n",
       "\n",
       "    .dataframe thead th {\n",
       "        text-align: right;\n",
       "    }\n",
       "</style>\n",
       "<table border=\"1\" class=\"dataframe\">\n",
       "  <thead>\n",
       "    <tr style=\"text-align: right;\">\n",
       "      <th></th>\n",
       "      <th>user_id</th>\n",
       "      <th>month</th>\n",
       "      <th>total_distance</th>\n",
       "      <th>trip_count</th>\n",
       "      <th>total_duration</th>\n",
       "      <th>subscription_type</th>\n",
       "      <th>subscription_fee</th>\n",
       "      <th>monthly_revenue</th>\n",
       "    </tr>\n",
       "  </thead>\n",
       "  <tbody>\n",
       "    <tr>\n",
       "      <th>0</th>\n",
       "      <td>1</td>\n",
       "      <td>1</td>\n",
       "      <td>7027.511294</td>\n",
       "      <td>2</td>\n",
       "      <td>41.416640</td>\n",
       "      <td>ultra</td>\n",
       "      <td>199</td>\n",
       "      <td>451.0</td>\n",
       "    </tr>\n",
       "    <tr>\n",
       "      <th>1</th>\n",
       "      <td>1</td>\n",
       "      <td>4</td>\n",
       "      <td>754.159807</td>\n",
       "      <td>1</td>\n",
       "      <td>6.232113</td>\n",
       "      <td>ultra</td>\n",
       "      <td>199</td>\n",
       "      <td>241.0</td>\n",
       "    </tr>\n",
       "    <tr>\n",
       "      <th>2</th>\n",
       "      <td>1</td>\n",
       "      <td>8</td>\n",
       "      <td>6723.470560</td>\n",
       "      <td>2</td>\n",
       "      <td>44.776802</td>\n",
       "      <td>ultra</td>\n",
       "      <td>199</td>\n",
       "      <td>475.0</td>\n",
       "    </tr>\n",
       "    <tr>\n",
       "      <th>3</th>\n",
       "      <td>1</td>\n",
       "      <td>10</td>\n",
       "      <td>5809.911100</td>\n",
       "      <td>2</td>\n",
       "      <td>31.578017</td>\n",
       "      <td>ultra</td>\n",
       "      <td>199</td>\n",
       "      <td>391.0</td>\n",
       "    </tr>\n",
       "    <tr>\n",
       "      <th>4</th>\n",
       "      <td>1</td>\n",
       "      <td>11</td>\n",
       "      <td>7003.499363</td>\n",
       "      <td>3</td>\n",
       "      <td>53.397424</td>\n",
       "      <td>ultra</td>\n",
       "      <td>199</td>\n",
       "      <td>535.0</td>\n",
       "    </tr>\n",
       "  </tbody>\n",
       "</table>\n",
       "</div>"
      ],
      "text/plain": [
       "   user_id  month  total_distance  trip_count  total_duration  \\\n",
       "0        1      1     7027.511294           2       41.416640   \n",
       "1        1      4      754.159807           1        6.232113   \n",
       "2        1      8     6723.470560           2       44.776802   \n",
       "3        1     10     5809.911100           2       31.578017   \n",
       "4        1     11     7003.499363           3       53.397424   \n",
       "\n",
       "  subscription_type  subscription_fee  monthly_revenue  \n",
       "0             ultra               199            451.0  \n",
       "1             ultra               199            241.0  \n",
       "2             ultra               199            475.0  \n",
       "3             ultra               199            391.0  \n",
       "4             ultra               199            535.0  "
      ]
     },
     "metadata": {},
     "output_type": "display_data"
    }
   ],
   "source": [
    "aggregated_df = pd.merge(\n",
    "    aggregated_df,\n",
    "    monthly_revenue_df[['user_id', 'month', 'subscription_type', 'subscription_fee', 'monthly_revenue']],\n",
    "    on=['user_id', 'month'],\n",
    "    how='left'\n",
    ")\n",
    "display(aggregated_df.head())"
   ]
  },
  {
   "cell_type": "markdown",
   "id": "f314333e",
   "metadata": {},
   "source": [
    "<div class=\"alert alert-block alert-danger\" style=\"border-radius: 15px; box-shadow: 4px 4px 4px; border: 1px solid \">\n",
    "<h2> Комментарий ревьюера v_1: <a class=\"tocSkip\"></h2>\n",
    "    \n",
    "❌ В целом верно, но в задании написано: \"Для этого обратитесь к информации об условиях оплаты для подписчиков и тех, у кого нет подписки\" - подразумевается, что в итоговой таблице должны быть данные по типам подписки и/или стоимости подписки. "
   ]
  },
  {
   "cell_type": "markdown",
   "id": "e0278b0d",
   "metadata": {},
   "source": [
    "<div class=\"alert alert-info\">\n",
    "Обновил код.\n",
    "</div>"
   ]
  },
  {
   "cell_type": "markdown",
   "id": "98eea025",
   "metadata": {},
   "source": [
    "<div class=\"alert alert-success\" style=\"border-radius: 15px; box-shadow: 4px 4px 4px; border: 1px solid \">\n",
    "<h2> Комментарий ревьюера v_2: <a class=\"tocSkip\"> </h2>\n",
    "    \n",
    "✅ Хорошо"
   ]
  },
  {
   "cell_type": "markdown",
   "id": "41545ac0",
   "metadata": {},
   "source": [
    "## Проверка гипотез"
   ]
  },
  {
   "cell_type": "markdown",
   "id": "e971e492",
   "metadata": {},
   "source": [
    "### Тратят ли пользователи с подпиской больше времени на поездки?"
   ]
  },
  {
   "cell_type": "markdown",
   "id": "60adecb0",
   "metadata": {},
   "source": [
    "Гипотеза: пользователи с подпиской тратят больше времени на поездки, чем пользователи без подписки.\n",
    "Проверим гипотезу о том, что среднее время поездки у пользователей с подпиской больше, чем у тех, кто не имеет подписки. Для этого проведём t-тест для двух выборок.\n",
    "\n",
    "**Формулировка гипотез:**\n",
    "- H0: Среднее время поездки пользователей с подпиской равно среднему времени поездки пользователей без подписки.\n",
    "- H1: Среднее время поездки пользователей с подпиской больше, чем у пользователей без подписки."
   ]
  },
  {
   "cell_type": "markdown",
   "id": "cf53252f",
   "metadata": {},
   "source": [
    "<div class=\"alert alert-block alert-danger\" style=\"border-radius: 15px; box-shadow: 4px 4px 4px; border: 1px solid \">\n",
    "<h2> Комментарий ревьюера v_1: <a class=\"tocSkip\"></h2>\n",
    "    \n",
    "❌ В нулевой гипотезе должно быть \"равно\". В задании нет формулировки \"равно или меньше\"."
   ]
  },
  {
   "cell_type": "markdown",
   "id": "be3c5559",
   "metadata": {},
   "source": [
    "<div class=\"alert alert-info\">\n",
    "Исправил.\n",
    "</div>"
   ]
  },
  {
   "cell_type": "markdown",
   "id": "c9d7b6e1",
   "metadata": {},
   "source": [
    "<div class=\"alert alert-success\" style=\"border-radius: 15px; box-shadow: 4px 4px 4px; border: 1px solid \">\n",
    "<h2> Комментарий ревьюера v_2: <a class=\"tocSkip\"> </h2>\n",
    "    \n",
    "✅ +"
   ]
  },
  {
   "cell_type": "code",
   "execution_count": 32,
   "id": "d42a4451",
   "metadata": {
    "scrolled": true
   },
   "outputs": [
    {
     "name": "stdout",
     "output_type": "stream",
     "text": [
      "P-value: 1.2804098316645618e-34\n",
      "\n",
      "При уровне статистической значимости 0.01, мы отвергаем нулевую гипотезу и подтверждаем альтернативную: среднее время поездки пользователей с подпиской больше, чем у пользователей без подписки.\n",
      "\n",
      "При уровне статистической значимости 0.05, мы отвергаем нулевую гипотезу и подтверждаем альтернативную: среднее время поездки пользователей с подпиской больше, чем у пользователей без подписки.\n"
     ]
    }
   ],
   "source": [
    "# Уровни статистической значимости\n",
    "alpha_1 = 0.01\n",
    "alpha_2 = 0.05\n",
    "\n",
    "# Проведём двухвыборочный t-тест для сравнения средних\n",
    "result = stats.ttest_ind(users_with_subscription['duration'], users_without_subscription['duration'], alternative='greater')\n",
    "print(f'P-value: {result.pvalue}')\n",
    "\n",
    "# Проверка для первого уровня значимости alpha_1\n",
    "if result.pvalue < alpha_1:\n",
    "    print(f'\\nПри уровне статистической значимости {alpha_1}, мы отвергаем нулевую гипотезу и подтверждаем альтернативную: среднее время поездки пользователей с подпиской больше, чем у пользователей без подписки.')\n",
    "else:\n",
    "    print(f'\\nПри уровне статистической значимости {alpha_1}, не удалось отвергнуть нулевую гипотезу о том, что среднее время поездки пользователей с подпиской равно среднему времени пользователей без подписки.')\n",
    "\n",
    "# Проверка для второго уровня значимости alpha_2\n",
    "if result.pvalue < alpha_2:\n",
    "    print(f'\\nПри уровне статистической значимости {alpha_2}, мы отвергаем нулевую гипотезу и подтверждаем альтернативную: среднее время поездки пользователей с подпиской больше, чем у пользователей без подписки.')\n",
    "else:\n",
    "    print(f'\\nПри уровне статистической значимости {alpha_2}, не удалось отвергнуть нулевую гипотезу о том, что среднее время поездки пользователей с подпиской равно среднему времени пользователей без подписки.')\n"
   ]
  },
  {
   "cell_type": "markdown",
   "id": "9962d547",
   "metadata": {},
   "source": [
    "<div class=\"alert alert-block alert-danger\" style=\"border-radius: 15px; box-shadow: 4px 4px 4px; border: 1px solid \">\n",
    "<h2> Комментарий ревьюера v_1: <a class=\"tocSkip\"></h2>\n",
    "    \n",
    "❌ Необходимо доработать ошибку в коде. Python работает построчно сверху вниз."
   ]
  },
  {
   "cell_type": "markdown",
   "id": "184b086b",
   "metadata": {},
   "source": [
    "<div class=\"alert alert-info\">\n",
    "Исправил ошибку.\n",
    "</div>"
   ]
  },
  {
   "cell_type": "markdown",
   "id": "af9925d4",
   "metadata": {},
   "source": [
    "Так как мы не отвергли нулевую гипотезу, поэтому мы не можем утверждать, что пользователи с подпиской тратят больше времени на поездки, чем пользователи без подписки."
   ]
  },
  {
   "cell_type": "markdown",
   "id": "20852181",
   "metadata": {},
   "source": [
    "### Можно ли сказать, что среднее расстояние, которое проезжают пользователи с подпиской за одну поездку, не превышает 3130 метров?"
   ]
  },
  {
   "cell_type": "markdown",
   "id": "6c6ab4f0",
   "metadata": {},
   "source": [
    "Гипотеза: среднее расстояние, которое проезжают пользователи с подпиской за одну поездку, не превышает 3130 метров.\n",
    "\n",
    "**Формулировка гипотез:**\n",
    "- H0: Среднее расстояние, которое проезжают пользователи с подпиской, за одну поездку меньше или равно 3130 метров.\n",
    "- H1: Среднее расстояние, которое проезжают пользователи с подпиской, за одну поездку больше 3130 метров."
   ]
  },
  {
   "cell_type": "code",
   "execution_count": 33,
   "id": "eca7c249",
   "metadata": {},
   "outputs": [
    {
     "name": "stdout",
     "output_type": "stream",
     "text": [
      "P-value: 0.9195368847849785\n",
      "\n",
      "При уровне статистической значимости 0.01, не получилось отвергнуть нулевую гипотезу.\n",
      "Среднее расстояние, которое проезжают пользователи с подпиской, за одну поездку меньше или равно 3130 метров.\n",
      "\n",
      "При уровне статистической значимости 0.05, не получилось отвергнуть нулевую гипотезу.\n",
      "Среднее расстояние, которое проезжают пользователи с подпиской, за одну поездку меньше или равно 3130 метров.\n"
     ]
    }
   ],
   "source": [
    "# Проведём одновыборочный t-тест, проверяя гипотезу, что среднее расстояние меньше 3130 метров. Ради интереса выберем 2 уровня статистической значимости.\n",
    "\n",
    "alpha_1 = 0.01\n",
    "alpha_2 = 0.05\n",
    "\n",
    "p_value = stats.ttest_1samp(users_with_subscription['distance'], 3130, alternative='greater').pvalue\n",
    "\n",
    "print(f'P-value: {p_value}')\n",
    "\n",
    "if alpha_1 < result.pvalue:\n",
    "    print(f'\\nПри уровне статистической значимости {alpha_1}, отвергаем нулевую гипотезу. Среднее расстояние, которое проезжают пользователи с подпиской, за одну поездку больше 3130 метров.')\n",
    "else:\n",
    "    print(f'\\nПри уровне статистической значимости {alpha_1}, не получилось отвергнуть нулевую гипотезу.\\nСреднее расстояние, которое проезжают пользователи с подпиской, за одну поездку меньше или равно 3130 метров.')\n",
    "    \n",
    "if alpha_2 < result.pvalue:\n",
    "    print(f'\\nПри уровне статистической значимости {alpha_2}, отвергаем нулевую гипотезу. Среднее расстояние, которое проезжают пользователи с подпиской, за одну поездку больше 3130 метров.')\n",
    "else:\n",
    "    print(f'\\nПри уровне статистической значимости {alpha_2}, не получилось отвергнуть нулевую гипотезу.\\nСреднее расстояние, которое проезжают пользователи с подпиской, за одну поездку меньше или равно 3130 метров.')"
   ]
  },
  {
   "cell_type": "markdown",
   "id": "94d02e93",
   "metadata": {},
   "source": [
    "Мы не отвергли нулевую гипотезу, поэтому мы не можем утверждать, что среднее расстояние за одну поездку, которое проезжают пользователи с подпиской, превышает 3130 метров."
   ]
  },
  {
   "cell_type": "markdown",
   "id": "d720f54d",
   "metadata": {},
   "source": [
    "<div class=\"alert alert-success\" style=\"border-radius: 15px; box-shadow: 4px 4px 4px; border: 1px solid \">\n",
    "<h2> Комментарий ревьюера v_1: <a class=\"tocSkip\"> </h2>\n",
    "    \n",
    "✅ Статтест выбран верно. Желательно еще прокомментировать результаты, является ли, в целом, расстояние поездок подписчиков оптимальным с точки зрения износа самоката, т.е., что он в пределах нормы, не завышен. Не просто, какое расстояние, а что это означает для бизнеса."
   ]
  },
  {
   "cell_type": "markdown",
   "id": "48928292",
   "metadata": {},
   "source": [
    "### Будет ли помесячная выручка от пользователей с подпиской выше, чем выручка от пользователей без подписки?"
   ]
  },
  {
   "cell_type": "markdown",
   "id": "930cca23",
   "metadata": {},
   "source": [
    "**Формулировка гипотез:**\n",
    "- H0: Средняя помесячная выручка от пользователей с подпиской равна средней помесячной выручке от пользователей без подписки.\n",
    "- H1: Средняя помесячная выручка от пользователей с подпиской выше средней помесячной выручки от пользователей без подписки."
   ]
  },
  {
   "cell_type": "markdown",
   "id": "8ce50f26",
   "metadata": {},
   "source": [
    "<div class=\"alert alert-block alert-danger\" style=\"border-radius: 15px; box-shadow: 4px 4px 4px; border: 1px solid \">\n",
    "<h2> Комментарий ревьюера v_1: <a class=\"tocSkip\"></h2>\n",
    "    \n",
    "❌ Аналогично п. 6.1"
   ]
  },
  {
   "cell_type": "markdown",
   "id": "381e651a",
   "metadata": {},
   "source": [
    "<div class=\"alert alert-info\">\n",
    "Исправил формулировку.\n",
    "</div>"
   ]
  },
  {
   "cell_type": "code",
   "execution_count": 34,
   "id": "386c80b4",
   "metadata": {},
   "outputs": [],
   "source": [
    "# Разделим данные по подписке для выручки\n",
    "free_users_revenue = aggregated_df.query('subscription_type == \"free\"')['monthly_revenue']\n",
    "ultra_users_revenue = aggregated_df.query('subscription_type == \"ultra\"')['monthly_revenue']"
   ]
  },
  {
   "cell_type": "code",
   "execution_count": 35,
   "id": "aedeea5e",
   "metadata": {},
   "outputs": [
    {
     "name": "stdout",
     "output_type": "stream",
     "text": [
      "P-value: 1.8850394384715216e-31\n",
      "\n",
      "При уровне статистической значимости 0.01, мы отвергаем нулевую гипотезу и подтверждаем альтернативную: средняя помесячная выручка от пользователей с подпиской выше выручки от пользователей без подписки.\n",
      "\n",
      "При уровне статистической значимости 0.05, мы отвергаем нулевую гипотезу и подтверждаем альтернативную: средняя помесячная выручка от пользователей с подпиской выше выручки от пользователей без подписки.\n"
     ]
    }
   ],
   "source": [
    "# Уровни статистической значимости\n",
    "alpha_1 = 0.01\n",
    "alpha_2 = 0.05\n",
    "\n",
    "# Проведём двухвыборочный t-тест для сравнения средних (alternative='greater' для проверки \"больше\")\n",
    "p_value = stats.ttest_ind(ultra_users_revenue, free_users_revenue, alternative='greater').pvalue\n",
    "\n",
    "print(f'P-value: {p_value}')\n",
    "\n",
    "# Проверка для первого уровня значимости alpha_1\n",
    "if p_value < alpha_1:\n",
    "    print(f'\\nПри уровне статистической значимости {alpha_1}, мы отвергаем нулевую гипотезу и подтверждаем альтернативную: средняя помесячная выручка от пользователей с подпиской выше выручки от пользователей без подписки.')\n",
    "else:\n",
    "    print(f'\\nПри уровне статистической значимости {alpha_1}, не удалось отвергнуть нулевую гипотезу о том, что средняя помесячная выручка от пользователей с подпиской равна выручке от пользователей без подписки.')\n",
    "\n",
    "# Проверка для второго уровня значимости alpha_2\n",
    "if p_value < alpha_2:\n",
    "    print(f'\\nПри уровне статистической значимости {alpha_2}, мы отвергаем нулевую гипотезу и подтверждаем альтернативную: средняя помесячная выручка от пользователей с подпиской выше выручки от пользователей без подписки.')\n",
    "else:\n",
    "    print(f'\\nПри уровне статистической значимости {alpha_2}, не удалось отвергнуть нулевую гипотезу о том, что средняя помесячная выручка от пользователей с подпиской равна выручке от пользователей без подписки.')"
   ]
  },
  {
   "cell_type": "markdown",
   "id": "9e2a0da6",
   "metadata": {},
   "source": [
    "Мы отвергли нулевую гипотезу, поэтому можно утверждать, что средняя помесячная выручка от пользователей с подпиской выше средней помесячной выручки от пользователей без подписки."
   ]
  },
  {
   "cell_type": "markdown",
   "id": "303a0c2e",
   "metadata": {},
   "source": [
    "### Проверка гипотезы о снижении количества обращений в техподдержку после обновления серверов"
   ]
  },
  {
   "cell_type": "markdown",
   "id": "05d58029",
   "metadata": {},
   "source": [
    "Для этого случая потребуется использовать парный t-тест, так как мы сравниваем два связанных, зависимых набора данных - количество обращений до и после обновления серверов для одних и тех же пользователей.\n",
    "\n",
    "Гипотезы я бы сформулировал следующим образом:\n",
    "- H0: Количество обращений до обновления равно или больше количеству обращений после обновления\n",
    "- h1: Количество обращений после обновления меньше, чем до обновления"
   ]
  },
  {
   "cell_type": "markdown",
   "id": "4f5ed30f",
   "metadata": {},
   "source": [
    "<div class=\"alert alert-success\" style=\"border-radius: 15px; box-shadow: 4px 4px 4px; border: 1px solid \">\n",
    "<h2> Комментарий ревьюера v_1: <a class=\"tocSkip\"> </h2>\n",
    "    \n",
    "✅ Подходит тест st.ttest_rel() и рассматривается левосторонняя гипотеза. Но нулевую гипотезу аналогично стоит исправить."
   ]
  },
  {
   "cell_type": "markdown",
   "id": "61213c5e",
   "metadata": {},
   "source": [
    "## Распределения"
   ]
  },
  {
   "cell_type": "markdown",
   "id": "4ae3443b",
   "metadata": {},
   "source": [
    "### Определить минимальное количество разосланных промокодов, необходимое для того, чтобы вероятность не выполнить план была не более 5%."
   ]
  },
  {
   "cell_type": "markdown",
   "id": "b024ee9d",
   "metadata": {},
   "source": [
    "Эту ситуацию можно описать с помощью биноминального распределения, где:\n",
    "- p = 0.1 - вероятность того, что пользователь продлит подписку\n",
    "- N - количество пользователей, которым будут разосланы промокоды\n",
    "- необходимо подобрать такое N, чтобы вероятность получить менее 100 продлений подписки была не более 5%\n",
    "\n",
    "Биномиальное распределение моделирует количество успешных исходов (продлений подписки) в серии независимых испытаний (разосланных промокодов), где каждое испытание имеет вероятность успеха p = 0.1.\n",
    "\n",
    "Мы хотим, чтобы вероятность того, что количество подписок окажется менее 100, была менее 5%.\n",
    "Для этого, используем функцию CDF - функцию распределения биноминального распределения, которая показывает вероятность того, что случайная величина примет значение меньшее или равное заданному.\n",
    "\n",
    "Используем метод проб и ошибок с помощью функции CDF для подбора требуемого N."
   ]
  },
  {
   "cell_type": "code",
   "execution_count": 36,
   "id": "196f241c",
   "metadata": {},
   "outputs": [
    {
     "name": "stdout",
     "output_type": "stream",
     "text": [
      "Минимальное количество промокодов, чтобы вероятность не выполнить план была менее 5%: 1161\n"
     ]
    },
    {
     "data": {
      "image/png": "[encoded data removed]",
      "text/plain": [
       "<Figure size 1000x600 with 1 Axes>"
      ]
     },
     "metadata": {},
     "output_type": "display_data"
    }
   ],
   "source": [
    "# Задаём параметры\n",
    "p = 0.1 # Вероятность успеха\n",
    "requires_successes = 100 # Необходимое количество подписок\n",
    "\n",
    "# Подбор N\n",
    "N_values = range(1000, 2000) # Диапазон значений для количества промокодов\n",
    "probabilities = []\n",
    "\n",
    "# Рассчитаем CDF для каждого значения N\n",
    "for N in N_values:\n",
    "    # Вероятность того, что количество продлений будет меньше 100\n",
    "    prob = binom.cdf(requires_successes - 1, N, p)\n",
    "    probabilities.append(prob)\n",
    "    \n",
    "# Поиск минимального N, при котором вероятность менее 100 подписок <= 5%\n",
    "N_min = N_values[np.where(np.array(probabilities) <= 0.05)[0][0]]\n",
    "\n",
    "print(f\"Минимальное количество промокодов, чтобы вероятность не выполнить план была менее 5%: {N_min}\")\n",
    "\n",
    "# Построение графика\n",
    "plt.figure(figsize=(10, 6))\n",
    "plt.plot(N_values, probabilities, label=\"P(X < 100)\")\n",
    "plt.axhline(y=0.05, color='r', linestyle='--', label='5% уровень')\n",
    "plt.axvline(x=N_min, color='g', linestyle='--', label=f'N = {N_min}')\n",
    "plt.title('Подбор минимального количества промокодов для достижения цели')\n",
    "plt.xlabel('Количество разосланных промокодов (N)')\n",
    "plt.ylabel('P(X < 100)')\n",
    "plt.legend()\n",
    "plt.grid(True)\n",
    "plt.show()"
   ]
  },
  {
   "cell_type": "markdown",
   "id": "7e124288",
   "metadata": {},
   "source": [
    "Для выполнения плана (не менее 100 продлений) с вероятностью 95% нужно разослать 1161 промокод.\n",
    "\n",
    "Это минимальное количество промокодов, при котором вероятность не выполнить план (получить менее 100 продлений) составит не более 5%."
   ]
  },
  {
   "cell_type": "markdown",
   "id": "3c4e5542",
   "metadata": {},
   "source": [
    "### Задача отдела маркетинга по оценке вероятности открытия уведомлений"
   ]
  },
  {
   "cell_type": "markdown",
   "id": "e27ed9ba",
   "metadata": {},
   "source": [
    "Решим задачу с помощью нормальной аппроксимации биноминального распределения. В случаях, когда число испытаний велико, биноминальное распределение можно приближённо описать с помощью нормального распределения.\n",
    "\n",
    "**Последовательность решения:**\n",
    "1. Зададим параметры биноминального распределения:\n",
    "- N = 1 000 000 - общее количество уведомлений\n",
    "- p = 0.4 - вероятность того, что пользователь откроет уведомление.\n",
    "\n",
    "2. Найдём параметры нормального распределения:\n",
    "- Мат. ожидание = N * p = 400 000\n",
    "- Дисперсия = N * p * (1 - p) = 1 000 000 * 0.4 * 0.6 = 240 000\n",
    "- Стандартное отклонение = корень из дисперсии примерно равен 489.9\n",
    "\n",
    "3. Используем нормальное распределение для приближения биноминального.\n",
    "Чтобы найти вероятность того, что уведомление откроют не более 399.5 тысяч пользователей, используем нормальную аппроксимацию.\n",
    "Вычислим вероятность того, что случайная величина X из нормального распределения с параметрами мат. ожидания = 400 000 и стандартного отклонения = 489.9 примет значение меньше или равно 399 500\n",
    "\n",
    "4. Построим график нормального распределения и найдём вероятность с помощью функции распределения CDF."
   ]
  },
  {
   "cell_type": "code",
   "execution_count": 37,
   "id": "780795ec",
   "metadata": {
    "scrolled": true
   },
   "outputs": [
    {
     "data": {
      "image/png": "[encoded data removed]",
      "text/plain": [
       "<Figure size 1000x600 with 1 Axes>"
      ]
     },
     "metadata": {},
     "output_type": "display_data"
    },
    {
     "name": "stdout",
     "output_type": "stream",
     "text": [
      "Вероятность того, что уведомление откроют не более 399,500 пользователей: 0.1537\n"
     ]
    }
   ],
   "source": [
    "# Заданные параметры\n",
    "N = 1000000\n",
    "p = 0.4\n",
    "mu = N * p # мат. ожидание\n",
    "sigma = np.sqrt(N * p * (1 - p)) # стандартное отклонение\n",
    "\n",
    "# Построим график нормального распределения\n",
    "x = np.linspace(mu - 4 * sigma, mu + 4 * sigma, 1000)\n",
    "y = norm.pdf(x, mu, sigma)\n",
    "\n",
    "plt.figure(figsize=(10, 6))\n",
    "plt.plot(x, y, label=f'Нормальное распределение с $\\mu$={mu}, $\\sigma$={sigma:.2f}')\n",
    "plt.axvline(x=399500, color='r', linestyle='--', label='399,500')\n",
    "plt.title('Распределение количества открытых уведомлений')\n",
    "plt.xlabel('Количество открытий')\n",
    "plt.ylabel('Плотность вероятности')\n",
    "plt.legend()\n",
    "plt.grid(True)\n",
    "plt.show()\n",
    "\n",
    "# Рассчитаем вероятность того, что уведомление откроют не более 399,500 пользователей\n",
    "probability = norm.cdf(399500, mu, sigma)\n",
    "print(f'Вероятность того, что уведомление откроют не более 399,500 пользователей: {probability:.4f}')"
   ]
  },
  {
   "cell_type": "markdown",
   "id": "adb49414",
   "metadata": {},
   "source": [
    "<div class=\"alert alert-success\" style=\"border-radius: 15px; box-shadow: 4px 4px 4px; border: 1px solid \">\n",
    "<h2> Комментарий ревьюера v_1: <a class=\"tocSkip\"> </h2>\n",
    "    \n",
    "✅ В шаге 7 все результаты верные"
   ]
  },
  {
   "cell_type": "markdown",
   "id": "f6d0c831",
   "metadata": {},
   "source": [
    "<div class=\"alert alert-block alert-danger\" style=\"border-radius: 15px; box-shadow: 4px 4px 4px; border: 1px solid \">\n",
    "<h2> Комментарий ревьюера v_1: <a class=\"tocSkip\"></h2>\n",
    "    \n",
    "❌ В итоговом выводе необходимо написать, какие данные были рассмотрены, выявлены ли пропуски и дубликаты, какие результаты получены в шагах 3, 4 и 6. Также стоит резюмировать, какие пользователи - с подпиской или без подписки - являются более выгодными для сервиса аренды самокатов."
   ]
  },
  {
   "cell_type": "markdown",
   "id": "6a626a63",
   "metadata": {},
   "source": [
    "## Итоговый вывод по проекту"
   ]
  },
  {
   "cell_type": "markdown",
   "id": "4f97fa3c",
   "metadata": {},
   "source": [
    "В рамках данного проекта был проведён подробный анализ данных, предоставленных сервисом аренды самокатов GoFast.\n",
    "Цель: анализ поведения пользователей с подпиской и без неё, а также проверка гипотез, направленных на улучшение бизнес-процессов и увеличение прибыли.\n",
    "\n",
    "1. Обработали данные:\n",
    "    - Были рассмотрены данные о пользователях, подписках и поездках\n",
    "    - Пропуски отсутствовали, явные дубликаты были удалены\n",
    "    - Дата была приведена к соответствующему формату\n",
    "2. Провели исследовательский анализ данных:\n",
    "    - Были определены города с наибольшим количеством пользователей. Это может помочь в проведении маркетинговых акций в определённых регионах\n",
    "    - Проанализирован возраст пользователей. Стала более ясной картина по целевой аудитории сервиса.\n",
    "    - Оценены расстояние и продолжительность поездок. Пользователи с подпиской чаще совершают более длительные поездки, а пользователи без подписки имеют более выраженные разброс и диапазон данных.\n",
    "3. Объединили данные и провели расчёт выручки:\n",
    "    - Данные о пользователях, их поездках и подписках объединили в один датафрейм\n",
    "    - В таблицу с выручкой добавили ключевые показатели: количество поездок, продолжительность, условия поездок и ежемесячную выручку для каждого пользователя\n",
    "    - Среднюю выручку рассчитали с учётом абонентской платы для пользователей с подпиской и с учётом стоимости поездок и старта - для пользователей без подписок.\n",
    "4. Проверили гипотезы:\n",
    "    - Гипотеза 6.1: провели t-тест для проверки, тратят ли пользователи с подпиской больше времени на поездки. На уровне значимости 0.05 нулевая гипотеза была отвергнута, что позволяет утверждать, что пользователи с подпиской действительно в среднем тратят больше времени на поездки, чем пользователи без подписки.\n",
    "    - Гипотеза 6.2: выяснили, что среднее расстояние, которое проезжают пользователи с подпиской, за одну поездку меньше или равно 3130 метров.\n",
    "    - Гипотеза 6.3: провели t-тест для сравнения помесячной выручки. На уровне значимости 0.05 удалось подтвердить, что средняя помесячная выручка от пользователей с подпиской выше, чем от пользователей без подписки."
   ]
  },
  {
   "cell_type": "markdown",
   "id": "9b813134",
   "metadata": {},
   "source": [
    "Выводы помогут маркетинговой и продуктовой командам сервиса GoFast сосредоточиться на привлечении новых пользователей к подписке, что может привести к увеличению выручки и повышению общей лояльности клиентов."
   ]
  },
  {
   "cell_type": "markdown",
   "id": "5dff081b",
   "metadata": {},
   "source": [
    "<div class=\"alert alert-success\" style=\"border-radius: 15px; box-shadow: 4px 4px 4px; border: 1px solid \">\n",
    "<h2> Комментарий ревьюера v_2: <a class=\"tocSkip\"> </h2>\n",
    "    \n",
    "✅ Подписчики выгоднее"
   ]
  },
  {
   "cell_type": "markdown",
   "id": "7a9e9ed3",
   "metadata": {},
   "source": [
    "<div style=\"border:solid lightblue 3px; background:#f7faf8; padding: 20px\">\n",
    "<span style=\"color:darkblue\">Итог v_1:</span>\n",
    "    \n",
    "В целом, работа выполнена на хорошем уровне! Все замечания по проекту, включая общие рекомендации и удачные решения, можно найти через поиск (CTRL+F или COMMAND+F), набрав в окне поиска, например, `v_1`. Замечания, которые необходимо доработать:\n",
    "* добавить вступление\n",
    "* пп. в 4, 5 и 6 шагах\n",
    "* итоговые выводы\n",
    "   \n",
    "Жду проект)"
   ]
  },
  {
   "cell_type": "markdown",
   "id": "46547e86",
   "metadata": {},
   "source": [
    "<div style=\"border:solid lightblue 3px; background:#f7faf8; padding: 20px\">\n",
    "<span style=\"color:darkblue\">Итог v_2:</span>\n",
    "    \n",
    "Спасибо за доработанные замечания! Всё здорово получилось. Проект принят. В дополнение по данной [ссылке](https://allatambov.github.io/psms/pdf/hypo-test.pdf) можно ознакомиться с краткой теорией по проверке гипотез.\n",
    "    \n",
    "Успехов в дальнейшем обучении!)"
   ]
  }
 ],
 "metadata": {
  "ExecuteTimeLog": [
   {
    "duration": 55,
    "start_time": "2024-10-04T09:20:06.275Z"
   },
   {
    "duration": 435,
    "start_time": "2024-10-04T09:20:09.642Z"
   },
   {
    "duration": 63,
    "start_time": "2024-10-04T09:20:11.200Z"
   },
   {
    "duration": 91,
    "start_time": "2024-10-04T09:20:30.589Z"
   },
   {
    "duration": 253,
    "start_time": "2024-10-04T09:22:43.444Z"
   },
   {
    "duration": 78,
    "start_time": "2024-10-04T09:23:49.531Z"
   },
   {
    "duration": 80,
    "start_time": "2024-10-04T09:24:06.851Z"
   },
   {
    "duration": 79,
    "start_time": "2024-10-04T09:24:46.739Z"
   },
   {
    "duration": 15,
    "start_time": "2024-10-04T09:25:28.932Z"
   },
   {
    "duration": 53,
    "start_time": "2024-10-04T11:26:54.113Z"
   },
   {
    "duration": 375,
    "start_time": "2024-10-04T11:27:00.272Z"
   },
   {
    "duration": 381,
    "start_time": "2024-10-04T11:27:00.649Z"
   },
   {
    "duration": 26,
    "start_time": "2024-10-04T11:27:01.032Z"
   },
   {
    "duration": 12,
    "start_time": "2024-10-04T11:27:57.413Z"
   },
   {
    "duration": 11,
    "start_time": "2024-10-04T11:53:57.890Z"
   },
   {
    "duration": 83,
    "start_time": "2024-10-04T11:55:42.076Z"
   },
   {
    "duration": 12,
    "start_time": "2024-10-04T11:56:03.377Z"
   },
   {
    "duration": 15,
    "start_time": "2024-10-04T11:57:48.972Z"
   },
   {
    "duration": 8,
    "start_time": "2024-10-04T11:59:01.827Z"
   },
   {
    "duration": 17,
    "start_time": "2024-10-04T12:02:36.275Z"
   },
   {
    "duration": 8,
    "start_time": "2024-10-04T12:03:24.375Z"
   },
   {
    "duration": 5,
    "start_time": "2024-10-04T12:04:09.301Z"
   },
   {
    "duration": 425,
    "start_time": "2024-10-04T12:06:10.549Z"
   },
   {
    "duration": 427,
    "start_time": "2024-10-04T12:08:22.527Z"
   },
   {
    "duration": 7,
    "start_time": "2024-10-04T12:09:27.778Z"
   },
   {
    "duration": 240,
    "start_time": "2024-10-04T12:10:43.696Z"
   },
   {
    "duration": 8,
    "start_time": "2024-10-04T12:11:21.231Z"
   },
   {
    "duration": 309,
    "start_time": "2024-10-04T12:13:42.480Z"
   },
   {
    "duration": 7,
    "start_time": "2024-10-04T12:14:22.713Z"
   },
   {
    "duration": 370,
    "start_time": "2024-10-04T12:15:16.825Z"
   },
   {
    "duration": 8,
    "start_time": "2024-10-04T12:15:59.086Z"
   },
   {
    "duration": 293,
    "start_time": "2024-10-04T12:16:47.907Z"
   },
   {
    "duration": 15,
    "start_time": "2024-10-04T12:21:48.217Z"
   },
   {
    "duration": 14,
    "start_time": "2024-10-04T12:22:20.827Z"
   },
   {
    "duration": 13,
    "start_time": "2024-10-04T12:23:04.827Z"
   },
   {
    "duration": 10,
    "start_time": "2024-10-04T12:23:23.861Z"
   },
   {
    "duration": 407,
    "start_time": "2024-10-04T12:23:55.757Z"
   },
   {
    "duration": 374,
    "start_time": "2024-10-04T12:24:10.481Z"
   },
   {
    "duration": 707,
    "start_time": "2024-10-04T12:29:02.890Z"
   },
   {
    "duration": 734,
    "start_time": "2024-10-04T12:29:09.163Z"
   },
   {
    "duration": 694,
    "start_time": "2024-10-04T12:29:28.450Z"
   },
   {
    "duration": 715,
    "start_time": "2024-10-04T12:30:56.529Z"
   },
   {
    "duration": 22,
    "start_time": "2024-10-04T12:31:20.258Z"
   },
   {
    "duration": 680,
    "start_time": "2024-10-04T12:31:41.013Z"
   },
   {
    "duration": 23,
    "start_time": "2024-10-04T12:31:54.624Z"
   },
   {
    "duration": 713,
    "start_time": "2024-10-04T12:32:34.668Z"
   },
   {
    "duration": 53,
    "start_time": "2024-10-07T06:24:46.822Z"
   },
   {
    "duration": 846,
    "start_time": "2024-10-07T06:24:51.654Z"
   },
   {
    "duration": 282,
    "start_time": "2024-10-07T06:24:52.503Z"
   },
   {
    "duration": 11,
    "start_time": "2024-10-07T06:24:52.787Z"
   },
   {
    "duration": 44,
    "start_time": "2024-10-07T06:24:52.800Z"
   },
   {
    "duration": 11,
    "start_time": "2024-10-07T06:24:52.846Z"
   },
   {
    "duration": 34,
    "start_time": "2024-10-07T06:24:52.859Z"
   },
   {
    "duration": 19,
    "start_time": "2024-10-07T06:24:52.895Z"
   },
   {
    "duration": 16,
    "start_time": "2024-10-07T06:24:52.916Z"
   },
   {
    "duration": 399,
    "start_time": "2024-10-07T06:24:52.934Z"
   },
   {
    "duration": 7,
    "start_time": "2024-10-07T06:24:53.335Z"
   },
   {
    "duration": 288,
    "start_time": "2024-10-07T06:24:53.343Z"
   },
   {
    "duration": 8,
    "start_time": "2024-10-07T06:24:53.633Z"
   },
   {
    "duration": 347,
    "start_time": "2024-10-07T06:24:53.642Z"
   },
   {
    "duration": 9,
    "start_time": "2024-10-07T06:24:53.992Z"
   },
   {
    "duration": 351,
    "start_time": "2024-10-07T06:24:54.002Z"
   },
   {
    "duration": 8,
    "start_time": "2024-10-07T06:24:54.355Z"
   },
   {
    "duration": 427,
    "start_time": "2024-10-07T06:24:54.365Z"
   },
   {
    "duration": 14,
    "start_time": "2024-10-07T06:24:54.794Z"
   },
   {
    "duration": 27,
    "start_time": "2024-10-07T06:24:54.821Z"
   },
   {
    "duration": 28,
    "start_time": "2024-10-07T06:24:54.850Z"
   },
   {
    "duration": 21,
    "start_time": "2024-10-07T06:24:54.880Z"
   },
   {
    "duration": 446,
    "start_time": "2024-10-07T06:24:54.903Z"
   },
   {
    "duration": 431,
    "start_time": "2024-10-07T06:24:55.351Z"
   },
   {
    "duration": 53,
    "start_time": "2024-10-07T06:24:55.784Z"
   },
   {
    "duration": 12,
    "start_time": "2024-10-07T06:25:44.195Z"
   },
   {
    "duration": 9,
    "start_time": "2024-10-07T06:25:44.931Z"
   },
   {
    "duration": 406,
    "start_time": "2024-10-07T06:25:47.102Z"
   },
   {
    "duration": 433,
    "start_time": "2024-10-07T06:25:47.531Z"
   },
   {
    "duration": 17,
    "start_time": "2024-10-07T06:25:48.307Z"
   },
   {
    "duration": 3,
    "start_time": "2024-10-07T06:25:56.701Z"
   },
   {
    "duration": 106,
    "start_time": "2024-10-07T06:25:56.706Z"
   },
   {
    "duration": 16,
    "start_time": "2024-10-07T06:25:56.814Z"
   },
   {
    "duration": 39,
    "start_time": "2024-10-07T06:25:56.832Z"
   },
   {
    "duration": 11,
    "start_time": "2024-10-07T06:25:56.874Z"
   },
   {
    "duration": 42,
    "start_time": "2024-10-07T06:25:56.888Z"
   },
   {
    "duration": 14,
    "start_time": "2024-10-07T06:25:56.932Z"
   },
   {
    "duration": 11,
    "start_time": "2024-10-07T06:25:56.948Z"
   },
   {
    "duration": 355,
    "start_time": "2024-10-07T06:25:56.961Z"
   },
   {
    "duration": 7,
    "start_time": "2024-10-07T06:25:57.320Z"
   },
   {
    "duration": 334,
    "start_time": "2024-10-07T06:25:57.329Z"
   },
   {
    "duration": 21,
    "start_time": "2024-10-07T06:25:57.664Z"
   },
   {
    "duration": 321,
    "start_time": "2024-10-07T06:25:57.687Z"
   },
   {
    "duration": 8,
    "start_time": "2024-10-07T06:25:58.020Z"
   },
   {
    "duration": 404,
    "start_time": "2024-10-07T06:25:58.030Z"
   },
   {
    "duration": 8,
    "start_time": "2024-10-07T06:25:58.436Z"
   },
   {
    "duration": 361,
    "start_time": "2024-10-07T06:25:58.446Z"
   },
   {
    "duration": 23,
    "start_time": "2024-10-07T06:25:58.808Z"
   },
   {
    "duration": 13,
    "start_time": "2024-10-07T06:25:58.833Z"
   },
   {
    "duration": 12,
    "start_time": "2024-10-07T06:25:58.849Z"
   },
   {
    "duration": 10,
    "start_time": "2024-10-07T06:25:58.863Z"
   },
   {
    "duration": 497,
    "start_time": "2024-10-07T06:25:58.874Z"
   },
   {
    "duration": 398,
    "start_time": "2024-10-07T06:25:59.374Z"
   },
   {
    "duration": 20,
    "start_time": "2024-10-07T06:25:59.774Z"
   },
   {
    "duration": 13,
    "start_time": "2024-10-07T06:26:59.945Z"
   },
   {
    "duration": 6,
    "start_time": "2024-10-07T06:27:00.453Z"
   },
   {
    "duration": 4,
    "start_time": "2024-10-07T06:27:10.210Z"
   },
   {
    "duration": 96,
    "start_time": "2024-10-07T06:27:10.217Z"
   },
   {
    "duration": 19,
    "start_time": "2024-10-07T06:27:10.315Z"
   },
   {
    "duration": 26,
    "start_time": "2024-10-07T06:27:10.336Z"
   },
   {
    "duration": 8,
    "start_time": "2024-10-07T06:27:10.364Z"
   },
   {
    "duration": 18,
    "start_time": "2024-10-07T06:27:10.374Z"
   },
   {
    "duration": 8,
    "start_time": "2024-10-07T06:27:10.394Z"
   },
   {
    "duration": 21,
    "start_time": "2024-10-07T06:27:10.404Z"
   },
   {
    "duration": 365,
    "start_time": "2024-10-07T06:27:10.427Z"
   },
   {
    "duration": 6,
    "start_time": "2024-10-07T06:27:10.793Z"
   },
   {
    "duration": 264,
    "start_time": "2024-10-07T06:27:10.801Z"
   },
   {
    "duration": 9,
    "start_time": "2024-10-07T06:27:11.068Z"
   },
   {
    "duration": 320,
    "start_time": "2024-10-07T06:27:11.080Z"
   },
   {
    "duration": 18,
    "start_time": "2024-10-07T06:27:11.402Z"
   },
   {
    "duration": 323,
    "start_time": "2024-10-07T06:27:11.422Z"
   },
   {
    "duration": 9,
    "start_time": "2024-10-07T06:27:11.747Z"
   },
   {
    "duration": 371,
    "start_time": "2024-10-07T06:27:11.757Z"
   },
   {
    "duration": 16,
    "start_time": "2024-10-07T06:27:12.130Z"
   },
   {
    "duration": 15,
    "start_time": "2024-10-07T06:27:12.148Z"
   },
   {
    "duration": 14,
    "start_time": "2024-10-07T06:27:12.165Z"
   },
   {
    "duration": 41,
    "start_time": "2024-10-07T06:27:12.181Z"
   },
   {
    "duration": 461,
    "start_time": "2024-10-07T06:27:12.224Z"
   },
   {
    "duration": 417,
    "start_time": "2024-10-07T06:27:12.687Z"
   },
   {
    "duration": 26,
    "start_time": "2024-10-07T06:27:13.106Z"
   },
   {
    "duration": 21,
    "start_time": "2024-10-07T06:27:27.472Z"
   },
   {
    "duration": 2,
    "start_time": "2024-10-07T06:28:53.251Z"
   },
   {
    "duration": 96,
    "start_time": "2024-10-07T06:28:53.257Z"
   },
   {
    "duration": 11,
    "start_time": "2024-10-07T06:28:53.355Z"
   },
   {
    "duration": 84,
    "start_time": "2024-10-07T06:28:53.367Z"
   },
   {
    "duration": 8,
    "start_time": "2024-10-07T06:28:53.452Z"
   },
   {
    "duration": 30,
    "start_time": "2024-10-07T06:28:53.463Z"
   },
   {
    "duration": 14,
    "start_time": "2024-10-07T06:28:53.495Z"
   },
   {
    "duration": 5,
    "start_time": "2024-10-07T06:28:53.511Z"
   },
   {
    "duration": 281,
    "start_time": "2024-10-07T06:28:53.517Z"
   },
   {
    "duration": 25,
    "start_time": "2024-10-07T06:28:53.800Z"
   },
   {
    "duration": 235,
    "start_time": "2024-10-07T06:28:53.827Z"
   },
   {
    "duration": 9,
    "start_time": "2024-10-07T06:28:54.063Z"
   },
   {
    "duration": 409,
    "start_time": "2024-10-07T06:28:54.073Z"
   },
   {
    "duration": 9,
    "start_time": "2024-10-07T06:28:54.484Z"
   },
   {
    "duration": 325,
    "start_time": "2024-10-07T06:28:54.496Z"
   },
   {
    "duration": 9,
    "start_time": "2024-10-07T06:28:54.822Z"
   },
   {
    "duration": 387,
    "start_time": "2024-10-07T06:28:54.833Z"
   },
   {
    "duration": 15,
    "start_time": "2024-10-07T06:28:55.222Z"
   },
   {
    "duration": 14,
    "start_time": "2024-10-07T06:28:55.239Z"
   },
   {
    "duration": 12,
    "start_time": "2024-10-07T06:28:55.254Z"
   },
   {
    "duration": 10,
    "start_time": "2024-10-07T06:28:55.268Z"
   },
   {
    "duration": 461,
    "start_time": "2024-10-07T06:28:55.280Z"
   },
   {
    "duration": 454,
    "start_time": "2024-10-07T06:28:55.743Z"
   },
   {
    "duration": 30,
    "start_time": "2024-10-07T06:28:56.199Z"
   },
   {
    "duration": 20,
    "start_time": "2024-10-07T06:28:56.231Z"
   },
   {
    "duration": 20,
    "start_time": "2024-10-07T06:30:21.004Z"
   },
   {
    "duration": 1029,
    "start_time": "2024-10-07T06:31:21.187Z"
   },
   {
    "duration": 1019,
    "start_time": "2024-10-07T06:31:55.157Z"
   },
   {
    "duration": 1315,
    "start_time": "2024-10-07T06:32:23.453Z"
   },
   {
    "duration": 9,
    "start_time": "2024-10-07T06:33:29.457Z"
   },
   {
    "duration": 28,
    "start_time": "2024-10-07T06:41:04.022Z"
   },
   {
    "duration": 35,
    "start_time": "2024-10-07T06:44:19.108Z"
   },
   {
    "duration": 22,
    "start_time": "2024-10-07T06:45:46.045Z"
   },
   {
    "duration": 4,
    "start_time": "2024-10-07T06:46:59.285Z"
   },
   {
    "duration": 93,
    "start_time": "2024-10-07T06:46:59.292Z"
   },
   {
    "duration": 21,
    "start_time": "2024-10-07T06:46:59.387Z"
   },
   {
    "duration": 66,
    "start_time": "2024-10-07T06:46:59.411Z"
   },
   {
    "duration": 24,
    "start_time": "2024-10-07T06:46:59.479Z"
   },
   {
    "duration": 4,
    "start_time": "2024-10-07T06:47:22.430Z"
   },
   {
    "duration": 90,
    "start_time": "2024-10-07T06:47:22.436Z"
   },
   {
    "duration": 15,
    "start_time": "2024-10-07T06:47:22.528Z"
   },
   {
    "duration": 14,
    "start_time": "2024-10-07T06:47:22.544Z"
   },
   {
    "duration": 7,
    "start_time": "2024-10-07T06:47:22.561Z"
   },
   {
    "duration": 17,
    "start_time": "2024-10-07T06:47:22.569Z"
   },
   {
    "duration": 39,
    "start_time": "2024-10-07T06:47:22.588Z"
   },
   {
    "duration": 8,
    "start_time": "2024-10-07T06:47:22.630Z"
   },
   {
    "duration": 325,
    "start_time": "2024-10-07T06:47:22.639Z"
   },
   {
    "duration": 7,
    "start_time": "2024-10-07T06:47:22.966Z"
   },
   {
    "duration": 266,
    "start_time": "2024-10-07T06:47:22.974Z"
   },
   {
    "duration": 7,
    "start_time": "2024-10-07T06:47:23.243Z"
   },
   {
    "duration": 350,
    "start_time": "2024-10-07T06:47:23.251Z"
   },
   {
    "duration": 17,
    "start_time": "2024-10-07T06:47:23.604Z"
   },
   {
    "duration": 336,
    "start_time": "2024-10-07T06:47:23.624Z"
   },
   {
    "duration": 9,
    "start_time": "2024-10-07T06:47:23.961Z"
   },
   {
    "duration": 584,
    "start_time": "2024-10-07T06:47:23.972Z"
   },
   {
    "duration": 67,
    "start_time": "2024-10-07T06:47:24.558Z"
   },
   {
    "duration": 19,
    "start_time": "2024-10-07T06:47:24.627Z"
   },
   {
    "duration": 12,
    "start_time": "2024-10-07T06:47:24.647Z"
   },
   {
    "duration": 69,
    "start_time": "2024-10-07T06:47:24.661Z"
   },
   {
    "duration": 796,
    "start_time": "2024-10-07T06:47:24.733Z"
   },
   {
    "duration": 692,
    "start_time": "2024-10-07T06:47:25.532Z"
   },
   {
    "duration": 12,
    "start_time": "2024-10-07T06:47:26.226Z"
   },
   {
    "duration": 18,
    "start_time": "2024-10-07T06:47:26.241Z"
   },
   {
    "duration": 1491,
    "start_time": "2024-10-07T06:47:26.261Z"
   },
   {
    "duration": 9,
    "start_time": "2024-10-07T06:47:48.892Z"
   },
   {
    "duration": 9,
    "start_time": "2024-10-07T06:48:28.833Z"
   },
   {
    "duration": 10,
    "start_time": "2024-10-07T06:48:57.173Z"
   },
   {
    "duration": 6,
    "start_time": "2024-10-07T06:49:06.019Z"
   },
   {
    "duration": 7,
    "start_time": "2024-10-07T06:49:54.688Z"
   },
   {
    "duration": 22,
    "start_time": "2024-10-07T06:50:03.508Z"
   },
   {
    "duration": 1119,
    "start_time": "2024-10-07T06:50:12.537Z"
   },
   {
    "duration": 12,
    "start_time": "2024-10-07T06:50:28.988Z"
   },
   {
    "duration": 22,
    "start_time": "2024-10-07T06:50:57.140Z"
   },
   {
    "duration": 27,
    "start_time": "2024-10-07T06:51:06.438Z"
   },
   {
    "duration": 16,
    "start_time": "2024-10-07T06:52:06.103Z"
   },
   {
    "duration": 14,
    "start_time": "2024-10-07T06:52:22.915Z"
   },
   {
    "duration": 33,
    "start_time": "2024-10-07T06:52:33.389Z"
   },
   {
    "duration": 47,
    "start_time": "2024-10-07T06:52:38.314Z"
   },
   {
    "duration": 36,
    "start_time": "2024-10-07T06:54:02.219Z"
   },
   {
    "duration": 36,
    "start_time": "2024-10-07T06:54:18.999Z"
   },
   {
    "duration": 33,
    "start_time": "2024-10-07T06:58:12.839Z"
   },
   {
    "duration": 16,
    "start_time": "2024-10-07T07:01:34.080Z"
   },
   {
    "duration": 13,
    "start_time": "2024-10-07T07:01:54.907Z"
   },
   {
    "duration": 130,
    "start_time": "2024-10-07T07:12:05.480Z"
   },
   {
    "duration": 584,
    "start_time": "2024-10-07T07:14:25.530Z"
   },
   {
    "duration": 78,
    "start_time": "2024-10-07T07:14:26.116Z"
   },
   {
    "duration": 11,
    "start_time": "2024-10-07T07:14:26.196Z"
   },
   {
    "duration": 28,
    "start_time": "2024-10-07T07:14:26.208Z"
   },
   {
    "duration": 8,
    "start_time": "2024-10-07T07:14:26.239Z"
   },
   {
    "duration": 24,
    "start_time": "2024-10-07T07:14:26.249Z"
   },
   {
    "duration": 10,
    "start_time": "2024-10-07T07:14:26.275Z"
   },
   {
    "duration": 34,
    "start_time": "2024-10-07T07:14:26.287Z"
   },
   {
    "duration": 322,
    "start_time": "2024-10-07T07:14:26.323Z"
   },
   {
    "duration": 6,
    "start_time": "2024-10-07T07:14:26.647Z"
   },
   {
    "duration": 214,
    "start_time": "2024-10-07T07:14:26.655Z"
   },
   {
    "duration": 51,
    "start_time": "2024-10-07T07:14:26.871Z"
   },
   {
    "duration": 304,
    "start_time": "2024-10-07T07:14:26.924Z"
   },
   {
    "duration": 9,
    "start_time": "2024-10-07T07:14:27.231Z"
   },
   {
    "duration": 359,
    "start_time": "2024-10-07T07:14:27.241Z"
   },
   {
    "duration": 23,
    "start_time": "2024-10-07T07:14:27.601Z"
   },
   {
    "duration": 322,
    "start_time": "2024-10-07T07:14:27.626Z"
   },
   {
    "duration": 14,
    "start_time": "2024-10-07T07:14:27.949Z"
   },
   {
    "duration": 15,
    "start_time": "2024-10-07T07:14:27.965Z"
   },
   {
    "duration": 35,
    "start_time": "2024-10-07T07:14:27.982Z"
   },
   {
    "duration": 83,
    "start_time": "2024-10-07T07:14:28.019Z"
   },
   {
    "duration": 456,
    "start_time": "2024-10-07T07:14:28.104Z"
   },
   {
    "duration": 512,
    "start_time": "2024-10-07T07:14:28.562Z"
   },
   {
    "duration": 21,
    "start_time": "2024-10-07T07:14:29.076Z"
   },
   {
    "duration": 49,
    "start_time": "2024-10-07T07:14:29.099Z"
   },
   {
    "duration": 13,
    "start_time": "2024-10-07T07:14:29.149Z"
   },
   {
    "duration": 163,
    "start_time": "2024-10-07T07:14:29.164Z"
   },
   {
    "duration": 303,
    "start_time": "2024-10-07T07:15:27.396Z"
   },
   {
    "duration": 3,
    "start_time": "2024-10-07T07:16:05.084Z"
   },
   {
    "duration": 90,
    "start_time": "2024-10-07T07:16:05.089Z"
   },
   {
    "duration": 11,
    "start_time": "2024-10-07T07:16:05.181Z"
   },
   {
    "duration": 59,
    "start_time": "2024-10-07T07:16:05.193Z"
   },
   {
    "duration": 39,
    "start_time": "2024-10-07T07:16:05.254Z"
   },
   {
    "duration": 32,
    "start_time": "2024-10-07T07:16:05.294Z"
   },
   {
    "duration": 14,
    "start_time": "2024-10-07T07:16:05.328Z"
   },
   {
    "duration": 9,
    "start_time": "2024-10-07T07:16:05.343Z"
   },
   {
    "duration": 327,
    "start_time": "2024-10-07T07:16:05.354Z"
   },
   {
    "duration": 6,
    "start_time": "2024-10-07T07:16:05.683Z"
   },
   {
    "duration": 259,
    "start_time": "2024-10-07T07:16:05.690Z"
   },
   {
    "duration": 8,
    "start_time": "2024-10-07T07:16:05.951Z"
   },
   {
    "duration": 440,
    "start_time": "2024-10-07T07:16:05.961Z"
   },
   {
    "duration": 16,
    "start_time": "2024-10-07T07:16:06.405Z"
   },
   {
    "duration": 376,
    "start_time": "2024-10-07T07:16:06.423Z"
   },
   {
    "duration": 19,
    "start_time": "2024-10-07T07:16:06.801Z"
   },
   {
    "duration": 334,
    "start_time": "2024-10-07T07:16:06.822Z"
   },
   {
    "duration": 15,
    "start_time": "2024-10-07T07:16:07.158Z"
   },
   {
    "duration": 35,
    "start_time": "2024-10-07T07:16:07.175Z"
   },
   {
    "duration": 17,
    "start_time": "2024-10-07T07:16:07.211Z"
   },
   {
    "duration": 47,
    "start_time": "2024-10-07T07:16:07.229Z"
   },
   {
    "duration": 443,
    "start_time": "2024-10-07T07:16:07.278Z"
   },
   {
    "duration": 433,
    "start_time": "2024-10-07T07:16:07.723Z"
   },
   {
    "duration": 38,
    "start_time": "2024-10-07T07:16:08.158Z"
   },
   {
    "duration": 37,
    "start_time": "2024-10-07T07:16:08.198Z"
   },
   {
    "duration": 14,
    "start_time": "2024-10-07T07:16:08.237Z"
   },
   {
    "duration": 1000,
    "start_time": "2024-10-07T07:16:08.253Z"
   },
   {
    "duration": 105,
    "start_time": "2024-10-07T07:22:59.478Z"
   },
   {
    "duration": 5,
    "start_time": "2024-10-07T07:23:28.721Z"
   },
   {
    "duration": 7,
    "start_time": "2024-10-07T07:27:51.257Z"
   },
   {
    "duration": 6,
    "start_time": "2024-10-07T07:28:28.591Z"
   },
   {
    "duration": 6,
    "start_time": "2024-10-07T07:32:44.683Z"
   },
   {
    "duration": 7,
    "start_time": "2024-10-07T07:35:32.868Z"
   },
   {
    "duration": 6,
    "start_time": "2024-10-07T08:03:00.466Z"
   },
   {
    "duration": 6,
    "start_time": "2024-10-07T08:08:47.582Z"
   },
   {
    "duration": 6,
    "start_time": "2024-10-07T08:09:58.726Z"
   },
   {
    "duration": 6,
    "start_time": "2024-10-07T08:10:54.580Z"
   },
   {
    "duration": 5,
    "start_time": "2024-10-07T08:11:04.622Z"
   },
   {
    "duration": 5,
    "start_time": "2024-10-07T08:11:08.272Z"
   },
   {
    "duration": 6,
    "start_time": "2024-10-07T08:11:43.860Z"
   },
   {
    "duration": 5,
    "start_time": "2024-10-07T08:11:52.671Z"
   },
   {
    "duration": 6,
    "start_time": "2024-10-07T08:12:02.997Z"
   },
   {
    "duration": 7,
    "start_time": "2024-10-07T08:12:30.497Z"
   },
   {
    "duration": 6,
    "start_time": "2024-10-07T08:12:44.809Z"
   },
   {
    "duration": 5,
    "start_time": "2024-10-07T08:12:48.579Z"
   },
   {
    "duration": 5,
    "start_time": "2024-10-07T08:12:54.108Z"
   },
   {
    "duration": 7,
    "start_time": "2024-10-07T08:14:59.816Z"
   },
   {
    "duration": 7,
    "start_time": "2024-10-07T08:15:15.609Z"
   },
   {
    "duration": 7,
    "start_time": "2024-10-07T08:16:34.978Z"
   },
   {
    "duration": 8,
    "start_time": "2024-10-07T08:18:22.911Z"
   },
   {
    "duration": 7,
    "start_time": "2024-10-07T08:19:04.568Z"
   },
   {
    "duration": 8,
    "start_time": "2024-10-07T08:19:13.796Z"
   },
   {
    "duration": 7,
    "start_time": "2024-10-07T08:19:27.556Z"
   },
   {
    "duration": 8,
    "start_time": "2024-10-07T08:19:31.016Z"
   },
   {
    "duration": 7,
    "start_time": "2024-10-07T08:19:40.834Z"
   },
   {
    "duration": 17,
    "start_time": "2024-10-07T08:23:58.320Z"
   },
   {
    "duration": 12,
    "start_time": "2024-10-07T08:24:11.656Z"
   },
   {
    "duration": 20,
    "start_time": "2024-10-07T08:24:28.606Z"
   },
   {
    "duration": 7,
    "start_time": "2024-10-07T08:27:18.646Z"
   },
   {
    "duration": 8,
    "start_time": "2024-10-07T08:27:23.015Z"
   },
   {
    "duration": 5,
    "start_time": "2024-10-07T08:27:36.985Z"
   },
   {
    "duration": 7,
    "start_time": "2024-10-07T08:29:54.926Z"
   },
   {
    "duration": 7,
    "start_time": "2024-10-07T08:31:48.971Z"
   },
   {
    "duration": 7,
    "start_time": "2024-10-07T08:32:17.268Z"
   },
   {
    "duration": 7,
    "start_time": "2024-10-07T08:33:55.250Z"
   },
   {
    "duration": 6,
    "start_time": "2024-10-07T08:35:01.666Z"
   },
   {
    "duration": 7,
    "start_time": "2024-10-07T08:45:39.669Z"
   },
   {
    "duration": 6,
    "start_time": "2024-10-07T08:48:03.746Z"
   },
   {
    "duration": 3,
    "start_time": "2024-10-07T09:05:16.821Z"
   },
   {
    "duration": 3,
    "start_time": "2024-10-07T09:05:18.275Z"
   },
   {
    "duration": 114,
    "start_time": "2024-10-07T09:05:18.280Z"
   },
   {
    "duration": 10,
    "start_time": "2024-10-07T09:05:18.396Z"
   },
   {
    "duration": 42,
    "start_time": "2024-10-07T09:05:18.408Z"
   },
   {
    "duration": 81,
    "start_time": "2024-10-07T09:05:18.452Z"
   },
   {
    "duration": 37,
    "start_time": "2024-10-07T09:05:18.535Z"
   },
   {
    "duration": 20,
    "start_time": "2024-10-07T09:05:18.574Z"
   },
   {
    "duration": 37,
    "start_time": "2024-10-07T09:05:18.596Z"
   },
   {
    "duration": 435,
    "start_time": "2024-10-07T09:05:18.635Z"
   },
   {
    "duration": 6,
    "start_time": "2024-10-07T09:05:19.072Z"
   },
   {
    "duration": 270,
    "start_time": "2024-10-07T09:05:19.082Z"
   },
   {
    "duration": 8,
    "start_time": "2024-10-07T09:05:19.354Z"
   },
   {
    "duration": 329,
    "start_time": "2024-10-07T09:05:19.364Z"
   },
   {
    "duration": 8,
    "start_time": "2024-10-07T09:05:19.695Z"
   },
   {
    "duration": 371,
    "start_time": "2024-10-07T09:05:19.705Z"
   },
   {
    "duration": 9,
    "start_time": "2024-10-07T09:05:20.078Z"
   },
   {
    "duration": 321,
    "start_time": "2024-10-07T09:05:20.088Z"
   },
   {
    "duration": 14,
    "start_time": "2024-10-07T09:05:20.420Z"
   },
   {
    "duration": 86,
    "start_time": "2024-10-07T09:05:20.435Z"
   },
   {
    "duration": 29,
    "start_time": "2024-10-07T09:05:20.523Z"
   },
   {
    "duration": 19,
    "start_time": "2024-10-07T09:05:20.553Z"
   },
   {
    "duration": 671,
    "start_time": "2024-10-07T09:05:20.574Z"
   },
   {
    "duration": 696,
    "start_time": "2024-10-07T09:05:21.246Z"
   },
   {
    "duration": 77,
    "start_time": "2024-10-07T09:05:21.944Z"
   },
   {
    "duration": 30,
    "start_time": "2024-10-07T09:05:22.023Z"
   },
   {
    "duration": 68,
    "start_time": "2024-10-07T09:05:22.055Z"
   },
   {
    "duration": 7,
    "start_time": "2024-10-07T09:05:22.125Z"
   },
   {
    "duration": 13,
    "start_time": "2024-10-07T09:05:22.134Z"
   },
   {
    "duration": 18,
    "start_time": "2024-10-07T09:05:22.151Z"
   },
   {
    "duration": 7,
    "start_time": "2024-10-07T09:05:22.220Z"
   },
   {
    "duration": 7,
    "start_time": "2024-10-07T09:05:22.229Z"
   },
   {
    "duration": 159,
    "start_time": "2024-10-07T09:07:34.021Z"
   },
   {
    "duration": 142,
    "start_time": "2024-10-07T09:07:40.643Z"
   },
   {
    "duration": 431,
    "start_time": "2024-10-07T09:07:59.066Z"
   },
   {
    "duration": 429,
    "start_time": "2024-10-07T09:10:12.101Z"
   },
   {
    "duration": 455,
    "start_time": "2024-10-07T09:16:41.751Z"
   },
   {
    "duration": 5,
    "start_time": "2024-10-07T11:18:07.071Z"
   },
   {
    "duration": 473,
    "start_time": "2024-10-07T11:19:38.000Z"
   },
   {
    "duration": 4,
    "start_time": "2024-10-07T12:15:02.275Z"
   },
   {
    "duration": 115,
    "start_time": "2024-10-07T12:15:02.281Z"
   },
   {
    "duration": 11,
    "start_time": "2024-10-07T12:15:02.398Z"
   },
   {
    "duration": 82,
    "start_time": "2024-10-07T12:15:02.410Z"
   },
   {
    "duration": 54,
    "start_time": "2024-10-07T12:15:02.495Z"
   },
   {
    "duration": 62,
    "start_time": "2024-10-07T12:15:02.550Z"
   },
   {
    "duration": 13,
    "start_time": "2024-10-07T12:15:02.614Z"
   },
   {
    "duration": 39,
    "start_time": "2024-10-07T12:15:02.629Z"
   },
   {
    "duration": 417,
    "start_time": "2024-10-07T12:15:02.670Z"
   },
   {
    "duration": 7,
    "start_time": "2024-10-07T12:15:03.089Z"
   },
   {
    "duration": 350,
    "start_time": "2024-10-07T12:15:03.097Z"
   },
   {
    "duration": 7,
    "start_time": "2024-10-07T12:15:03.448Z"
   },
   {
    "duration": 332,
    "start_time": "2024-10-07T12:15:03.457Z"
   },
   {
    "duration": 9,
    "start_time": "2024-10-07T12:15:03.792Z"
   },
   {
    "duration": 323,
    "start_time": "2024-10-07T12:15:03.803Z"
   },
   {
    "duration": 7,
    "start_time": "2024-10-07T12:15:04.128Z"
   },
   {
    "duration": 357,
    "start_time": "2024-10-07T12:15:04.137Z"
   },
   {
    "duration": 13,
    "start_time": "2024-10-07T12:15:04.496Z"
   },
   {
    "duration": 35,
    "start_time": "2024-10-07T12:15:04.520Z"
   },
   {
    "duration": 35,
    "start_time": "2024-10-07T12:15:04.557Z"
   },
   {
    "duration": 23,
    "start_time": "2024-10-07T12:15:04.594Z"
   },
   {
    "duration": 440,
    "start_time": "2024-10-07T12:15:04.618Z"
   },
   {
    "duration": 410,
    "start_time": "2024-10-07T12:15:05.059Z"
   },
   {
    "duration": 22,
    "start_time": "2024-10-07T12:15:05.471Z"
   },
   {
    "duration": 50,
    "start_time": "2024-10-07T12:15:05.494Z"
   },
   {
    "duration": 15,
    "start_time": "2024-10-07T12:15:05.546Z"
   },
   {
    "duration": 21,
    "start_time": "2024-10-07T12:15:05.562Z"
   },
   {
    "duration": 30,
    "start_time": "2024-10-07T12:15:05.585Z"
   },
   {
    "duration": 32,
    "start_time": "2024-10-07T12:15:05.617Z"
   },
   {
    "duration": 37,
    "start_time": "2024-10-07T12:15:05.651Z"
   },
   {
    "duration": 457,
    "start_time": "2024-10-07T12:15:05.689Z"
   },
   {
    "duration": 342,
    "start_time": "2024-10-07T12:15:06.148Z"
   },
   {
    "duration": 10,
    "start_time": "2024-10-07T12:16:24.774Z"
   },
   {
    "duration": 8,
    "start_time": "2024-10-07T12:16:34.635Z"
   },
   {
    "duration": 1321,
    "start_time": "2024-10-07T12:51:50.684Z"
   },
   {
    "duration": 407,
    "start_time": "2024-10-07T12:51:52.007Z"
   },
   {
    "duration": 11,
    "start_time": "2024-10-07T12:51:52.415Z"
   },
   {
    "duration": 17,
    "start_time": "2024-10-07T12:51:52.428Z"
   },
   {
    "duration": 13,
    "start_time": "2024-10-07T12:51:52.447Z"
   },
   {
    "duration": 20,
    "start_time": "2024-10-07T12:51:52.461Z"
   },
   {
    "duration": 7,
    "start_time": "2024-10-07T12:51:52.483Z"
   },
   {
    "duration": 7,
    "start_time": "2024-10-07T12:51:52.491Z"
   },
   {
    "duration": 370,
    "start_time": "2024-10-07T12:51:52.499Z"
   },
   {
    "duration": 7,
    "start_time": "2024-10-07T12:51:52.870Z"
   },
   {
    "duration": 249,
    "start_time": "2024-10-07T12:51:52.878Z"
   },
   {
    "duration": 8,
    "start_time": "2024-10-07T12:51:53.129Z"
   },
   {
    "duration": 302,
    "start_time": "2024-10-07T12:51:53.138Z"
   },
   {
    "duration": 8,
    "start_time": "2024-10-07T12:51:53.443Z"
   },
   {
    "duration": 347,
    "start_time": "2024-10-07T12:51:53.452Z"
   },
   {
    "duration": 8,
    "start_time": "2024-10-07T12:51:53.801Z"
   },
   {
    "duration": 307,
    "start_time": "2024-10-07T12:51:53.811Z"
   },
   {
    "duration": 14,
    "start_time": "2024-10-07T12:51:54.125Z"
   },
   {
    "duration": 14,
    "start_time": "2024-10-07T12:51:54.141Z"
   },
   {
    "duration": 13,
    "start_time": "2024-10-07T12:51:54.157Z"
   },
   {
    "duration": 11,
    "start_time": "2024-10-07T12:51:54.172Z"
   },
   {
    "duration": 445,
    "start_time": "2024-10-07T12:51:54.184Z"
   },
   {
    "duration": 436,
    "start_time": "2024-10-07T12:51:54.630Z"
   },
   {
    "duration": 22,
    "start_time": "2024-10-07T12:51:55.068Z"
   },
   {
    "duration": 45,
    "start_time": "2024-10-07T12:51:55.092Z"
   },
   {
    "duration": 27,
    "start_time": "2024-10-07T12:51:55.138Z"
   },
   {
    "duration": 102,
    "start_time": "2024-10-07T12:51:55.167Z"
   },
   {
    "duration": 0,
    "start_time": "2024-10-07T12:51:55.271Z"
   },
   {
    "duration": 0,
    "start_time": "2024-10-07T12:51:55.272Z"
   },
   {
    "duration": 0,
    "start_time": "2024-10-07T12:51:55.273Z"
   },
   {
    "duration": 0,
    "start_time": "2024-10-07T12:51:55.274Z"
   },
   {
    "duration": 0,
    "start_time": "2024-10-07T12:51:55.275Z"
   },
   {
    "duration": 20,
    "start_time": "2024-10-07T14:59:35.289Z"
   },
   {
    "duration": 21,
    "start_time": "2024-10-07T14:59:43.620Z"
   },
   {
    "duration": 14,
    "start_time": "2024-10-07T14:59:56.244Z"
   },
   {
    "duration": 4,
    "start_time": "2024-10-07T15:00:27.196Z"
   },
   {
    "duration": 10,
    "start_time": "2024-10-07T15:03:40.990Z"
   },
   {
    "duration": 17,
    "start_time": "2024-10-07T15:03:43.422Z"
   },
   {
    "duration": 7,
    "start_time": "2024-10-07T15:03:51.063Z"
   },
   {
    "duration": 9,
    "start_time": "2024-10-07T15:03:59.694Z"
   },
   {
    "duration": 6,
    "start_time": "2024-10-07T15:04:58.755Z"
   },
   {
    "duration": 17,
    "start_time": "2024-10-07T15:06:47.820Z"
   },
   {
    "duration": 7,
    "start_time": "2024-10-07T15:06:48.351Z"
   },
   {
    "duration": 427,
    "start_time": "2024-10-07T15:08:15.225Z"
   },
   {
    "duration": 550,
    "start_time": "2024-10-07T15:08:17.241Z"
   },
   {
    "duration": 1172,
    "start_time": "2024-10-07T15:08:53.137Z"
   },
   {
    "duration": 92,
    "start_time": "2024-10-07T15:08:54.310Z"
   },
   {
    "duration": 10,
    "start_time": "2024-10-07T15:08:54.404Z"
   },
   {
    "duration": 22,
    "start_time": "2024-10-07T15:08:54.415Z"
   },
   {
    "duration": 8,
    "start_time": "2024-10-07T15:08:54.441Z"
   },
   {
    "duration": 19,
    "start_time": "2024-10-07T15:08:54.450Z"
   },
   {
    "duration": 7,
    "start_time": "2024-10-07T15:08:54.470Z"
   },
   {
    "duration": 4,
    "start_time": "2024-10-07T15:08:54.479Z"
   },
   {
    "duration": 330,
    "start_time": "2024-10-07T15:08:54.485Z"
   },
   {
    "duration": 21,
    "start_time": "2024-10-07T15:08:54.817Z"
   },
   {
    "duration": 220,
    "start_time": "2024-10-07T15:08:54.840Z"
   },
   {
    "duration": 6,
    "start_time": "2024-10-07T15:08:55.062Z"
   },
   {
    "duration": 329,
    "start_time": "2024-10-07T15:08:55.070Z"
   },
   {
    "duration": 8,
    "start_time": "2024-10-07T15:08:55.402Z"
   },
   {
    "duration": 321,
    "start_time": "2024-10-07T15:08:55.412Z"
   },
   {
    "duration": 8,
    "start_time": "2024-10-07T15:08:55.736Z"
   },
   {
    "duration": 364,
    "start_time": "2024-10-07T15:08:55.746Z"
   },
   {
    "duration": 27,
    "start_time": "2024-10-07T15:08:56.112Z"
   },
   {
    "duration": 17,
    "start_time": "2024-10-07T15:08:56.141Z"
   },
   {
    "duration": 13,
    "start_time": "2024-10-07T15:08:56.160Z"
   },
   {
    "duration": 11,
    "start_time": "2024-10-07T15:08:56.175Z"
   },
   {
    "duration": 474,
    "start_time": "2024-10-07T15:08:56.188Z"
   },
   {
    "duration": 419,
    "start_time": "2024-10-07T15:08:56.663Z"
   },
   {
    "duration": 22,
    "start_time": "2024-10-07T15:08:57.084Z"
   },
   {
    "duration": 53,
    "start_time": "2024-10-07T15:08:57.108Z"
   },
   {
    "duration": 13,
    "start_time": "2024-10-07T15:08:57.163Z"
   },
   {
    "duration": 115,
    "start_time": "2024-10-07T15:08:57.177Z"
   },
   {
    "duration": 0,
    "start_time": "2024-10-07T15:08:57.294Z"
   },
   {
    "duration": 0,
    "start_time": "2024-10-07T15:08:57.295Z"
   },
   {
    "duration": 0,
    "start_time": "2024-10-07T15:08:57.297Z"
   },
   {
    "duration": 0,
    "start_time": "2024-10-07T15:08:57.298Z"
   },
   {
    "duration": 0,
    "start_time": "2024-10-07T15:08:57.299Z"
   },
   {
    "duration": 82,
    "start_time": "2024-10-08T05:41:06.689Z"
   },
   {
    "duration": 58,
    "start_time": "2024-10-08T05:49:48.259Z"
   },
   {
    "duration": 1442,
    "start_time": "2024-10-08T05:49:52.107Z"
   },
   {
    "duration": 319,
    "start_time": "2024-10-08T05:49:53.551Z"
   },
   {
    "duration": 12,
    "start_time": "2024-10-08T05:49:53.871Z"
   },
   {
    "duration": 35,
    "start_time": "2024-10-08T05:49:53.885Z"
   },
   {
    "duration": 14,
    "start_time": "2024-10-08T05:49:53.923Z"
   },
   {
    "duration": 27,
    "start_time": "2024-10-08T05:49:53.940Z"
   },
   {
    "duration": 22,
    "start_time": "2024-10-08T05:49:53.969Z"
   },
   {
    "duration": 22,
    "start_time": "2024-10-08T05:49:53.994Z"
   },
   {
    "duration": 400,
    "start_time": "2024-10-08T05:49:54.018Z"
   },
   {
    "duration": 9,
    "start_time": "2024-10-08T05:49:54.420Z"
   },
   {
    "duration": 268,
    "start_time": "2024-10-08T05:49:54.430Z"
   },
   {
    "duration": 8,
    "start_time": "2024-10-08T05:49:54.701Z"
   },
   {
    "duration": 316,
    "start_time": "2024-10-08T05:49:54.710Z"
   },
   {
    "duration": 19,
    "start_time": "2024-10-08T05:49:55.029Z"
   },
   {
    "duration": 328,
    "start_time": "2024-10-08T05:49:55.049Z"
   },
   {
    "duration": 9,
    "start_time": "2024-10-08T05:49:55.378Z"
   },
   {
    "duration": 348,
    "start_time": "2024-10-08T05:49:55.389Z"
   },
   {
    "duration": 26,
    "start_time": "2024-10-08T05:49:55.739Z"
   },
   {
    "duration": 16,
    "start_time": "2024-10-08T05:49:55.767Z"
   },
   {
    "duration": 13,
    "start_time": "2024-10-08T05:49:55.785Z"
   },
   {
    "duration": 10,
    "start_time": "2024-10-08T05:49:55.800Z"
   },
   {
    "duration": 510,
    "start_time": "2024-10-08T05:49:55.812Z"
   },
   {
    "duration": 503,
    "start_time": "2024-10-08T05:49:56.324Z"
   },
   {
    "duration": 30,
    "start_time": "2024-10-08T05:49:56.828Z"
   },
   {
    "duration": 33,
    "start_time": "2024-10-08T05:49:56.859Z"
   },
   {
    "duration": 13,
    "start_time": "2024-10-08T05:49:56.894Z"
   },
   {
    "duration": 95,
    "start_time": "2024-10-08T05:49:56.909Z"
   },
   {
    "duration": 0,
    "start_time": "2024-10-08T05:49:57.005Z"
   },
   {
    "duration": 0,
    "start_time": "2024-10-08T05:49:57.006Z"
   },
   {
    "duration": 0,
    "start_time": "2024-10-08T05:49:57.007Z"
   },
   {
    "duration": 0,
    "start_time": "2024-10-08T05:49:57.008Z"
   },
   {
    "duration": 0,
    "start_time": "2024-10-08T05:49:57.009Z"
   },
   {
    "duration": 86,
    "start_time": "2024-10-08T05:50:30.289Z"
   },
   {
    "duration": 28,
    "start_time": "2024-10-08T05:50:53.484Z"
   },
   {
    "duration": 95,
    "start_time": "2024-10-08T05:51:10.268Z"
   },
   {
    "duration": 92,
    "start_time": "2024-10-08T05:51:32.818Z"
   },
   {
    "duration": 21,
    "start_time": "2024-10-08T05:51:53.364Z"
   },
   {
    "duration": 19,
    "start_time": "2024-10-08T05:53:11.298Z"
   },
   {
    "duration": 17,
    "start_time": "2024-10-08T05:54:18.446Z"
   },
   {
    "duration": 18,
    "start_time": "2024-10-08T05:54:24.456Z"
   },
   {
    "duration": 100,
    "start_time": "2024-10-08T05:54:36.273Z"
   },
   {
    "duration": 81,
    "start_time": "2024-10-08T05:54:59.410Z"
   },
   {
    "duration": 309,
    "start_time": "2024-10-08T05:55:46.221Z"
   },
   {
    "duration": 10,
    "start_time": "2024-10-08T06:02:25.388Z"
   },
   {
    "duration": 10,
    "start_time": "2024-10-08T06:02:35.894Z"
   },
   {
    "duration": 350,
    "start_time": "2024-10-08T06:03:02.110Z"
   },
   {
    "duration": 347,
    "start_time": "2024-10-08T06:06:16.000Z"
   },
   {
    "duration": 352,
    "start_time": "2024-10-08T06:06:47.070Z"
   },
   {
    "duration": 360,
    "start_time": "2024-10-08T06:08:46.334Z"
   },
   {
    "duration": 11,
    "start_time": "2024-10-08T06:08:52.472Z"
   },
   {
    "duration": 26,
    "start_time": "2024-10-08T06:12:55.004Z"
   },
   {
    "duration": 884,
    "start_time": "2024-10-08T06:23:03.007Z"
   },
   {
    "duration": 44,
    "start_time": "2024-10-08T06:58:24.357Z"
   },
   {
    "duration": 22,
    "start_time": "2024-10-08T06:58:42.855Z"
   },
   {
    "duration": 9,
    "start_time": "2024-10-08T06:59:46.767Z"
   },
   {
    "duration": 7,
    "start_time": "2024-10-08T07:01:38.174Z"
   },
   {
    "duration": 83,
    "start_time": "2024-10-08T07:02:01.371Z"
   },
   {
    "duration": 13,
    "start_time": "2024-10-08T07:04:03.226Z"
   },
   {
    "duration": 1030,
    "start_time": "2024-10-08T07:04:10.318Z"
   },
   {
    "duration": 0,
    "start_time": "2024-10-08T07:04:11.350Z"
   },
   {
    "duration": 4,
    "start_time": "2024-10-08T07:04:30.279Z"
   },
   {
    "duration": 156,
    "start_time": "2024-10-08T07:04:30.285Z"
   },
   {
    "duration": 20,
    "start_time": "2024-10-08T07:04:30.443Z"
   },
   {
    "duration": 37,
    "start_time": "2024-10-08T07:04:30.465Z"
   },
   {
    "duration": 54,
    "start_time": "2024-10-08T07:04:30.504Z"
   },
   {
    "duration": 44,
    "start_time": "2024-10-08T07:04:30.561Z"
   },
   {
    "duration": 41,
    "start_time": "2024-10-08T07:04:30.607Z"
   },
   {
    "duration": 53,
    "start_time": "2024-10-08T07:04:30.650Z"
   },
   {
    "duration": 308,
    "start_time": "2024-10-08T07:04:30.705Z"
   },
   {
    "duration": 6,
    "start_time": "2024-10-08T07:04:31.015Z"
   },
   {
    "duration": 256,
    "start_time": "2024-10-08T07:04:31.022Z"
   },
   {
    "duration": 7,
    "start_time": "2024-10-08T07:04:31.280Z"
   },
   {
    "duration": 341,
    "start_time": "2024-10-08T07:04:31.289Z"
   },
   {
    "duration": 20,
    "start_time": "2024-10-08T07:04:31.632Z"
   },
   {
    "duration": 421,
    "start_time": "2024-10-08T07:04:31.655Z"
   },
   {
    "duration": 10,
    "start_time": "2024-10-08T07:04:32.077Z"
   },
   {
    "duration": 359,
    "start_time": "2024-10-08T07:04:32.089Z"
   },
   {
    "duration": 10,
    "start_time": "2024-10-08T07:04:32.450Z"
   },
   {
    "duration": 387,
    "start_time": "2024-10-08T07:04:32.462Z"
   },
   {
    "duration": 12,
    "start_time": "2024-10-08T07:04:32.851Z"
   },
   {
    "duration": 74,
    "start_time": "2024-10-08T07:04:32.865Z"
   },
   {
    "duration": 15,
    "start_time": "2024-10-08T07:04:32.940Z"
   },
   {
    "duration": 30,
    "start_time": "2024-10-08T07:04:32.957Z"
   },
   {
    "duration": 13,
    "start_time": "2024-10-08T07:04:32.989Z"
   },
   {
    "duration": 27,
    "start_time": "2024-10-08T07:04:33.004Z"
   },
   {
    "duration": 400,
    "start_time": "2024-10-08T07:04:33.033Z"
   },
   {
    "duration": 415,
    "start_time": "2024-10-08T07:04:33.435Z"
   },
   {
    "duration": 854,
    "start_time": "2024-10-08T07:04:33.852Z"
   },
   {
    "duration": 23,
    "start_time": "2024-10-08T07:04:34.707Z"
   },
   {
    "duration": 39,
    "start_time": "2024-10-08T07:04:34.746Z"
   },
   {
    "duration": 19,
    "start_time": "2024-10-08T07:04:34.787Z"
   },
   {
    "duration": 7,
    "start_time": "2024-10-08T07:04:34.807Z"
   },
   {
    "duration": 34,
    "start_time": "2024-10-08T07:04:34.818Z"
   },
   {
    "duration": 58,
    "start_time": "2024-10-08T07:04:34.854Z"
   },
   {
    "duration": 8,
    "start_time": "2024-10-08T07:04:34.914Z"
   },
   {
    "duration": 449,
    "start_time": "2024-10-08T07:04:34.923Z"
   },
   {
    "duration": 463,
    "start_time": "2024-10-08T07:04:35.374Z"
   },
   {
    "duration": 12,
    "start_time": "2024-10-08T07:33:12.814Z"
   },
   {
    "duration": 9,
    "start_time": "2024-10-08T07:34:20.253Z"
   },
   {
    "duration": 7,
    "start_time": "2024-10-08T07:34:23.852Z"
   },
   {
    "duration": 3,
    "start_time": "2024-10-08T07:34:35.732Z"
   },
   {
    "duration": 138,
    "start_time": "2024-10-08T07:34:35.737Z"
   },
   {
    "duration": 23,
    "start_time": "2024-10-08T07:34:35.877Z"
   },
   {
    "duration": 28,
    "start_time": "2024-10-08T07:34:35.902Z"
   },
   {
    "duration": 34,
    "start_time": "2024-10-08T07:34:35.933Z"
   },
   {
    "duration": 129,
    "start_time": "2024-10-08T07:34:35.969Z"
   },
   {
    "duration": 8,
    "start_time": "2024-10-08T07:34:36.099Z"
   },
   {
    "duration": 31,
    "start_time": "2024-10-08T07:34:36.109Z"
   },
   {
    "duration": 372,
    "start_time": "2024-10-08T07:34:36.142Z"
   },
   {
    "duration": 6,
    "start_time": "2024-10-08T07:34:36.515Z"
   },
   {
    "duration": 259,
    "start_time": "2024-10-08T07:34:36.523Z"
   },
   {
    "duration": 8,
    "start_time": "2024-10-08T07:34:36.784Z"
   },
   {
    "duration": 342,
    "start_time": "2024-10-08T07:34:36.795Z"
   },
   {
    "duration": 8,
    "start_time": "2024-10-08T07:34:37.146Z"
   },
   {
    "duration": 359,
    "start_time": "2024-10-08T07:34:37.156Z"
   },
   {
    "duration": 9,
    "start_time": "2024-10-08T07:34:37.517Z"
   },
   {
    "duration": 365,
    "start_time": "2024-10-08T07:34:37.529Z"
   },
   {
    "duration": 9,
    "start_time": "2024-10-08T07:34:37.896Z"
   },
   {
    "duration": 363,
    "start_time": "2024-10-08T07:34:37.907Z"
   },
   {
    "duration": 11,
    "start_time": "2024-10-08T07:34:38.272Z"
   },
   {
    "duration": 19,
    "start_time": "2024-10-08T07:34:38.285Z"
   },
   {
    "duration": 42,
    "start_time": "2024-10-08T07:34:38.306Z"
   },
   {
    "duration": 27,
    "start_time": "2024-10-08T07:34:38.349Z"
   },
   {
    "duration": 11,
    "start_time": "2024-10-08T07:34:38.377Z"
   },
   {
    "duration": 10,
    "start_time": "2024-10-08T07:34:38.389Z"
   },
   {
    "duration": 415,
    "start_time": "2024-10-08T07:34:38.400Z"
   },
   {
    "duration": 379,
    "start_time": "2024-10-08T07:34:38.818Z"
   },
   {
    "duration": 875,
    "start_time": "2024-10-08T07:34:39.200Z"
   },
   {
    "duration": 22,
    "start_time": "2024-10-08T07:34:40.077Z"
   },
   {
    "duration": 63,
    "start_time": "2024-10-08T07:34:40.100Z"
   },
   {
    "duration": 21,
    "start_time": "2024-10-08T07:34:40.165Z"
   },
   {
    "duration": 8,
    "start_time": "2024-10-08T07:34:40.187Z"
   },
   {
    "duration": 16,
    "start_time": "2024-10-08T07:34:40.197Z"
   },
   {
    "duration": 31,
    "start_time": "2024-10-08T07:34:40.215Z"
   },
   {
    "duration": 107,
    "start_time": "2024-10-08T07:34:40.248Z"
   },
   {
    "duration": 431,
    "start_time": "2024-10-08T07:34:40.356Z"
   },
   {
    "duration": 325,
    "start_time": "2024-10-08T07:34:40.791Z"
   },
   {
    "duration": 1081,
    "start_time": "2024-10-08T10:03:03.016Z"
   },
   {
    "duration": 296,
    "start_time": "2024-10-08T10:03:04.099Z"
   },
   {
    "duration": 18,
    "start_time": "2024-10-08T10:03:04.397Z"
   },
   {
    "duration": 31,
    "start_time": "2024-10-08T10:03:04.416Z"
   },
   {
    "duration": 40,
    "start_time": "2024-10-08T10:03:04.448Z"
   },
   {
    "duration": 29,
    "start_time": "2024-10-08T10:03:04.489Z"
   },
   {
    "duration": 16,
    "start_time": "2024-10-08T10:03:04.519Z"
   },
   {
    "duration": 15,
    "start_time": "2024-10-08T10:03:04.536Z"
   },
   {
    "duration": 304,
    "start_time": "2024-10-08T10:03:04.553Z"
   },
   {
    "duration": 6,
    "start_time": "2024-10-08T10:03:04.860Z"
   },
   {
    "duration": 363,
    "start_time": "2024-10-08T10:03:04.867Z"
   },
   {
    "duration": 8,
    "start_time": "2024-10-08T10:03:05.232Z"
   },
   {
    "duration": 268,
    "start_time": "2024-10-08T10:03:05.308Z"
   },
   {
    "duration": 7,
    "start_time": "2024-10-08T10:03:05.578Z"
   },
   {
    "duration": 290,
    "start_time": "2024-10-08T10:03:05.586Z"
   },
   {
    "duration": 7,
    "start_time": "2024-10-08T10:03:05.877Z"
   },
   {
    "duration": 291,
    "start_time": "2024-10-08T10:03:05.885Z"
   },
   {
    "duration": 7,
    "start_time": "2024-10-08T10:03:06.178Z"
   },
   {
    "duration": 336,
    "start_time": "2024-10-08T10:03:06.186Z"
   },
   {
    "duration": 9,
    "start_time": "2024-10-08T10:03:06.523Z"
   },
   {
    "duration": 41,
    "start_time": "2024-10-08T10:03:06.533Z"
   },
   {
    "duration": 56,
    "start_time": "2024-10-08T10:03:06.575Z"
   },
   {
    "duration": 110,
    "start_time": "2024-10-08T10:03:06.632Z"
   },
   {
    "duration": 22,
    "start_time": "2024-10-08T10:03:06.744Z"
   },
   {
    "duration": 45,
    "start_time": "2024-10-08T10:03:06.767Z"
   },
   {
    "duration": 627,
    "start_time": "2024-10-08T10:03:06.813Z"
   },
   {
    "duration": 367,
    "start_time": "2024-10-08T10:03:07.442Z"
   },
   {
    "duration": 800,
    "start_time": "2024-10-08T10:03:07.812Z"
   },
   {
    "duration": 18,
    "start_time": "2024-10-08T10:03:08.613Z"
   },
   {
    "duration": 88,
    "start_time": "2024-10-08T10:03:08.633Z"
   },
   {
    "duration": 16,
    "start_time": "2024-10-08T10:03:08.722Z"
   },
   {
    "duration": 10,
    "start_time": "2024-10-08T10:03:08.740Z"
   },
   {
    "duration": 6,
    "start_time": "2024-10-08T10:03:08.752Z"
   },
   {
    "duration": 13,
    "start_time": "2024-10-08T10:03:08.760Z"
   },
   {
    "duration": 16,
    "start_time": "2024-10-08T10:03:08.775Z"
   },
   {
    "duration": 446,
    "start_time": "2024-10-08T10:03:08.793Z"
   },
   {
    "duration": 387,
    "start_time": "2024-10-08T10:03:09.240Z"
   },
   {
    "duration": 1003,
    "start_time": "2024-10-08T10:03:33.131Z"
   },
   {
    "duration": 101,
    "start_time": "2024-10-08T10:03:34.136Z"
   },
   {
    "duration": 22,
    "start_time": "2024-10-08T10:03:34.239Z"
   },
   {
    "duration": 33,
    "start_time": "2024-10-08T10:03:34.263Z"
   },
   {
    "duration": 26,
    "start_time": "2024-10-08T10:03:34.298Z"
   },
   {
    "duration": 21,
    "start_time": "2024-10-08T10:03:34.326Z"
   },
   {
    "duration": 7,
    "start_time": "2024-10-08T10:03:34.349Z"
   },
   {
    "duration": 35,
    "start_time": "2024-10-08T10:03:34.358Z"
   },
   {
    "duration": 276,
    "start_time": "2024-10-08T10:03:34.395Z"
   },
   {
    "duration": 7,
    "start_time": "2024-10-08T10:03:34.673Z"
   },
   {
    "duration": 232,
    "start_time": "2024-10-08T10:03:34.682Z"
   },
   {
    "duration": 7,
    "start_time": "2024-10-08T10:03:34.916Z"
   },
   {
    "duration": 439,
    "start_time": "2024-10-08T10:03:34.924Z"
   },
   {
    "duration": 7,
    "start_time": "2024-10-08T10:03:35.365Z"
   },
   {
    "duration": 298,
    "start_time": "2024-10-08T10:03:35.374Z"
   },
   {
    "duration": 39,
    "start_time": "2024-10-08T10:03:35.674Z"
   },
   {
    "duration": 309,
    "start_time": "2024-10-08T10:03:35.714Z"
   },
   {
    "duration": 8,
    "start_time": "2024-10-08T10:03:36.024Z"
   },
   {
    "duration": 339,
    "start_time": "2024-10-08T10:03:36.033Z"
   },
   {
    "duration": 10,
    "start_time": "2024-10-08T10:03:36.373Z"
   },
   {
    "duration": 40,
    "start_time": "2024-10-08T10:03:36.385Z"
   },
   {
    "duration": 25,
    "start_time": "2024-10-08T10:03:36.427Z"
   },
   {
    "duration": 29,
    "start_time": "2024-10-08T10:03:36.454Z"
   },
   {
    "duration": 32,
    "start_time": "2024-10-08T10:03:36.484Z"
   },
   {
    "duration": 62,
    "start_time": "2024-10-08T10:03:36.518Z"
   },
   {
    "duration": 344,
    "start_time": "2024-10-08T10:03:36.582Z"
   },
   {
    "duration": 393,
    "start_time": "2024-10-08T10:03:36.928Z"
   },
   {
    "duration": 802,
    "start_time": "2024-10-08T10:03:37.324Z"
   },
   {
    "duration": 17,
    "start_time": "2024-10-08T10:03:38.128Z"
   },
   {
    "duration": 30,
    "start_time": "2024-10-08T10:03:38.147Z"
   },
   {
    "duration": 39,
    "start_time": "2024-10-08T10:03:38.178Z"
   },
   {
    "duration": 6,
    "start_time": "2024-10-08T10:03:38.219Z"
   },
   {
    "duration": 16,
    "start_time": "2024-10-08T10:03:38.227Z"
   },
   {
    "duration": 33,
    "start_time": "2024-10-08T10:03:38.245Z"
   },
   {
    "duration": 9,
    "start_time": "2024-10-08T10:03:38.280Z"
   },
   {
    "duration": 424,
    "start_time": "2024-10-08T10:03:38.291Z"
   },
   {
    "duration": 410,
    "start_time": "2024-10-08T10:03:38.717Z"
   },
   {
    "duration": 1035,
    "start_time": "2024-10-08T10:54:36.433Z"
   },
   {
    "duration": 85,
    "start_time": "2024-10-08T10:54:37.470Z"
   },
   {
    "duration": 20,
    "start_time": "2024-10-08T10:54:37.557Z"
   },
   {
    "duration": 13,
    "start_time": "2024-10-08T10:54:37.578Z"
   },
   {
    "duration": 23,
    "start_time": "2024-10-08T10:54:37.594Z"
   },
   {
    "duration": 17,
    "start_time": "2024-10-08T10:54:37.619Z"
   },
   {
    "duration": 8,
    "start_time": "2024-10-08T10:54:37.637Z"
   },
   {
    "duration": 16,
    "start_time": "2024-10-08T10:54:37.646Z"
   },
   {
    "duration": 302,
    "start_time": "2024-10-08T10:54:37.664Z"
   },
   {
    "duration": 6,
    "start_time": "2024-10-08T10:54:37.968Z"
   },
   {
    "duration": 233,
    "start_time": "2024-10-08T10:54:37.976Z"
   },
   {
    "duration": 7,
    "start_time": "2024-10-08T10:54:38.211Z"
   },
   {
    "duration": 260,
    "start_time": "2024-10-08T10:54:38.220Z"
   },
   {
    "duration": 7,
    "start_time": "2024-10-08T10:54:38.483Z"
   },
   {
    "duration": 284,
    "start_time": "2024-10-08T10:54:38.492Z"
   },
   {
    "duration": 8,
    "start_time": "2024-10-08T10:54:38.777Z"
   },
   {
    "duration": 306,
    "start_time": "2024-10-08T10:54:38.786Z"
   },
   {
    "duration": 15,
    "start_time": "2024-10-08T10:54:39.094Z"
   },
   {
    "duration": 471,
    "start_time": "2024-10-08T10:54:39.111Z"
   },
   {
    "duration": 10,
    "start_time": "2024-10-08T10:54:39.583Z"
   },
   {
    "duration": 35,
    "start_time": "2024-10-08T10:54:39.595Z"
   },
   {
    "duration": 13,
    "start_time": "2024-10-08T10:54:39.631Z"
   },
   {
    "duration": 53,
    "start_time": "2024-10-08T10:54:39.646Z"
   },
   {
    "duration": 55,
    "start_time": "2024-10-08T10:54:39.701Z"
   },
   {
    "duration": 47,
    "start_time": "2024-10-08T10:54:39.758Z"
   },
   {
    "duration": 356,
    "start_time": "2024-10-08T10:54:39.806Z"
   },
   {
    "duration": 361,
    "start_time": "2024-10-08T10:54:40.164Z"
   },
   {
    "duration": 826,
    "start_time": "2024-10-08T10:54:40.526Z"
   },
   {
    "duration": 25,
    "start_time": "2024-10-08T10:54:41.354Z"
   },
   {
    "duration": 66,
    "start_time": "2024-10-08T10:54:41.382Z"
   },
   {
    "duration": 15,
    "start_time": "2024-10-08T10:54:41.450Z"
   },
   {
    "duration": 7,
    "start_time": "2024-10-08T10:54:41.467Z"
   },
   {
    "duration": 11,
    "start_time": "2024-10-08T10:54:41.476Z"
   },
   {
    "duration": 10,
    "start_time": "2024-10-08T10:54:41.507Z"
   },
   {
    "duration": 17,
    "start_time": "2024-10-08T10:54:41.519Z"
   },
   {
    "duration": 402,
    "start_time": "2024-10-08T10:54:41.538Z"
   },
   {
    "duration": 383,
    "start_time": "2024-10-08T10:54:41.942Z"
   }
  ],
  "kernelspec": {
   "display_name": ".venv",
   "language": "python",
   "name": "python3"
  },
  "language_info": {
   "codemirror_mode": {
    "name": "ipython",
    "version": 3
   },
   "file_extension": ".py",
   "mimetype": "text/x-python",
   "name": "python",
   "nbconvert_exporter": "python",
   "pygments_lexer": "ipython3",
   "version": "3.10.12"
  },
  "toc": {
   "base_numbering": 1,
   "nav_menu": {},
   "number_sections": true,
   "sideBar": true,
   "skip_h1_title": true,
   "title_cell": "Table of Contents",
   "title_sidebar": "Contents",
   "toc_cell": false,
   "toc_position": {
    "height": "calc(100% - 180px)",
    "left": "10px",
    "top": "150px",
    "width": "165px"
   },
   "toc_section_display": true,
   "toc_window_display": true
  }
 },
 "nbformat": 4,
 "nbformat_minor": 5
}
