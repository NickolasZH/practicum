{
 "cells": [
  {
   "cell_type": "markdown",
   "metadata": {},
   "source": [
    "<div class=\"alert alert-success\">\n",
    "<b>Комментарий ревьюера 3:</b> Николай, тетрадка, к сожалению, пришла без изменений. Возможно, не сработало автосохранение. В следующие разы не забывай на всякий случай перед отправкой самостоятельно проживать кнопку сохранения, чтобы не случалось таких казусов.\n",
    "    \n",
    "По сравнению с прошлой версией сейчас добавила еще один комментарий по поводу кодирования. Только сейчас заметила эту неполадку."
   ]
  },
  {
   "cell_type": "markdown",
   "metadata": {},
   "source": [
    "<div style=\"background: #B0E0E6; padding: 5px; border: 1px solid SteelBlue; border-radius: 5px;\">\n",
    "    <font color='4682B4'><u><b>КОММЕНТАРИЙ СТУДЕНТА</b></u></font>\n",
    "    <br />\n",
    "    <font color='4682B4'>Юлия, да, я действительно внёс необходимые правки и ноутбук не сохранил их. Я также перезагрузил ядро несколько раз и \"прогнал\" код. Поделюсь, я очень устал от низкого качества работоспособности сервисов практикума :-(</font>\n",
    "</div>"
   ]
  },
  {
   "cell_type": "markdown",
   "metadata": {},
   "source": [
    "<div class=\"alert alert-success\">\n",
    "<b>Комментарий ревьюера 4:</b> Понимаю, сама не раз сталкивалась с несохранившейся проверкой :( К сожалени, едва ли как могу повлиять, поскольку сервисами занимаются совершенно другие подразделения. Могу лишь дать советы, как перестраховаться: не забывать нажимать кнопку сохранения перед отправкой, или даже скачивать тетрадку себе на компьютер."
   ]
  },
  {
   "cell_type": "markdown",
   "metadata": {},
   "source": [
    "<div style=\"border:solid Chocolate 2px; padding: 40px\">\n",
    "<b>Привет, Николай!👋</b>\n",
    "    \n",
    "Меня зовут Зуева Юлия, можно просто Юля 😏 Я буду ревьюером твоего проекта. Предлагаю обращаться на \"ты\", но если это неудобно, пожалуйста, скажи об этом!\n",
    "    \n",
    "Моя основная цель - помочь тебе стать компетентным Data Scientist'ом: вместе преодолеть трудности и еще больше развить твои сильные навыки 💪 Очень постараюсь сделать это как можно быстрее :) В твоей работе я оставила комментарии, которые должны в этом помочь. Для твоего удобства комментарии расскрашены разными цветами: \n",
    "<br/>\n",
    "<div class=\"alert alert-success\">\n",
    "<h3> Комментарий ревьюера <a class=\"tocSkip\"> </h3>\n",
    "    \n",
    "<b>Все отлично!👍:</b> В случае, если решение на отдельном шаге является полностью правильным, или если я посчитаю нужным тебя за что-то похвалить. На такие решения можно опираться в будущих проектах.\n",
    "</div>\n",
    "<br/>\n",
    "<div class=\"alert alert-warning\">\n",
    "<h3> Комментарий ревьюера <a class=\"tocSkip\"> </h3>\n",
    "    \n",
    "<b>Некоторые замечания и рекомендации💡:</b> В случае, когда решение на отдельном шаге станет еще лучше, если внести небольшие коррективы. Ты можешь учесть эти комментарии при выполнении будущих заданий или доработать проект сейчас (однако это не обязательно).\n",
    "</div>\n",
    "<br/>\n",
    "<div class=\"alert alert-block alert-danger\">\n",
    "<h3> Комментарий ревьюера <a class=\"tocSkip\"></h3>\n",
    "    \n",
    "<b>На доработку🤔:</b>\n",
    " В случае, когда решение на отдельном шаге требует существенной переработки и внесения правок. Напоминаю, что проект не может быть принят с первого раза, если ревью содержит комментарии, рекомендующие доработать шаги.\n",
    "</div>\n",
    "    \n",
    "Чтобы наша с тобой работа была еще эффективнее, ты точно так же можешь оставлять комментарии и задавать мне вопросы. Для таких случаев, пожалуйста, выбери собственное оформление комментариев, которое будет отличаться от моего, чтобы не создавалась путаница. По этой же причине попрошу тебя не удалять и не изменять мои комментарии. Все это позволит лучше ориентироваться в нашем с тобой диалоге, а повторную проверку (в случае ее необходимости) выполнять оперативнее 🚀\n",
    "    \n",
    "Не спеши расстраиваться, если что-то не удалось с первого раза. Вместе мы обязательно разберемся со всеми трудностями! 🤓"
   ]
  },
  {
   "cell_type": "markdown",
   "metadata": {},
   "source": [
    "<div style=\"background: #B0E0E6; padding: 5px; border: 1px solid SteelBlue; border-radius: 5px;\">\n",
    "    <font color='4682B4'><u><b>КОММЕНТАРИЙ СТУДЕНТА</b></u></font>\n",
    "    <br />\n",
    "    <font color='4682B4'>Добрый день, Юлия! Спасибо за обратную связь.</font>\n",
    "</div>"
   ]
  },
  {
   "cell_type": "markdown",
   "metadata": {},
   "source": [
    "<div class=\"alert alert-success\">\n",
    "<b>Комментарий ревьюера 2:</b> Рада была помочь 😉"
   ]
  },
  {
   "cell_type": "markdown",
   "metadata": {},
   "source": [
    "# Определение стоимости автомобилей"
   ]
  },
  {
   "cell_type": "markdown",
   "metadata": {},
   "source": [
    "**Цель проекта:**  \n",
    "Разработать модель машинного обучения, способную предсказывать рыночную стоимость автомобиля на основе его характеристик. Это позволит сервису «Не бит, не крашен» привлечь новых клиентов, предоставляя им возможность оценки стоимости транспортного средства.\n",
    "\n",
    "**Описание проекта:**  \n",
    "Сервис по продаже автомобилей с пробегом разрабатывает приложение для оценки стоимости автомобилей. В распоряжении имеются данные о технических характеристиках, комплектации и ценах других автомобилей. Основная задача — построить модель, которая сможет определять рыночную стоимость автомобиля, учитывая ключевые факторы.\n",
    "\n",
    "**Критерии, важные заказчику:**  \n",
    "- Высокое качество предсказания стоимости автомобиля;\n",
    "- Низкое время обучения модели;\n",
    "- Быстрое время предсказания.\n",
    "\n",
    "---\n",
    "\n",
    "**Этапы выполнения проекта:**\n",
    "\n",
    "**1. Загрузка и изучение данных**\n",
    "- Загрузить данные из файла `/datasets/autos.csv`.\n",
    "- Ознакомиться со структурой данных: типы признаков, размерность датасета.\n",
    "- Провести первичный анализ данных.\n",
    "\n",
    "**2. Предобработка данных**\n",
    "- Заполнить пропущенные значения\n",
    "- Обнаружить и обработать аномалии в данных.\n",
    "- Исключить неинформативные признаки.\n",
    "\n",
    "**3. Разделение данных**\n",
    "- Определить целевой признак (`Price`).\n",
    "- Определить категориальные и числовые признаки.\n",
    "- Разделить выборку на обучающую и тестовую.\n",
    "\n",
    "**4. Обучение и тестирование моделей**\n",
    "- Подготовить `Pipeline` для обработки данных и обучения моделей.\n",
    "- Обучить несколько моделей:\n",
    "  - Линейная регрессия (`LinearRegression`).\n",
    "  - Случайный лес (`RandomForestRegressor`).\n",
    "  - Градиентный бустинг (`LightGBM`).\n",
    "- Подобрать гиперпараметры для моделей с использованием `GridSearchCV`.\n",
    "\n",
    "**5. Оценка моделей**\n",
    "- Оценить модели по метрике: **RMSE (Root Mean Squared Error)** — корень из среднеквадратичной ошибки.\n",
    "- Проанализировать:\n",
    "  - Время обучения моделей.\n",
    "  - Время предсказания.\n",
    "  - Качество предсказаний.\n",
    "\n",
    "**6. Выбор лучшей модели и тестирование**\n",
    "- Выбрать модель, удовлетворяющую критериям заказчика (лучшее соотношение качества, скорости обучения и предсказания).\n",
    "- Оценить качество выбранной модели на тестовой выборке.\n",
    "\n",
    "**7. Выводы**\n",
    "- Проанализировать результаты работы моделей.\n",
    "\n"
   ]
  },
  {
   "cell_type": "markdown",
   "metadata": {},
   "source": [
    "<div class=\"alert alert-success\">\n",
    "<h3> Комментарий ревьюера <a class=\"tocSkip\"> </h3> \n",
    "    \n",
    "<b>Все отлично! 👍:</b> Очень хорошо, что оставляешь в начале проекта его описание! Любой, кто захочет взглянуть на работу, сможет сразу погрузиться в суть задачи :)"
   ]
  },
  {
   "cell_type": "markdown",
   "metadata": {},
   "source": [
    "## Подготовка данных"
   ]
  },
  {
   "cell_type": "markdown",
   "metadata": {},
   "source": [
    "### Загрузка данных"
   ]
  },
  {
   "cell_type": "code",
   "execution_count": 1,
   "metadata": {},
   "outputs": [],
   "source": [
    "# Установка библиотек\n",
    "!pip install lightgbm -q\n",
    "!pip install phik -q\n",
    "!pip install scikit-learn==1.6.0 --upgrade -q\n",
    "!pip install lightgbm==4.5.0 --upgrade -q\n",
    "\n",
    "# Базовые библиотеки\n",
    "import os, time, sklearn, warnings\n",
    "import numpy as np\n",
    "import pandas as pd\n",
    "import matplotlib.pyplot as plt\n",
    "import seaborn as sns\n",
    "from datetime import datetime\n",
    "\n",
    "# Корреляционный анализ\n",
    "import phik\n",
    "\n",
    "# Модели и обработка данных\n",
    "from sklearn.model_selection import cross_val_score, train_test_split, GridSearchCV, RandomizedSearchCV, cross_validate\n",
    "from sklearn.preprocessing import OneHotEncoder, StandardScaler, OrdinalEncoder\n",
    "from sklearn.compose import ColumnTransformer\n",
    "from sklearn.impute import SimpleImputer\n",
    "from sklearn.pipeline import Pipeline\n",
    "from sklearn.linear_model import LinearRegression\n",
    "from sklearn.ensemble import RandomForestRegressor\n",
    "import lightgbm as lgb\n",
    "\n",
    "# Метрики\n",
    "from sklearn.metrics import mean_absolute_error, mean_squared_error\n",
    "\n",
    "# Константы\n",
    "RANDOM_STATE = 42"
   ]
  },
  {
   "cell_type": "code",
   "execution_count": 2,
   "metadata": {},
   "outputs": [
    {
     "name": "stdout",
     "output_type": "stream",
     "text": [
      "1.6.0\n",
      "4.5.0\n"
     ]
    }
   ],
   "source": [
    "print (sklearn.__version__)\n",
    "print (lgb.__version__)"
   ]
  },
  {
   "cell_type": "markdown",
   "metadata": {},
   "source": [
    "<div class=\"alert alert-success\">\n",
    "<h3> Комментарий ревьюера <a class=\"tocSkip\"> </h3> \n",
    "    \n",
    "<b>Все отлично! 👍:</b> Супер! Здорово, что соблюдаешь стандартные принципы оформления кода 😉"
   ]
  },
  {
   "cell_type": "markdown",
   "metadata": {},
   "source": [
    "<div class=\"alert alert-warning\">\n",
    "<h3> Комментарий ревьюера <a class=\"tocSkip\"> </h3>\n",
    "    \n",
    "<b>Некоторые замечания и рекомендации💡:</b> \n",
    "    \n",
    "* Чтобы вся эта информация не выводилась при установке, можно добавить в конце строки `-q`.\n",
    "    \n",
    "    \n",
    "* Напомню, что перед отправкой проекта важно сбрасывать ядро (очищать память от созданных объектов) и заново запускать проект с самого начала, чтобы проверить, что при последовательном исполнении ячеек код не падает."
   ]
  },
  {
   "cell_type": "markdown",
   "metadata": {},
   "source": [
    "<div style=\"background: #B0E0E6; padding: 5px; border: 1px solid SteelBlue; border-radius: 5px;\">\n",
    "    <font color='4682B4'><u><b>КОММЕНТАРИЙ СТУДЕНТА</b></u></font>\n",
    "    <br />\n",
    "    <font color='4682B4'>Дополнил.</font>\n",
    "</div>"
   ]
  },
  {
   "cell_type": "markdown",
   "metadata": {},
   "source": [
    "<div class=\"alert alert-success\">\n",
    "<h3> Комментарий ревьюера 2<a class=\"tocSkip\"> </h3> \n",
    "    \n",
    "<b>Все отлично! 👍:</b> Супер! Но ядро все же не перазапускалось (нумерация ячеек начинается не с 1)."
   ]
  },
  {
   "cell_type": "code",
   "execution_count": 3,
   "metadata": {},
   "outputs": [],
   "source": [
    "# Загрузка данных с учетом разделителей\n",
    "path = '/datasets/autos.csv'\n",
    "if os.path.exists(path):\n",
    "    autos = pd.read_csv(path, delimiter=',')\n",
    "else: print('Не получилось найти файл по указанному пути')"
   ]
  },
  {
   "cell_type": "code",
   "execution_count": 4,
   "metadata": {},
   "outputs": [
    {
     "name": "stdout",
     "output_type": "stream",
     "text": [
      "autos.csv:\n"
     ]
    },
    {
     "data": {
      "text/html": [
       "<div>\n",
       "<style scoped>\n",
       "    .dataframe tbody tr th:only-of-type {\n",
       "        vertical-align: middle;\n",
       "    }\n",
       "\n",
       "    .dataframe tbody tr th {\n",
       "        vertical-align: top;\n",
       "    }\n",
       "\n",
       "    .dataframe thead th {\n",
       "        text-align: right;\n",
       "    }\n",
       "</style>\n",
       "<table border=\"1\" class=\"dataframe\">\n",
       "  <thead>\n",
       "    <tr style=\"text-align: right;\">\n",
       "      <th></th>\n",
       "      <th>DateCrawled</th>\n",
       "      <th>Price</th>\n",
       "      <th>VehicleType</th>\n",
       "      <th>RegistrationYear</th>\n",
       "      <th>Gearbox</th>\n",
       "      <th>Power</th>\n",
       "      <th>Model</th>\n",
       "      <th>Kilometer</th>\n",
       "      <th>RegistrationMonth</th>\n",
       "      <th>FuelType</th>\n",
       "      <th>Brand</th>\n",
       "      <th>Repaired</th>\n",
       "      <th>DateCreated</th>\n",
       "      <th>NumberOfPictures</th>\n",
       "      <th>PostalCode</th>\n",
       "      <th>LastSeen</th>\n",
       "    </tr>\n",
       "  </thead>\n",
       "  <tbody>\n",
       "    <tr>\n",
       "      <th>0</th>\n",
       "      <td>2016-03-24 11:52:17</td>\n",
       "      <td>480</td>\n",
       "      <td>NaN</td>\n",
       "      <td>1993</td>\n",
       "      <td>manual</td>\n",
       "      <td>0</td>\n",
       "      <td>golf</td>\n",
       "      <td>150000</td>\n",
       "      <td>0</td>\n",
       "      <td>petrol</td>\n",
       "      <td>volkswagen</td>\n",
       "      <td>NaN</td>\n",
       "      <td>2016-03-24 00:00:00</td>\n",
       "      <td>0</td>\n",
       "      <td>70435</td>\n",
       "      <td>2016-04-07 03:16:57</td>\n",
       "    </tr>\n",
       "    <tr>\n",
       "      <th>1</th>\n",
       "      <td>2016-03-24 10:58:45</td>\n",
       "      <td>18300</td>\n",
       "      <td>coupe</td>\n",
       "      <td>2011</td>\n",
       "      <td>manual</td>\n",
       "      <td>190</td>\n",
       "      <td>NaN</td>\n",
       "      <td>125000</td>\n",
       "      <td>5</td>\n",
       "      <td>gasoline</td>\n",
       "      <td>audi</td>\n",
       "      <td>yes</td>\n",
       "      <td>2016-03-24 00:00:00</td>\n",
       "      <td>0</td>\n",
       "      <td>66954</td>\n",
       "      <td>2016-04-07 01:46:50</td>\n",
       "    </tr>\n",
       "    <tr>\n",
       "      <th>2</th>\n",
       "      <td>2016-03-14 12:52:21</td>\n",
       "      <td>9800</td>\n",
       "      <td>suv</td>\n",
       "      <td>2004</td>\n",
       "      <td>auto</td>\n",
       "      <td>163</td>\n",
       "      <td>grand</td>\n",
       "      <td>125000</td>\n",
       "      <td>8</td>\n",
       "      <td>gasoline</td>\n",
       "      <td>jeep</td>\n",
       "      <td>NaN</td>\n",
       "      <td>2016-03-14 00:00:00</td>\n",
       "      <td>0</td>\n",
       "      <td>90480</td>\n",
       "      <td>2016-04-05 12:47:46</td>\n",
       "    </tr>\n",
       "    <tr>\n",
       "      <th>3</th>\n",
       "      <td>2016-03-17 16:54:04</td>\n",
       "      <td>1500</td>\n",
       "      <td>small</td>\n",
       "      <td>2001</td>\n",
       "      <td>manual</td>\n",
       "      <td>75</td>\n",
       "      <td>golf</td>\n",
       "      <td>150000</td>\n",
       "      <td>6</td>\n",
       "      <td>petrol</td>\n",
       "      <td>volkswagen</td>\n",
       "      <td>no</td>\n",
       "      <td>2016-03-17 00:00:00</td>\n",
       "      <td>0</td>\n",
       "      <td>91074</td>\n",
       "      <td>2016-03-17 17:40:17</td>\n",
       "    </tr>\n",
       "    <tr>\n",
       "      <th>4</th>\n",
       "      <td>2016-03-31 17:25:20</td>\n",
       "      <td>3600</td>\n",
       "      <td>small</td>\n",
       "      <td>2008</td>\n",
       "      <td>manual</td>\n",
       "      <td>69</td>\n",
       "      <td>fabia</td>\n",
       "      <td>90000</td>\n",
       "      <td>7</td>\n",
       "      <td>gasoline</td>\n",
       "      <td>skoda</td>\n",
       "      <td>no</td>\n",
       "      <td>2016-03-31 00:00:00</td>\n",
       "      <td>0</td>\n",
       "      <td>60437</td>\n",
       "      <td>2016-04-06 10:17:21</td>\n",
       "    </tr>\n",
       "  </tbody>\n",
       "</table>\n",
       "</div>"
      ],
      "text/plain": [
       "           DateCrawled  Price VehicleType  RegistrationYear Gearbox  Power  \\\n",
       "0  2016-03-24 11:52:17    480         NaN              1993  manual      0   \n",
       "1  2016-03-24 10:58:45  18300       coupe              2011  manual    190   \n",
       "2  2016-03-14 12:52:21   9800         suv              2004    auto    163   \n",
       "3  2016-03-17 16:54:04   1500       small              2001  manual     75   \n",
       "4  2016-03-31 17:25:20   3600       small              2008  manual     69   \n",
       "\n",
       "   Model  Kilometer  RegistrationMonth  FuelType       Brand Repaired  \\\n",
       "0   golf     150000                  0    petrol  volkswagen      NaN   \n",
       "1    NaN     125000                  5  gasoline        audi      yes   \n",
       "2  grand     125000                  8  gasoline        jeep      NaN   \n",
       "3   golf     150000                  6    petrol  volkswagen       no   \n",
       "4  fabia      90000                  7  gasoline       skoda       no   \n",
       "\n",
       "           DateCreated  NumberOfPictures  PostalCode             LastSeen  \n",
       "0  2016-03-24 00:00:00                 0       70435  2016-04-07 03:16:57  \n",
       "1  2016-03-24 00:00:00                 0       66954  2016-04-07 01:46:50  \n",
       "2  2016-03-14 00:00:00                 0       90480  2016-04-05 12:47:46  \n",
       "3  2016-03-17 00:00:00                 0       91074  2016-03-17 17:40:17  \n",
       "4  2016-03-31 00:00:00                 0       60437  2016-04-06 10:17:21  "
      ]
     },
     "metadata": {},
     "output_type": "display_data"
    },
    {
     "name": "stdout",
     "output_type": "stream",
     "text": [
      "<class 'pandas.core.frame.DataFrame'>\n",
      "RangeIndex: 354369 entries, 0 to 354368\n",
      "Data columns (total 16 columns):\n",
      " #   Column             Non-Null Count   Dtype \n",
      "---  ------             --------------   ----- \n",
      " 0   DateCrawled        354369 non-null  object\n",
      " 1   Price              354369 non-null  int64 \n",
      " 2   VehicleType        316879 non-null  object\n",
      " 3   RegistrationYear   354369 non-null  int64 \n",
      " 4   Gearbox            334536 non-null  object\n",
      " 5   Power              354369 non-null  int64 \n",
      " 6   Model              334664 non-null  object\n",
      " 7   Kilometer          354369 non-null  int64 \n",
      " 8   RegistrationMonth  354369 non-null  int64 \n",
      " 9   FuelType           321474 non-null  object\n",
      " 10  Brand              354369 non-null  object\n",
      " 11  Repaired           283215 non-null  object\n",
      " 12  DateCreated        354369 non-null  object\n",
      " 13  NumberOfPictures   354369 non-null  int64 \n",
      " 14  PostalCode         354369 non-null  int64 \n",
      " 15  LastSeen           354369 non-null  object\n",
      "dtypes: int64(7), object(9)\n",
      "memory usage: 43.3+ MB\n"
     ]
    }
   ],
   "source": [
    "# Проверка первых 5 строк\n",
    "print(\"autos.csv:\")\n",
    "display(autos.head())\n",
    "autos.info()"
   ]
  },
  {
   "cell_type": "markdown",
   "metadata": {},
   "source": [
    "**Вывод по структуре данных `autos.csv`**\n",
    "\n",
    "1. **Объем данных**  \n",
    "   - В датасете **354 369 записей** и **16 столбцов**.  \n",
    "   - Размер файла занимает **≈43.3 MB** в памяти.\n",
    "\n",
    "2. **Типы данных**  \n",
    "   - **7 числовых признаков (`int64`)**, включая `Price`, `Power`, `Kilometer`, `RegistrationYear`, `RegistrationMonth` и др.\n",
    "   - **9 категориальных признаков (`object`)**, включая `VehicleType`, `Gearbox`, `Model`, `FuelType`, `Brand`, `Repaired`.\n",
    "\n",
    "3. **Пропущенные значения**  \n",
    "   - **`VehicleType` (316 879 / 354 369)** → **около 10.6% пропусков**  \n",
    "   - **`Gearbox` (334 536 / 354 369)** → **около 5.6% пропусков**  \n",
    "   - **`Model` (334 664 / 354 369)** → **около 5.5% пропусков**  \n",
    "   - **`FuelType` (321 474 / 354 369)** → **около 9.3% пропусков**  \n",
    "   - **`Repaired` (283 215 / 354 369)** → **около 20% пропусков**  \n",
    "\n",
    "4. **Возможные проблемы в данных**  \n",
    "   - **Столбцы `NumberOfPictures` и `PostalCode`** могут не нести полезной информации для модели.  \n",
    "   - **`Power` и `RegistrationYear` могут содержать выбросы** (например, слишком старые или нереально мощные автомобили).  \n",
    "   - **Пропуски в категориальных данных (`VehicleType`, `Gearbox`, `Model`, `FuelType`, `Repaired`)** требуют заполнения или удаления."
   ]
  },
  {
   "cell_type": "markdown",
   "metadata": {},
   "source": [
    "<div class=\"alert alert-success\">\n",
    "<h3> Комментарий ревьюера <a class=\"tocSkip\"> </h3> \n",
    "    \n",
    "<b>Все отлично! 👍:</b> Отлично, картину о данных составили, можем переходить к более детальной их проработке!"
   ]
  },
  {
   "cell_type": "markdown",
   "metadata": {},
   "source": [
    "## Исследовательский анализ"
   ]
  },
  {
   "cell_type": "markdown",
   "metadata": {},
   "source": [
    "### Статистический анализ количественных признаков"
   ]
  },
  {
   "cell_type": "code",
   "execution_count": 5,
   "metadata": {},
   "outputs": [
    {
     "name": "stdout",
     "output_type": "stream",
     "text": [
      "Статистический анализ autos:\n"
     ]
    },
    {
     "data": {
      "text/html": [
       "<div>\n",
       "<style scoped>\n",
       "    .dataframe tbody tr th:only-of-type {\n",
       "        vertical-align: middle;\n",
       "    }\n",
       "\n",
       "    .dataframe tbody tr th {\n",
       "        vertical-align: top;\n",
       "    }\n",
       "\n",
       "    .dataframe thead th {\n",
       "        text-align: right;\n",
       "    }\n",
       "</style>\n",
       "<table border=\"1\" class=\"dataframe\">\n",
       "  <thead>\n",
       "    <tr style=\"text-align: right;\">\n",
       "      <th></th>\n",
       "      <th>Price</th>\n",
       "      <th>RegistrationYear</th>\n",
       "      <th>Power</th>\n",
       "      <th>Kilometer</th>\n",
       "      <th>RegistrationMonth</th>\n",
       "      <th>NumberOfPictures</th>\n",
       "      <th>PostalCode</th>\n",
       "    </tr>\n",
       "  </thead>\n",
       "  <tbody>\n",
       "    <tr>\n",
       "      <th>count</th>\n",
       "      <td>354369.000000</td>\n",
       "      <td>354369.000000</td>\n",
       "      <td>354369.000000</td>\n",
       "      <td>354369.000000</td>\n",
       "      <td>354369.000000</td>\n",
       "      <td>354369.0</td>\n",
       "      <td>354369.000000</td>\n",
       "    </tr>\n",
       "    <tr>\n",
       "      <th>mean</th>\n",
       "      <td>4416.656776</td>\n",
       "      <td>2004.234448</td>\n",
       "      <td>110.094337</td>\n",
       "      <td>128211.172535</td>\n",
       "      <td>5.714645</td>\n",
       "      <td>0.0</td>\n",
       "      <td>50508.689087</td>\n",
       "    </tr>\n",
       "    <tr>\n",
       "      <th>std</th>\n",
       "      <td>4514.158514</td>\n",
       "      <td>90.227958</td>\n",
       "      <td>189.850405</td>\n",
       "      <td>37905.341530</td>\n",
       "      <td>3.726421</td>\n",
       "      <td>0.0</td>\n",
       "      <td>25783.096248</td>\n",
       "    </tr>\n",
       "    <tr>\n",
       "      <th>min</th>\n",
       "      <td>0.000000</td>\n",
       "      <td>1000.000000</td>\n",
       "      <td>0.000000</td>\n",
       "      <td>5000.000000</td>\n",
       "      <td>0.000000</td>\n",
       "      <td>0.0</td>\n",
       "      <td>1067.000000</td>\n",
       "    </tr>\n",
       "    <tr>\n",
       "      <th>25%</th>\n",
       "      <td>1050.000000</td>\n",
       "      <td>1999.000000</td>\n",
       "      <td>69.000000</td>\n",
       "      <td>125000.000000</td>\n",
       "      <td>3.000000</td>\n",
       "      <td>0.0</td>\n",
       "      <td>30165.000000</td>\n",
       "    </tr>\n",
       "    <tr>\n",
       "      <th>50%</th>\n",
       "      <td>2700.000000</td>\n",
       "      <td>2003.000000</td>\n",
       "      <td>105.000000</td>\n",
       "      <td>150000.000000</td>\n",
       "      <td>6.000000</td>\n",
       "      <td>0.0</td>\n",
       "      <td>49413.000000</td>\n",
       "    </tr>\n",
       "    <tr>\n",
       "      <th>75%</th>\n",
       "      <td>6400.000000</td>\n",
       "      <td>2008.000000</td>\n",
       "      <td>143.000000</td>\n",
       "      <td>150000.000000</td>\n",
       "      <td>9.000000</td>\n",
       "      <td>0.0</td>\n",
       "      <td>71083.000000</td>\n",
       "    </tr>\n",
       "    <tr>\n",
       "      <th>max</th>\n",
       "      <td>20000.000000</td>\n",
       "      <td>9999.000000</td>\n",
       "      <td>20000.000000</td>\n",
       "      <td>150000.000000</td>\n",
       "      <td>12.000000</td>\n",
       "      <td>0.0</td>\n",
       "      <td>99998.000000</td>\n",
       "    </tr>\n",
       "  </tbody>\n",
       "</table>\n",
       "</div>"
      ],
      "text/plain": [
       "               Price  RegistrationYear          Power      Kilometer  \\\n",
       "count  354369.000000     354369.000000  354369.000000  354369.000000   \n",
       "mean     4416.656776       2004.234448     110.094337  128211.172535   \n",
       "std      4514.158514         90.227958     189.850405   37905.341530   \n",
       "min         0.000000       1000.000000       0.000000    5000.000000   \n",
       "25%      1050.000000       1999.000000      69.000000  125000.000000   \n",
       "50%      2700.000000       2003.000000     105.000000  150000.000000   \n",
       "75%      6400.000000       2008.000000     143.000000  150000.000000   \n",
       "max     20000.000000       9999.000000   20000.000000  150000.000000   \n",
       "\n",
       "       RegistrationMonth  NumberOfPictures     PostalCode  \n",
       "count      354369.000000          354369.0  354369.000000  \n",
       "mean            5.714645               0.0   50508.689087  \n",
       "std             3.726421               0.0   25783.096248  \n",
       "min             0.000000               0.0    1067.000000  \n",
       "25%             3.000000               0.0   30165.000000  \n",
       "50%             6.000000               0.0   49413.000000  \n",
       "75%             9.000000               0.0   71083.000000  \n",
       "max            12.000000               0.0   99998.000000  "
      ]
     },
     "metadata": {},
     "output_type": "display_data"
    }
   ],
   "source": [
    "# Анализ количественных признаков\n",
    "print(\"Статистический анализ autos:\")\n",
    "display(autos.drop(columns='id', errors='ignore').describe())"
   ]
  },
  {
   "cell_type": "markdown",
   "metadata": {},
   "source": [
    "**Вывод по статистическому анализу `autos.csv`**\n",
    "\n",
    "1. **Анализ цены (`Price`)**  \n",
    "   - Средняя цена автомобиля **4 416 евро**, медианная **2 700 евро**.  \n",
    "   - Разброс цен довольно большой (**std = 4 514 евро**).  \n",
    "   - Минимальная цена **0 евро**, что может быть ошибкой или некорректным значением.  \n",
    "   - Максимальная цена **20 000 евро**, что выглядит разумно.  \n",
    "   - Нужно **проверить выбросы** (особенно `Price = 0`).\n",
    "\n",
    "2. **Год регистрации (`RegistrationYear`)**  \n",
    "   - Средний год регистрации **2004**, медианный **2003**.  \n",
    "   - Минимальное значение **1000** — очевидная ошибка (автомобили в 1000 году не выпускались).  \n",
    "   - Максимальное значение **9999** — ещё одна ошибка.  \n",
    "   - **Необходимо очистить данные**, удалив аномальные значения (`year < 1900` и `year > текущего года`).\n",
    "\n",
    "3. **Мощность (`Power`)**  \n",
    "   - Средняя мощность **110 л.с.**, медианная **105 л.с.**.  \n",
    "   - **Очень большой стандартное отклонение (std = 189,85)**, что говорит о наличии выбросов.  \n",
    "   - Минимальное значение **0 л.с.** (возможно, пропущенные значения).  \n",
    "   - Максимальное значение **20 000 л.с.** (нереальное, вероятно, ошибка).  \n",
    "   - **Нужно обработать выбросы**, ограничив диапазон реалистичными значениями (например, 30-800 л.с.).\n",
    "\n",
    "4. **Пробег (`Kilometer`)**  \n",
    "   - В основном автомобили имеют пробег **125 000 - 150 000 км**.  \n",
    "   - Минимальный пробег **5 000 км**, максимальный **150 000 км**.  \n",
    "   - **Малый разброс данных** — возможна проблема с тем, как записывались данные (ограниченные категории).\n",
    "\n",
    "5. **Месяц регистрации (`RegistrationMonth`)**  \n",
    "   - Средний месяц **5-6**, что соответствует середине года.  \n",
    "   - Минимальное значение **0**, что некорректно (не может быть \"нулевого\" месяца).  \n",
    "   - Максимальное значение **12** — нормальное.  \n",
    "   - **Требуется обработка значений `0` (удаление или замена на моду).**\n",
    "\n",
    "6. **Количество фотографий (`NumberOfPictures`)**  \n",
    "   - Все значения **0**.  \n",
    "   - Этот столбец **бесполезен**, его можно **удалить**.\n",
    "\n",
    "7. **Почтовый индекс (`PostalCode`)**  \n",
    "   - Средний почтовый индекс **50 508**, медианный **49 413**.  \n",
    "   - Минимальный индекс **1 067**, максимальный **99 998**.  \n",
    "   - Значения выглядят нормальными, но **столбец не нужен для предсказания цен** и может быть удалён.\n",
    "\n",
    "---"
   ]
  },
  {
   "cell_type": "markdown",
   "metadata": {},
   "source": [
    "### Обработка пропусков, дубликатов и аномалий"
   ]
  },
  {
   "cell_type": "markdown",
   "metadata": {},
   "source": [
    "~~Удалим строки с аномальными годами~~"
   ]
  },
  {
   "cell_type": "code",
   "execution_count": 6,
   "metadata": {},
   "outputs": [],
   "source": [
    "# def clean_registration_years(df, min_year=1950):\n",
    "#     \"\"\"\n",
    "#     Очистка данных с аномальными значениями годов регистрации.\n",
    "\n",
    "#     Parameters:\n",
    "#     df (DataFrame): Исходный DataFrame с колонкой 'RegistrationYear'.\n",
    "#     min_year (int): Минимальный год, который считается корректным (по умолчанию 1900).\n",
    "\n",
    "#     Returns:\n",
    "#     DataFrame: Очищенный DataFrame без аномальных значений.\n",
    "#     \"\"\"\n",
    "#     current_year = datetime.now().year  # Текущий год\n",
    "#     df_cleaned = df[(df['RegistrationYear'] >= min_year) & (df['RegistrationYear'] <= current_year)]\n",
    "    \n",
    "#     print(f\"Удалено {len(df) - len(df_cleaned)} строк с аномальными годами.\")\n",
    "#     return df_cleaned\n",
    "\n",
    "# autos_cleaned = clean_registration_years(autos)\n",
    "\n",
    "# # Проверяем результат\n",
    "# autos_cleaned['RegistrationYear'].describe()"
   ]
  },
  {
   "cell_type": "markdown",
   "metadata": {},
   "source": [
    "<div class=\"alert alert-block alert-danger\">\n",
    "<h3> Комментарий ревьюера <a class=\"tocSkip\"></h3>\n",
    "\n",
    "<b>На доработку🤔:</b> Обрати внимание, что вугрузка всех объявлений была произведена не позднее апреля 2016 года. В объявлениях 2016 года никак не могли появиться автомобили с регитрацией в 2019 году. Кроме того для определения нерелевантных значений года также важно учитывать, когда было создано и само объявление (тут бы тебе также пригодился месяц регистрации)."
   ]
  },
  {
   "cell_type": "markdown",
   "metadata": {},
   "source": [
    "<div style=\"background: #B0E0E6; padding: 5px; border: 1px solid SteelBlue; border-radius: 5px;\">\n",
    "    <font color='4682B4'><u><b>КОММЕНТАРИЙ СТУДЕНТА</b></u></font>\n",
    "    <br />\n",
    "    <font color='4682B4'>Доработал обработку аномальных годов и нулевые значения месяца регистрации.</font>\n",
    "</div>"
   ]
  },
  {
   "cell_type": "markdown",
   "metadata": {},
   "source": [
    "<div class=\"alert alert-success\">\n",
    "<h3> Комментарий ревьюера 2<a class=\"tocSkip\"> </h3> \n",
    "    \n",
    "<b>Все отлично! 👍:</b> 😉"
   ]
  },
  {
   "cell_type": "code",
   "execution_count": 7,
   "metadata": {},
   "outputs": [
    {
     "name": "stdout",
     "output_type": "stream",
     "text": [
      "Удалено 14776 строк с аномальными годами.\n"
     ]
    },
    {
     "data": {
      "text/plain": [
       "count    339593.000000\n",
       "mean       2002.525179\n",
       "std           6.835767\n",
       "min        1950.000000\n",
       "25%        1999.000000\n",
       "50%        2003.000000\n",
       "75%        2007.000000\n",
       "max        2016.000000\n",
       "Name: RegistrationYear, dtype: float64"
      ]
     },
     "execution_count": 7,
     "metadata": {},
     "output_type": "execute_result"
    }
   ],
   "source": [
    "def clean_registration_years(df, min_year=1950, max_year=2016):\n",
    "    \"\"\"\n",
    "    Очистка данных с аномальными значениями годов регистрации, учитывая дату загрузки данных.\n",
    "    Нулевые значения в 'RegistrationMonth' заменяются на медианный месяц по каждому году.\n",
    "\n",
    "    Parameters:\n",
    "    df (DataFrame): Исходный DataFrame с колонками 'RegistrationYear' и 'RegistrationMonth'.\n",
    "    min_year (int): Минимальный год, который считается корректным (по умолчанию 1950).\n",
    "    max_year (int): Максимальный год, до которого могут быть зарегистрированы автомобили (по умолчанию 2016).\n",
    "\n",
    "    Returns:\n",
    "    DataFrame: Очищенный DataFrame без аномальных значений.\n",
    "    \"\"\"\n",
    "    # Фильтрация данных по годам регистрации\n",
    "    current_year = datetime.now().year  # Текущий год\n",
    "    df_cleaned = df[(df['RegistrationYear'] >= min_year) & (df['RegistrationYear'] <= min(max_year, current_year))].copy()\n",
    "\n",
    "    # Вычисление медианных значений месяца по каждому году\n",
    "    median_months = df_cleaned[df_cleaned['RegistrationMonth'] != 0].groupby('RegistrationYear')['RegistrationMonth'].median()\n",
    "\n",
    "    # Замена нулевых месяцев на медианный месяц по соответствующему году\n",
    "    df_cleaned.loc[df_cleaned['RegistrationMonth'] == 0, 'RegistrationMonth'] = \\\n",
    "        df_cleaned.loc[df_cleaned['RegistrationMonth'] == 0, 'RegistrationYear'].map(median_months)\n",
    "\n",
    "    print(f\"Удалено {len(df) - len(df_cleaned)} строк с аномальными годами.\")\n",
    "    return df_cleaned\n",
    "\n",
    "# Применяем функцию к данным\n",
    "autos_cleaned = clean_registration_years(autos)\n",
    "\n",
    "# Проверяем результат\n",
    "autos_cleaned['RegistrationYear'].describe()"
   ]
  },
  {
   "cell_type": "markdown",
   "metadata": {},
   "source": [
    "Обработаем аномальные значения мощностей авто: поделим мощности свыше 800 на 10 и заменим мощности ниже 10 на медиану по модели и году."
   ]
  },
  {
   "cell_type": "code",
   "execution_count": 8,
   "metadata": {},
   "outputs": [
    {
     "name": "stdout",
     "output_type": "stream",
     "text": [
      "Мощности, превышающие 800, были разделены на 10.\n",
      "Заменено 36540 значений мощности < 10 на медиану.\n"
     ]
    },
    {
     "data": {
      "text/plain": [
       "count    339593.000000\n",
       "mean        116.695334\n",
       "std          57.606074\n",
       "min           0.000000\n",
       "25%          75.000000\n",
       "50%         109.000000\n",
       "75%         143.000000\n",
       "max        2000.000000\n",
       "Name: Power, dtype: float64"
      ]
     },
     "execution_count": 8,
     "metadata": {},
     "output_type": "execute_result"
    }
   ],
   "source": [
    "def clean_and_impute_power(df, max_power=800, min_power=10):\n",
    "    \"\"\"\n",
    "    Очистка данных: для мощностей > 800 делим их на 10,\n",
    "    а значения < 10 заполняем медианой мощности по модели и году.\n",
    "\n",
    "    Parameters:\n",
    "    df (DataFrame): Исходный DataFrame с колонкой 'Power'.\n",
    "    max_power (int): Максимально допустимое значение мощности (по умолчанию 800 л.с.).\n",
    "    min_power (int): Минимально допустимое значение мощности (по умолчанию 10 л.с.).\n",
    "\n",
    "    Returns:\n",
    "    DataFrame: DataFrame с исправленными значениями мощности.\n",
    "    \"\"\"\n",
    "    df = df.copy()  # Создаём копию DataFrame, чтобы не изменять оригинал\n",
    "\n",
    "    # Преобразуем 'Power' в float перед изменениями\n",
    "    df['Power'] = df['Power'].astype(float)\n",
    "\n",
    "    # Для мощностей > 800 делим их на 10\n",
    "    df.loc[df['Power'] > max_power, 'Power'] /= 10\n",
    "\n",
    "    # Вычисляем медианную мощность по модели и году\n",
    "    median_power = df.groupby(['Model', 'RegistrationYear'])['Power'].transform('median')\n",
    "\n",
    "    # Создаём маску для значений < min_power\n",
    "    mask = df['Power'] < min_power\n",
    "\n",
    "    # Заменяем значения мощности < min_power на медиану, приведённую к float\n",
    "    df.loc[mask & median_power.notna(), 'Power'] = median_power[mask & median_power.notna()].astype(float)\n",
    "\n",
    "    # Заполняем оставшиеся NaN общей медианой мощности по всему датасету\n",
    "    df['Power'] = df['Power'].fillna(df['Power'].median())\n",
    "\n",
    "    print(f\"Мощности, превышающие {max_power}, были разделены на 10.\")\n",
    "    print(f\"Заменено {mask.sum()} значений мощности < {min_power} на медиану.\")\n",
    "\n",
    "    return df\n",
    "\n",
    "# Применяем функцию\n",
    "autos_cleaned = clean_and_impute_power(autos_cleaned)\n",
    "\n",
    "# Проверяем результат\n",
    "autos_cleaned['Power'].describe()\n"
   ]
  },
  {
   "cell_type": "markdown",
   "metadata": {},
   "source": [
    "<div style=\"background: #B0E0E6; padding: 5px; border: 1px solid SteelBlue; border-radius: 5px;\">\n",
    "    <font color='4682B4'><u><b>КОММЕНТАРИЙ СТУДЕНТА</b></u></font>\n",
    "    <br />\n",
    "    <font color='4682B4'>Я решил сделать более точное заполнение пропусков для признаков Brand, Model и VehicleType.</font>\n",
    "</div>"
   ]
  },
  {
   "cell_type": "markdown",
   "metadata": {},
   "source": [
    "Заполним пропуски в `Brand`, `Model`, `VehicleType`, ориентируясь на их взаимную корреляцию:\n",
    "\n",
    "1. **Сначала заполним `Model` и `VehicleType` по тройному сочетанию (`Brand`, `Model`, `VehicleType`).**  \n",
    "2. **Далее заполним `Model` и `VehicleType` по паре (`Brand`, `RegistrationYear`).**  \n",
    "3. **Оставшиеся пропуски `Model` заполним по `Brand`.**  \n",
    "4. **Оставшиеся пропуски `VehicleType` заполним по `Brand`.**  \n",
    "5. **Если после всех этапов ещё остались пропуски, заменим их на самые частые по всему датасету.**  "
   ]
  },
  {
   "cell_type": "code",
   "execution_count": 9,
   "metadata": {},
   "outputs": [
    {
     "name": "stdout",
     "output_type": "stream",
     "text": [
      "Осталось пропусков в Model: 0\n",
      "Осталось пропусков в VehicleType: 0\n"
     ]
    }
   ],
   "source": [
    "def fill_missing_vehicle_type_and_model(df):\n",
    "    \"\"\"\n",
    "    Заполняет пропуски в 'VehicleType' и 'Model' по наиболее частым значениям,\n",
    "    используя последовательные этапы заполнения:\n",
    "    \n",
    "    1. Заполнение по Brand и VehicleType (без Model)\n",
    "    2. Заполнение по Brand и RegistrationYear (без Model)\n",
    "    3. Заполнение по Brand (глобально)\n",
    "    4. Заполнение глобальной модой\n",
    "\n",
    "    Parameters:\n",
    "    df (DataFrame): Исходный DataFrame с колонками 'Brand', 'Model', 'VehicleType', 'RegistrationYear'.\n",
    "\n",
    "    Returns:\n",
    "    DataFrame: Обновленный DataFrame с заполненными значениями.\n",
    "    \"\"\"\n",
    "\n",
    "    # 1. Заполнение Model по Brand и VehicleType (НЕ группируем по Model, так как там есть пропуски)\n",
    "    mode_model_vt = df.groupby(['Brand', 'VehicleType'])['Model'].agg(lambda x: x.mode()[0] if not x.mode().empty else None)\n",
    "    df.loc[df['Model'].isna(), 'Model'] = df.loc[df['Model'].isna(), ['Brand', 'VehicleType']].apply(\n",
    "        lambda x: mode_model_vt.get(tuple(x)), axis=1\n",
    "    )\n",
    "\n",
    "    # 2. Заполнение VehicleType по Brand и Model (НЕ группируем по VehicleType)\n",
    "    mode_vehicle_type_vt = df.groupby(['Brand', 'Model'])['VehicleType'].agg(lambda x: x.mode()[0] if not x.mode().empty else None)\n",
    "    df.loc[df['VehicleType'].isna(), 'VehicleType'] = df.loc[df['VehicleType'].isna(), ['Brand', 'Model']].apply(\n",
    "        lambda x: mode_vehicle_type_vt.get(tuple(x)), axis=1\n",
    "    )\n",
    "\n",
    "    # 3. Заполнение Model по Brand и RegistrationYear (НЕ группируем по Model)\n",
    "    mode_model_by_year = df.groupby(['Brand', 'RegistrationYear'])['Model'].agg(lambda x: x.mode()[0] if not x.mode().empty else None)\n",
    "    df.loc[df['Model'].isna(), 'Model'] = df.loc[df['Model'].isna(), ['Brand', 'RegistrationYear']].apply(\n",
    "        lambda x: mode_model_by_year.get(tuple(x)), axis=1\n",
    "    )\n",
    "\n",
    "    # 4. Заполнение VehicleType по Brand и RegistrationYear (НЕ группируем по VehicleType)\n",
    "    mode_vehicle_type_by_year = df.groupby(['Brand', 'RegistrationYear'])['VehicleType'].agg(lambda x: x.mode()[0] if not x.mode().empty else None)\n",
    "    df.loc[df['VehicleType'].isna(), 'VehicleType'] = df.loc[df['VehicleType'].isna(), ['Brand', 'RegistrationYear']].apply(\n",
    "        lambda x: mode_vehicle_type_by_year.get(tuple(x)), axis=1\n",
    "    )\n",
    "\n",
    "    # 5. Заполнение Model только по Brand (без учета VehicleType)\n",
    "    mode_model_by_brand = df.groupby(['Brand'])['Model'].agg(lambda x: x.mode()[0] if not x.mode().empty else None)\n",
    "    df.loc[df['Model'].isna(), 'Model'] = df.loc[df['Model'].isna(), 'Brand'].map(mode_model_by_brand)\n",
    "\n",
    "    # 6. Заполнение VehicleType только по Brand (без учета Model)\n",
    "    mode_vehicle_type_by_brand = df.groupby(['Brand'])['VehicleType'].agg(lambda x: x.mode()[0] if not x.mode().empty else None)\n",
    "    df.loc[df['VehicleType'].isna(), 'VehicleType'] = df.loc[df['VehicleType'].isna(), 'Brand'].map(mode_vehicle_type_by_brand)\n",
    "\n",
    "    # 7. Заполнение оставшихся пропусков глобально наиболее частым значением\n",
    "    df['Model'].fillna(df['Model'].mode()[0], inplace=True)\n",
    "    df['VehicleType'].fillna(df['VehicleType'].mode()[0], inplace=True)\n",
    "\n",
    "    return df\n",
    "\n",
    "# Применяем функцию к датасету\n",
    "autos_cleaned = fill_missing_vehicle_type_and_model(autos_cleaned)\n",
    "\n",
    "# Проверяем результат\n",
    "print(f\"Осталось пропусков в Model: {autos_cleaned['Model'].isna().sum()}\")\n",
    "print(f\"Осталось пропусков в VehicleType: {autos_cleaned['VehicleType'].isna().sum()}\")"
   ]
  },
  {
   "cell_type": "markdown",
   "metadata": {},
   "source": [
    "<div class=\"alert alert-warning\">\n",
    "<h3> Комментарий ревьюера 2<a class=\"tocSkip\"> </h3>\n",
    "    \n",
    "<b>Некоторые замечания и рекомендации💡:</b> Сейчас первый пункт никак не решает проблему с выбросами, поскольку при группировке используются те же признаки, по которым впоследствии берется мода. То есть представим, что изначально мы делим на группы с учетом бренда и типа, а затем в каждой сформированной группе дополнительно выделяем подгруппы с учетом модели. Так вот пропущенные значения модели будут формировать отдельную группу. Мода модели в таких группах, соответственно, тоже будет пустой. Поэтому когда мы захотим использовать моду для заполнения пропусков, пропуск просто заменится на такой же пропуск.\n",
    "    \n",
    "Чтобы этого избежать, при группировке не нужно учитывать признак, по которому впоследствии определяется мода."
   ]
  },
  {
   "cell_type": "markdown",
   "metadata": {},
   "source": [
    "<div style=\"background: #B0E0E6; padding: 5px; border: 1px solid SteelBlue; border-radius: 5px;\">\n",
    "    <font color='4682B4'><u><b>КОММЕНТАРИЙ СТУДЕНТА</b></u></font>\n",
    "    <br />\n",
    "    <font color='4682B4'>Да, действительно так, поправил.</font>\n",
    "</div>"
   ]
  },
  {
   "cell_type": "markdown",
   "metadata": {},
   "source": [
    "<div class=\"alert alert-success\">\n",
    "<h3> Комментарий ревьюера 4<a class=\"tocSkip\"> </h3> \n",
    "    \n",
    "<b>Все отлично! 👍:</b> 😉"
   ]
  },
  {
   "cell_type": "markdown",
   "metadata": {},
   "source": [
    "Заменим нулевые цены на медианные по годам, бренду, модели и типу авто"
   ]
  },
  {
   "cell_type": "code",
   "execution_count": 10,
   "metadata": {},
   "outputs": [],
   "source": [
    "def replace_missing_price_with_median(df, price_col=\"Price\", year_col=\"RegistrationYear\", group_cols=None):\n",
    "    \"\"\"\n",
    "    Заменяет нулевые или пропущенные значения в столбце цены на медианную цену\n",
    "    в зависимости от года регистрации и комбинации других признаков.\n",
    "\n",
    "    Параметры:\n",
    "    df (pd.DataFrame): Исходный датафрейм.\n",
    "    price_col (str): Название столбца с ценой.\n",
    "    year_col (str): Название столбца с годом регистрации.\n",
    "    group_cols (list): Список столбцов для группировки (по умолчанию ['Brand', 'Model', 'VehicleType']).\n",
    "\n",
    "    Возвращает:\n",
    "    pd.DataFrame: Обновлённый датафрейм с заменёнными значениями.\n",
    "    \"\"\"\n",
    "    if group_cols is None:\n",
    "        group_cols = [\"Brand\", \"Model\", \"VehicleType\"]\n",
    "\n",
    "    # Создаём группу по году и сочетанию Brand-Model-VehicleType\n",
    "    grouped_median = df[df[price_col] > 0].groupby([year_col] + group_cols)[price_col].median()\n",
    "\n",
    "    # Функция замены значений\n",
    "    def get_median_price(row):\n",
    "        if pd.isna(row[price_col]) or row[price_col] == 0:\n",
    "            return grouped_median.get(tuple(row[[year_col] + group_cols]), row[price_col])\n",
    "        return row[price_col]\n",
    "\n",
    "    # Применяем функцию к датафрейму\n",
    "    df[price_col] = df.apply(get_median_price, axis=1)\n",
    "\n",
    "    return df\n",
    "\n",
    "# Применяем\n",
    "autos_cleaned = replace_missing_price_with_median(autos_cleaned)"
   ]
  },
  {
   "cell_type": "markdown",
   "metadata": {},
   "source": [
    "<div style=\"background: #B0E0E6; padding: 5px; border: 1px solid SteelBlue; border-radius: 5px;\">\n",
    "    <font color='4682B4'><u><b>КОММЕНТАРИЙ СТУДЕНТА</b></u></font>\n",
    "    <br />\n",
    "    <font color='4682B4'>Дубликаты решил удалить с учётом гранулярности по объявлениям. Оставляем только самые свежие.</font>\n",
    "</div>"
   ]
  },
  {
   "cell_type": "markdown",
   "metadata": {},
   "source": [
    "Удалим дубликаты, ориентируясь на самые свежие объявления"
   ]
  },
  {
   "cell_type": "code",
   "execution_count": 11,
   "metadata": {},
   "outputs": [
    {
     "name": "stdout",
     "output_type": "stream",
     "text": [
      "Удалено 10106 дубликатов объявлений.\n",
      "Размер датасета после удаления дубликатов: (329487, 16)\n"
     ]
    }
   ],
   "source": [
    "def remove_duplicate_ads(df):\n",
    "    \"\"\"\n",
    "    Удаляет дубликаты объявлений, учитывая, что одно и то же авто могло появляться\n",
    "    несколько раз в базе в разное время, но с разными датами создания.\n",
    "\n",
    "    Parameters:\n",
    "    df (DataFrame): Исходный DataFrame.\n",
    "\n",
    "    Returns:\n",
    "    DataFrame: Очищенный DataFrame без дубликатов объявлений.\n",
    "    \"\"\"\n",
    "\n",
    "    # Преобразуем 'DateCreated' в datetime формат для оптимальной сортировки\n",
    "    df['DateCrawled'] = pd.to_datetime(df['DateCrawled'])\n",
    "\n",
    "    # Определяем признаки, по которым будем проверять дубликаты\n",
    "    duplicate_columns = [\n",
    "        'DateCreated', 'Brand', 'Model', 'VehicleType', 'RegistrationYear', 'RegistrationMonth',\n",
    "        'Gearbox', 'Power', 'FuelType', 'Kilometer', 'Repaired', 'Price', 'PostalCode'\n",
    "    ]\n",
    "\n",
    "    # Сортируем данные по дате выгрузки анкеты (предположим, что есть колонка DateUploaded)\n",
    "    df = df.sort_values(by=['DateCrawled'], ascending=False)\n",
    "\n",
    "    # Удаляем дубликаты, оставляя только самое свежее объявление по каждому автомобилю\n",
    "    df_cleaned = df.drop_duplicates(subset=duplicate_columns, keep='first')\n",
    "\n",
    "    print(f\"Удалено {len(df) - len(df_cleaned)} дубликатов объявлений.\")\n",
    "\n",
    "    return df_cleaned\n",
    "\n",
    "# Применяем функцию к датасету\n",
    "autos_cleaned = remove_duplicate_ads(autos_cleaned)\n",
    "\n",
    "# Проверяем результат\n",
    "print(f\"Размер датасета после удаления дубликатов: {autos_cleaned.shape}\")"
   ]
  },
  {
   "cell_type": "markdown",
   "metadata": {},
   "source": [
    "<div class=\"alert alert-block alert-danger\">\n",
    "<h3> Комментарий ревьюера 2<a class=\"tocSkip\"></h3>\n",
    "\n",
    "<b>На доработку🤔:</b> Все же не совсем корректно, поскольку удяляются все повторяющиеся автомобили в районе, даже если это были отдельные существующие автомобили с разной датой объявлений. На мой взгляд, правильнее было бы оставить DateCreated в сабсете для поиска дубликатов (чтобы распознать разные объявления), а сортировку произвести по дате выгрузки анкеты.\n",
    "    \n",
    "Обращу еще внимание, что дату по-хорошему было бы лучше перевести в тип даты, иначе сортировка происходит в разы дольше."
   ]
  },
  {
   "cell_type": "markdown",
   "metadata": {},
   "source": [
    "<div class=\"alert alert-success\">\n",
    "<h3> Комментарий ревьюера 4<a class=\"tocSkip\"> </h3> \n",
    "    \n",
    "<b>Все отлично! 👍:</b> 😉"
   ]
  },
  {
   "cell_type": "markdown",
   "metadata": {},
   "source": [
    "### Графики"
   ]
  },
  {
   "cell_type": "code",
   "execution_count": 12,
   "metadata": {
    "scrolled": false
   },
   "outputs": [
    {
     "data": {
      "image/png": "[encoded data removed]",
      "text/plain": [
       "<Figure size 720x4320 with 15 Axes>"
      ]
     },
     "metadata": {
      "needs_background": "light"
     },
     "output_type": "display_data"
    }
   ],
   "source": [
    "def plot_categorical_and_numerical(dataframe, categorical_features, numerical_features, title=\"Анализ признаков\"):\n",
    "    \"\"\"\n",
    "    Построение графиков:\n",
    "    - Горизонтальные графики частотности для категориальных признаков (ограничены топ-15 категорий для читаемости)\n",
    "    - Вертикальные гистограммы частотности для числовых признаков\n",
    "    - Горизонтальные боксплоты для числовых признаков\n",
    "\n",
    "    Parameters:\n",
    "    dataframe (pd.DataFrame): Датафрейм с данными.\n",
    "    categorical_features (list): Список категориальных признаков.\n",
    "    numerical_features (list): Список числовых признаков.\n",
    "    title (str): Заголовок всего графика.\n",
    "    \"\"\"\n",
    "    \n",
    "    num_plots = len(categorical_features) + len(numerical_features) * 2\n",
    "    fig, axes = plt.subplots(num_plots, 1, figsize=(10, 4 * num_plots))\n",
    "    fig.suptitle(title, fontsize=18, fontweight='bold')\n",
    "    \n",
    "    plot_index = 0\n",
    "    \n",
    "    # Обработка категориальных признаков\n",
    "    for feature in categorical_features:\n",
    "        if feature in ['Model', 'Brand']:  \n",
    "            # Ограничиваем топ-15 самых популярных категорий\n",
    "            top_values = dataframe[feature].value_counts().nlargest(15).index\n",
    "            data_to_plot = dataframe[dataframe[feature].isin(top_values)]\n",
    "        else:\n",
    "            data_to_plot = dataframe\n",
    "\n",
    "        sns.countplot(data=data_to_plot, y=feature, ax=axes[plot_index], palette=\"pastel\", order=data_to_plot[feature].value_counts().index)\n",
    "        axes[plot_index].set_title(f'Частотность категориального признака: {feature}', fontsize=14)\n",
    "        axes[plot_index].set_xlabel(\"Частота\")\n",
    "        axes[plot_index].set_ylabel(feature)\n",
    "        plot_index += 1\n",
    "    \n",
    "    # Обработка числовых признаков\n",
    "    for feature in numerical_features:\n",
    "        # Гистограмма\n",
    "        sns.histplot(data=dataframe, x=feature, kde=True, bins=30, ax=axes[plot_index], color=\"skyblue\")\n",
    "        axes[plot_index].set_title(f'Распределение {feature}', fontsize=14)\n",
    "        axes[plot_index].set_xlabel(feature)\n",
    "        axes[plot_index].set_ylabel(\"Частота\")\n",
    "        plot_index += 1\n",
    "\n",
    "        # Boxplot\n",
    "        sns.boxplot(data=dataframe, x=feature, ax=axes[plot_index])\n",
    "        axes[plot_index].set_title(f'Boxplot: {feature}', fontsize=14)\n",
    "        axes[plot_index].set_xlabel(feature)\n",
    "        plot_index += 1\n",
    "    \n",
    "    plt.tight_layout(rect=[0, 0, 1, 0.98])\n",
    "    plt.show()\n",
    "\n",
    "# Определяем категориальные и числовые признаки\n",
    "categorical_features = ['VehicleType', 'Gearbox', 'Model', 'FuelType', 'Brand', 'Repaired', 'RegistrationMonth']\n",
    "numerical_features = ['Price', 'Power', 'Kilometer', 'RegistrationYear']  # RegistrationYear теперь числовой\n",
    "\n",
    "# Вызов функции для визуализации данных\n",
    "plot_categorical_and_numerical(autos_cleaned, categorical_features, numerical_features, title=\"Распределение признаков\")"
   ]
  },
  {
   "cell_type": "markdown",
   "metadata": {},
   "source": [
    "~~Удалим из датасета бессмысленные для анализа признаки и явные дубликаты, возникшие после удаления.~~"
   ]
  },
  {
   "cell_type": "code",
   "execution_count": 13,
   "metadata": {},
   "outputs": [],
   "source": [
    "# Список оставляемых признаков\n",
    "selected_features = categorical_features + numerical_features\n",
    "\n",
    "# Фильтрация столбцов\n",
    "autos_filtered = autos_cleaned[selected_features]\n",
    "\n",
    "# Проверим дубликаты после удаления\n",
    "# duplicates = autos_filtered.duplicated().sum()\n",
    "# print(f\"Количество дубликатов: {duplicates}\")"
   ]
  },
  {
   "cell_type": "code",
   "execution_count": 14,
   "metadata": {},
   "outputs": [],
   "source": [
    "# autos_filtered = autos_filtered.drop_duplicates().reset_index(drop=True)\n",
    "# print(f\"Размер autos_filtered после удаления дубликатов: {autos_filtered.shape}\")"
   ]
  },
  {
   "cell_type": "markdown",
   "metadata": {},
   "source": [
    "**Общий вывод по анализу данных**\n",
    "1. **Категориальные признаки:**\n",
    "   - **Популярные типы кузова**: седан, компактный, универсал.\n",
    "   - **Большая доля механических коробок передач**.\n",
    "   - **Основное топливо — бензин, дизель значительно реже**.\n",
    "   - **Марки Volkswagen, Opel, BMW, Mercedes и Audi преобладают на рынке**.\n",
    "\n",
    "2. **Числовые признаки:**\n",
    "   - **Цена**: сильный перекос в сторону **дешёвых авто**.\n",
    "   - **Мощность**: после **250 л.с. — выбросы**.\n",
    "   - **Пробег**: большинство машин с **высоким пробегом**, авто **менее 90,000 км редки**.\n",
    "\n",
    "3. **Обнаружены выбросы и проблемы в данных:**\n",
    "   - **Цена > 14,800 евро** выбивается из общего распределения.\n",
    "   - **Мощность > 250 л.с.** — редкое явление, выше 800 л.с. **данные скорректированы**.\n",
    "   - **Пробег менее 90,000 км встречается редко**."
   ]
  },
  {
   "cell_type": "markdown",
   "metadata": {},
   "source": [
    "<div class=\"alert alert-block alert-danger\">\n",
    "<h3> Комментарий ревьюера <a class=\"tocSkip\"></h3>\n",
    "\n",
    "<b>На доработку🤔:</b>\n",
    "    \n",
    "* Обрати внимание, что выше ты обозначал наличие странных нулевых значений в признаках цены и месяца, но они так и не были обработаны. Если ошибка в месяце еще не несет такой большой потенциальной угрозы (скорее всего, малозначимый признак), то обучать модель предсказывать нули сомнительно - клиенты вряд ли будут рады увидеть такую оценку для своего автомобиля.\n",
    "    \n",
    "    \n",
    "* Дубликаты удалены не совсем своевременно. При удалении ты учитываешь только ту информацию, которая вполне может повторяться в реальном мире. Удаляя такие одинаковые наблюдения, мы вмешиваемся в репрезентативность нашей выборки. Поскольку искажается частота тех или иных наблюдений, все представители выборки становятся равновероятными, из-за чего модель в свою очередь иначе распределяет веса, определяющие влияние того или иного фактора. Шаг по обработке дубликатов стоит проводить до начала каких-либо статистических расчетов, иначе они будут искажены. В нашем случае при работе с дубликатами стоит также учитывать более специфическую информацию об объявлении (даты, почтовый индекс), чтобы удалить задублировавшиеся объявления, а не авто."
   ]
  },
  {
   "cell_type": "markdown",
   "metadata": {},
   "source": [
    "<div class=\"alert alert-warning\">\n",
    "<h3> Комментарий ревьюера <a class=\"tocSkip\"> </h3>\n",
    "    \n",
    "<b>Некоторые замечания и рекомендации💡:</b>  \n",
    "    \n",
    "* Также в дополнение к комментарию выше относительно удаляемых признаков. В целом ты прав, в текущем виде данные признаки не принесут особой пользы. Но в то же время они могут помочь сделать анализ более глубоким и точным.\n",
    "    <details> <summary> <span style='color:blue' > Развернуть подробнее. </span> </summary>\n",
    "        \n",
    "    1. В данных есть неточности, связанные с порядком событий: если детальнее изучить даты, то можно обнаружить, что дата последней активности клиента является более поздней, чем дата выгрузки анкеты, то есть объявление скачано раньше, чем в него были внесены последние изменения. С учетом того, что изменения вероятнее всего вносятся по поводу цены, для обучения модели целесообразнее использовать более актуальную цену (цену при последнем изменении). Но факт нарушения последовательности событий в данных может заставить нас сомневать в актуальности некоторых цен.\n",
    "    \n",
    "    2. Если дату последней активности, опять же, считать датой последней акутализации цены, то данные следовало бы упорядочить с учетом актуальности для более честного разбиения на выборки: чтобы тестирование производилось на более поздних данных, что соответсвует реальной практике (обучились на данных из прошлого, применяем на данных настоящего).\n",
    "\n",
    "    3. Даты создания анкеты и последней активности (если предположить, что в большинстве случаев она же ялвяется датой продажи) могут помочь рассчитать, как долго объявление было открытым. Если объявление было открыто слишком долго, вероятно, продажа не совершалась из-за завышенной цены. \n",
    "        \n",
    "    4. Почтовый индекс может помочь определить регион локализации объявления. Ценообразование может несколько отличаться между регионами.\n",
    "    \n",
    "    </details>\n",
    "    \n",
    "    \n",
    "* Графики с большим количеством категорий сейчас совсем не читаются. Стоит подумать над тем, как сделать их более аккуратными. Например, выводить только топ категорий. В отношении же года регистрации достаточно просто считать его числовым признаком (каким он по сути и является, поскольку года в истории не повторяются, а идут один за другим) и построить гистограмму (в нашей выборке разброс по годам достаточно велик, чтобы смотреть на их распределение, вместо дискретного подхода)."
   ]
  },
  {
   "cell_type": "markdown",
   "metadata": {},
   "source": [
    "<div style=\"background: #B0E0E6; padding: 5px; border: 1px solid SteelBlue; border-radius: 5px;\">\n",
    "    <font color='4682B4'><u><b>КОММЕНТАРИЙ СТУДЕНТА</b></u></font>\n",
    "    <br />\n",
    "    <font color='4682B4'>Дополнил обработку пропусков, дубликатов и вывод графиков.</font>\n",
    "</div>"
   ]
  },
  {
   "cell_type": "markdown",
   "metadata": {},
   "source": [
    "<div class=\"alert alert-success\">\n",
    "<h3> Комментарий ревьюера 2<a class=\"tocSkip\"> </h3> \n",
    "    \n",
    "<b>Все отлично! 👍:</b> 😉"
   ]
  },
  {
   "cell_type": "markdown",
   "metadata": {},
   "source": [
    "## Корреляционный анализ"
   ]
  },
  {
   "cell_type": "markdown",
   "metadata": {},
   "source": [
    "Не все признаки распределены нормально, поэтому используем корреляцию Phik."
   ]
  },
  {
   "cell_type": "code",
   "execution_count": 15,
   "metadata": {},
   "outputs": [
    {
     "data": {
      "image/png": "[encoded data removed]",
      "text/plain": [
       "<Figure size 576x432 with 2 Axes>"
      ]
     },
     "metadata": {
      "needs_background": "light"
     },
     "output_type": "display_data"
    },
    {
     "name": "stdout",
     "output_type": "stream",
     "text": [
      "Пары признаков с высокой корреляцией (больше 0.9):\n",
      "      feature_1    feature_2  phi_k_value\n",
      "2   VehicleType        Model     0.915965\n",
      "22        Model  VehicleType     0.915965\n",
      "26        Model        Brand     0.998208\n",
      "46        Brand        Model     0.998208\n"
     ]
    }
   ],
   "source": [
    "# Рассчитываем PhiK корреляцию между количественными признаками\n",
    "phik_corr = autos_filtered.phik_matrix(interval_cols=numerical_features)\n",
    "\n",
    "# Визуализация корреляционной матрицы PhiK\n",
    "plt.figure(figsize=(8, 6))\n",
    "sns.heatmap(phik_corr, annot=True, fmt=\".2f\", cmap=\"coolwarm\", cbar_kws={\"shrink\": 0.8})\n",
    "plt.title(\"PhiK Корреляционная матрица\")\n",
    "plt.show()\n",
    "\n",
    "# Фильтрация корреляций, исключая NaN и вывод только корреляций больше 0.9\n",
    "high_corr = phik_corr.stack().reset_index()\n",
    "high_corr.columns = ['feature_1', 'feature_2', 'phi_k_value']\n",
    "\n",
    "# Оставляем только те строки, где корреляция больше 0.9, исключая саморефлексию (где feature_1 == feature_2)\n",
    "high_corr = high_corr[(high_corr['phi_k_value'] > 0.9) & (high_corr['feature_1'] != high_corr['feature_2'])]\n",
    "\n",
    "# Выводим результаты\n",
    "print(\"Пары признаков с высокой корреляцией (больше 0.9):\")\n",
    "print(high_corr)"
   ]
  },
  {
   "cell_type": "markdown",
   "metadata": {},
   "source": [
    "Признаки Model, Brand и VehicleType имеют слишком высокую корреляцию (почти 1), что указывает на их избыточность. Объединим признаки их в один."
   ]
  },
  {
   "cell_type": "code",
   "execution_count": 16,
   "metadata": {},
   "outputs": [
    {
     "data": {
      "text/html": [
       "<div>\n",
       "<style scoped>\n",
       "    .dataframe tbody tr th:only-of-type {\n",
       "        vertical-align: middle;\n",
       "    }\n",
       "\n",
       "    .dataframe tbody tr th {\n",
       "        vertical-align: top;\n",
       "    }\n",
       "\n",
       "    .dataframe thead th {\n",
       "        text-align: right;\n",
       "    }\n",
       "</style>\n",
       "<table border=\"1\" class=\"dataframe\">\n",
       "  <thead>\n",
       "    <tr style=\"text-align: right;\">\n",
       "      <th></th>\n",
       "      <th>Brand_Model_VehicleType</th>\n",
       "    </tr>\n",
       "  </thead>\n",
       "  <tbody>\n",
       "    <tr>\n",
       "      <th>90713</th>\n",
       "      <td>mercedes_benz e_klasse sedan</td>\n",
       "    </tr>\n",
       "    <tr>\n",
       "      <th>339649</th>\n",
       "      <td>jeep wrangler suv</td>\n",
       "    </tr>\n",
       "    <tr>\n",
       "      <th>301030</th>\n",
       "      <td>audi a6 wagon</td>\n",
       "    </tr>\n",
       "    <tr>\n",
       "      <th>53739</th>\n",
       "      <td>seat ibiza small</td>\n",
       "    </tr>\n",
       "    <tr>\n",
       "      <th>204218</th>\n",
       "      <td>bmw 3er coupe</td>\n",
       "    </tr>\n",
       "  </tbody>\n",
       "</table>\n",
       "</div>"
      ],
      "text/plain": [
       "             Brand_Model_VehicleType\n",
       "90713   mercedes_benz e_klasse sedan\n",
       "339649             jeep wrangler suv\n",
       "301030                 audi a6 wagon\n",
       "53739               seat ibiza small\n",
       "204218                 bmw 3er coupe"
      ]
     },
     "metadata": {},
     "output_type": "display_data"
    }
   ],
   "source": [
    "# Создание нового признака, объединяющего Brand, Model и VehicleType\n",
    "autos_filtered = autos_filtered.copy()  # Создаем копию, чтобы избежать SettingWithCopyWarning\n",
    "autos_filtered.loc[:, 'Brand_Model_VehicleType'] = autos_filtered['Brand'].astype(str) + ' ' + \\\n",
    "                                                  autos_filtered['Model'].astype(str) + ' ' + \\\n",
    "                                                  autos_filtered['VehicleType'].astype(str)\n",
    "\n",
    "# Удаление старых признаков Brand, Model и VehicleType\n",
    "autos_filtered = autos_filtered.drop(columns=['Brand', 'Model', 'VehicleType'])\n",
    "\n",
    "# Проверим результат\n",
    "display(autos_filtered[['Brand_Model_VehicleType']].head())\n"
   ]
  },
  {
   "cell_type": "code",
   "execution_count": 17,
   "metadata": {},
   "outputs": [
    {
     "name": "stderr",
     "output_type": "stream",
     "text": [
      "/opt/conda/lib/python3.9/site-packages/phik/data_quality.py:59: UserWarning: The number of unique values of variable Brand_Model_VehicleType is large: 1423. Are you sure this is not an interval variable? Analysis for pairs of variables including Brand_Model_VehicleType can be slow.\n",
      "  warnings.warn(\n"
     ]
    },
    {
     "data": {
      "image/png": "[encoded data removed]",
      "text/plain": [
       "<Figure size 576x432 with 2 Axes>"
      ]
     },
     "metadata": {
      "needs_background": "light"
     },
     "output_type": "display_data"
    },
    {
     "name": "stdout",
     "output_type": "stream",
     "text": [
      "Пары признаков с высокой корреляцией (больше 0.9):\n",
      "Empty DataFrame\n",
      "Columns: [feature_1, feature_2, phi_k_value]\n",
      "Index: []\n"
     ]
    }
   ],
   "source": [
    "# Рассчитываем PhiK корреляцию между количественными признаками\n",
    "phik_corr = autos_filtered.phik_matrix(interval_cols=numerical_features)\n",
    "\n",
    "# Улучшенная тепловая карта PhiK-корреляции\n",
    "plt.figure(figsize=(8, 6))\n",
    "sns.heatmap(phik_corr, annot=True, fmt=\".2f\", cmap=\"coolwarm\", vmin=0, vmax=1, cbar_kws={\"shrink\": 0.8})\n",
    "plt.title(\"PhiK Корреляционная матрица (0 = белый, чем выше — тем ярче)\")\n",
    "plt.show()\n",
    "\n",
    "# Фильтрация корреляций, исключая NaN и вывод только корреляций больше 0.9\n",
    "high_corr = phik_corr.stack().reset_index()\n",
    "high_corr.columns = ['feature_1', 'feature_2', 'phi_k_value']\n",
    "high_corr = high_corr[(high_corr['phi_k_value'] > 0.9) & (high_corr['feature_1'] != high_corr['feature_2'])]\n",
    "\n",
    "# Выводим результаты\n",
    "print(\"Пары признаков с высокой корреляцией (больше 0.9):\")\n",
    "print(high_corr)"
   ]
  },
  {
   "cell_type": "markdown",
   "metadata": {},
   "source": [
    "**Выводы по анализу корреляции**\n",
    "---\n",
    "**Высокая корреляция между `Model`, `Brand` и `VehicleType`**  \n",
    "Ранее три этих признака имели почти полную взаимосвязь (коэффициенты выше **0.9**), что указывало на избыточность данных и могло привести к проблемам мультиколлинеарности. Поэтому они были объединены в один новый признак **`Brand_Model_VehicleType`**.\n",
    "\n",
    "- **Корреляция `Brand_Model_VehicleType` с `RegistrationYear` (0.857)**  \n",
    "  Связь между этими признаками высокая. Это может указывать на специфику брендов и моделей автомобилей в зависимости от года выпуска.\n",
    "  \n",
    "- **Корреляция `Brand_Model_VehicleType` с `FuelType` (0.718)**  \n",
    "  Высокая связь объясняется тем, что некоторые бренды выпускают автомобили только с определёнными типами топлива (например, электромобили у Tesla).\n",
    "\n",
    "- **Корреляция `Brand_Model_VehicleType` с `Gearbox` (0.679)**  \n",
    "  Определённые бренды и модели выпускаются с фиксированным типом трансмиссии, что объясняет эту корреляцию.\n",
    "\n",
    "- **Корреляция `Brand_Model_VehicleType` с `Price` (0.637)**  \n",
    "  Логично, что цена автомобиля сильно зависит от его марки, модели и типа кузова.\n",
    "\n",
    "- **Корреляция `Price` с `RegistrationYear` (0.681)**  \n",
    "  Новый автомобиль, как правило, стоит дороже, что объясняет связь цены с годом регистрации.\n",
    "\n",
    "- **Корреляция `Price` с `Power` (0.340)**  \n",
    "  Наличие умеренной корреляции указывает на то, что мощность двигателя влияет на стоимость, но не является ключевым фактором.\n",
    "\n",
    "- **Корреляция `Kilometer` с `RegistrationYear` (0.607)**  \n",
    "  Чем старше машина, тем больше у неё пробег, что ожидаемо.\n",
    "\n",
    "- **Корреляция `Kilometer` с `Price` (0.304)**  \n",
    "  Лёгкая отрицательная корреляция — автомобили с большим пробегом дешевле.\n",
    "\n",
    "---"
   ]
  },
  {
   "cell_type": "markdown",
   "metadata": {},
   "source": [
    "<div class=\"alert alert-warning\">\n",
    "<h3> Комментарий ревьюера <a class=\"tocSkip\"> </h3>\n",
    "    \n",
    "<b>Некоторые замечания и рекомендации💡:</b> \n",
    "    \n",
    "* Здравая идея с объединением сильно скоррелированных признаков в один! Но сперва стоило бы заполнить в них пропуски, полагаясь на эту самую корреляцию. Иначе, если хотя бы в одном из объединяемых тобой признаков был пропуск, то объдиненное значение тоже будет пропущено, и оно отправится в замусоренную категорию missing, хотя довольно точно могло быть восстановлено.\n",
    "    \n",
    "    Аналогично в целом можно восстановить и пропуски в Gearbox и FuelType. Корреляция у них, может, и не самая сильная, но довольно приличная, чтобы восстановленные значения можно было бы считать приемлемыми для обучения.\n",
    "    \n",
    "    \n",
    "* Пара слов про мультиколоинеарность. Она является проблемой только в случаях интерпретации важности или степени влияния признака на таргет (скоррелированные признаки оказывают на таргет схожий между собой эффект - то есть объяснятся примерно одна и та же вариация таргета - из-за чего и оценка этого влияния размазывается между этими признаками, то есть сам по себе эффект может быть значительным, но из-за того, что распределен между несколькими признаками, они могут начать проигрывать в рейтинге самых влияетельных факторов). Кроме того, наличие мультиколлинеарности приводит к увеличению вычислительной сложности модели - в совокупности с малой дополнительно приносимой пользой (редко признаки скорредированы на все 100%, что-то индивидуально они все же тоже привносят) это может быть существенным минусом, когда время работы модели играет не последнюю роль.\n",
    "    \n",
    "    \n",
    "* По тепловой карте в отношении корреляций на будущее рекомендовала бы еще фиксировать диапазон значений от -1 до 1 или от 0 до 1 (в зависимости от критерия), при этом выбирать трехцветную или двухцветную палитру соответственно, где на значении 0 был бы белый цвет - отсутствие корреляции. В таком случае по интенсивности цвета будет проще понимать, насколько корреляция сильная. Ну а при диапазоне от -1 до 1 и трехцветной палитре еще и понимать направленность корреляции за счет цвета (положительная или отрицательная)."
   ]
  },
  {
   "cell_type": "markdown",
   "metadata": {},
   "source": [
    "<div style=\"background: #B0E0E6; padding: 5px; border: 1px solid SteelBlue; border-radius: 5px;\">\n",
    "    <font color='4682B4'><u><b>КОММЕНТАРИЙ СТУДЕНТА</b></u></font>\n",
    "    <br />\n",
    "    <font color='4682B4'>Поправил вывод корреляции.</font>\n",
    "</div>"
   ]
  },
  {
   "cell_type": "markdown",
   "metadata": {},
   "source": [
    "<div class=\"alert alert-warning\">\n",
    "<h3> Комментарий ревьюера 2<a class=\"tocSkip\"> </h3>\n",
    "    \n",
    "<b>Некоторые замечания и рекомендации💡:</b> Супер! Палитра еще только не совсем соответствует. Поскольку у тебя значения только от 0 до 1, то лучше выбрать один цвет (или синий, или красный), с наибольшей интенсивностью в 1 и наименьшей в 0, например, `cmap='Blues'`."
   ]
  },
  {
   "cell_type": "markdown",
   "metadata": {},
   "source": [
    "## Подготовка и обучение моделей"
   ]
  },
  {
   "cell_type": "markdown",
   "metadata": {},
   "source": [
    "**Выбор метрики для задачи:**\n",
    "\n",
    "Для оценки моделей будем использовать метрику RMSE"
   ]
  },
  {
   "cell_type": "markdown",
   "metadata": {},
   "source": [
    "Подготовим выборки"
   ]
  },
  {
   "cell_type": "code",
   "execution_count": 18,
   "metadata": {},
   "outputs": [],
   "source": [
    "# ---- Разделение признаков и целевой переменной ----\n",
    "target = 'Price'\n",
    "categorical_features = ['Gearbox', 'FuelType', 'Repaired', 'Brand_Model_VehicleType']\n",
    "numerical_features = ['RegistrationYear', 'RegistrationMonth', 'Power', 'Kilometer']\n",
    "\n",
    "X = autos_filtered.drop(columns=[target])\n",
    "y = autos_filtered[target]\n",
    "\n",
    "# Разделение на тренировочную и тестовую выборки\n",
    "X_train, X_test, y_train, y_test = train_test_split(X, y, test_size=0.2, random_state=42)"
   ]
  },
  {
   "cell_type": "code",
   "execution_count": 19,
   "metadata": {},
   "outputs": [],
   "source": [
    "# Преобразование числовых признаков\n",
    "numerical_transformer = Pipeline(steps=[\n",
    "    ('imputer', SimpleImputer(strategy='median')),\n",
    "    ('scaler', StandardScaler())\n",
    "])\n",
    "\n",
    "# Определение высоко- и низкокардинальных категорий\n",
    "high_cardinality_features = [col for col in categorical_features if X_train[col].nunique() > 10]\n",
    "low_cardinality_features = list(set(categorical_features) - set(high_cardinality_features))\n",
    "\n",
    "# Пайплайн для Линейной регрессии (только OneHotEncoder)\n",
    "preprocessor_lr = ColumnTransformer(transformers=[\n",
    "    ('num', numerical_transformer, numerical_features),\n",
    "    ('cat', OneHotEncoder(drop='first', handle_unknown='ignore', sparse_output=False), categorical_features)\n",
    "])\n",
    "\n",
    "# Пайплайн для деревьев решений (OneHot для низкокардинальных, Ordinal для высококардинальных)\n",
    "low_cardinality_transformer = Pipeline(steps=[\n",
    "    ('imputer', SimpleImputer(strategy='constant', fill_value='missing')),\n",
    "    ('onehot', OneHotEncoder(drop='first', handle_unknown='ignore', sparse_output=False))\n",
    "])\n",
    "\n",
    "high_cardinality_transformer = Pipeline(steps=[\n",
    "    ('imputer', SimpleImputer(strategy='constant', fill_value='missing')),\n",
    "    ('ordinal', OrdinalEncoder(handle_unknown='use_encoded_value', unknown_value=-1))\n",
    "])\n",
    "\n",
    "preprocessor_tree = ColumnTransformer(transformers=[\n",
    "    ('num', numerical_transformer, numerical_features),\n",
    "    ('low_cat', low_cardinality_transformer, low_cardinality_features),\n",
    "    ('high_cat', high_cardinality_transformer, high_cardinality_features)\n",
    "])\n"
   ]
  },
  {
   "cell_type": "code",
   "execution_count": 20,
   "metadata": {},
   "outputs": [],
   "source": [
    "# Список моделей для тестирования\n",
    "models = {\n",
    "#     \"Линейная регрессия\": Pipeline(steps=[('preprocessor', preprocessor_lr), ('model', LinearRegression())]),\n",
    "    \"Случайный лес\": Pipeline(steps=[('preprocessor', preprocessor_tree), ('model', RandomForestRegressor(n_estimators=50, max_depth=10, random_state=42))]),\n",
    "    \"LightGBM\": Pipeline(steps=[('preprocessor', preprocessor_tree), ('model', lgb.LGBMRegressor(n_estimators=500, learning_rate=0.05, num_leaves=31, force_row_wise=True, random_state=42))])\n",
    "}"
   ]
  },
  {
   "cell_type": "markdown",
   "metadata": {},
   "source": [
    "<div class=\"alert alert-success\">\n",
    "<h3> Комментарий ревьюера <a class=\"tocSkip\"> </h3> \n",
    "    \n",
    "<b>Все отлично! 👍:</b> Очень круто, что уже освоил пайплайны и трансформеры! Сразу виден профессиональный подход :)"
   ]
  },
  {
   "cell_type": "markdown",
   "metadata": {},
   "source": [
    "<div class=\"alert alert-warning\">\n",
    "<h3> Комментарий ревьюера <a class=\"tocSkip\"> </h3>\n",
    "    \n",
    "<b>Некоторые замечания и рекомендации💡:</b> \n",
    "    \n",
    "* При обучении моделей на основе деревьев (простые деревья, лес, lgbm, catboost) для высококардинальных категориальных признаков (признаков с большим количеством уникальных значений) нежелательно использовать OHE. Для достижения хорошей точности в этом случае необходимо растить очень глубокое дерево, что достаточно ресурсозатратно. По этой причине такие деревья часто остаются недообученными и несбаланасированными. Вместо OHE для таких признаков в моделях деревьев можно использовать порядковое кодирование (<a href = 'https://scikit-learn.org/stable/modules/generated/sklearn.preprocessing.OrdinalEncoder.html#sklearn.preprocessing.OrdinalEncoder'>OrdinalEncoder</a>), благодаря чему при обучении дерева за счет одного шага можно будет делить сразу все категории на два подмножетсва, что поможет не делать слишком много шагов для углубления.\n",
    "    \n",
    "    У lgbm и catboost при этом даже есть специальные параметры, через которые можно указать перечень признаков, требующих кодирования (хотя дефолтно модели сами могут определить, какие из признаков являются категориальными, это не всегда работает надежно, поэтому во избежание недопонимания с моделью лучше вручную прописать нуждающиеся в кодировании признаки): categorical_feature и cat_features соответсвнно.\n",
    "    \n",
    "    \n",
    "* Про мультиколлинеарность выше уже говорила, здесь чуть дополню. Хочу обратить внимание, что создание дамми-признаков для низкокардинальных категориальных признаков также приводит к мультиколлинеарности, чем меньше категорий - тем сильнее (при 2 категориях корреляция между двумя дамми-признаками будет равна 1). Исходя из этих соображений, принято отбрасывать один из дамми признаков, который по сути довольно просто выражается через все остальные. Для этого у OHE есть параметр `drop='first'`."
   ]
  },
  {
   "cell_type": "markdown",
   "metadata": {},
   "source": [
    "<div class=\"alert alert-warning\">\n",
    "<h3> Комментарий ревьюера 2<a class=\"tocSkip\"> </h3>\n",
    "    \n",
    "<b>Некоторые замечания и рекомендации💡:</b> Чуть доуточню еще свой прошлый комментарий. В случае lgbm и catboost желательно использовать именно встроенные кодировщики. Порядковое кодирование - приемлемая альтернатива, но не самая идеальная (все-таки оно вносит дополнительную информацию о порядке, которого по факту может не быть). Самый лучший способ для высококардинальных признаков - TargetEncoding, однако данный подход требует регуляризации (например, разбиение на фолды, сглаживание), чтобы избежать утечки данных и переобучения. Это не слишком сложно, но нужно подзаморочиться. В связи с чем пока можем остановить свой выбор на порядковом кодировании для простых деревьев, лесов и xgboost (у которых нет встроенных кодировщиков), а для lgbm и catboost использовать встроенные, в которых данная проблема решена (у lgbm кодировшик как раз основан на TargetEncoding, у catboost собственный кодировщик, основан на статистике категорий)."
   ]
  },
  {
   "cell_type": "markdown",
   "metadata": {},
   "source": [
    "<div class=\"alert alert-block alert-danger\">\n",
    "<h3> Комментарий ревьюера 2<a class=\"tocSkip\"></h3>\n",
    "\n",
    "<b>На доработку🤔:</b> Сейчас для всех моделей у тебя единый пайплайн обработки. Однако обращаю внимание, что для линейной регрессии допустимо только кодировние OHE (если категории не имеют порядка). Если применить порядковое кодирование к тем категориям, которые этого порядка по сути не имеют, то модель едва ли сможет нормально оценить влияние данного признака, поскольку будет искать линейную взаимосвязь там, где ее не подразумевается. По итогу признак становится бесполезным."
   ]
  },
  {
   "cell_type": "markdown",
   "metadata": {},
   "source": [
    "<div style=\"background: #B0E0E6; padding: 5px; border: 1px solid SteelBlue; border-radius: 5px;\">\n",
    "    <font color='4682B4'><u><b>КОММЕНТАРИЙ СТУДЕНТА</b></u></font>\n",
    "    <br />\n",
    "    <font color='4682B4'>В общем, как я ни пытался сделать Ohe для линейной регрессии, ядро падает и в этом ноутбуке, и у меня на машине. Загуглил, пишут что подход при большом количестве категорий, как тут, не оптимальный и нужно использовать дерево решений и/или другие модели. Я не знаю, что ещё с этим можно сделать, в остальных моделях всё ок и задание выполняется, целевая метрика в порядке. Линейную регрессию в моделях закомментировал. Кросс-валидацию добавил в функцию ниже.</font>\n",
    "</div>"
   ]
  },
  {
   "cell_type": "markdown",
   "metadata": {},
   "source": [
    "<div class=\"alert alert-success\">\n",
    "<h3> Комментарий ревьюера 4<a class=\"tocSkip\"> </h3> \n",
    "    \n",
    "<b>Все отлично! 👍:</b> Хорошо, можем оставить сейчас так. Акцент в данном проекте был на знакомсте с LGBM, поэтому отказавшись от линейной регрессии ничего не потерям. Просто запоминаем на будущее, что для непорядковых категорий подходит только OHE. Еще, как вариант, можно попробовать объединять редкие категории в одну, чтобы уменьшить размерность данных после кодирвания."
   ]
  },
  {
   "cell_type": "code",
   "execution_count": 21,
   "metadata": {},
   "outputs": [],
   "source": [
    "# Функция для оценки модели через `cross_validate`\n",
    "def evaluate_model(pipeline, X_train, y_train):\n",
    "    \"\"\"\n",
    "    Оценивает модель с помощью кросс-валидации.\n",
    "\n",
    "    Args:\n",
    "        pipeline (Pipeline): Полный пайплайн с препроцессингом.\n",
    "        X_train (DataFrame): Обучающий набор данных.\n",
    "        y_train (Series): Целевая переменная.\n",
    "\n",
    "    Returns:\n",
    "        tuple: (RMSE на обучении, RMSE на тесте, Время обучения, Время предсказания)\n",
    "    \"\"\"\n",
    "\n",
    "    # Кросс-валидация\n",
    "    cv_results = cross_validate(\n",
    "        pipeline, X_train, y_train, cv=5,\n",
    "        scoring='neg_root_mean_squared_error',\n",
    "        return_train_score=True, return_estimator=True, n_jobs=-1\n",
    "    )\n",
    "\n",
    "    # Средний RMSE\n",
    "    mean_train_rmse = -np.mean(cv_results['train_score'])\n",
    "    mean_test_rmse = -np.mean(cv_results['test_score'])\n",
    "\n",
    "    # Среднее время\n",
    "    mean_fit_time = np.mean(cv_results['fit_time'])\n",
    "    mean_score_time = np.mean(cv_results['score_time'])\n",
    "\n",
    "    return mean_train_rmse, mean_test_rmse, mean_fit_time, mean_score_time"
   ]
  },
  {
   "cell_type": "code",
   "execution_count": 22,
   "metadata": {
    "scrolled": false
   },
   "outputs": [
    {
     "name": "stdout",
     "output_type": "stream",
     "text": [
      "[LightGBM] [Info] Total Bins 617\n",
      "[LightGBM] [Info] Number of data points in the train set: 210871, number of used features: 16\n",
      "[LightGBM] [Info] Start training from score 4525.470717\n",
      "[LightGBM] [Info] Total Bins 617\n",
      "[LightGBM] [Info] Number of data points in the train set: 210871, number of used features: 16\n",
      "[LightGBM] [Info] Start training from score 4518.412394\n",
      "[LightGBM] [Info] Total Bins 616\n",
      "[LightGBM] [Info] Number of data points in the train set: 210871, number of used features: 16\n",
      "[LightGBM] [Info] Start training from score 4528.700054\n",
      "[LightGBM] [Info] Total Bins 616\n",
      "[LightGBM] [Info] Number of data points in the train set: 210871, number of used features: 16\n",
      "[LightGBM] [Info] Start training from score 4516.995810\n",
      "[LightGBM] [Info] Total Bins 616\n",
      "[LightGBM] [Info] Number of data points in the train set: 210872, number of used features: 16\n",
      "[LightGBM] [Info] Start training from score 4523.240591\n"
     ]
    }
   ],
   "source": [
    "# Игнорировать специфические предупреждения\n",
    "warnings.filterwarnings(\"ignore\", message=\"The LGBMRegressor or classes from which it inherits use `_get_tags`\")\n",
    "warnings.filterwarnings(\"ignore\", message=\"'force_all_finite' was renamed to 'ensure_all_finite'\")\n",
    "\n",
    "# Оценка моделей\n",
    "results = []\n",
    "for model_name, pipeline in models.items():\n",
    "    train_rmse, test_rmse, fit_time, score_time = evaluate_model(pipeline, X_train, y_train)\n",
    "    results.append([model_name, train_rmse, test_rmse, fit_time, score_time])\n",
    "\n",
    "# Формируем DataFrame с результатами\n",
    "results_df = pd.DataFrame(results, columns=[\"Модель\", \"RMSE (train)\", \"RMSE (test)\", \"Время обучения (сек)\", \"Время предсказания (сек)\"])\n",
    "results_df.sort_values(by=\"RMSE (test)\", ascending=True, inplace=True)\n"
   ]
  },
  {
   "cell_type": "code",
   "execution_count": 23,
   "metadata": {},
   "outputs": [
    {
     "data": {
      "text/html": [
       "<div>\n",
       "<style scoped>\n",
       "    .dataframe tbody tr th:only-of-type {\n",
       "        vertical-align: middle;\n",
       "    }\n",
       "\n",
       "    .dataframe tbody tr th {\n",
       "        vertical-align: top;\n",
       "    }\n",
       "\n",
       "    .dataframe thead th {\n",
       "        text-align: right;\n",
       "    }\n",
       "</style>\n",
       "<table border=\"1\" class=\"dataframe\">\n",
       "  <thead>\n",
       "    <tr style=\"text-align: right;\">\n",
       "      <th></th>\n",
       "      <th>Модель</th>\n",
       "      <th>RMSE (train)</th>\n",
       "      <th>RMSE (test)</th>\n",
       "      <th>Время обучения (сек)</th>\n",
       "      <th>Время предсказания (сек)</th>\n",
       "    </tr>\n",
       "  </thead>\n",
       "  <tbody>\n",
       "    <tr>\n",
       "      <th>1</th>\n",
       "      <td>LightGBM</td>\n",
       "      <td>1640.771072</td>\n",
       "      <td>1709.999398</td>\n",
       "      <td>5.715510</td>\n",
       "      <td>1.404835</td>\n",
       "    </tr>\n",
       "    <tr>\n",
       "      <th>0</th>\n",
       "      <td>Случайный лес</td>\n",
       "      <td>1866.251471</td>\n",
       "      <td>1953.337070</td>\n",
       "      <td>18.337774</td>\n",
       "      <td>0.322376</td>\n",
       "    </tr>\n",
       "  </tbody>\n",
       "</table>\n",
       "</div>"
      ],
      "text/plain": [
       "          Модель  RMSE (train)  RMSE (test)  Время обучения (сек)  \\\n",
       "1       LightGBM   1640.771072  1709.999398              5.715510   \n",
       "0  Случайный лес   1866.251471  1953.337070             18.337774   \n",
       "\n",
       "   Время предсказания (сек)  \n",
       "1                  1.404835  \n",
       "0                  0.322376  "
      ]
     },
     "metadata": {},
     "output_type": "display_data"
    }
   ],
   "source": [
    "# Выводим результаты\n",
    "display(results_df)"
   ]
  },
  {
   "cell_type": "code",
   "execution_count": 24,
   "metadata": {},
   "outputs": [
    {
     "name": "stdout",
     "output_type": "stream",
     "text": [
      "\n",
      "Подбираем гиперпараметры для LightGBM...\n",
      "Fitting 2 folds for each of 10 candidates, totalling 20 fits\n",
      "[LightGBM] [Info] Auto-choosing row-wise multi-threading, the overhead of testing was 0.009309 seconds.\n",
      "You can set `force_row_wise=true` to remove the overhead.\n",
      "And if memory is not enough, you can set `force_col_wise=true`.\n",
      "[LightGBM] [Info] Total Bins 616\n",
      "[LightGBM] [Info] Number of data points in the train set: 131794, number of used features: 16\n",
      "[LightGBM] [Info] Start training from score 4526.336442\n",
      "[CV] END learning_rate=0.01, n_estimators=600, num_leaves=62; total time=  15.1s\n",
      "[LightGBM] [Info] Auto-choosing row-wise multi-threading, the overhead of testing was 0.009266 seconds.\n",
      "You can set `force_row_wise=true` to remove the overhead.\n",
      "And if memory is not enough, you can set `force_col_wise=true`.\n",
      "[LightGBM] [Info] Total Bins 615\n",
      "[LightGBM] [Info] Number of data points in the train set: 131795, number of used features: 16\n",
      "[LightGBM] [Info] Start training from score 4518.791415\n",
      "[CV] END learning_rate=0.01, n_estimators=600, num_leaves=62; total time=  15.0s\n",
      "[LightGBM] [Info] Auto-choosing row-wise multi-threading, the overhead of testing was 0.009794 seconds.\n",
      "You can set `force_row_wise=true` to remove the overhead.\n",
      "And if memory is not enough, you can set `force_col_wise=true`.\n",
      "[LightGBM] [Info] Total Bins 616\n",
      "[LightGBM] [Info] Number of data points in the train set: 131794, number of used features: 16\n",
      "[LightGBM] [Info] Start training from score 4526.336442\n",
      "[CV] END learning_rate=0.05, n_estimators=500, num_leaves=50; total time=   7.4s\n",
      "[LightGBM] [Info] Auto-choosing row-wise multi-threading, the overhead of testing was 0.009255 seconds.\n",
      "You can set `force_row_wise=true` to remove the overhead.\n",
      "And if memory is not enough, you can set `force_col_wise=true`.\n",
      "[LightGBM] [Info] Total Bins 615\n",
      "[LightGBM] [Info] Number of data points in the train set: 131795, number of used features: 16\n",
      "[LightGBM] [Info] Start training from score 4518.791415\n",
      "[CV] END learning_rate=0.05, n_estimators=500, num_leaves=50; total time=   7.2s\n",
      "[LightGBM] [Info] Auto-choosing row-wise multi-threading, the overhead of testing was 0.009305 seconds.\n",
      "You can set `force_row_wise=true` to remove the overhead.\n",
      "And if memory is not enough, you can set `force_col_wise=true`.\n",
      "[LightGBM] [Info] Total Bins 616\n",
      "[LightGBM] [Info] Number of data points in the train set: 131794, number of used features: 16\n",
      "[LightGBM] [Info] Start training from score 4526.336442\n",
      "[CV] END learning_rate=0.05, n_estimators=400, num_leaves=31; total time=   5.3s\n",
      "[LightGBM] [Info] Auto-choosing row-wise multi-threading, the overhead of testing was 0.009512 seconds.\n",
      "You can set `force_row_wise=true` to remove the overhead.\n",
      "And if memory is not enough, you can set `force_col_wise=true`.\n",
      "[LightGBM] [Info] Total Bins 615\n",
      "[LightGBM] [Info] Number of data points in the train set: 131795, number of used features: 16\n",
      "[LightGBM] [Info] Start training from score 4518.791415\n",
      "[CV] END learning_rate=0.05, n_estimators=400, num_leaves=31; total time=   5.5s\n",
      "[LightGBM] [Info] Auto-choosing row-wise multi-threading, the overhead of testing was 0.009176 seconds.\n",
      "You can set `force_row_wise=true` to remove the overhead.\n",
      "And if memory is not enough, you can set `force_col_wise=true`.\n",
      "[LightGBM] [Info] Total Bins 616\n",
      "[LightGBM] [Info] Number of data points in the train set: 131794, number of used features: 16\n",
      "[LightGBM] [Info] Start training from score 4526.336442\n",
      "[CV] END .learning_rate=0.1, n_estimators=500, num_leaves=31; total time=   5.9s\n",
      "[LightGBM] [Info] Auto-choosing row-wise multi-threading, the overhead of testing was 0.010023 seconds.\n",
      "You can set `force_row_wise=true` to remove the overhead.\n",
      "And if memory is not enough, you can set `force_col_wise=true`.\n",
      "[LightGBM] [Info] Total Bins 615\n",
      "[LightGBM] [Info] Number of data points in the train set: 131795, number of used features: 16\n",
      "[LightGBM] [Info] Start training from score 4518.791415\n",
      "[CV] END .learning_rate=0.1, n_estimators=500, num_leaves=31; total time=   6.0s\n",
      "[LightGBM] [Info] Auto-choosing row-wise multi-threading, the overhead of testing was 0.009885 seconds.\n",
      "You can set `force_row_wise=true` to remove the overhead.\n",
      "And if memory is not enough, you can set `force_col_wise=true`.\n",
      "[LightGBM] [Info] Total Bins 616\n",
      "[LightGBM] [Info] Number of data points in the train set: 131794, number of used features: 16\n",
      "[LightGBM] [Info] Start training from score 4526.336442\n",
      "[CV] END learning_rate=0.01, n_estimators=400, num_leaves=31; total time=   7.0s\n",
      "[LightGBM] [Info] Auto-choosing row-wise multi-threading, the overhead of testing was 0.009745 seconds.\n",
      "You can set `force_row_wise=true` to remove the overhead.\n",
      "And if memory is not enough, you can set `force_col_wise=true`.\n",
      "[LightGBM] [Info] Total Bins 615\n",
      "[LightGBM] [Info] Number of data points in the train set: 131795, number of used features: 16\n",
      "[LightGBM] [Info] Start training from score 4518.791415\n",
      "[CV] END learning_rate=0.01, n_estimators=400, num_leaves=31; total time=   6.9s\n",
      "[LightGBM] [Info] Auto-choosing row-wise multi-threading, the overhead of testing was 0.010251 seconds.\n",
      "You can set `force_row_wise=true` to remove the overhead.\n",
      "And if memory is not enough, you can set `force_col_wise=true`.\n",
      "[LightGBM] [Info] Total Bins 616\n",
      "[LightGBM] [Info] Number of data points in the train set: 131794, number of used features: 16\n",
      "[LightGBM] [Info] Start training from score 4526.336442\n",
      "[CV] END learning_rate=0.05, n_estimators=400, num_leaves=62; total time=   7.0s\n",
      "[LightGBM] [Info] Auto-choosing row-wise multi-threading, the overhead of testing was 0.011349 seconds.\n",
      "You can set `force_row_wise=true` to remove the overhead.\n",
      "And if memory is not enough, you can set `force_col_wise=true`.\n",
      "[LightGBM] [Info] Total Bins 615\n",
      "[LightGBM] [Info] Number of data points in the train set: 131795, number of used features: 16\n",
      "[LightGBM] [Info] Start training from score 4518.791415\n",
      "[CV] END learning_rate=0.05, n_estimators=400, num_leaves=62; total time=   6.8s\n",
      "[LightGBM] [Info] Auto-choosing row-wise multi-threading, the overhead of testing was 0.010224 seconds.\n",
      "You can set `force_row_wise=true` to remove the overhead.\n",
      "And if memory is not enough, you can set `force_col_wise=true`.\n",
      "[LightGBM] [Info] Total Bins 616\n",
      "[LightGBM] [Info] Number of data points in the train set: 131794, number of used features: 16\n",
      "[LightGBM] [Info] Start training from score 4526.336442\n",
      "[CV] END learning_rate=0.05, n_estimators=600, num_leaves=50; total time=  10.2s\n",
      "[LightGBM] [Info] Auto-choosing row-wise multi-threading, the overhead of testing was 0.010103 seconds.\n",
      "You can set `force_row_wise=true` to remove the overhead.\n",
      "And if memory is not enough, you can set `force_col_wise=true`.\n",
      "[LightGBM] [Info] Total Bins 615\n",
      "[LightGBM] [Info] Number of data points in the train set: 131795, number of used features: 16\n",
      "[LightGBM] [Info] Start training from score 4518.791415\n",
      "[CV] END learning_rate=0.05, n_estimators=600, num_leaves=50; total time=   9.7s\n",
      "[LightGBM] [Info] Auto-choosing row-wise multi-threading, the overhead of testing was 0.010078 seconds.\n",
      "You can set `force_row_wise=true` to remove the overhead.\n",
      "And if memory is not enough, you can set `force_col_wise=true`.\n",
      "[LightGBM] [Info] Total Bins 616\n",
      "[LightGBM] [Info] Number of data points in the train set: 131794, number of used features: 16\n",
      "[LightGBM] [Info] Start training from score 4526.336442\n",
      "[CV] END learning_rate=0.05, n_estimators=600, num_leaves=62; total time=  11.3s\n",
      "[LightGBM] [Info] Auto-choosing row-wise multi-threading, the overhead of testing was 0.009661 seconds.\n",
      "You can set `force_row_wise=true` to remove the overhead.\n",
      "And if memory is not enough, you can set `force_col_wise=true`.\n",
      "[LightGBM] [Info] Total Bins 615\n",
      "[LightGBM] [Info] Number of data points in the train set: 131795, number of used features: 16\n",
      "[LightGBM] [Info] Start training from score 4518.791415\n",
      "[CV] END learning_rate=0.05, n_estimators=600, num_leaves=62; total time=  11.4s\n",
      "[LightGBM] [Info] Auto-choosing row-wise multi-threading, the overhead of testing was 0.010414 seconds.\n",
      "You can set `force_row_wise=true` to remove the overhead.\n",
      "And if memory is not enough, you can set `force_col_wise=true`.\n",
      "[LightGBM] [Info] Total Bins 616\n",
      "[LightGBM] [Info] Number of data points in the train set: 131794, number of used features: 16\n",
      "[LightGBM] [Info] Start training from score 4526.336442\n",
      "[CV] END learning_rate=0.05, n_estimators=500, num_leaves=31; total time=   7.0s\n",
      "[LightGBM] [Info] Auto-choosing row-wise multi-threading, the overhead of testing was 0.010528 seconds.\n",
      "You can set `force_row_wise=true` to remove the overhead.\n",
      "And if memory is not enough, you can set `force_col_wise=true`.\n",
      "[LightGBM] [Info] Total Bins 615\n",
      "[LightGBM] [Info] Number of data points in the train set: 131795, number of used features: 16\n",
      "[LightGBM] [Info] Start training from score 4518.791415\n",
      "[CV] END learning_rate=0.05, n_estimators=500, num_leaves=31; total time=   7.2s\n",
      "[LightGBM] [Info] Auto-choosing row-wise multi-threading, the overhead of testing was 0.009742 seconds.\n",
      "You can set `force_row_wise=true` to remove the overhead.\n",
      "And if memory is not enough, you can set `force_col_wise=true`.\n",
      "[LightGBM] [Info] Total Bins 616\n",
      "[LightGBM] [Info] Number of data points in the train set: 131794, number of used features: 16\n",
      "[LightGBM] [Info] Start training from score 4526.336442\n",
      "[CV] END .learning_rate=0.1, n_estimators=600, num_leaves=31; total time=   7.3s\n",
      "[LightGBM] [Info] Auto-choosing row-wise multi-threading, the overhead of testing was 0.009402 seconds.\n",
      "You can set `force_row_wise=true` to remove the overhead.\n",
      "And if memory is not enough, you can set `force_col_wise=true`.\n",
      "[LightGBM] [Info] Total Bins 615\n",
      "[LightGBM] [Info] Number of data points in the train set: 131795, number of used features: 16\n",
      "[LightGBM] [Info] Start training from score 4518.791415\n",
      "[CV] END .learning_rate=0.1, n_estimators=600, num_leaves=31; total time=   7.1s\n",
      "[LightGBM] [Info] Auto-choosing row-wise multi-threading, the overhead of testing was 0.023724 seconds.\n",
      "You can set `force_row_wise=true` to remove the overhead.\n",
      "And if memory is not enough, you can set `force_col_wise=true`.\n",
      "[LightGBM] [Info] Total Bins 616\n",
      "[LightGBM] [Info] Number of data points in the train set: 263589, number of used features: 16\n",
      "[LightGBM] [Info] Start training from score 4522.563914\n"
     ]
    },
    {
     "data": {
      "text/html": [
       "<style>#sk-container-id-1 {\n",
       "  /* Definition of color scheme common for light and dark mode */\n",
       "  --sklearn-color-text: #000;\n",
       "  --sklearn-color-text-muted: #666;\n",
       "  --sklearn-color-line: gray;\n",
       "  /* Definition of color scheme for unfitted estimators */\n",
       "  --sklearn-color-unfitted-level-0: #fff5e6;\n",
       "  --sklearn-color-unfitted-level-1: #f6e4d2;\n",
       "  --sklearn-color-unfitted-level-2: #ffe0b3;\n",
       "  --sklearn-color-unfitted-level-3: chocolate;\n",
       "  /* Definition of color scheme for fitted estimators */\n",
       "  --sklearn-color-fitted-level-0: #f0f8ff;\n",
       "  --sklearn-color-fitted-level-1: #d4ebff;\n",
       "  --sklearn-color-fitted-level-2: #b3dbfd;\n",
       "  --sklearn-color-fitted-level-3: cornflowerblue;\n",
       "\n",
       "  /* Specific color for light theme */\n",
       "  --sklearn-color-text-on-default-background: var(--sg-text-color, var(--theme-code-foreground, var(--jp-content-font-color1, black)));\n",
       "  --sklearn-color-background: var(--sg-background-color, var(--theme-background, var(--jp-layout-color0, white)));\n",
       "  --sklearn-color-border-box: var(--sg-text-color, var(--theme-code-foreground, var(--jp-content-font-color1, black)));\n",
       "  --sklearn-color-icon: #696969;\n",
       "\n",
       "  @media (prefers-color-scheme: dark) {\n",
       "    /* Redefinition of color scheme for dark theme */\n",
       "    --sklearn-color-text-on-default-background: var(--sg-text-color, var(--theme-code-foreground, var(--jp-content-font-color1, white)));\n",
       "    --sklearn-color-background: var(--sg-background-color, var(--theme-background, var(--jp-layout-color0, #111)));\n",
       "    --sklearn-color-border-box: var(--sg-text-color, var(--theme-code-foreground, var(--jp-content-font-color1, white)));\n",
       "    --sklearn-color-icon: #878787;\n",
       "  }\n",
       "}\n",
       "\n",
       "#sk-container-id-1 {\n",
       "  color: var(--sklearn-color-text);\n",
       "}\n",
       "\n",
       "#sk-container-id-1 pre {\n",
       "  padding: 0;\n",
       "}\n",
       "\n",
       "#sk-container-id-1 input.sk-hidden--visually {\n",
       "  border: 0;\n",
       "  clip: rect(1px 1px 1px 1px);\n",
       "  clip: rect(1px, 1px, 1px, 1px);\n",
       "  height: 1px;\n",
       "  margin: -1px;\n",
       "  overflow: hidden;\n",
       "  padding: 0;\n",
       "  position: absolute;\n",
       "  width: 1px;\n",
       "}\n",
       "\n",
       "#sk-container-id-1 div.sk-dashed-wrapped {\n",
       "  border: 1px dashed var(--sklearn-color-line);\n",
       "  margin: 0 0.4em 0.5em 0.4em;\n",
       "  box-sizing: border-box;\n",
       "  padding-bottom: 0.4em;\n",
       "  background-color: var(--sklearn-color-background);\n",
       "}\n",
       "\n",
       "#sk-container-id-1 div.sk-container {\n",
       "  /* jupyter's `normalize.less` sets `[hidden] { display: none; }`\n",
       "     but bootstrap.min.css set `[hidden] { display: none !important; }`\n",
       "     so we also need the `!important` here to be able to override the\n",
       "     default hidden behavior on the sphinx rendered scikit-learn.org.\n",
       "     See: https://github.com/scikit-learn/scikit-learn/issues/21755 */\n",
       "  display: inline-block !important;\n",
       "  position: relative;\n",
       "}\n",
       "\n",
       "#sk-container-id-1 div.sk-text-repr-fallback {\n",
       "  display: none;\n",
       "}\n",
       "\n",
       "div.sk-parallel-item,\n",
       "div.sk-serial,\n",
       "div.sk-item {\n",
       "  /* draw centered vertical line to link estimators */\n",
       "  background-image: linear-gradient(var(--sklearn-color-text-on-default-background), var(--sklearn-color-text-on-default-background));\n",
       "  background-size: 2px 100%;\n",
       "  background-repeat: no-repeat;\n",
       "  background-position: center center;\n",
       "}\n",
       "\n",
       "/* Parallel-specific style estimator block */\n",
       "\n",
       "#sk-container-id-1 div.sk-parallel-item::after {\n",
       "  content: \"\";\n",
       "  width: 100%;\n",
       "  border-bottom: 2px solid var(--sklearn-color-text-on-default-background);\n",
       "  flex-grow: 1;\n",
       "}\n",
       "\n",
       "#sk-container-id-1 div.sk-parallel {\n",
       "  display: flex;\n",
       "  align-items: stretch;\n",
       "  justify-content: center;\n",
       "  background-color: var(--sklearn-color-background);\n",
       "  position: relative;\n",
       "}\n",
       "\n",
       "#sk-container-id-1 div.sk-parallel-item {\n",
       "  display: flex;\n",
       "  flex-direction: column;\n",
       "}\n",
       "\n",
       "#sk-container-id-1 div.sk-parallel-item:first-child::after {\n",
       "  align-self: flex-end;\n",
       "  width: 50%;\n",
       "}\n",
       "\n",
       "#sk-container-id-1 div.sk-parallel-item:last-child::after {\n",
       "  align-self: flex-start;\n",
       "  width: 50%;\n",
       "}\n",
       "\n",
       "#sk-container-id-1 div.sk-parallel-item:only-child::after {\n",
       "  width: 0;\n",
       "}\n",
       "\n",
       "/* Serial-specific style estimator block */\n",
       "\n",
       "#sk-container-id-1 div.sk-serial {\n",
       "  display: flex;\n",
       "  flex-direction: column;\n",
       "  align-items: center;\n",
       "  background-color: var(--sklearn-color-background);\n",
       "  padding-right: 1em;\n",
       "  padding-left: 1em;\n",
       "}\n",
       "\n",
       "\n",
       "/* Toggleable style: style used for estimator/Pipeline/ColumnTransformer box that is\n",
       "clickable and can be expanded/collapsed.\n",
       "- Pipeline and ColumnTransformer use this feature and define the default style\n",
       "- Estimators will overwrite some part of the style using the `sk-estimator` class\n",
       "*/\n",
       "\n",
       "/* Pipeline and ColumnTransformer style (default) */\n",
       "\n",
       "#sk-container-id-1 div.sk-toggleable {\n",
       "  /* Default theme specific background. It is overwritten whether we have a\n",
       "  specific estimator or a Pipeline/ColumnTransformer */\n",
       "  background-color: var(--sklearn-color-background);\n",
       "}\n",
       "\n",
       "/* Toggleable label */\n",
       "#sk-container-id-1 label.sk-toggleable__label {\n",
       "  cursor: pointer;\n",
       "  display: flex;\n",
       "  width: 100%;\n",
       "  margin-bottom: 0;\n",
       "  padding: 0.5em;\n",
       "  box-sizing: border-box;\n",
       "  text-align: center;\n",
       "  align-items: start;\n",
       "  justify-content: space-between;\n",
       "  gap: 0.5em;\n",
       "}\n",
       "\n",
       "#sk-container-id-1 label.sk-toggleable__label .caption {\n",
       "  font-size: 0.6rem;\n",
       "  font-weight: lighter;\n",
       "  color: var(--sklearn-color-text-muted);\n",
       "}\n",
       "\n",
       "#sk-container-id-1 label.sk-toggleable__label-arrow:before {\n",
       "  /* Arrow on the left of the label */\n",
       "  content: \"▸\";\n",
       "  float: left;\n",
       "  margin-right: 0.25em;\n",
       "  color: var(--sklearn-color-icon);\n",
       "}\n",
       "\n",
       "#sk-container-id-1 label.sk-toggleable__label-arrow:hover:before {\n",
       "  color: var(--sklearn-color-text);\n",
       "}\n",
       "\n",
       "/* Toggleable content - dropdown */\n",
       "\n",
       "#sk-container-id-1 div.sk-toggleable__content {\n",
       "  max-height: 0;\n",
       "  max-width: 0;\n",
       "  overflow: hidden;\n",
       "  text-align: left;\n",
       "  /* unfitted */\n",
       "  background-color: var(--sklearn-color-unfitted-level-0);\n",
       "}\n",
       "\n",
       "#sk-container-id-1 div.sk-toggleable__content.fitted {\n",
       "  /* fitted */\n",
       "  background-color: var(--sklearn-color-fitted-level-0);\n",
       "}\n",
       "\n",
       "#sk-container-id-1 div.sk-toggleable__content pre {\n",
       "  margin: 0.2em;\n",
       "  border-radius: 0.25em;\n",
       "  color: var(--sklearn-color-text);\n",
       "  /* unfitted */\n",
       "  background-color: var(--sklearn-color-unfitted-level-0);\n",
       "}\n",
       "\n",
       "#sk-container-id-1 div.sk-toggleable__content.fitted pre {\n",
       "  /* unfitted */\n",
       "  background-color: var(--sklearn-color-fitted-level-0);\n",
       "}\n",
       "\n",
       "#sk-container-id-1 input.sk-toggleable__control:checked~div.sk-toggleable__content {\n",
       "  /* Expand drop-down */\n",
       "  max-height: 200px;\n",
       "  max-width: 100%;\n",
       "  overflow: auto;\n",
       "}\n",
       "\n",
       "#sk-container-id-1 input.sk-toggleable__control:checked~label.sk-toggleable__label-arrow:before {\n",
       "  content: \"▾\";\n",
       "}\n",
       "\n",
       "/* Pipeline/ColumnTransformer-specific style */\n",
       "\n",
       "#sk-container-id-1 div.sk-label input.sk-toggleable__control:checked~label.sk-toggleable__label {\n",
       "  color: var(--sklearn-color-text);\n",
       "  background-color: var(--sklearn-color-unfitted-level-2);\n",
       "}\n",
       "\n",
       "#sk-container-id-1 div.sk-label.fitted input.sk-toggleable__control:checked~label.sk-toggleable__label {\n",
       "  background-color: var(--sklearn-color-fitted-level-2);\n",
       "}\n",
       "\n",
       "/* Estimator-specific style */\n",
       "\n",
       "/* Colorize estimator box */\n",
       "#sk-container-id-1 div.sk-estimator input.sk-toggleable__control:checked~label.sk-toggleable__label {\n",
       "  /* unfitted */\n",
       "  background-color: var(--sklearn-color-unfitted-level-2);\n",
       "}\n",
       "\n",
       "#sk-container-id-1 div.sk-estimator.fitted input.sk-toggleable__control:checked~label.sk-toggleable__label {\n",
       "  /* fitted */\n",
       "  background-color: var(--sklearn-color-fitted-level-2);\n",
       "}\n",
       "\n",
       "#sk-container-id-1 div.sk-label label.sk-toggleable__label,\n",
       "#sk-container-id-1 div.sk-label label {\n",
       "  /* The background is the default theme color */\n",
       "  color: var(--sklearn-color-text-on-default-background);\n",
       "}\n",
       "\n",
       "/* On hover, darken the color of the background */\n",
       "#sk-container-id-1 div.sk-label:hover label.sk-toggleable__label {\n",
       "  color: var(--sklearn-color-text);\n",
       "  background-color: var(--sklearn-color-unfitted-level-2);\n",
       "}\n",
       "\n",
       "/* Label box, darken color on hover, fitted */\n",
       "#sk-container-id-1 div.sk-label.fitted:hover label.sk-toggleable__label.fitted {\n",
       "  color: var(--sklearn-color-text);\n",
       "  background-color: var(--sklearn-color-fitted-level-2);\n",
       "}\n",
       "\n",
       "/* Estimator label */\n",
       "\n",
       "#sk-container-id-1 div.sk-label label {\n",
       "  font-family: monospace;\n",
       "  font-weight: bold;\n",
       "  display: inline-block;\n",
       "  line-height: 1.2em;\n",
       "}\n",
       "\n",
       "#sk-container-id-1 div.sk-label-container {\n",
       "  text-align: center;\n",
       "}\n",
       "\n",
       "/* Estimator-specific */\n",
       "#sk-container-id-1 div.sk-estimator {\n",
       "  font-family: monospace;\n",
       "  border: 1px dotted var(--sklearn-color-border-box);\n",
       "  border-radius: 0.25em;\n",
       "  box-sizing: border-box;\n",
       "  margin-bottom: 0.5em;\n",
       "  /* unfitted */\n",
       "  background-color: var(--sklearn-color-unfitted-level-0);\n",
       "}\n",
       "\n",
       "#sk-container-id-1 div.sk-estimator.fitted {\n",
       "  /* fitted */\n",
       "  background-color: var(--sklearn-color-fitted-level-0);\n",
       "}\n",
       "\n",
       "/* on hover */\n",
       "#sk-container-id-1 div.sk-estimator:hover {\n",
       "  /* unfitted */\n",
       "  background-color: var(--sklearn-color-unfitted-level-2);\n",
       "}\n",
       "\n",
       "#sk-container-id-1 div.sk-estimator.fitted:hover {\n",
       "  /* fitted */\n",
       "  background-color: var(--sklearn-color-fitted-level-2);\n",
       "}\n",
       "\n",
       "/* Specification for estimator info (e.g. \"i\" and \"?\") */\n",
       "\n",
       "/* Common style for \"i\" and \"?\" */\n",
       "\n",
       ".sk-estimator-doc-link,\n",
       "a:link.sk-estimator-doc-link,\n",
       "a:visited.sk-estimator-doc-link {\n",
       "  float: right;\n",
       "  font-size: smaller;\n",
       "  line-height: 1em;\n",
       "  font-family: monospace;\n",
       "  background-color: var(--sklearn-color-background);\n",
       "  border-radius: 1em;\n",
       "  height: 1em;\n",
       "  width: 1em;\n",
       "  text-decoration: none !important;\n",
       "  margin-left: 0.5em;\n",
       "  text-align: center;\n",
       "  /* unfitted */\n",
       "  border: var(--sklearn-color-unfitted-level-1) 1pt solid;\n",
       "  color: var(--sklearn-color-unfitted-level-1);\n",
       "}\n",
       "\n",
       ".sk-estimator-doc-link.fitted,\n",
       "a:link.sk-estimator-doc-link.fitted,\n",
       "a:visited.sk-estimator-doc-link.fitted {\n",
       "  /* fitted */\n",
       "  border: var(--sklearn-color-fitted-level-1) 1pt solid;\n",
       "  color: var(--sklearn-color-fitted-level-1);\n",
       "}\n",
       "\n",
       "/* On hover */\n",
       "div.sk-estimator:hover .sk-estimator-doc-link:hover,\n",
       ".sk-estimator-doc-link:hover,\n",
       "div.sk-label-container:hover .sk-estimator-doc-link:hover,\n",
       ".sk-estimator-doc-link:hover {\n",
       "  /* unfitted */\n",
       "  background-color: var(--sklearn-color-unfitted-level-3);\n",
       "  color: var(--sklearn-color-background);\n",
       "  text-decoration: none;\n",
       "}\n",
       "\n",
       "div.sk-estimator.fitted:hover .sk-estimator-doc-link.fitted:hover,\n",
       ".sk-estimator-doc-link.fitted:hover,\n",
       "div.sk-label-container:hover .sk-estimator-doc-link.fitted:hover,\n",
       ".sk-estimator-doc-link.fitted:hover {\n",
       "  /* fitted */\n",
       "  background-color: var(--sklearn-color-fitted-level-3);\n",
       "  color: var(--sklearn-color-background);\n",
       "  text-decoration: none;\n",
       "}\n",
       "\n",
       "/* Span, style for the box shown on hovering the info icon */\n",
       ".sk-estimator-doc-link span {\n",
       "  display: none;\n",
       "  z-index: 9999;\n",
       "  position: relative;\n",
       "  font-weight: normal;\n",
       "  right: .2ex;\n",
       "  padding: .5ex;\n",
       "  margin: .5ex;\n",
       "  width: min-content;\n",
       "  min-width: 20ex;\n",
       "  max-width: 50ex;\n",
       "  color: var(--sklearn-color-text);\n",
       "  box-shadow: 2pt 2pt 4pt #999;\n",
       "  /* unfitted */\n",
       "  background: var(--sklearn-color-unfitted-level-0);\n",
       "  border: .5pt solid var(--sklearn-color-unfitted-level-3);\n",
       "}\n",
       "\n",
       ".sk-estimator-doc-link.fitted span {\n",
       "  /* fitted */\n",
       "  background: var(--sklearn-color-fitted-level-0);\n",
       "  border: var(--sklearn-color-fitted-level-3);\n",
       "}\n",
       "\n",
       ".sk-estimator-doc-link:hover span {\n",
       "  display: block;\n",
       "}\n",
       "\n",
       "/* \"?\"-specific style due to the `<a>` HTML tag */\n",
       "\n",
       "#sk-container-id-1 a.estimator_doc_link {\n",
       "  float: right;\n",
       "  font-size: 1rem;\n",
       "  line-height: 1em;\n",
       "  font-family: monospace;\n",
       "  background-color: var(--sklearn-color-background);\n",
       "  border-radius: 1rem;\n",
       "  height: 1rem;\n",
       "  width: 1rem;\n",
       "  text-decoration: none;\n",
       "  /* unfitted */\n",
       "  color: var(--sklearn-color-unfitted-level-1);\n",
       "  border: var(--sklearn-color-unfitted-level-1) 1pt solid;\n",
       "}\n",
       "\n",
       "#sk-container-id-1 a.estimator_doc_link.fitted {\n",
       "  /* fitted */\n",
       "  border: var(--sklearn-color-fitted-level-1) 1pt solid;\n",
       "  color: var(--sklearn-color-fitted-level-1);\n",
       "}\n",
       "\n",
       "/* On hover */\n",
       "#sk-container-id-1 a.estimator_doc_link:hover {\n",
       "  /* unfitted */\n",
       "  background-color: var(--sklearn-color-unfitted-level-3);\n",
       "  color: var(--sklearn-color-background);\n",
       "  text-decoration: none;\n",
       "}\n",
       "\n",
       "#sk-container-id-1 a.estimator_doc_link.fitted:hover {\n",
       "  /* fitted */\n",
       "  background-color: var(--sklearn-color-fitted-level-3);\n",
       "}\n",
       "</style><div id=\"sk-container-id-1\" class=\"sk-top-container\"><div class=\"sk-text-repr-fallback\"><pre>RandomizedSearchCV(cv=2, estimator=LGBMRegressor(random_state=42), n_jobs=-1,\n",
       "                   param_distributions={&#x27;learning_rate&#x27;: [0.01, 0.05, 0.1],\n",
       "                                        &#x27;n_estimators&#x27;: [400, 500, 600],\n",
       "                                        &#x27;num_leaves&#x27;: [31, 50, 62]},\n",
       "                   random_state=42, scoring=&#x27;neg_root_mean_squared_error&#x27;,\n",
       "                   verbose=2)</pre><b>In a Jupyter environment, please rerun this cell to show the HTML representation or trust the notebook. <br />On GitHub, the HTML representation is unable to render, please try loading this page with nbviewer.org.</b></div><div class=\"sk-container\" hidden><div class=\"sk-item sk-dashed-wrapped\"><div class=\"sk-label-container\"><div class=\"sk-label fitted sk-toggleable\"><input class=\"sk-toggleable__control sk-hidden--visually\" id=\"sk-estimator-id-1\" type=\"checkbox\" ><label for=\"sk-estimator-id-1\" class=\"sk-toggleable__label fitted sk-toggleable__label-arrow\"><div><div>RandomizedSearchCV</div></div><div><a class=\"sk-estimator-doc-link fitted\" rel=\"noreferrer\" target=\"_blank\" href=\"https://scikit-learn.org/1.6/modules/generated/sklearn.model_selection.RandomizedSearchCV.html\">?<span>Documentation for RandomizedSearchCV</span></a><span class=\"sk-estimator-doc-link fitted\">i<span>Fitted</span></span></div></label><div class=\"sk-toggleable__content fitted\"><pre>RandomizedSearchCV(cv=2, estimator=LGBMRegressor(random_state=42), n_jobs=-1,\n",
       "                   param_distributions={&#x27;learning_rate&#x27;: [0.01, 0.05, 0.1],\n",
       "                                        &#x27;n_estimators&#x27;: [400, 500, 600],\n",
       "                                        &#x27;num_leaves&#x27;: [31, 50, 62]},\n",
       "                   random_state=42, scoring=&#x27;neg_root_mean_squared_error&#x27;,\n",
       "                   verbose=2)</pre></div> </div></div><div class=\"sk-parallel\"><div class=\"sk-parallel-item\"><div class=\"sk-item\"><div class=\"sk-label-container\"><div class=\"sk-label fitted sk-toggleable\"><input class=\"sk-toggleable__control sk-hidden--visually\" id=\"sk-estimator-id-2\" type=\"checkbox\" ><label for=\"sk-estimator-id-2\" class=\"sk-toggleable__label fitted sk-toggleable__label-arrow\"><div><div>best_estimator_: LGBMRegressor</div></div></label><div class=\"sk-toggleable__content fitted\"><pre>LGBMRegressor(learning_rate=0.05, n_estimators=600, num_leaves=62,\n",
       "              random_state=42)</pre></div> </div></div><div class=\"sk-serial\"><div class=\"sk-item\"><div class=\"sk-estimator fitted sk-toggleable\"><input class=\"sk-toggleable__control sk-hidden--visually\" id=\"sk-estimator-id-3\" type=\"checkbox\" ><label for=\"sk-estimator-id-3\" class=\"sk-toggleable__label fitted sk-toggleable__label-arrow\"><div><div>LGBMRegressor</div></div></label><div class=\"sk-toggleable__content fitted\"><pre>LGBMRegressor(learning_rate=0.05, n_estimators=600, num_leaves=62,\n",
       "              random_state=42)</pre></div> </div></div></div></div></div></div></div></div></div>"
      ],
      "text/plain": [
       "RandomizedSearchCV(cv=2, estimator=LGBMRegressor(random_state=42), n_jobs=-1,\n",
       "                   param_distributions={'learning_rate': [0.01, 0.05, 0.1],\n",
       "                                        'n_estimators': [400, 500, 600],\n",
       "                                        'num_leaves': [31, 50, 62]},\n",
       "                   random_state=42, scoring='neg_root_mean_squared_error',\n",
       "                   verbose=2)"
      ]
     },
     "execution_count": 24,
     "metadata": {},
     "output_type": "execute_result"
    }
   ],
   "source": [
    "# Преобразуем данные с сохранением имен столбцов\n",
    "X_train_transformed = pd.DataFrame(preprocessor_tree.fit_transform(X_train), columns=preprocessor_tree.get_feature_names_out())\n",
    "X_test_transformed = pd.DataFrame(preprocessor_tree.transform(X_test), columns=preprocessor_tree.get_feature_names_out())\n",
    "\n",
    "# Подбор гиперпараметров для LightGBM, так как это лучшая модель\n",
    "print(\"\\nПодбираем гиперпараметры для LightGBM...\")\n",
    "\n",
    "# Строим pipeline для LightGBM\n",
    "lgb_pipeline = lgb.LGBMRegressor(random_state=RANDOM_STATE)\n",
    "\n",
    "# Определяем сетку гиперпараметров для поиска\n",
    "param_grid = {\n",
    "    'n_estimators': [400, 500, 600],\n",
    "    'learning_rate': [0.01, 0.05, 0.1],\n",
    "    'num_leaves': [31, 50, 62]\n",
    "}\n",
    "\n",
    "# Используем RandomizedSearchCV с кросс-валидацией для подбора гиперпараметров\n",
    "rs_lgb = RandomizedSearchCV(lgb_pipeline, param_distributions=param_grid, \n",
    "                            scoring='neg_root_mean_squared_error', cv=2, verbose=2, \n",
    "                            n_jobs=-1, n_iter=10, random_state=RANDOM_STATE)\n",
    "\n",
    "# Обучаем RandomizedSearch\n",
    "rs_lgb.fit(X_train_transformed, y_train)"
   ]
  },
  {
   "cell_type": "code",
   "execution_count": 25,
   "metadata": {},
   "outputs": [
    {
     "name": "stdout",
     "output_type": "stream",
     "text": [
      "Лучшие параметры для LightGBM: {'num_leaves': 62, 'n_estimators': 600, 'learning_rate': 0.05}\n",
      "\n",
      "Оценка лучшей модели (LightGBM) на тестовой выборке:\n",
      "RMSE: 1633.06\n"
     ]
    }
   ],
   "source": [
    "# Выводим лучшие параметры\n",
    "print(f'Лучшие параметры для LightGBM: {rs_lgb.best_params_}')\n",
    "\n",
    "# Финальная оценка на тестовой выборке\n",
    "best_model = rs_lgb.best_estimator_\n",
    "y_pred_test = best_model.predict(X_test_transformed)\n",
    "\n",
    "# Оценка на тестовой выборке: MAE и RMSE\n",
    "rmse_test = np.sqrt(mean_squared_error(y_test, y_pred_test))\n",
    "\n",
    "print(f'\\nОценка лучшей модели (LightGBM) на тестовой выборке:')\n",
    "print(f'RMSE: {rmse_test:.2f}')"
   ]
  },
  {
   "cell_type": "code",
   "execution_count": 26,
   "metadata": {},
   "outputs": [
    {
     "data": {
      "text/html": [
       "<div>\n",
       "<style scoped>\n",
       "    .dataframe tbody tr th:only-of-type {\n",
       "        vertical-align: middle;\n",
       "    }\n",
       "\n",
       "    .dataframe tbody tr th {\n",
       "        vertical-align: top;\n",
       "    }\n",
       "\n",
       "    .dataframe thead th {\n",
       "        text-align: right;\n",
       "    }\n",
       "</style>\n",
       "<table border=\"1\" class=\"dataframe\">\n",
       "  <thead>\n",
       "    <tr style=\"text-align: right;\">\n",
       "      <th></th>\n",
       "      <th>Признак</th>\n",
       "      <th>Важность</th>\n",
       "    </tr>\n",
       "  </thead>\n",
       "  <tbody>\n",
       "    <tr>\n",
       "      <th>15</th>\n",
       "      <td>high_cat__Brand_Model_VehicleType</td>\n",
       "      <td>10305</td>\n",
       "    </tr>\n",
       "    <tr>\n",
       "      <th>2</th>\n",
       "      <td>num__Power</td>\n",
       "      <td>8307</td>\n",
       "    </tr>\n",
       "    <tr>\n",
       "      <th>0</th>\n",
       "      <td>num__RegistrationYear</td>\n",
       "      <td>8280</td>\n",
       "    </tr>\n",
       "    <tr>\n",
       "      <th>3</th>\n",
       "      <td>num__Kilometer</td>\n",
       "      <td>3464</td>\n",
       "    </tr>\n",
       "    <tr>\n",
       "      <th>1</th>\n",
       "      <td>num__RegistrationMonth</td>\n",
       "      <td>2398</td>\n",
       "    </tr>\n",
       "    <tr>\n",
       "      <th>9</th>\n",
       "      <td>low_cat__FuelType_gasoline</td>\n",
       "      <td>763</td>\n",
       "    </tr>\n",
       "    <tr>\n",
       "      <th>6</th>\n",
       "      <td>low_cat__Repaired_no</td>\n",
       "      <td>738</td>\n",
       "    </tr>\n",
       "    <tr>\n",
       "      <th>4</th>\n",
       "      <td>low_cat__Gearbox_manual</td>\n",
       "      <td>702</td>\n",
       "    </tr>\n",
       "    <tr>\n",
       "      <th>14</th>\n",
       "      <td>low_cat__FuelType_petrol</td>\n",
       "      <td>502</td>\n",
       "    </tr>\n",
       "    <tr>\n",
       "      <th>5</th>\n",
       "      <td>low_cat__Gearbox_missing</td>\n",
       "      <td>401</td>\n",
       "    </tr>\n",
       "    <tr>\n",
       "      <th>7</th>\n",
       "      <td>low_cat__Repaired_yes</td>\n",
       "      <td>368</td>\n",
       "    </tr>\n",
       "    <tr>\n",
       "      <th>12</th>\n",
       "      <td>low_cat__FuelType_missing</td>\n",
       "      <td>221</td>\n",
       "    </tr>\n",
       "    <tr>\n",
       "      <th>11</th>\n",
       "      <td>low_cat__FuelType_lpg</td>\n",
       "      <td>62</td>\n",
       "    </tr>\n",
       "    <tr>\n",
       "      <th>10</th>\n",
       "      <td>low_cat__FuelType_hybrid</td>\n",
       "      <td>45</td>\n",
       "    </tr>\n",
       "    <tr>\n",
       "      <th>13</th>\n",
       "      <td>low_cat__FuelType_other</td>\n",
       "      <td>25</td>\n",
       "    </tr>\n",
       "    <tr>\n",
       "      <th>8</th>\n",
       "      <td>low_cat__FuelType_electric</td>\n",
       "      <td>19</td>\n",
       "    </tr>\n",
       "  </tbody>\n",
       "</table>\n",
       "</div>"
      ],
      "text/plain": [
       "                              Признак  Важность\n",
       "15  high_cat__Brand_Model_VehicleType     10305\n",
       "2                          num__Power      8307\n",
       "0               num__RegistrationYear      8280\n",
       "3                      num__Kilometer      3464\n",
       "1              num__RegistrationMonth      2398\n",
       "9          low_cat__FuelType_gasoline       763\n",
       "6                low_cat__Repaired_no       738\n",
       "4             low_cat__Gearbox_manual       702\n",
       "14           low_cat__FuelType_petrol       502\n",
       "5            low_cat__Gearbox_missing       401\n",
       "7               low_cat__Repaired_yes       368\n",
       "12          low_cat__FuelType_missing       221\n",
       "11              low_cat__FuelType_lpg        62\n",
       "10           low_cat__FuelType_hybrid        45\n",
       "13            low_cat__FuelType_other        25\n",
       "8          low_cat__FuelType_electric        19"
      ]
     },
     "metadata": {},
     "output_type": "display_data"
    }
   ],
   "source": [
    "# Выводим важность признаков\n",
    "feature_importance = pd.DataFrame({\n",
    "    \"Признак\": X_train_transformed.columns,\n",
    "    \"Важность\": best_model.feature_importances_\n",
    "}).sort_values(by=\"Важность\", ascending=False)\n",
    "\n",
    "display(feature_importance)"
   ]
  },
  {
   "cell_type": "markdown",
   "metadata": {},
   "source": [
    "<div class=\"alert alert-block alert-danger\">\n",
    "<h3> Комментарий ревьюера <a class=\"tocSkip\"></h3>\n",
    "\n",
    "<b>На доработку🤔:</b>\n",
    "    \n",
    "* Сейчас ты все модели сравниваешь между собой по тестовой метрике. Это допустимый вариант, который встречается на практике, но необходимо помнить, что таким образом мы в некотором плане \"переобучаемся\" - подстраиваем свой выбор под конкретный тестовый набор. Поэтому, по крайней мере в Практикуме, условились эмулировать так называемый вывод модели в прод - то есть тестовый набор мы откладываем для проверки на нем только самой лучшей модели (или нескольких лучших), которые мы пустили в прод, чтобы посмотреть, как они ведут себя в реальной среде, на новых данных. Выбор при этом условились производить на основе (кросс-) валидационных показателей, которые представляют из себя более взвешенную оценку, менее подверженную влиянию особенностей выборки (как в случае выбора на основе тестовых показателей).\n",
    "    \n",
    "    \n",
    "* Для выбора лучшей модели в данном проекте также требуется использовать время обучения и предсказания. У тебя это время сейчас считается в совокупности (поэтому расписанные ниже выводы не совсем точны), при этом не определено для лучшей модели LGBM.\n",
    "    \n",
    "    Предлагаю следующее. Отказаться от `%%time` - не очень удобный способ для фиксации времени с целью последующего сравнения данного показателя. Придется либо перелистывать туда-сюда проект, чтобы понять времязатраты той или иной модели, либо перености все результаты в сводную таблицу вручную. Вместо этого можно задействовать, например, базовй модуль time (`import time`): `start = time.time()` позволит зафиксировать время в тот или иной момент процесса выполнения ячейки, аналогичным образом фиксируем второй момент - окончание того или иного процесса, разница между этими двумя зафиксированными моменами (в секундах), которую мы можем сохранить в переменную, и будет временем работы того или иного блока кода.\n",
    "    \n",
    "    Время предсказания при этом предлагаю считать, рассчитывая предсказания на тренировочной выборке (раз тестовую мы отложили только для самой лучшей модели и пока ее никак не задействуем при сравнении и выборе).\n",
    "    \n",
    "    После этого не забываем произвести выбор и протестировать его."
   ]
  },
  {
   "cell_type": "markdown",
   "metadata": {},
   "source": [
    "<div style=\"background: #B0E0E6; padding: 5px; border: 1px solid SteelBlue; border-radius: 5px;\">\n",
    "    <font color='4682B4'><u><b>КОММЕНТАРИЙ СТУДЕНТА</b></u></font>\n",
    "    <br />\n",
    "    <font color='4682B4'>Скорректировал код. Сделал сравнение моделей по тренировочной выборке, подобрал параметры итоговой модели с помощью кросс-валидации и изменил вывод времени выполнения. Также добавил вывод важности признаков.</font>\n",
    "</div>"
   ]
  },
  {
   "cell_type": "markdown",
   "metadata": {},
   "source": [
    "<div class=\"alert alert-block alert-danger\">\n",
    "<h3> Комментарий ревьюера 2<a class=\"tocSkip\"></h3>\n",
    "\n",
    "<b>На доработку🤔:</b> Супер! Но замечу, что тренировочная выборка тоже не совсем подходит для сравнения моделей (даже предварительного), поскольку она показывает лишь то, насколько хорошо модель смогла подстроиться под эти тренировочные данные, но не то, насколько хорошие предсказания она выдает. Как итог, рискуем выбрать переобученную модель. Если нет желания пропускать все модели через гридсерч, то предлагаю провести кросс-валидацию в твоей функции для оценки метрики и времени. Можно конкретно для этого сравнения выделить дополнительно еще и валидационную выборку (а подбор параметров потом делать на полном трейне), а можно провести кросс-валидацию с помощью <a href='https://scikit-learn.org/stable/modules/generated/sklearn.model_selection.cross_validate.html'>cross_validate</a>, который помимо скоров на каждом сплите также логирует время обучения и время получения скора (предикт + оценка метрики, но мы в целом можем использовать это как время предсказания)."
   ]
  },
  {
   "cell_type": "markdown",
   "metadata": {},
   "source": [
    "<div class=\"alert alert-success\">\n",
    "<h3> Комментарий ревьюера 4<a class=\"tocSkip\"> </h3> \n",
    "    \n",
    "<b>Все отлично! 👍:</b> Отлично, теперь все, как надо 😉"
   ]
  },
  {
   "cell_type": "markdown",
   "metadata": {},
   "source": [
    "<div class=\"alert alert-warning\">\n",
    "<h3> Комментарий ревьюера <a class=\"tocSkip\"> </h3>\n",
    "    \n",
    "<b>Некоторые замечания и рекомендации💡:</b> \n",
    "    \n",
    "* Если ты видишь, что лучшими определяются параметры на краях заданного тобой диапазона, то имеет смысл его сдвинуть, чтобы дать возможность гридсерчу поискать улучшения за его пределами.\n",
    "    \n",
    "    \n",
    "* Для того, чтобы удобно провести сравнение моделей, было бы неплохо в конце организовать автоматически собирающуюся сводную таблицу с результативностью каждой модели, которую можно отсортировать с учетом тех или иных показателей результативности.\n",
    "    \n",
    "    \n",
    "* Чтобы усовершенстовать анализ моделей, можно проверить важность признаков. Возможно, некоторые из них оказались совем бесполезными, тогда их можно будет исключить, что позволит увеличить скорость и обучения, и предсказания."
   ]
  },
  {
   "cell_type": "markdown",
   "metadata": {},
   "source": [
    "**Анализ качества предсказаний**\n",
    "- **Линейная регрессия** показала **наихудший результат** (RMSE **3128.74**) и **не соответствует критерию RMSE < 2500**.\n",
    "- **Случайный лес** значительно улучшил качество предсказаний, но его обучение заняло **наибольшее время**.\n",
    "- **LightGBM** **уже без подбора гиперпараметров** показал **лучшее качество**, чем случайный лес.\n",
    "\n",
    "---\n",
    "\n",
    "**Анализ времени работы**\n",
    "- **Линейная регрессия** обучается **быстрее всех**, но показывает **низкую точность**.\n",
    "- **Случайный лес** занимает **наибольшее время** на обучение, но уступает LightGBM в качестве.\n",
    "- **LightGBM** обучается **намного быстрее случайного леса**\n",
    "\n",
    "---\n",
    "\n",
    "**Итоговый выбор модели**\n",
    "**Лучший выбор — LightGBM с подобранными гиперпараметрами.**  \n",
    "\n",
    "**Преимущества:**\n",
    "**Лучшая точность:** RMSE **1677.90** (лучший результат на тестовой выборке).  \n",
    "**Быстрое предсказание:** **значительно быстрее случайного леса**.  \n",
    "**Оптимальное время обучения:** **быстрее случайного леса**, но дольше линейной регрессии.  \n",
    "\n",
    "🔹 **Выбранные гиперпараметры LightGBM:**  \n",
    "- `num_leaves: 62`  \n",
    "- `n_estimators: 600`  \n",
    "- `learning_rate: 0.05`  \n",
    "\n",
    "---\n",
    "\n",
    "**Наиболее важные признаки:**\n",
    "- **Brand_Model_VehicleType** (марка, модель, тип кузова) **— главный фактор**.\n",
    "- **Мощность (Power)** и **год регистрации** **сильно влияют** на предсказание цены.\n",
    "- **Пробег (Kilometer)** и **месяц регистрации** также значимы.\n",
    "\n",
    "---"
   ]
  },
  {
   "cell_type": "markdown",
   "metadata": {},
   "source": [
    "## Общий вывод"
   ]
  },
  {
   "cell_type": "markdown",
   "metadata": {},
   "source": [
    "В рамках проекта была поставлена задача предсказать рыночную стоимость автомобилей на основе их характеристик. Для этого проведён полный цикл подготовки данных, включающий очистку, обработку выбросов, заполнение пропущенных значений и исследовательский анализ. Далее были обучены и оценены различные модели машинного обучения: **линейная регрессия, случайный лес и градиентный бустинг LightGBM**.\n",
    "\n",
    "---\n",
    "\n",
    "**Ключевые итоги проекта**\n",
    "\n",
    "**1. Анализ данных**\n",
    "- Обнаружены пропущенные значения в важных признаках (`VehicleType`, `Gearbox`, `Model`, `FuelType`, `Repaired`).\n",
    "- Выявлены, обработаны аномалии и пропуски в `Power` (до 0 и выше 800 л.с.), `RegistrationYear` (1000 и 9999 годы) и `Price` (0 и выше 20 000).\n",
    "- **Объединены три высококоррелированных признака** (`Model`, `Brand`, `VehicleType`) в один `Brand_Model_VehicleType`, что сократило избыточность данных.\n",
    "\n",
    "**2. Моделирование и оценка моделей**\n",
    "- Проведено обучение **случайного леса и градиентного бустинга LightGBM**.\n",
    "- Для каждой модели рассчитаны **RMSE (корень из среднеквадратичной ошибки)** и время работы.\n",
    "- **LightGBM продемонстрировал лучшие результаты** по точности и скорости.\n",
    "\n",
    "**3. Выбор лучшей модели**\n",
    "- **Случайный лес** (RMSE = **1933.52**) показал улучшение, но **самое длительное время обучения**.\n",
    "- **LightGBM без подбора параметров** (RMSE = **1718.32**) уже **превзошёл случайный лес**.\n",
    "- **LightGBM с подобранными гиперпараметрами** (RMSE = **1633.06**) стал **оптимальным выбором**.\n",
    "\n",
    "---\n",
    "\n",
    "**4. Время работы моделей**\n",
    "- **Случайный лес** занимает **наибольшее время** на обучение.\n",
    "- **LightGBM без подбора** уже быстрее случайного леса, а **с подбором гиперпараметров** показывает **лучшее соотношение скорости и качества**.\n",
    "\n",
    "---\n",
    "\n",
    "**5. Итоговый выбор модели**\n",
    "**Лучший выбор — LightGBM с подобранными гиперпараметрами.**  \n",
    "\n",
    "**Выбранные гиперпараметры LightGBM:**  \n",
    "- `num_leaves: 62`  \n",
    "- `n_estimators: 600`  \n",
    "- `learning_rate: 0.05`  \n",
    "\n",
    "---\n",
    "\n",
    "**Наиболее важные признаки:**\n",
    "- **Brand_Model_VehicleType** (марка, модель, тип кузова) **— главный фактор**.\n",
    "- **Мощность (Power)** и **год регистрации** **сильно влияют** на предсказание цены.\n",
    "- **Пробег (Kilometer)** и **месяц регистрации** также значимы.\n",
    "\n",
    "---"
   ]
  },
  {
   "cell_type": "markdown",
   "metadata": {},
   "source": [
    "<div class=\"alert alert-success\">\n",
    "<h3> Комментарий ревьюера <a class=\"tocSkip\"> </h3> \n",
    "    \n",
    "<b>Все отлично! 👍:</b> Выводы рассудительные и обстоятельные, класс!"
   ]
  },
  {
   "cell_type": "markdown",
   "metadata": {},
   "source": [
    "## Чек-лист проверки"
   ]
  },
  {
   "cell_type": "markdown",
   "metadata": {},
   "source": [
    "Поставьте 'x' в выполненных пунктах. Далее нажмите Shift+Enter."
   ]
  },
  {
   "cell_type": "markdown",
   "metadata": {},
   "source": [
    "- [x]  Jupyter Notebook открыт\n",
    "- [x]  Весь код выполняется без ошибок\n",
    "- [x]  Ячейки с кодом расположены в порядке исполнения\n",
    "- [x]  Выполнена загрузка и подготовка данных\n",
    "- [x]  Выполнено обучение моделей\n",
    "- [x]  Есть анализ скорости работы и качества моделей"
   ]
  },
  {
   "cell_type": "markdown",
   "metadata": {},
   "source": [
    "<div style=\"border:solid Chocolate 2px; padding: 40px\">\n",
    "\n",
    "**Общий вывод по проекту**\n",
    "\n",
    "Николай, спасибо за твой проект! Мне очень понравилась твоя работа! В тебе виден будущий профессионал своего дела :) Есть лишь пара моментов, которые необходимо скорректировать, чтобы проект можно было зачесть.\n",
    "    \n",
    "Кратко пройдусь по впечатлениям. \n",
    "\n",
    "**Отмечу отдельные положительные моменты проекта🙂**:\n",
    " \n",
    "* Прекрасное владение инструментами обработки данных!\n",
    "* Умелое владение функциями для сохранения читабельности и эффективности кода!\n",
    "* Профессиональное проведение машинного обучения!\n",
    "* Все этапы работы проделаны очень осмысленно! Каждый шаг снабжен пояснениями и вдумчивыми выводами!\n",
    "* Работа имеет четкую структуру и выполнена аккуратно, проверять - одно удовольствие!\n",
    "\n",
    "    \n",
    "**На что стоит обратить внимание🤓**:\n",
    "   \n",
    "* Скорреетировать фильтрацию по году регистрации. \n",
    "* Не забыть про аномалии в месяце и цене.\n",
    "* Пересмотреть обработку дубликатов.\n",
    "* Опционально: провести доп чистку с учетом дат, иначе заполнить категориальные признаки.\n",
    "* Опционально: пересмотреть выбор кодировщиков для той или иной модели.\n",
    "* Перевести сравнение и выбор моделей на валидационный этап. Выделить отдельный раздел с тестированием.\n",
    "* Разделить расчет времени обучения и предсказания, задействовать результаты при сравнении.\n",
    "\n",
    "\n",
    "**Желаю удачи и жду твой проект на повторное ревью!**😉\n",
    "    \n",
    "<img src=\"https://99px.ru/sstorage/86/2015/12/image_86271215043043632690.gif\" />"
   ]
  },
  {
   "cell_type": "markdown",
   "metadata": {},
   "source": [
    "<div class=\"alert alert-success\">\n",
    "<b>Комментарий ревьюера 4:</b> Проект полностью готов, ты мастерски справился со всеми рекомендациями! Было очень приятно с тобой поработать :) Желаю огромных успехов в дальнейшем обучении и карьерных достижений! 🍀"
   ]
  },
  {
   "cell_type": "code",
   "execution_count": null,
   "metadata": {},
   "outputs": [],
   "source": []
  }
 ],
 "metadata": {
  "ExecuteTimeLog": [
   {
    "duration": 4,
    "start_time": "2025-02-07T07:40:51.257Z"
   },
   {
    "duration": 7385,
    "start_time": "2025-02-07T07:41:28.600Z"
   },
   {
    "duration": 894,
    "start_time": "2025-02-07T07:41:55.730Z"
   },
   {
    "duration": 155,
    "start_time": "2025-02-07T07:42:04.951Z"
   },
   {
    "duration": 159,
    "start_time": "2025-02-07T07:42:44.837Z"
   },
   {
    "duration": 68,
    "start_time": "2025-02-07T07:43:16.369Z"
   },
   {
    "duration": 163,
    "start_time": "2025-02-07T07:43:40.434Z"
   },
   {
    "duration": 1590,
    "start_time": "2025-02-07T07:44:16.513Z"
   },
   {
    "duration": 12896,
    "start_time": "2025-02-07T07:46:04.261Z"
   },
   {
    "duration": 220,
    "start_time": "2025-02-07T07:46:45.619Z"
   },
   {
    "duration": 213,
    "start_time": "2025-02-07T07:46:51.672Z"
   },
   {
    "duration": 7139,
    "start_time": "2025-02-07T07:47:18.647Z"
   },
   {
    "duration": 323,
    "start_time": "2025-02-07T07:47:38.557Z"
   },
   {
    "duration": 10790,
    "start_time": "2025-02-07T07:47:45.196Z"
   },
   {
    "duration": 103,
    "start_time": "2025-02-07T07:48:23.108Z"
   },
   {
    "duration": 4,
    "start_time": "2025-02-07T07:48:28.828Z"
   },
   {
    "duration": 4757,
    "start_time": "2025-02-07T07:49:44.378Z"
   },
   {
    "duration": 879,
    "start_time": "2025-02-07T07:49:49.137Z"
   },
   {
    "duration": 153,
    "start_time": "2025-02-07T07:49:50.017Z"
   },
   {
    "duration": 134,
    "start_time": "2025-02-07T07:49:50.171Z"
   },
   {
    "duration": 60,
    "start_time": "2025-02-07T07:49:50.308Z"
   },
   {
    "duration": 171,
    "start_time": "2025-02-07T07:49:50.370Z"
   },
   {
    "duration": 13726,
    "start_time": "2025-02-07T07:49:50.543Z"
   },
   {
    "duration": 40,
    "start_time": "2025-02-07T07:50:04.270Z"
   },
   {
    "duration": 0,
    "start_time": "2025-02-07T07:50:04.312Z"
   },
   {
    "duration": 0,
    "start_time": "2025-02-07T07:50:04.313Z"
   },
   {
    "duration": 0,
    "start_time": "2025-02-07T07:50:04.314Z"
   },
   {
    "duration": 0,
    "start_time": "2025-02-07T07:50:04.315Z"
   },
   {
    "duration": 0,
    "start_time": "2025-02-07T07:50:04.316Z"
   },
   {
    "duration": 0,
    "start_time": "2025-02-07T07:50:04.317Z"
   },
   {
    "duration": 0,
    "start_time": "2025-02-07T07:50:04.318Z"
   },
   {
    "duration": 29,
    "start_time": "2025-02-07T07:50:04.319Z"
   },
   {
    "duration": 0,
    "start_time": "2025-02-07T07:50:04.349Z"
   },
   {
    "duration": 0,
    "start_time": "2025-02-07T07:50:04.350Z"
   },
   {
    "duration": 0,
    "start_time": "2025-02-07T07:50:04.351Z"
   },
   {
    "duration": 0,
    "start_time": "2025-02-07T07:50:04.352Z"
   },
   {
    "duration": 5532,
    "start_time": "2025-02-07T07:50:06.452Z"
   },
   {
    "duration": 1396,
    "start_time": "2025-02-07T07:50:11.987Z"
   },
   {
    "duration": 149,
    "start_time": "2025-02-07T07:50:13.385Z"
   },
   {
    "duration": 132,
    "start_time": "2025-02-07T07:50:13.536Z"
   },
   {
    "duration": 84,
    "start_time": "2025-02-07T07:50:13.670Z"
   },
   {
    "duration": 143,
    "start_time": "2025-02-07T07:50:13.755Z"
   },
   {
    "duration": 13651,
    "start_time": "2025-02-07T07:50:13.900Z"
   },
   {
    "duration": 222,
    "start_time": "2025-02-07T07:50:27.552Z"
   },
   {
    "duration": 220,
    "start_time": "2025-02-07T07:50:27.776Z"
   },
   {
    "duration": 7111,
    "start_time": "2025-02-07T07:50:27.998Z"
   },
   {
    "duration": 318,
    "start_time": "2025-02-07T07:50:35.110Z"
   },
   {
    "duration": 10673,
    "start_time": "2025-02-07T07:50:35.430Z"
   },
   {
    "duration": 120,
    "start_time": "2025-02-07T07:50:46.104Z"
   },
   {
    "duration": 4,
    "start_time": "2025-02-07T07:50:46.227Z"
   },
   {
    "duration": 16,
    "start_time": "2025-02-07T07:50:46.232Z"
   },
   {
    "duration": 39624,
    "start_time": "2025-02-07T07:50:46.250Z"
   },
   {
    "duration": 276064,
    "start_time": "2025-02-07T07:51:25.876Z"
   },
   {
    "duration": 35009,
    "start_time": "2025-02-07T07:56:01.941Z"
   },
   {
    "duration": 615238,
    "start_time": "2025-02-07T07:56:36.951Z"
   },
   {
    "duration": 31758,
    "start_time": "2025-02-07T08:06:52.191Z"
   },
   {
    "duration": 8211,
    "start_time": "2025-02-08T09:44:45.875Z"
   },
   {
    "duration": 5489,
    "start_time": "2025-02-08T09:53:43.025Z"
   },
   {
    "duration": 1460,
    "start_time": "2025-02-08T09:53:48.517Z"
   },
   {
    "duration": 174,
    "start_time": "2025-02-08T09:53:49.979Z"
   },
   {
    "duration": 179,
    "start_time": "2025-02-08T09:53:54.422Z"
   },
   {
    "duration": 3,
    "start_time": "2025-02-08T09:54:04.181Z"
   },
   {
    "duration": 135,
    "start_time": "2025-02-08T09:54:07.704Z"
   },
   {
    "duration": 5308,
    "start_time": "2025-02-09T05:36:57.522Z"
   },
   {
    "duration": 1024,
    "start_time": "2025-02-09T05:37:02.833Z"
   },
   {
    "duration": 188,
    "start_time": "2025-02-09T05:37:03.859Z"
   },
   {
    "duration": 153,
    "start_time": "2025-02-09T05:37:04.049Z"
   },
   {
    "duration": 2,
    "start_time": "2025-02-09T05:37:04.205Z"
   },
   {
    "duration": 3492,
    "start_time": "2025-02-09T05:37:08.446Z"
   },
   {
    "duration": 202,
    "start_time": "2025-02-09T05:38:07.996Z"
   },
   {
    "duration": 1225,
    "start_time": "2025-02-09T05:44:51.618Z"
   },
   {
    "duration": 5285,
    "start_time": "2025-02-09T05:47:03.189Z"
   },
   {
    "duration": 893,
    "start_time": "2025-02-09T05:47:08.476Z"
   },
   {
    "duration": 177,
    "start_time": "2025-02-09T05:47:09.371Z"
   },
   {
    "duration": 142,
    "start_time": "2025-02-09T05:47:09.551Z"
   },
   {
    "duration": 3,
    "start_time": "2025-02-09T05:47:09.695Z"
   },
   {
    "duration": 236,
    "start_time": "2025-02-09T05:47:09.699Z"
   },
   {
    "duration": 139,
    "start_time": "2025-02-09T05:47:09.937Z"
   },
   {
    "duration": 1274,
    "start_time": "2025-02-09T05:47:10.077Z"
   },
   {
    "duration": 14,
    "start_time": "2025-02-09T05:47:52.541Z"
   },
   {
    "duration": 6,
    "start_time": "2025-02-09T05:48:09.180Z"
   },
   {
    "duration": 43,
    "start_time": "2025-02-09T05:51:20.858Z"
   },
   {
    "duration": 5110,
    "start_time": "2025-02-09T05:57:50.595Z"
   },
   {
    "duration": 899,
    "start_time": "2025-02-09T05:57:55.708Z"
   },
   {
    "duration": 177,
    "start_time": "2025-02-09T05:57:56.609Z"
   },
   {
    "duration": 136,
    "start_time": "2025-02-09T05:57:56.788Z"
   },
   {
    "duration": 7,
    "start_time": "2025-02-09T05:57:56.926Z"
   },
   {
    "duration": 189,
    "start_time": "2025-02-09T05:57:56.935Z"
   },
   {
    "duration": 146,
    "start_time": "2025-02-09T05:57:57.126Z"
   },
   {
    "duration": 1743,
    "start_time": "2025-02-09T05:58:02.849Z"
   },
   {
    "duration": 25,
    "start_time": "2025-02-09T05:58:04.594Z"
   },
   {
    "duration": 56,
    "start_time": "2025-02-09T06:01:37.846Z"
   },
   {
    "duration": 6011,
    "start_time": "2025-02-09T06:07:59.191Z"
   },
   {
    "duration": 5205,
    "start_time": "2025-02-09T06:08:12.905Z"
   },
   {
    "duration": 883,
    "start_time": "2025-02-09T06:08:18.114Z"
   },
   {
    "duration": 176,
    "start_time": "2025-02-09T06:08:18.998Z"
   },
   {
    "duration": 142,
    "start_time": "2025-02-09T06:08:19.176Z"
   },
   {
    "duration": 3,
    "start_time": "2025-02-09T06:08:19.319Z"
   },
   {
    "duration": 188,
    "start_time": "2025-02-09T06:08:19.333Z"
   },
   {
    "duration": 146,
    "start_time": "2025-02-09T06:08:19.523Z"
   },
   {
    "duration": 5990,
    "start_time": "2025-02-09T06:08:19.672Z"
   },
   {
    "duration": 2689,
    "start_time": "2025-02-09T06:08:50.681Z"
   },
   {
    "duration": 42,
    "start_time": "2025-02-09T06:08:57.466Z"
   },
   {
    "duration": 3011,
    "start_time": "2025-02-09T06:11:06.449Z"
   },
   {
    "duration": 780,
    "start_time": "2025-02-09T06:17:53.965Z"
   },
   {
    "duration": 568,
    "start_time": "2025-02-09T06:18:05.817Z"
   },
   {
    "duration": 5136,
    "start_time": "2025-02-09T06:18:10.222Z"
   },
   {
    "duration": 871,
    "start_time": "2025-02-09T06:18:15.361Z"
   },
   {
    "duration": 170,
    "start_time": "2025-02-09T06:18:16.234Z"
   },
   {
    "duration": 136,
    "start_time": "2025-02-09T06:18:16.406Z"
   },
   {
    "duration": 3,
    "start_time": "2025-02-09T06:18:16.544Z"
   },
   {
    "duration": 193,
    "start_time": "2025-02-09T06:18:16.548Z"
   },
   {
    "duration": 136,
    "start_time": "2025-02-09T06:18:16.743Z"
   },
   {
    "duration": 6354,
    "start_time": "2025-02-09T06:18:16.881Z"
   },
   {
    "duration": 669,
    "start_time": "2025-02-09T06:18:23.237Z"
   },
   {
    "duration": 282,
    "start_time": "2025-02-09T06:26:27.665Z"
   },
   {
    "duration": 2,
    "start_time": "2025-02-09T06:27:08.065Z"
   },
   {
    "duration": 2,
    "start_time": "2025-02-09T06:27:12.296Z"
   },
   {
    "duration": 14702,
    "start_time": "2025-02-09T06:28:55.448Z"
   },
   {
    "duration": 2,
    "start_time": "2025-02-09T06:29:10.152Z"
   },
   {
    "duration": 1837,
    "start_time": "2025-02-09T06:30:53.536Z"
   },
   {
    "duration": 1977,
    "start_time": "2025-02-09T06:31:40.229Z"
   },
   {
    "duration": 81,
    "start_time": "2025-02-09T06:33:05.931Z"
   },
   {
    "duration": 10177,
    "start_time": "2025-02-09T06:33:12.244Z"
   },
   {
    "duration": 5201,
    "start_time": "2025-02-09T06:34:35.129Z"
   },
   {
    "duration": 890,
    "start_time": "2025-02-09T06:34:40.333Z"
   },
   {
    "duration": 177,
    "start_time": "2025-02-09T06:34:41.225Z"
   },
   {
    "duration": 292,
    "start_time": "2025-02-09T06:34:41.403Z"
   },
   {
    "duration": 3,
    "start_time": "2025-02-09T06:34:41.697Z"
   },
   {
    "duration": 190,
    "start_time": "2025-02-09T06:34:41.702Z"
   },
   {
    "duration": 155,
    "start_time": "2025-02-09T06:34:41.894Z"
   },
   {
    "duration": 6336,
    "start_time": "2025-02-09T06:34:42.051Z"
   },
   {
    "duration": 708,
    "start_time": "2025-02-09T06:34:48.389Z"
   },
   {
    "duration": 9983,
    "start_time": "2025-02-09T06:34:49.099Z"
   },
   {
    "duration": 8,
    "start_time": "2025-02-09T06:36:29.119Z"
   },
   {
    "duration": 9,
    "start_time": "2025-02-09T06:37:21.670Z"
   },
   {
    "duration": 5202,
    "start_time": "2025-02-09T06:37:29.122Z"
   },
   {
    "duration": 904,
    "start_time": "2025-02-09T06:37:34.328Z"
   },
   {
    "duration": 180,
    "start_time": "2025-02-09T06:37:35.234Z"
   },
   {
    "duration": 140,
    "start_time": "2025-02-09T06:37:35.416Z"
   },
   {
    "duration": 3,
    "start_time": "2025-02-09T06:37:35.558Z"
   },
   {
    "duration": 270,
    "start_time": "2025-02-09T06:37:35.562Z"
   },
   {
    "duration": 9,
    "start_time": "2025-02-09T06:37:38.915Z"
   },
   {
    "duration": 12,
    "start_time": "2025-02-09T06:37:57.723Z"
   },
   {
    "duration": 134,
    "start_time": "2025-02-09T06:38:04.465Z"
   },
   {
    "duration": 6300,
    "start_time": "2025-02-09T06:38:10.375Z"
   },
   {
    "duration": 5370,
    "start_time": "2025-02-09T06:38:25.368Z"
   },
   {
    "duration": 868,
    "start_time": "2025-02-09T06:38:30.742Z"
   },
   {
    "duration": 178,
    "start_time": "2025-02-09T06:38:31.612Z"
   },
   {
    "duration": 149,
    "start_time": "2025-02-09T06:38:31.792Z"
   },
   {
    "duration": 3,
    "start_time": "2025-02-09T06:38:31.942Z"
   },
   {
    "duration": 227,
    "start_time": "2025-02-09T06:38:31.947Z"
   },
   {
    "duration": 139,
    "start_time": "2025-02-09T06:38:32.175Z"
   },
   {
    "duration": 5070,
    "start_time": "2025-02-09T06:38:32.316Z"
   },
   {
    "duration": 740,
    "start_time": "2025-02-09T06:38:37.388Z"
   },
   {
    "duration": 9883,
    "start_time": "2025-02-09T06:38:56.906Z"
   },
   {
    "duration": 83,
    "start_time": "2025-02-09T06:40:14.043Z"
   },
   {
    "duration": 15,
    "start_time": "2025-02-09T06:43:13.954Z"
   },
   {
    "duration": 16,
    "start_time": "2025-02-09T06:43:40.512Z"
   },
   {
    "duration": 5276,
    "start_time": "2025-02-09T06:43:46.639Z"
   },
   {
    "duration": 900,
    "start_time": "2025-02-09T06:43:51.917Z"
   },
   {
    "duration": 180,
    "start_time": "2025-02-09T06:43:52.818Z"
   },
   {
    "duration": 143,
    "start_time": "2025-02-09T06:43:52.999Z"
   },
   {
    "duration": 2,
    "start_time": "2025-02-09T06:43:53.145Z"
   },
   {
    "duration": 195,
    "start_time": "2025-02-09T06:43:53.149Z"
   },
   {
    "duration": 175,
    "start_time": "2025-02-09T06:43:53.346Z"
   },
   {
    "duration": 5085,
    "start_time": "2025-02-09T06:43:53.523Z"
   },
   {
    "duration": 666,
    "start_time": "2025-02-09T06:43:58.609Z"
   },
   {
    "duration": 10020,
    "start_time": "2025-02-09T06:43:59.277Z"
   },
   {
    "duration": 3,
    "start_time": "2025-02-09T06:44:09.299Z"
   },
   {
    "duration": 54,
    "start_time": "2025-02-09T06:44:09.304Z"
   },
   {
    "duration": 64,
    "start_time": "2025-02-09T06:44:09.360Z"
   },
   {
    "duration": 0,
    "start_time": "2025-02-09T06:44:09.426Z"
   },
   {
    "duration": 14,
    "start_time": "2025-02-09T06:44:13.705Z"
   },
   {
    "duration": 12,
    "start_time": "2025-02-09T06:44:17.776Z"
   },
   {
    "duration": 6871,
    "start_time": "2025-02-09T06:46:18.336Z"
   },
   {
    "duration": 988,
    "start_time": "2025-02-09T06:46:25.210Z"
   },
   {
    "duration": 197,
    "start_time": "2025-02-09T06:46:26.200Z"
   },
   {
    "duration": 191,
    "start_time": "2025-02-09T06:46:26.399Z"
   },
   {
    "duration": 3,
    "start_time": "2025-02-09T06:46:26.593Z"
   },
   {
    "duration": 217,
    "start_time": "2025-02-09T06:46:26.597Z"
   },
   {
    "duration": 157,
    "start_time": "2025-02-09T06:46:26.817Z"
   },
   {
    "duration": 5132,
    "start_time": "2025-02-09T06:46:26.976Z"
   },
   {
    "duration": 714,
    "start_time": "2025-02-09T06:46:32.109Z"
   },
   {
    "duration": 10016,
    "start_time": "2025-02-09T06:46:32.825Z"
   },
   {
    "duration": 3,
    "start_time": "2025-02-09T06:46:42.843Z"
   },
   {
    "duration": 12,
    "start_time": "2025-02-09T06:46:42.847Z"
   },
   {
    "duration": 7079,
    "start_time": "2025-02-09T07:00:37.376Z"
   },
   {
    "duration": 1479,
    "start_time": "2025-02-09T07:00:44.458Z"
   },
   {
    "duration": 171,
    "start_time": "2025-02-09T07:00:45.938Z"
   },
   {
    "duration": 240,
    "start_time": "2025-02-09T07:00:46.111Z"
   },
   {
    "duration": 3,
    "start_time": "2025-02-09T07:00:46.353Z"
   },
   {
    "duration": 207,
    "start_time": "2025-02-09T07:00:46.357Z"
   },
   {
    "duration": 144,
    "start_time": "2025-02-09T07:00:46.565Z"
   },
   {
    "duration": 5168,
    "start_time": "2025-02-09T07:00:46.710Z"
   },
   {
    "duration": 714,
    "start_time": "2025-02-09T07:00:51.880Z"
   },
   {
    "duration": 10073,
    "start_time": "2025-02-09T07:00:52.596Z"
   },
   {
    "duration": 3,
    "start_time": "2025-02-09T07:01:02.671Z"
   },
   {
    "duration": 26,
    "start_time": "2025-02-09T07:01:02.676Z"
   },
   {
    "duration": 1196,
    "start_time": "2025-02-09T07:01:02.703Z"
   },
   {
    "duration": 359,
    "start_time": "2025-02-09T07:01:03.902Z"
   },
   {
    "duration": 7144,
    "start_time": "2025-02-09T07:13:23.308Z"
   },
   {
    "duration": 1499,
    "start_time": "2025-02-09T07:13:30.455Z"
   },
   {
    "duration": 186,
    "start_time": "2025-02-09T07:13:31.955Z"
   },
   {
    "duration": 200,
    "start_time": "2025-02-09T07:13:32.143Z"
   },
   {
    "duration": 3,
    "start_time": "2025-02-09T07:13:32.347Z"
   },
   {
    "duration": 228,
    "start_time": "2025-02-09T07:13:32.353Z"
   },
   {
    "duration": 150,
    "start_time": "2025-02-09T07:13:32.584Z"
   },
   {
    "duration": 5337,
    "start_time": "2025-02-09T07:13:32.737Z"
   },
   {
    "duration": 771,
    "start_time": "2025-02-09T07:13:38.076Z"
   },
   {
    "duration": 10600,
    "start_time": "2025-02-09T07:13:38.849Z"
   },
   {
    "duration": 18,
    "start_time": "2025-02-09T07:13:49.451Z"
   },
   {
    "duration": 3,
    "start_time": "2025-02-09T07:13:49.470Z"
   },
   {
    "duration": 6847,
    "start_time": "2025-02-09T07:13:49.475Z"
   },
   {
    "duration": 238,
    "start_time": "2025-02-09T07:13:56.332Z"
   },
   {
    "duration": 1438,
    "start_time": "2025-02-09T07:14:57.291Z"
   },
   {
    "duration": 5265,
    "start_time": "2025-02-09T07:15:08.636Z"
   },
   {
    "duration": 934,
    "start_time": "2025-02-09T07:15:13.903Z"
   },
   {
    "duration": 198,
    "start_time": "2025-02-09T07:15:14.839Z"
   },
   {
    "duration": 187,
    "start_time": "2025-02-09T07:15:15.039Z"
   },
   {
    "duration": 5,
    "start_time": "2025-02-09T07:15:15.229Z"
   },
   {
    "duration": 253,
    "start_time": "2025-02-09T07:15:15.235Z"
   },
   {
    "duration": 152,
    "start_time": "2025-02-09T07:15:15.489Z"
   },
   {
    "duration": 5269,
    "start_time": "2025-02-09T07:15:15.644Z"
   },
   {
    "duration": 691,
    "start_time": "2025-02-09T07:15:20.915Z"
   },
   {
    "duration": 10254,
    "start_time": "2025-02-09T07:15:21.608Z"
   },
   {
    "duration": 18,
    "start_time": "2025-02-09T07:15:31.864Z"
   },
   {
    "duration": 3,
    "start_time": "2025-02-09T07:15:31.884Z"
   },
   {
    "duration": 7316,
    "start_time": "2025-02-09T07:15:31.889Z"
   },
   {
    "duration": 285,
    "start_time": "2025-02-09T07:15:39.208Z"
   },
   {
    "duration": 7942,
    "start_time": "2025-02-09T07:15:47.665Z"
   },
   {
    "duration": 5261,
    "start_time": "2025-02-09T07:38:10.240Z"
   },
   {
    "duration": 878,
    "start_time": "2025-02-09T07:38:15.504Z"
   },
   {
    "duration": 181,
    "start_time": "2025-02-09T07:38:16.384Z"
   },
   {
    "duration": 145,
    "start_time": "2025-02-09T07:38:16.567Z"
   },
   {
    "duration": 3,
    "start_time": "2025-02-09T07:38:16.713Z"
   },
   {
    "duration": 204,
    "start_time": "2025-02-09T07:38:16.718Z"
   },
   {
    "duration": 147,
    "start_time": "2025-02-09T07:38:16.924Z"
   },
   {
    "duration": 5161,
    "start_time": "2025-02-09T07:38:17.072Z"
   },
   {
    "duration": 687,
    "start_time": "2025-02-09T07:38:22.235Z"
   },
   {
    "duration": 10151,
    "start_time": "2025-02-09T07:38:22.925Z"
   },
   {
    "duration": 33,
    "start_time": "2025-02-09T07:38:33.077Z"
   },
   {
    "duration": 21,
    "start_time": "2025-02-09T07:38:33.112Z"
   },
   {
    "duration": 7039,
    "start_time": "2025-02-09T07:38:33.135Z"
   },
   {
    "duration": 311,
    "start_time": "2025-02-09T07:38:40.176Z"
   },
   {
    "duration": 7835,
    "start_time": "2025-02-09T07:38:40.489Z"
   },
   {
    "duration": 103,
    "start_time": "2025-02-09T07:38:48.332Z"
   },
   {
    "duration": 242,
    "start_time": "2025-02-09T07:38:48.437Z"
   },
   {
    "duration": 0,
    "start_time": "2025-02-09T07:38:48.681Z"
   },
   {
    "duration": 0,
    "start_time": "2025-02-09T07:38:48.683Z"
   },
   {
    "duration": 0,
    "start_time": "2025-02-09T07:38:48.684Z"
   },
   {
    "duration": 0,
    "start_time": "2025-02-09T07:38:48.685Z"
   },
   {
    "duration": 6064,
    "start_time": "2025-02-09T07:42:26.633Z"
   },
   {
    "duration": 238,
    "start_time": "2025-02-09T07:42:32.700Z"
   },
   {
    "duration": 4,
    "start_time": "2025-02-09T07:42:34.744Z"
   },
   {
    "duration": 4,
    "start_time": "2025-02-09T07:42:35.795Z"
   },
   {
    "duration": 21,
    "start_time": "2025-02-09T07:42:36.808Z"
   },
   {
    "duration": 7318,
    "start_time": "2025-02-09T07:42:44.846Z"
   },
   {
    "duration": 5,
    "start_time": "2025-02-09T07:42:54.659Z"
   },
   {
    "duration": 4,
    "start_time": "2025-02-09T07:42:56.359Z"
   },
   {
    "duration": 248,
    "start_time": "2025-02-09T07:42:57.605Z"
   },
   {
    "duration": 15150,
    "start_time": "2025-02-09T07:45:54.864Z"
   },
   {
    "duration": 129,
    "start_time": "2025-02-09T07:46:11.587Z"
   },
   {
    "duration": 242,
    "start_time": "2025-02-09T07:46:12.105Z"
   },
   {
    "duration": 4,
    "start_time": "2025-02-09T07:46:13.676Z"
   },
   {
    "duration": 3,
    "start_time": "2025-02-09T07:46:14.779Z"
   },
   {
    "duration": 225,
    "start_time": "2025-02-09T07:46:15.709Z"
   },
   {
    "duration": 100,
    "start_time": "2025-02-09T07:47:09.993Z"
   },
   {
    "duration": 222,
    "start_time": "2025-02-09T07:47:10.461Z"
   },
   {
    "duration": 5,
    "start_time": "2025-02-09T07:47:12.138Z"
   },
   {
    "duration": 4,
    "start_time": "2025-02-09T07:47:12.606Z"
   },
   {
    "duration": 0,
    "start_time": "2025-02-09T07:48:58.454Z"
   },
   {
    "duration": 8647,
    "start_time": "2025-02-09T07:50:15.575Z"
   },
   {
    "duration": 954,
    "start_time": "2025-02-09T07:50:24.225Z"
   },
   {
    "duration": 186,
    "start_time": "2025-02-09T07:50:25.181Z"
   },
   {
    "duration": 151,
    "start_time": "2025-02-09T07:50:25.369Z"
   },
   {
    "duration": 10,
    "start_time": "2025-02-09T07:50:25.523Z"
   },
   {
    "duration": 209,
    "start_time": "2025-02-09T07:50:25.535Z"
   },
   {
    "duration": 143,
    "start_time": "2025-02-09T07:50:25.746Z"
   },
   {
    "duration": 5205,
    "start_time": "2025-02-09T07:50:25.891Z"
   },
   {
    "duration": 688,
    "start_time": "2025-02-09T07:50:31.098Z"
   },
   {
    "duration": 10113,
    "start_time": "2025-02-09T07:50:31.788Z"
   },
   {
    "duration": 32,
    "start_time": "2025-02-09T07:50:41.903Z"
   },
   {
    "duration": 2,
    "start_time": "2025-02-09T07:50:41.937Z"
   },
   {
    "duration": 7021,
    "start_time": "2025-02-09T07:50:41.941Z"
   },
   {
    "duration": 295,
    "start_time": "2025-02-09T07:50:48.965Z"
   },
   {
    "duration": 7930,
    "start_time": "2025-02-09T07:50:49.261Z"
   },
   {
    "duration": 112,
    "start_time": "2025-02-09T07:50:57.193Z"
   },
   {
    "duration": 233,
    "start_time": "2025-02-09T07:50:57.307Z"
   },
   {
    "duration": 4,
    "start_time": "2025-02-09T07:50:57.542Z"
   },
   {
    "duration": 47,
    "start_time": "2025-02-09T07:50:57.548Z"
   },
   {
    "duration": 104,
    "start_time": "2025-02-09T07:51:12.682Z"
   },
   {
    "duration": 233,
    "start_time": "2025-02-09T07:51:13.974Z"
   },
   {
    "duration": 5,
    "start_time": "2025-02-09T07:51:15.459Z"
   },
   {
    "duration": 4,
    "start_time": "2025-02-09T07:51:16.312Z"
   },
   {
    "duration": 204,
    "start_time": "2025-02-09T07:51:17.082Z"
   },
   {
    "duration": 11767,
    "start_time": "2025-02-09T07:53:51.358Z"
   },
   {
    "duration": 8042,
    "start_time": "2025-02-09T07:54:41.369Z"
   },
   {
    "duration": 921,
    "start_time": "2025-02-09T07:54:49.414Z"
   },
   {
    "duration": 197,
    "start_time": "2025-02-09T07:54:50.337Z"
   },
   {
    "duration": 149,
    "start_time": "2025-02-09T07:54:50.536Z"
   },
   {
    "duration": 3,
    "start_time": "2025-02-09T07:54:50.687Z"
   },
   {
    "duration": 206,
    "start_time": "2025-02-09T07:54:50.692Z"
   },
   {
    "duration": 159,
    "start_time": "2025-02-09T07:54:50.901Z"
   },
   {
    "duration": 5090,
    "start_time": "2025-02-09T07:54:51.062Z"
   },
   {
    "duration": 700,
    "start_time": "2025-02-09T07:54:56.154Z"
   },
   {
    "duration": 10299,
    "start_time": "2025-02-09T07:54:56.856Z"
   },
   {
    "duration": 32,
    "start_time": "2025-02-09T07:55:07.157Z"
   },
   {
    "duration": 13,
    "start_time": "2025-02-09T07:55:07.191Z"
   },
   {
    "duration": 7042,
    "start_time": "2025-02-09T07:55:07.206Z"
   },
   {
    "duration": 300,
    "start_time": "2025-02-09T07:55:14.252Z"
   },
   {
    "duration": 8021,
    "start_time": "2025-02-09T07:55:14.554Z"
   },
   {
    "duration": 117,
    "start_time": "2025-02-09T07:55:22.577Z"
   },
   {
    "duration": 231,
    "start_time": "2025-02-09T07:55:22.696Z"
   },
   {
    "duration": 5,
    "start_time": "2025-02-09T07:55:22.929Z"
   },
   {
    "duration": 11,
    "start_time": "2025-02-09T07:55:22.935Z"
   },
   {
    "duration": 327,
    "start_time": "2025-02-09T07:55:22.947Z"
   },
   {
    "duration": 104,
    "start_time": "2025-02-09T07:56:48.574Z"
   },
   {
    "duration": 227,
    "start_time": "2025-02-09T07:56:49.066Z"
   },
   {
    "duration": 12,
    "start_time": "2025-02-09T07:58:00.784Z"
   },
   {
    "duration": 11,
    "start_time": "2025-02-09T07:58:06.833Z"
   },
   {
    "duration": 10,
    "start_time": "2025-02-09T07:58:11.563Z"
   },
   {
    "duration": 10,
    "start_time": "2025-02-09T07:58:28.367Z"
   },
   {
    "duration": 8259,
    "start_time": "2025-02-09T07:58:47.506Z"
   },
   {
    "duration": 4,
    "start_time": "2025-02-09T07:58:55.769Z"
   },
   {
    "duration": 8104,
    "start_time": "2025-02-09T07:59:07.086Z"
   },
   {
    "duration": 4,
    "start_time": "2025-02-09T07:59:15.193Z"
   },
   {
    "duration": 74,
    "start_time": "2025-02-09T08:00:50.651Z"
   },
   {
    "duration": 4,
    "start_time": "2025-02-09T08:00:55.051Z"
   },
   {
    "duration": 8692,
    "start_time": "2025-02-09T08:05:38.829Z"
   },
   {
    "duration": 4,
    "start_time": "2025-02-09T08:05:50.539Z"
   },
   {
    "duration": 10090,
    "start_time": "2025-02-09T08:06:05.147Z"
   },
   {
    "duration": 4,
    "start_time": "2025-02-09T08:06:17.062Z"
   },
   {
    "duration": 9489,
    "start_time": "2025-02-09T08:06:26.046Z"
   },
   {
    "duration": 8556,
    "start_time": "2025-02-09T08:06:45.621Z"
   },
   {
    "duration": 3,
    "start_time": "2025-02-09T08:06:54.180Z"
   },
   {
    "duration": 973,
    "start_time": "2025-02-09T08:06:54.185Z"
   },
   {
    "duration": 193,
    "start_time": "2025-02-09T08:06:55.160Z"
   },
   {
    "duration": 192,
    "start_time": "2025-02-09T08:06:55.355Z"
   },
   {
    "duration": 3,
    "start_time": "2025-02-09T08:06:55.549Z"
   },
   {
    "duration": 228,
    "start_time": "2025-02-09T08:06:55.554Z"
   },
   {
    "duration": 138,
    "start_time": "2025-02-09T08:06:55.784Z"
   },
   {
    "duration": 5140,
    "start_time": "2025-02-09T08:06:55.924Z"
   },
   {
    "duration": 709,
    "start_time": "2025-02-09T08:07:01.066Z"
   },
   {
    "duration": 10100,
    "start_time": "2025-02-09T08:07:01.777Z"
   },
   {
    "duration": 17,
    "start_time": "2025-02-09T08:07:11.879Z"
   },
   {
    "duration": 3,
    "start_time": "2025-02-09T08:07:11.897Z"
   },
   {
    "duration": 7031,
    "start_time": "2025-02-09T08:07:11.903Z"
   },
   {
    "duration": 288,
    "start_time": "2025-02-09T08:07:18.936Z"
   },
   {
    "duration": 8036,
    "start_time": "2025-02-09T08:07:19.226Z"
   },
   {
    "duration": 113,
    "start_time": "2025-02-09T08:07:27.264Z"
   },
   {
    "duration": 239,
    "start_time": "2025-02-09T08:07:27.379Z"
   },
   {
    "duration": 218,
    "start_time": "2025-02-09T08:07:44.767Z"
   },
   {
    "duration": 4,
    "start_time": "2025-02-09T08:07:46.373Z"
   },
   {
    "duration": 4,
    "start_time": "2025-02-09T08:07:47.179Z"
   },
   {
    "duration": 354211,
    "start_time": "2025-02-09T08:07:48.107Z"
   },
   {
    "duration": 0,
    "start_time": "2025-02-09T08:13:42.322Z"
   },
   {
    "duration": 8932,
    "start_time": "2025-02-09T08:14:06.434Z"
   },
   {
    "duration": 5,
    "start_time": "2025-02-09T08:14:15.369Z"
   },
   {
    "duration": 991,
    "start_time": "2025-02-09T08:14:15.376Z"
   },
   {
    "duration": 185,
    "start_time": "2025-02-09T08:14:16.369Z"
   },
   {
    "duration": 149,
    "start_time": "2025-02-09T08:14:16.556Z"
   },
   {
    "duration": 3,
    "start_time": "2025-02-09T08:14:16.707Z"
   },
   {
    "duration": 228,
    "start_time": "2025-02-09T08:14:16.711Z"
   },
   {
    "duration": 161,
    "start_time": "2025-02-09T08:14:16.941Z"
   },
   {
    "duration": 5149,
    "start_time": "2025-02-09T08:14:17.104Z"
   },
   {
    "duration": 694,
    "start_time": "2025-02-09T08:14:22.255Z"
   },
   {
    "duration": 10075,
    "start_time": "2025-02-09T08:14:22.952Z"
   },
   {
    "duration": 29,
    "start_time": "2025-02-09T08:14:33.033Z"
   },
   {
    "duration": 2,
    "start_time": "2025-02-09T08:14:33.064Z"
   },
   {
    "duration": 7010,
    "start_time": "2025-02-09T08:14:33.069Z"
   },
   {
    "duration": 281,
    "start_time": "2025-02-09T08:14:40.081Z"
   },
   {
    "duration": 8045,
    "start_time": "2025-02-09T08:14:40.364Z"
   },
   {
    "duration": 117,
    "start_time": "2025-02-09T08:14:48.411Z"
   },
   {
    "duration": 227,
    "start_time": "2025-02-09T08:14:48.533Z"
   },
   {
    "duration": 5,
    "start_time": "2025-02-09T08:14:48.762Z"
   },
   {
    "duration": 14,
    "start_time": "2025-02-09T08:14:48.769Z"
   },
   {
    "duration": 290272,
    "start_time": "2025-02-09T08:14:48.785Z"
   },
   {
    "duration": 0,
    "start_time": "2025-02-09T08:19:39.059Z"
   },
   {
    "duration": 3,
    "start_time": "2025-02-09T08:20:24.974Z"
   },
   {
    "duration": 14,
    "start_time": "2025-02-09T08:20:25.548Z"
   },
   {
    "duration": 11033,
    "start_time": "2025-02-09T08:21:05.220Z"
   },
   {
    "duration": 8766,
    "start_time": "2025-02-09T08:21:23.606Z"
   },
   {
    "duration": 4,
    "start_time": "2025-02-09T08:21:32.375Z"
   },
   {
    "duration": 988,
    "start_time": "2025-02-09T08:21:32.380Z"
   },
   {
    "duration": 184,
    "start_time": "2025-02-09T08:21:33.370Z"
   },
   {
    "duration": 153,
    "start_time": "2025-02-09T08:21:33.556Z"
   },
   {
    "duration": 3,
    "start_time": "2025-02-09T08:21:33.711Z"
   },
   {
    "duration": 246,
    "start_time": "2025-02-09T08:21:33.716Z"
   },
   {
    "duration": 145,
    "start_time": "2025-02-09T08:21:33.964Z"
   },
   {
    "duration": 5182,
    "start_time": "2025-02-09T08:21:34.111Z"
   },
   {
    "duration": 703,
    "start_time": "2025-02-09T08:21:39.295Z"
   },
   {
    "duration": 10072,
    "start_time": "2025-02-09T08:21:40.000Z"
   },
   {
    "duration": 31,
    "start_time": "2025-02-09T08:21:50.074Z"
   },
   {
    "duration": 2,
    "start_time": "2025-02-09T08:21:50.107Z"
   },
   {
    "duration": 7043,
    "start_time": "2025-02-09T08:21:50.135Z"
   },
   {
    "duration": 310,
    "start_time": "2025-02-09T08:21:57.180Z"
   },
   {
    "duration": 8291,
    "start_time": "2025-02-09T08:21:57.492Z"
   },
   {
    "duration": 137,
    "start_time": "2025-02-09T08:22:05.784Z"
   },
   {
    "duration": 241,
    "start_time": "2025-02-09T08:22:05.923Z"
   },
   {
    "duration": 4,
    "start_time": "2025-02-09T08:22:06.166Z"
   },
   {
    "duration": 34,
    "start_time": "2025-02-09T08:22:06.172Z"
   },
   {
    "duration": 0,
    "start_time": "2025-02-09T08:39:19.161Z"
   },
   {
    "duration": 0,
    "start_time": "2025-02-09T08:39:19.162Z"
   },
   {
    "duration": 0,
    "start_time": "2025-02-09T08:39:19.163Z"
   },
   {
    "duration": 0,
    "start_time": "2025-02-09T08:39:19.165Z"
   },
   {
    "duration": 4,
    "start_time": "2025-02-09T08:40:35.303Z"
   },
   {
    "duration": 3,
    "start_time": "2025-02-09T08:40:36.455Z"
   },
   {
    "duration": 12,
    "start_time": "2025-02-09T08:40:37.005Z"
   },
   {
    "duration": 99,
    "start_time": "2025-02-09T08:40:51.938Z"
   },
   {
    "duration": 231,
    "start_time": "2025-02-09T08:40:52.817Z"
   },
   {
    "duration": 4,
    "start_time": "2025-02-09T08:40:54.494Z"
   },
   {
    "duration": 3,
    "start_time": "2025-02-09T08:40:55.320Z"
   },
   {
    "duration": 12,
    "start_time": "2025-02-09T08:40:56.420Z"
   },
   {
    "duration": 4,
    "start_time": "2025-02-09T08:42:02.225Z"
   },
   {
    "duration": 4,
    "start_time": "2025-02-09T08:42:02.971Z"
   },
   {
    "duration": 1329,
    "start_time": "2025-02-09T08:42:03.409Z"
   },
   {
    "duration": 8971,
    "start_time": "2025-02-09T08:52:32.516Z"
   },
   {
    "duration": 3,
    "start_time": "2025-02-09T08:52:41.490Z"
   },
   {
    "duration": 993,
    "start_time": "2025-02-09T08:52:41.495Z"
   },
   {
    "duration": 202,
    "start_time": "2025-02-09T08:52:42.490Z"
   },
   {
    "duration": 155,
    "start_time": "2025-02-09T08:52:42.693Z"
   },
   {
    "duration": 3,
    "start_time": "2025-02-09T08:52:42.852Z"
   },
   {
    "duration": 210,
    "start_time": "2025-02-09T08:52:42.857Z"
   },
   {
    "duration": 179,
    "start_time": "2025-02-09T08:52:43.069Z"
   },
   {
    "duration": 5525,
    "start_time": "2025-02-09T08:52:43.250Z"
   },
   {
    "duration": 719,
    "start_time": "2025-02-09T08:52:48.779Z"
   },
   {
    "duration": 10696,
    "start_time": "2025-02-09T08:52:49.501Z"
   },
   {
    "duration": 20,
    "start_time": "2025-02-09T08:53:00.199Z"
   },
   {
    "duration": 3,
    "start_time": "2025-02-09T08:53:00.240Z"
   },
   {
    "duration": 7606,
    "start_time": "2025-02-09T08:53:00.245Z"
   },
   {
    "duration": 324,
    "start_time": "2025-02-09T08:53:07.853Z"
   },
   {
    "duration": 8616,
    "start_time": "2025-02-09T08:53:08.179Z"
   },
   {
    "duration": 152,
    "start_time": "2025-02-09T08:53:16.797Z"
   },
   {
    "duration": 259,
    "start_time": "2025-02-09T08:53:16.951Z"
   },
   {
    "duration": 3,
    "start_time": "2025-02-09T08:53:17.212Z"
   },
   {
    "duration": 28,
    "start_time": "2025-02-09T08:53:17.217Z"
   },
   {
    "duration": 1899,
    "start_time": "2025-02-09T08:53:17.247Z"
   },
   {
    "duration": 0,
    "start_time": "2025-02-09T08:53:19.149Z"
   },
   {
    "duration": 0,
    "start_time": "2025-02-09T08:53:19.151Z"
   },
   {
    "duration": 4,
    "start_time": "2025-02-09T08:54:54.348Z"
   },
   {
    "duration": 3,
    "start_time": "2025-02-09T08:54:54.982Z"
   },
   {
    "duration": 370502,
    "start_time": "2025-02-09T08:54:55.478Z"
   },
   {
    "duration": 9,
    "start_time": "2025-02-09T09:01:05.982Z"
   },
   {
    "duration": 14,
    "start_time": "2025-02-09T09:05:38.677Z"
   },
   {
    "duration": 13,
    "start_time": "2025-02-09T09:05:47.506Z"
   },
   {
    "duration": 3,
    "start_time": "2025-02-09T09:05:53.667Z"
   },
   {
    "duration": 13009,
    "start_time": "2025-02-09T09:06:54.881Z"
   },
   {
    "duration": 4,
    "start_time": "2025-02-09T09:07:07.893Z"
   },
   {
    "duration": 13469,
    "start_time": "2025-02-09T09:07:22.545Z"
   },
   {
    "duration": 4,
    "start_time": "2025-02-09T09:07:36.016Z"
   },
   {
    "duration": 3,
    "start_time": "2025-02-09T09:07:46.974Z"
   },
   {
    "duration": 11496,
    "start_time": "2025-02-09T09:08:16.263Z"
   },
   {
    "duration": 10,
    "start_time": "2025-02-09T09:08:27.764Z"
   },
   {
    "duration": 1008,
    "start_time": "2025-02-09T09:08:27.777Z"
   },
   {
    "duration": 192,
    "start_time": "2025-02-09T09:08:28.786Z"
   },
   {
    "duration": 208,
    "start_time": "2025-02-09T09:08:28.983Z"
   },
   {
    "duration": 3,
    "start_time": "2025-02-09T09:08:29.192Z"
   },
   {
    "duration": 273,
    "start_time": "2025-02-09T09:08:29.197Z"
   },
   {
    "duration": 147,
    "start_time": "2025-02-09T09:08:29.472Z"
   },
   {
    "duration": 4945,
    "start_time": "2025-02-09T09:08:29.621Z"
   },
   {
    "duration": 714,
    "start_time": "2025-02-09T09:08:34.568Z"
   },
   {
    "duration": 10033,
    "start_time": "2025-02-09T09:08:35.284Z"
   },
   {
    "duration": 17,
    "start_time": "2025-02-09T09:08:45.319Z"
   },
   {
    "duration": 3,
    "start_time": "2025-02-09T09:08:45.337Z"
   },
   {
    "duration": 7055,
    "start_time": "2025-02-09T09:08:45.342Z"
   },
   {
    "duration": 297,
    "start_time": "2025-02-09T09:08:52.399Z"
   },
   {
    "duration": 7963,
    "start_time": "2025-02-09T09:08:52.698Z"
   },
   {
    "duration": 108,
    "start_time": "2025-02-09T09:09:00.663Z"
   },
   {
    "duration": 232,
    "start_time": "2025-02-09T09:09:00.772Z"
   },
   {
    "duration": 4,
    "start_time": "2025-02-09T09:09:01.006Z"
   },
   {
    "duration": 6,
    "start_time": "2025-02-09T09:09:01.012Z"
   },
   {
    "duration": 48776,
    "start_time": "2025-02-09T09:09:01.020Z"
   },
   {
    "duration": 9,
    "start_time": "2025-02-09T09:09:49.797Z"
   },
   {
    "duration": 12038,
    "start_time": "2025-02-09T09:15:57.567Z"
   },
   {
    "duration": 5,
    "start_time": "2025-02-09T09:16:11.754Z"
   },
   {
    "duration": 4,
    "start_time": "2025-02-09T09:16:12.439Z"
   },
   {
    "duration": 46757,
    "start_time": "2025-02-09T09:16:14.163Z"
   },
   {
    "duration": 18,
    "start_time": "2025-02-09T09:17:00.922Z"
   },
   {
    "duration": 75227,
    "start_time": "2025-02-09T09:17:00.941Z"
   },
   {
    "duration": 47711,
    "start_time": "2025-02-09T09:19:34.157Z"
   },
   {
    "duration": 0,
    "start_time": "2025-02-09T09:20:21.870Z"
   },
   {
    "duration": 75513,
    "start_time": "2025-02-09T09:20:24.427Z"
   },
   {
    "duration": 179408,
    "start_time": "2025-02-09T09:22:00.682Z"
   },
   {
    "duration": 9,
    "start_time": "2025-02-09T09:25:00.092Z"
   },
   {
    "duration": 73575,
    "start_time": "2025-02-09T09:25:54.125Z"
   },
   {
    "duration": 0,
    "start_time": "2025-02-09T09:27:07.702Z"
   },
   {
    "duration": 176929,
    "start_time": "2025-02-09T09:27:24.026Z"
   },
   {
    "duration": 2739,
    "start_time": "2025-02-09T09:30:20.957Z"
   },
   {
    "duration": 10,
    "start_time": "2025-02-09T09:30:23.698Z"
   },
   {
    "duration": 11681,
    "start_time": "2025-02-09T09:45:48.546Z"
   },
   {
    "duration": 4,
    "start_time": "2025-02-09T09:46:00.230Z"
   },
   {
    "duration": 942,
    "start_time": "2025-02-09T09:46:00.236Z"
   },
   {
    "duration": 182,
    "start_time": "2025-02-09T09:46:01.180Z"
   },
   {
    "duration": 154,
    "start_time": "2025-02-09T09:46:01.364Z"
   },
   {
    "duration": 12,
    "start_time": "2025-02-09T09:46:01.520Z"
   },
   {
    "duration": 230,
    "start_time": "2025-02-09T09:46:01.535Z"
   },
   {
    "duration": 154,
    "start_time": "2025-02-09T09:46:01.768Z"
   },
   {
    "duration": 5006,
    "start_time": "2025-02-09T09:46:01.932Z"
   },
   {
    "duration": 8618,
    "start_time": "2025-02-09T09:46:06.940Z"
   },
   {
    "duration": 1083,
    "start_time": "2025-02-09T09:46:15.560Z"
   },
   {
    "duration": 10035,
    "start_time": "2025-02-09T09:46:16.645Z"
   },
   {
    "duration": 29,
    "start_time": "2025-02-09T09:46:26.681Z"
   },
   {
    "duration": 2,
    "start_time": "2025-02-09T09:46:26.712Z"
   },
   {
    "duration": 7051,
    "start_time": "2025-02-09T09:46:26.716Z"
   },
   {
    "duration": 279,
    "start_time": "2025-02-09T09:46:33.769Z"
   },
   {
    "duration": 8828,
    "start_time": "2025-02-09T09:46:34.050Z"
   },
   {
    "duration": 136,
    "start_time": "2025-02-09T09:46:42.880Z"
   },
   {
    "duration": 228,
    "start_time": "2025-02-09T09:46:43.018Z"
   },
   {
    "duration": 4,
    "start_time": "2025-02-09T09:46:43.248Z"
   },
   {
    "duration": 8,
    "start_time": "2025-02-09T09:46:43.254Z"
   },
   {
    "duration": 52934,
    "start_time": "2025-02-09T09:46:43.264Z"
   },
   {
    "duration": 9,
    "start_time": "2025-02-09T09:47:36.201Z"
   },
   {
    "duration": 180649,
    "start_time": "2025-02-09T09:47:36.212Z"
   },
   {
    "duration": 2896,
    "start_time": "2025-02-09T09:50:36.863Z"
   },
   {
    "duration": 10,
    "start_time": "2025-02-09T09:50:39.760Z"
   },
   {
    "duration": 11767,
    "start_time": "2025-02-09T09:54:45.975Z"
   },
   {
    "duration": 5,
    "start_time": "2025-02-09T09:54:57.746Z"
   },
   {
    "duration": 892,
    "start_time": "2025-02-09T09:54:57.754Z"
   },
   {
    "duration": 187,
    "start_time": "2025-02-09T09:54:58.648Z"
   },
   {
    "duration": 135,
    "start_time": "2025-02-09T09:54:58.838Z"
   },
   {
    "duration": 3,
    "start_time": "2025-02-09T09:54:58.975Z"
   },
   {
    "duration": 188,
    "start_time": "2025-02-09T09:54:58.980Z"
   },
   {
    "duration": 139,
    "start_time": "2025-02-09T09:54:59.171Z"
   },
   {
    "duration": 5186,
    "start_time": "2025-02-09T09:54:59.313Z"
   },
   {
    "duration": 8987,
    "start_time": "2025-02-09T09:55:04.501Z"
   },
   {
    "duration": 677,
    "start_time": "2025-02-09T09:55:13.490Z"
   },
   {
    "duration": 9712,
    "start_time": "2025-02-09T09:55:14.169Z"
   },
   {
    "duration": 28,
    "start_time": "2025-02-09T09:55:23.883Z"
   },
   {
    "duration": 37,
    "start_time": "2025-02-09T09:55:23.914Z"
   },
   {
    "duration": 6965,
    "start_time": "2025-02-09T09:55:23.953Z"
   },
   {
    "duration": 284,
    "start_time": "2025-02-09T09:55:30.920Z"
   },
   {
    "duration": 8006,
    "start_time": "2025-02-09T09:55:31.206Z"
   },
   {
    "duration": 129,
    "start_time": "2025-02-09T09:55:39.213Z"
   },
   {
    "duration": 234,
    "start_time": "2025-02-09T09:55:39.344Z"
   },
   {
    "duration": 4,
    "start_time": "2025-02-09T09:55:39.580Z"
   },
   {
    "duration": 14,
    "start_time": "2025-02-09T09:55:39.585Z"
   },
   {
    "duration": 46162,
    "start_time": "2025-02-09T09:55:39.601Z"
   },
   {
    "duration": 9,
    "start_time": "2025-02-09T09:56:25.765Z"
   },
   {
    "duration": 177191,
    "start_time": "2025-02-09T09:56:25.776Z"
   },
   {
    "duration": 2764,
    "start_time": "2025-02-09T09:59:22.969Z"
   },
   {
    "duration": 10,
    "start_time": "2025-02-09T09:59:25.734Z"
   },
   {
    "duration": 14561,
    "start_time": "2025-02-09T14:53:28.153Z"
   },
   {
    "duration": 1001,
    "start_time": "2025-02-09T14:53:42.716Z"
   },
   {
    "duration": 178,
    "start_time": "2025-02-09T14:53:46.272Z"
   },
   {
    "duration": 5,
    "start_time": "2025-02-09T14:54:24.182Z"
   },
   {
    "duration": 284,
    "start_time": "2025-02-09T14:55:04.889Z"
   },
   {
    "duration": 69,
    "start_time": "2025-02-09T14:55:20.048Z"
   },
   {
    "duration": 279,
    "start_time": "2025-02-09T14:55:28.480Z"
   },
   {
    "duration": 365,
    "start_time": "2025-02-09T15:05:20.721Z"
   },
   {
    "duration": 88,
    "start_time": "2025-02-09T15:08:54.267Z"
   },
   {
    "duration": 91,
    "start_time": "2025-02-09T15:09:02.482Z"
   },
   {
    "duration": 316,
    "start_time": "2025-02-09T15:11:01.665Z"
   },
   {
    "duration": 367,
    "start_time": "2025-02-09T15:11:43.861Z"
   },
   {
    "duration": 220,
    "start_time": "2025-02-09T15:12:19.885Z"
   },
   {
    "duration": 227,
    "start_time": "2025-02-09T15:12:28.964Z"
   },
   {
    "duration": 247,
    "start_time": "2025-02-09T15:12:40.878Z"
   },
   {
    "duration": 269,
    "start_time": "2025-02-09T15:12:46.625Z"
   },
   {
    "duration": 313,
    "start_time": "2025-02-09T15:13:43.190Z"
   },
   {
    "duration": 53,
    "start_time": "2025-02-09T15:14:59.115Z"
   },
   {
    "duration": 19336,
    "start_time": "2025-02-10T06:01:50.133Z"
   },
   {
    "duration": 5,
    "start_time": "2025-02-10T06:02:09.472Z"
   },
   {
    "duration": 993,
    "start_time": "2025-02-10T06:02:09.478Z"
   },
   {
    "duration": 188,
    "start_time": "2025-02-10T06:02:10.473Z"
   },
   {
    "duration": 208,
    "start_time": "2025-02-10T06:02:10.663Z"
   },
   {
    "duration": 4,
    "start_time": "2025-02-10T06:02:10.873Z"
   },
   {
    "duration": 222,
    "start_time": "2025-02-10T06:02:10.879Z"
   },
   {
    "duration": 143,
    "start_time": "2025-02-10T06:02:11.103Z"
   },
   {
    "duration": 3092,
    "start_time": "2025-02-10T06:02:11.248Z"
   },
   {
    "duration": 8119,
    "start_time": "2025-02-10T06:02:14.342Z"
   },
   {
    "duration": 564,
    "start_time": "2025-02-10T06:02:22.463Z"
   },
   {
    "duration": 10041,
    "start_time": "2025-02-10T06:02:23.029Z"
   },
   {
    "duration": 16,
    "start_time": "2025-02-10T06:02:33.072Z"
   },
   {
    "duration": 16,
    "start_time": "2025-02-10T06:02:33.091Z"
   },
   {
    "duration": 7186,
    "start_time": "2025-02-10T06:02:33.108Z"
   },
   {
    "duration": 282,
    "start_time": "2025-02-10T06:02:40.295Z"
   },
   {
    "duration": 7742,
    "start_time": "2025-02-10T06:02:40.579Z"
   },
   {
    "duration": 120,
    "start_time": "2025-02-10T06:02:48.323Z"
   },
   {
    "duration": 232,
    "start_time": "2025-02-10T06:02:48.445Z"
   },
   {
    "duration": 184,
    "start_time": "2025-02-10T06:02:48.679Z"
   },
   {
    "duration": 4,
    "start_time": "2025-02-10T06:02:48.865Z"
   },
   {
    "duration": 150,
    "start_time": "2025-02-10T06:02:48.871Z"
   },
   {
    "duration": 1,
    "start_time": "2025-02-10T06:02:49.022Z"
   },
   {
    "duration": 0,
    "start_time": "2025-02-10T06:02:49.024Z"
   },
   {
    "duration": 0,
    "start_time": "2025-02-10T06:02:49.025Z"
   },
   {
    "duration": 0,
    "start_time": "2025-02-10T06:02:49.027Z"
   },
   {
    "duration": 3313,
    "start_time": "2025-02-10T06:03:39.822Z"
   },
   {
    "duration": 10658,
    "start_time": "2025-02-10T06:06:30.147Z"
   },
   {
    "duration": 4,
    "start_time": "2025-02-10T06:06:40.807Z"
   },
   {
    "duration": 871,
    "start_time": "2025-02-10T06:06:40.813Z"
   },
   {
    "duration": 181,
    "start_time": "2025-02-10T06:06:41.687Z"
   },
   {
    "duration": 141,
    "start_time": "2025-02-10T06:06:41.871Z"
   },
   {
    "duration": 3,
    "start_time": "2025-02-10T06:06:42.014Z"
   },
   {
    "duration": 152,
    "start_time": "2025-02-10T06:06:42.019Z"
   },
   {
    "duration": 134,
    "start_time": "2025-02-10T06:06:42.172Z"
   },
   {
    "duration": 2967,
    "start_time": "2025-02-10T06:06:42.307Z"
   },
   {
    "duration": 8200,
    "start_time": "2025-02-10T06:06:45.275Z"
   },
   {
    "duration": 520,
    "start_time": "2025-02-10T06:06:53.477Z"
   },
   {
    "duration": 9305,
    "start_time": "2025-02-10T06:06:53.998Z"
   },
   {
    "duration": 28,
    "start_time": "2025-02-10T06:07:03.305Z"
   },
   {
    "duration": 2,
    "start_time": "2025-02-10T06:07:03.336Z"
   },
   {
    "duration": 6631,
    "start_time": "2025-02-10T06:07:03.340Z"
   },
   {
    "duration": 260,
    "start_time": "2025-02-10T06:07:09.973Z"
   },
   {
    "duration": 7511,
    "start_time": "2025-02-10T06:07:10.235Z"
   },
   {
    "duration": 114,
    "start_time": "2025-02-10T06:07:17.748Z"
   },
   {
    "duration": 215,
    "start_time": "2025-02-10T06:07:17.864Z"
   },
   {
    "duration": 5,
    "start_time": "2025-02-10T06:07:18.081Z"
   },
   {
    "duration": 12,
    "start_time": "2025-02-10T06:07:18.088Z"
   },
   {
    "duration": 12976,
    "start_time": "2025-02-10T06:07:39.768Z"
   },
   {
    "duration": 4,
    "start_time": "2025-02-10T06:07:52.746Z"
   },
   {
    "duration": 916,
    "start_time": "2025-02-10T06:07:52.752Z"
   },
   {
    "duration": 186,
    "start_time": "2025-02-10T06:07:53.669Z"
   },
   {
    "duration": 177,
    "start_time": "2025-02-10T06:07:53.862Z"
   },
   {
    "duration": 3,
    "start_time": "2025-02-10T06:07:54.041Z"
   },
   {
    "duration": 207,
    "start_time": "2025-02-10T06:07:54.045Z"
   },
   {
    "duration": 126,
    "start_time": "2025-02-10T06:07:54.254Z"
   },
   {
    "duration": 2835,
    "start_time": "2025-02-10T06:07:54.382Z"
   },
   {
    "duration": 7532,
    "start_time": "2025-02-10T06:07:57.219Z"
   },
   {
    "duration": 521,
    "start_time": "2025-02-10T06:08:04.753Z"
   },
   {
    "duration": 9073,
    "start_time": "2025-02-10T06:08:05.276Z"
   },
   {
    "duration": 15,
    "start_time": "2025-02-10T06:08:14.351Z"
   },
   {
    "duration": 2,
    "start_time": "2025-02-10T06:08:14.370Z"
   },
   {
    "duration": 6551,
    "start_time": "2025-02-10T06:08:14.374Z"
   },
   {
    "duration": 263,
    "start_time": "2025-02-10T06:08:20.927Z"
   },
   {
    "duration": 7061,
    "start_time": "2025-02-10T06:08:21.192Z"
   },
   {
    "duration": 103,
    "start_time": "2025-02-10T06:08:28.261Z"
   },
   {
    "duration": 216,
    "start_time": "2025-02-10T06:08:28.366Z"
   },
   {
    "duration": 5,
    "start_time": "2025-02-10T06:08:28.584Z"
   },
   {
    "duration": 9,
    "start_time": "2025-02-10T06:08:28.591Z"
   },
   {
    "duration": 13020,
    "start_time": "2025-02-10T06:08:45.778Z"
   },
   {
    "duration": 3,
    "start_time": "2025-02-10T06:08:58.800Z"
   },
   {
    "duration": 889,
    "start_time": "2025-02-10T06:08:58.805Z"
   },
   {
    "duration": 169,
    "start_time": "2025-02-10T06:08:59.696Z"
   },
   {
    "duration": 182,
    "start_time": "2025-02-10T06:08:59.866Z"
   },
   {
    "duration": 2,
    "start_time": "2025-02-10T06:09:00.050Z"
   },
   {
    "duration": 210,
    "start_time": "2025-02-10T06:09:00.062Z"
   },
   {
    "duration": 134,
    "start_time": "2025-02-10T06:09:00.274Z"
   },
   {
    "duration": 2880,
    "start_time": "2025-02-10T06:09:00.410Z"
   },
   {
    "duration": 7555,
    "start_time": "2025-02-10T06:09:03.293Z"
   },
   {
    "duration": 531,
    "start_time": "2025-02-10T06:09:10.849Z"
   },
   {
    "duration": 9213,
    "start_time": "2025-02-10T06:09:11.381Z"
   },
   {
    "duration": 16,
    "start_time": "2025-02-10T06:09:20.595Z"
   },
   {
    "duration": 6,
    "start_time": "2025-02-10T06:09:20.612Z"
   },
   {
    "duration": 6704,
    "start_time": "2025-02-10T06:09:20.620Z"
   },
   {
    "duration": 265,
    "start_time": "2025-02-10T06:09:27.325Z"
   },
   {
    "duration": 7134,
    "start_time": "2025-02-10T06:09:27.592Z"
   },
   {
    "duration": 101,
    "start_time": "2025-02-10T06:09:34.727Z"
   },
   {
    "duration": 214,
    "start_time": "2025-02-10T06:09:34.830Z"
   },
   {
    "duration": 4,
    "start_time": "2025-02-10T06:09:35.045Z"
   },
   {
    "duration": 11,
    "start_time": "2025-02-10T06:09:35.060Z"
   },
   {
    "duration": 13110,
    "start_time": "2025-02-10T06:10:22.219Z"
   },
   {
    "duration": 4,
    "start_time": "2025-02-10T06:10:35.331Z"
   },
   {
    "duration": 926,
    "start_time": "2025-02-10T06:10:35.336Z"
   },
   {
    "duration": 167,
    "start_time": "2025-02-10T06:10:36.264Z"
   },
   {
    "duration": 179,
    "start_time": "2025-02-10T06:10:36.434Z"
   },
   {
    "duration": 3,
    "start_time": "2025-02-10T06:10:36.615Z"
   },
   {
    "duration": 207,
    "start_time": "2025-02-10T06:10:36.619Z"
   },
   {
    "duration": 133,
    "start_time": "2025-02-10T06:10:36.828Z"
   },
   {
    "duration": 2916,
    "start_time": "2025-02-10T06:10:36.962Z"
   },
   {
    "duration": 7753,
    "start_time": "2025-02-10T06:10:39.880Z"
   },
   {
    "duration": 562,
    "start_time": "2025-02-10T06:10:47.635Z"
   },
   {
    "duration": 9252,
    "start_time": "2025-02-10T06:10:48.198Z"
   },
   {
    "duration": 16,
    "start_time": "2025-02-10T06:10:57.452Z"
   },
   {
    "duration": 3,
    "start_time": "2025-02-10T06:10:57.470Z"
   },
   {
    "duration": 6726,
    "start_time": "2025-02-10T06:10:57.474Z"
   },
   {
    "duration": 268,
    "start_time": "2025-02-10T06:11:04.201Z"
   },
   {
    "duration": 7902,
    "start_time": "2025-02-10T06:11:04.471Z"
   },
   {
    "duration": 98,
    "start_time": "2025-02-10T06:11:12.375Z"
   },
   {
    "duration": 212,
    "start_time": "2025-02-10T06:11:12.475Z"
   },
   {
    "duration": 3,
    "start_time": "2025-02-10T06:11:12.689Z"
   },
   {
    "duration": 25,
    "start_time": "2025-02-10T06:11:12.694Z"
   },
   {
    "duration": 12875,
    "start_time": "2025-02-10T06:12:45.278Z"
   },
   {
    "duration": 3,
    "start_time": "2025-02-10T06:12:58.155Z"
   },
   {
    "duration": 911,
    "start_time": "2025-02-10T06:12:58.160Z"
   },
   {
    "duration": 171,
    "start_time": "2025-02-10T06:12:59.073Z"
   },
   {
    "duration": 174,
    "start_time": "2025-02-10T06:12:59.246Z"
   },
   {
    "duration": 3,
    "start_time": "2025-02-10T06:12:59.422Z"
   },
   {
    "duration": 204,
    "start_time": "2025-02-10T06:12:59.426Z"
   },
   {
    "duration": 133,
    "start_time": "2025-02-10T06:12:59.631Z"
   },
   {
    "duration": 2899,
    "start_time": "2025-02-10T06:12:59.766Z"
   },
   {
    "duration": 7647,
    "start_time": "2025-02-10T06:13:02.667Z"
   },
   {
    "duration": 528,
    "start_time": "2025-02-10T06:13:10.316Z"
   },
   {
    "duration": 9132,
    "start_time": "2025-02-10T06:13:10.846Z"
   },
   {
    "duration": 15,
    "start_time": "2025-02-10T06:13:19.980Z"
   },
   {
    "duration": 3,
    "start_time": "2025-02-10T06:13:19.998Z"
   },
   {
    "duration": 6539,
    "start_time": "2025-02-10T06:13:20.002Z"
   },
   {
    "duration": 265,
    "start_time": "2025-02-10T06:13:26.542Z"
   },
   {
    "duration": 7030,
    "start_time": "2025-02-10T06:13:26.809Z"
   },
   {
    "duration": 122,
    "start_time": "2025-02-10T06:13:33.840Z"
   },
   {
    "duration": 223,
    "start_time": "2025-02-10T06:13:33.964Z"
   },
   {
    "duration": 4,
    "start_time": "2025-02-10T06:13:34.189Z"
   },
   {
    "duration": 7,
    "start_time": "2025-02-10T06:13:34.194Z"
   },
   {
    "duration": 13090,
    "start_time": "2025-02-10T06:14:28.124Z"
   },
   {
    "duration": 4,
    "start_time": "2025-02-10T06:14:41.218Z"
   },
   {
    "duration": 956,
    "start_time": "2025-02-10T06:14:41.224Z"
   },
   {
    "duration": 156,
    "start_time": "2025-02-10T06:14:42.181Z"
   },
   {
    "duration": 164,
    "start_time": "2025-02-10T06:14:42.339Z"
   },
   {
    "duration": 3,
    "start_time": "2025-02-10T06:14:42.504Z"
   },
   {
    "duration": 196,
    "start_time": "2025-02-10T06:14:42.508Z"
   },
   {
    "duration": 137,
    "start_time": "2025-02-10T06:14:42.705Z"
   },
   {
    "duration": 2890,
    "start_time": "2025-02-10T06:14:42.844Z"
   },
   {
    "duration": 7536,
    "start_time": "2025-02-10T06:14:45.735Z"
   },
   {
    "duration": 531,
    "start_time": "2025-02-10T06:14:53.273Z"
   },
   {
    "duration": 9069,
    "start_time": "2025-02-10T06:14:53.805Z"
   },
   {
    "duration": 15,
    "start_time": "2025-02-10T06:15:02.875Z"
   },
   {
    "duration": 18,
    "start_time": "2025-02-10T06:15:02.893Z"
   },
   {
    "duration": 6544,
    "start_time": "2025-02-10T06:15:02.912Z"
   },
   {
    "duration": 260,
    "start_time": "2025-02-10T06:15:09.461Z"
   },
   {
    "duration": 7001,
    "start_time": "2025-02-10T06:15:09.722Z"
   },
   {
    "duration": 99,
    "start_time": "2025-02-10T06:15:16.725Z"
   },
   {
    "duration": 217,
    "start_time": "2025-02-10T06:15:16.825Z"
   },
   {
    "duration": 4,
    "start_time": "2025-02-10T06:15:17.043Z"
   },
   {
    "duration": 13,
    "start_time": "2025-02-10T06:15:17.049Z"
   },
   {
    "duration": 13212,
    "start_time": "2025-02-10T06:15:38.044Z"
   },
   {
    "duration": 3,
    "start_time": "2025-02-10T06:15:51.258Z"
   },
   {
    "duration": 941,
    "start_time": "2025-02-10T06:15:51.262Z"
   },
   {
    "duration": 163,
    "start_time": "2025-02-10T06:15:52.204Z"
   },
   {
    "duration": 175,
    "start_time": "2025-02-10T06:15:52.369Z"
   },
   {
    "duration": 3,
    "start_time": "2025-02-10T06:15:52.545Z"
   },
   {
    "duration": 195,
    "start_time": "2025-02-10T06:15:52.549Z"
   },
   {
    "duration": 137,
    "start_time": "2025-02-10T06:15:52.745Z"
   },
   {
    "duration": 2830,
    "start_time": "2025-02-10T06:15:52.883Z"
   },
   {
    "duration": 7669,
    "start_time": "2025-02-10T06:15:55.716Z"
   },
   {
    "duration": 563,
    "start_time": "2025-02-10T06:16:03.387Z"
   },
   {
    "duration": 9149,
    "start_time": "2025-02-10T06:16:03.953Z"
   },
   {
    "duration": 15,
    "start_time": "2025-02-10T06:16:13.104Z"
   },
   {
    "duration": 3,
    "start_time": "2025-02-10T06:16:13.122Z"
   },
   {
    "duration": 6593,
    "start_time": "2025-02-10T06:16:13.126Z"
   },
   {
    "duration": 272,
    "start_time": "2025-02-10T06:16:19.720Z"
   },
   {
    "duration": 6824,
    "start_time": "2025-02-10T06:16:19.994Z"
   },
   {
    "duration": 99,
    "start_time": "2025-02-10T06:16:26.819Z"
   },
   {
    "duration": 205,
    "start_time": "2025-02-10T06:16:26.920Z"
   },
   {
    "duration": 4,
    "start_time": "2025-02-10T06:16:27.127Z"
   },
   {
    "duration": 13,
    "start_time": "2025-02-10T06:16:27.132Z"
   },
   {
    "duration": 12811,
    "start_time": "2025-02-10T06:18:08.451Z"
   },
   {
    "duration": 3,
    "start_time": "2025-02-10T06:18:21.264Z"
   },
   {
    "duration": 919,
    "start_time": "2025-02-10T06:18:21.269Z"
   },
   {
    "duration": 162,
    "start_time": "2025-02-10T06:18:22.189Z"
   },
   {
    "duration": 164,
    "start_time": "2025-02-10T06:18:22.353Z"
   },
   {
    "duration": 3,
    "start_time": "2025-02-10T06:18:22.519Z"
   },
   {
    "duration": 187,
    "start_time": "2025-02-10T06:18:22.523Z"
   },
   {
    "duration": 123,
    "start_time": "2025-02-10T06:18:22.712Z"
   },
   {
    "duration": 2799,
    "start_time": "2025-02-10T06:18:22.837Z"
   },
   {
    "duration": 7840,
    "start_time": "2025-02-10T06:18:25.637Z"
   },
   {
    "duration": 592,
    "start_time": "2025-02-10T06:18:33.479Z"
   },
   {
    "duration": 9673,
    "start_time": "2025-02-10T06:18:34.073Z"
   },
   {
    "duration": 15,
    "start_time": "2025-02-10T06:18:43.748Z"
   },
   {
    "duration": 3,
    "start_time": "2025-02-10T06:18:43.765Z"
   },
   {
    "duration": 6622,
    "start_time": "2025-02-10T06:18:43.770Z"
   },
   {
    "duration": 271,
    "start_time": "2025-02-10T06:18:50.394Z"
   },
   {
    "duration": 6871,
    "start_time": "2025-02-10T06:18:50.666Z"
   },
   {
    "duration": 97,
    "start_time": "2025-02-10T06:18:57.540Z"
   },
   {
    "duration": 223,
    "start_time": "2025-02-10T06:18:57.639Z"
   },
   {
    "duration": 5,
    "start_time": "2025-02-10T06:18:57.863Z"
   },
   {
    "duration": 8,
    "start_time": "2025-02-10T06:18:57.870Z"
   },
   {
    "duration": 13907,
    "start_time": "2025-02-10T06:20:10.608Z"
   },
   {
    "duration": 4,
    "start_time": "2025-02-10T06:20:24.517Z"
   },
   {
    "duration": 1073,
    "start_time": "2025-02-10T06:20:24.523Z"
   },
   {
    "duration": 171,
    "start_time": "2025-02-10T06:20:25.598Z"
   },
   {
    "duration": 194,
    "start_time": "2025-02-10T06:20:25.772Z"
   },
   {
    "duration": 3,
    "start_time": "2025-02-10T06:20:25.968Z"
   },
   {
    "duration": 225,
    "start_time": "2025-02-10T06:20:25.973Z"
   },
   {
    "duration": 161,
    "start_time": "2025-02-10T06:20:26.201Z"
   },
   {
    "duration": 2969,
    "start_time": "2025-02-10T06:20:26.364Z"
   },
   {
    "duration": 7659,
    "start_time": "2025-02-10T06:20:29.334Z"
   },
   {
    "duration": 528,
    "start_time": "2025-02-10T06:20:36.995Z"
   },
   {
    "duration": 9058,
    "start_time": "2025-02-10T06:20:37.524Z"
   },
   {
    "duration": 15,
    "start_time": "2025-02-10T06:20:46.584Z"
   },
   {
    "duration": 3,
    "start_time": "2025-02-10T06:20:46.602Z"
   },
   {
    "duration": 6632,
    "start_time": "2025-02-10T06:20:46.606Z"
   },
   {
    "duration": 273,
    "start_time": "2025-02-10T06:20:53.240Z"
   },
   {
    "duration": 7032,
    "start_time": "2025-02-10T06:20:53.515Z"
   },
   {
    "duration": 95,
    "start_time": "2025-02-10T06:21:00.560Z"
   },
   {
    "duration": 219,
    "start_time": "2025-02-10T06:21:00.660Z"
   },
   {
    "duration": 4,
    "start_time": "2025-02-10T06:21:00.881Z"
   },
   {
    "duration": 13,
    "start_time": "2025-02-10T06:21:00.886Z"
   },
   {
    "duration": 14696,
    "start_time": "2025-02-10T06:21:19.492Z"
   },
   {
    "duration": 4,
    "start_time": "2025-02-10T06:21:34.190Z"
   },
   {
    "duration": 1155,
    "start_time": "2025-02-10T06:21:34.196Z"
   },
   {
    "duration": 188,
    "start_time": "2025-02-10T06:21:35.353Z"
   },
   {
    "duration": 206,
    "start_time": "2025-02-10T06:21:35.544Z"
   },
   {
    "duration": 10,
    "start_time": "2025-02-10T06:21:35.752Z"
   },
   {
    "duration": 222,
    "start_time": "2025-02-10T06:21:35.764Z"
   },
   {
    "duration": 160,
    "start_time": "2025-02-10T06:21:35.988Z"
   },
   {
    "duration": 3117,
    "start_time": "2025-02-10T06:21:36.149Z"
   },
   {
    "duration": 8521,
    "start_time": "2025-02-10T06:21:39.268Z"
   },
   {
    "duration": 635,
    "start_time": "2025-02-10T06:21:47.791Z"
   },
   {
    "duration": 9586,
    "start_time": "2025-02-10T06:21:48.428Z"
   },
   {
    "duration": 17,
    "start_time": "2025-02-10T06:21:58.015Z"
   },
   {
    "duration": 2,
    "start_time": "2025-02-10T06:21:58.035Z"
   },
   {
    "duration": 6652,
    "start_time": "2025-02-10T06:21:58.038Z"
   },
   {
    "duration": 274,
    "start_time": "2025-02-10T06:22:04.692Z"
   },
   {
    "duration": 7008,
    "start_time": "2025-02-10T06:22:04.967Z"
   },
   {
    "duration": 101,
    "start_time": "2025-02-10T06:22:11.977Z"
   },
   {
    "duration": 226,
    "start_time": "2025-02-10T06:22:12.079Z"
   },
   {
    "duration": 5,
    "start_time": "2025-02-10T06:22:12.307Z"
   },
   {
    "duration": 9,
    "start_time": "2025-02-10T06:22:12.314Z"
   },
   {
    "duration": 13633,
    "start_time": "2025-02-10T06:24:13.725Z"
   },
   {
    "duration": 3,
    "start_time": "2025-02-10T06:24:27.360Z"
   },
   {
    "duration": 991,
    "start_time": "2025-02-10T06:24:27.365Z"
   },
   {
    "duration": 180,
    "start_time": "2025-02-10T06:24:28.358Z"
   },
   {
    "duration": 190,
    "start_time": "2025-02-10T06:24:28.540Z"
   },
   {
    "duration": 3,
    "start_time": "2025-02-10T06:24:28.731Z"
   },
   {
    "duration": 214,
    "start_time": "2025-02-10T06:24:28.736Z"
   },
   {
    "duration": 156,
    "start_time": "2025-02-10T06:24:28.951Z"
   },
   {
    "duration": 3068,
    "start_time": "2025-02-10T06:24:29.109Z"
   },
   {
    "duration": 8195,
    "start_time": "2025-02-10T06:24:32.179Z"
   },
   {
    "duration": 593,
    "start_time": "2025-02-10T06:24:40.376Z"
   },
   {
    "duration": 9827,
    "start_time": "2025-02-10T06:24:40.971Z"
   },
   {
    "duration": 16,
    "start_time": "2025-02-10T06:24:50.800Z"
   },
   {
    "duration": 3,
    "start_time": "2025-02-10T06:24:50.819Z"
   },
   {
    "duration": 7076,
    "start_time": "2025-02-10T06:24:50.823Z"
   },
   {
    "duration": 302,
    "start_time": "2025-02-10T06:24:57.901Z"
   },
   {
    "duration": 7810,
    "start_time": "2025-02-10T06:24:58.204Z"
   },
   {
    "duration": 114,
    "start_time": "2025-02-10T06:25:06.016Z"
   },
   {
    "duration": 240,
    "start_time": "2025-02-10T06:25:06.132Z"
   },
   {
    "duration": 5,
    "start_time": "2025-02-10T06:25:06.373Z"
   },
   {
    "duration": 75,
    "start_time": "2025-02-10T06:25:06.379Z"
   },
   {
    "duration": 12739,
    "start_time": "2025-02-10T06:28:19.515Z"
   },
   {
    "duration": 3,
    "start_time": "2025-02-10T06:28:32.256Z"
   },
   {
    "duration": 927,
    "start_time": "2025-02-10T06:28:32.261Z"
   },
   {
    "duration": 177,
    "start_time": "2025-02-10T06:28:33.190Z"
   },
   {
    "duration": 175,
    "start_time": "2025-02-10T06:28:33.370Z"
   },
   {
    "duration": 3,
    "start_time": "2025-02-10T06:28:33.546Z"
   },
   {
    "duration": 216,
    "start_time": "2025-02-10T06:28:33.550Z"
   },
   {
    "duration": 144,
    "start_time": "2025-02-10T06:28:33.768Z"
   },
   {
    "duration": 2916,
    "start_time": "2025-02-10T06:28:33.915Z"
   },
   {
    "duration": 7907,
    "start_time": "2025-02-10T06:28:36.833Z"
   },
   {
    "duration": 560,
    "start_time": "2025-02-10T06:28:44.742Z"
   },
   {
    "duration": 9442,
    "start_time": "2025-02-10T06:28:45.304Z"
   },
   {
    "duration": 18,
    "start_time": "2025-02-10T06:28:54.747Z"
   },
   {
    "duration": 3,
    "start_time": "2025-02-10T06:28:54.767Z"
   },
   {
    "duration": 6955,
    "start_time": "2025-02-10T06:28:54.771Z"
   },
   {
    "duration": 283,
    "start_time": "2025-02-10T06:29:01.728Z"
   },
   {
    "duration": 7377,
    "start_time": "2025-02-10T06:29:02.013Z"
   },
   {
    "duration": 109,
    "start_time": "2025-02-10T06:29:09.392Z"
   },
   {
    "duration": 344,
    "start_time": "2025-02-10T06:29:09.503Z"
   },
   {
    "duration": 0,
    "start_time": "2025-02-10T06:29:09.849Z"
   },
   {
    "duration": 0,
    "start_time": "2025-02-10T06:29:09.850Z"
   },
   {
    "duration": 0,
    "start_time": "2025-02-10T06:29:09.861Z"
   },
   {
    "duration": 0,
    "start_time": "2025-02-10T06:29:09.862Z"
   },
   {
    "duration": 0,
    "start_time": "2025-02-10T06:29:09.863Z"
   },
   {
    "duration": 0,
    "start_time": "2025-02-10T06:29:09.865Z"
   },
   {
    "duration": 0,
    "start_time": "2025-02-10T06:29:09.866Z"
   },
   {
    "duration": 212,
    "start_time": "2025-02-10T06:30:00.574Z"
   },
   {
    "duration": 4,
    "start_time": "2025-02-10T06:30:01.783Z"
   },
   {
    "duration": 5,
    "start_time": "2025-02-10T06:30:05.054Z"
   },
   {
    "duration": 682,
    "start_time": "2025-02-10T06:30:05.964Z"
   },
   {
    "duration": 4,
    "start_time": "2025-02-10T06:31:20.872Z"
   },
   {
    "duration": 335489,
    "start_time": "2025-02-10T06:31:21.486Z"
   },
   {
    "duration": 9,
    "start_time": "2025-02-10T06:36:56.976Z"
   },
   {
    "duration": 10780,
    "start_time": "2025-02-10T06:37:01.480Z"
   },
   {
    "duration": 4,
    "start_time": "2025-02-10T06:37:12.263Z"
   },
   {
    "duration": 833,
    "start_time": "2025-02-10T06:37:12.269Z"
   },
   {
    "duration": 172,
    "start_time": "2025-02-10T06:37:13.104Z"
   },
   {
    "duration": 158,
    "start_time": "2025-02-10T06:37:13.278Z"
   },
   {
    "duration": 2,
    "start_time": "2025-02-10T06:37:13.438Z"
   },
   {
    "duration": 198,
    "start_time": "2025-02-10T06:37:13.441Z"
   },
   {
    "duration": 142,
    "start_time": "2025-02-10T06:37:13.641Z"
   },
   {
    "duration": 3029,
    "start_time": "2025-02-10T06:37:13.785Z"
   },
   {
    "duration": 7980,
    "start_time": "2025-02-10T06:37:16.815Z"
   },
   {
    "duration": 509,
    "start_time": "2025-02-10T06:37:24.797Z"
   },
   {
    "duration": 9545,
    "start_time": "2025-02-10T06:37:25.308Z"
   },
   {
    "duration": 30,
    "start_time": "2025-02-10T06:37:34.855Z"
   },
   {
    "duration": 2,
    "start_time": "2025-02-10T06:37:34.889Z"
   },
   {
    "duration": 6873,
    "start_time": "2025-02-10T06:37:34.893Z"
   },
   {
    "duration": 280,
    "start_time": "2025-02-10T06:37:41.769Z"
   },
   {
    "duration": 7258,
    "start_time": "2025-02-10T06:37:42.050Z"
   },
   {
    "duration": 107,
    "start_time": "2025-02-10T06:37:49.309Z"
   },
   {
    "duration": 224,
    "start_time": "2025-02-10T06:37:49.418Z"
   },
   {
    "duration": 5,
    "start_time": "2025-02-10T06:37:49.644Z"
   },
   {
    "duration": 15,
    "start_time": "2025-02-10T06:37:49.650Z"
   },
   {
    "duration": 13086,
    "start_time": "2025-02-10T06:39:20.480Z"
   },
   {
    "duration": 4,
    "start_time": "2025-02-10T06:39:33.569Z"
   },
   {
    "duration": 1004,
    "start_time": "2025-02-10T06:39:33.575Z"
   },
   {
    "duration": 164,
    "start_time": "2025-02-10T06:39:34.581Z"
   },
   {
    "duration": 168,
    "start_time": "2025-02-10T06:39:34.748Z"
   },
   {
    "duration": 3,
    "start_time": "2025-02-10T06:39:34.918Z"
   },
   {
    "duration": 208,
    "start_time": "2025-02-10T06:39:34.923Z"
   },
   {
    "duration": 142,
    "start_time": "2025-02-10T06:39:35.133Z"
   },
   {
    "duration": 2978,
    "start_time": "2025-02-10T06:39:35.277Z"
   },
   {
    "duration": 8367,
    "start_time": "2025-02-10T06:39:38.261Z"
   },
   {
    "duration": 569,
    "start_time": "2025-02-10T06:39:46.630Z"
   },
   {
    "duration": 9744,
    "start_time": "2025-02-10T06:39:47.201Z"
   },
   {
    "duration": 16,
    "start_time": "2025-02-10T06:39:56.947Z"
   },
   {
    "duration": 2,
    "start_time": "2025-02-10T06:39:56.966Z"
   },
   {
    "duration": 7009,
    "start_time": "2025-02-10T06:39:56.970Z"
   },
   {
    "duration": 286,
    "start_time": "2025-02-10T06:40:03.981Z"
   },
   {
    "duration": 7302,
    "start_time": "2025-02-10T06:40:04.269Z"
   },
   {
    "duration": 121,
    "start_time": "2025-02-10T06:40:11.573Z"
   },
   {
    "duration": 225,
    "start_time": "2025-02-10T06:40:11.696Z"
   },
   {
    "duration": 5,
    "start_time": "2025-02-10T06:40:11.923Z"
   },
   {
    "duration": 53,
    "start_time": "2025-02-10T06:40:11.930Z"
   },
   {
    "duration": 0,
    "start_time": "2025-02-10T06:46:06.888Z"
   },
   {
    "duration": 0,
    "start_time": "2025-02-10T06:46:06.889Z"
   },
   {
    "duration": 0,
    "start_time": "2025-02-10T06:46:06.890Z"
   },
   {
    "duration": 1,
    "start_time": "2025-02-10T06:46:06.891Z"
   },
   {
    "duration": 0,
    "start_time": "2025-02-10T06:46:06.892Z"
   },
   {
    "duration": 0,
    "start_time": "2025-02-10T06:46:06.893Z"
   },
   {
    "duration": 0,
    "start_time": "2025-02-10T06:46:06.895Z"
   },
   {
    "duration": 0,
    "start_time": "2025-02-10T06:46:06.896Z"
   },
   {
    "duration": 0,
    "start_time": "2025-02-10T06:46:06.897Z"
   },
   {
    "duration": 0,
    "start_time": "2025-02-10T06:46:07.013Z"
   },
   {
    "duration": 0,
    "start_time": "2025-02-10T06:46:07.015Z"
   },
   {
    "duration": 0,
    "start_time": "2025-02-10T06:46:07.017Z"
   },
   {
    "duration": 0,
    "start_time": "2025-02-10T06:46:07.018Z"
   },
   {
    "duration": 0,
    "start_time": "2025-02-10T06:46:07.020Z"
   },
   {
    "duration": 0,
    "start_time": "2025-02-10T06:46:07.022Z"
   },
   {
    "duration": 0,
    "start_time": "2025-02-10T06:46:07.024Z"
   },
   {
    "duration": 0,
    "start_time": "2025-02-10T06:46:07.026Z"
   },
   {
    "duration": 0,
    "start_time": "2025-02-10T06:46:07.027Z"
   },
   {
    "duration": 0,
    "start_time": "2025-02-10T06:46:07.029Z"
   },
   {
    "duration": 0,
    "start_time": "2025-02-10T06:46:07.030Z"
   },
   {
    "duration": 0,
    "start_time": "2025-02-10T06:46:07.061Z"
   },
   {
    "duration": 0,
    "start_time": "2025-02-10T06:46:07.063Z"
   },
   {
    "duration": 0,
    "start_time": "2025-02-10T06:46:07.064Z"
   },
   {
    "duration": 0,
    "start_time": "2025-02-10T06:46:07.065Z"
   },
   {
    "duration": 0,
    "start_time": "2025-02-10T06:46:07.067Z"
   },
   {
    "duration": 0,
    "start_time": "2025-02-10T06:46:07.068Z"
   },
   {
    "duration": 11178,
    "start_time": "2025-02-10T06:46:19.990Z"
   },
   {
    "duration": 4,
    "start_time": "2025-02-10T06:46:31.171Z"
   },
   {
    "duration": 896,
    "start_time": "2025-02-10T06:46:31.178Z"
   },
   {
    "duration": 178,
    "start_time": "2025-02-10T06:46:32.076Z"
   },
   {
    "duration": 140,
    "start_time": "2025-02-10T06:46:32.261Z"
   },
   {
    "duration": 3,
    "start_time": "2025-02-10T06:46:32.404Z"
   },
   {
    "duration": 192,
    "start_time": "2025-02-10T06:46:32.409Z"
   },
   {
    "duration": 149,
    "start_time": "2025-02-10T06:46:32.603Z"
   },
   {
    "duration": 2933,
    "start_time": "2025-02-10T06:46:32.754Z"
   },
   {
    "duration": 8700,
    "start_time": "2025-02-10T06:46:35.688Z"
   },
   {
    "duration": 499,
    "start_time": "2025-02-10T06:46:44.390Z"
   },
   {
    "duration": 9404,
    "start_time": "2025-02-10T06:46:44.891Z"
   },
   {
    "duration": 27,
    "start_time": "2025-02-10T06:46:54.297Z"
   },
   {
    "duration": 2,
    "start_time": "2025-02-10T06:46:54.327Z"
   },
   {
    "duration": 6766,
    "start_time": "2025-02-10T06:46:54.330Z"
   },
   {
    "duration": 321,
    "start_time": "2025-02-10T06:47:01.098Z"
   },
   {
    "duration": 7260,
    "start_time": "2025-02-10T06:47:01.421Z"
   },
   {
    "duration": 125,
    "start_time": "2025-02-10T06:47:08.683Z"
   },
   {
    "duration": 501,
    "start_time": "2025-02-10T06:47:08.809Z"
   },
   {
    "duration": 5,
    "start_time": "2025-02-10T06:47:09.311Z"
   },
   {
    "duration": 48,
    "start_time": "2025-02-10T06:47:09.317Z"
   },
   {
    "duration": 70,
    "start_time": "2025-02-10T06:49:32.687Z"
   },
   {
    "duration": 10,
    "start_time": "2025-02-10T06:49:33.258Z"
   },
   {
    "duration": 13458,
    "start_time": "2025-02-10T06:49:41.662Z"
   },
   {
    "duration": 3,
    "start_time": "2025-02-10T06:49:55.122Z"
   },
   {
    "duration": 996,
    "start_time": "2025-02-10T06:49:55.126Z"
   },
   {
    "duration": 210,
    "start_time": "2025-02-10T06:49:56.125Z"
   },
   {
    "duration": 180,
    "start_time": "2025-02-10T06:49:56.338Z"
   },
   {
    "duration": 3,
    "start_time": "2025-02-10T06:49:56.520Z"
   },
   {
    "duration": 213,
    "start_time": "2025-02-10T06:49:56.525Z"
   },
   {
    "duration": 141,
    "start_time": "2025-02-10T06:49:56.740Z"
   },
   {
    "duration": 3120,
    "start_time": "2025-02-10T06:49:56.883Z"
   },
   {
    "duration": 8264,
    "start_time": "2025-02-10T06:50:00.005Z"
   },
   {
    "duration": 567,
    "start_time": "2025-02-10T06:50:08.271Z"
   },
   {
    "duration": 9810,
    "start_time": "2025-02-10T06:50:08.840Z"
   },
   {
    "duration": 20,
    "start_time": "2025-02-10T06:50:18.652Z"
   },
   {
    "duration": 2,
    "start_time": "2025-02-10T06:50:18.676Z"
   },
   {
    "duration": 7101,
    "start_time": "2025-02-10T06:50:18.679Z"
   },
   {
    "duration": 294,
    "start_time": "2025-02-10T06:50:25.781Z"
   },
   {
    "duration": 7606,
    "start_time": "2025-02-10T06:50:26.078Z"
   },
   {
    "duration": 110,
    "start_time": "2025-02-10T06:50:33.686Z"
   },
   {
    "duration": 107,
    "start_time": "2025-02-10T06:51:18.830Z"
   },
   {
    "duration": 216,
    "start_time": "2025-02-10T06:51:19.958Z"
   },
   {
    "duration": 4,
    "start_time": "2025-02-10T06:51:27.945Z"
   },
   {
    "duration": 4,
    "start_time": "2025-02-10T06:51:31.727Z"
   },
   {
    "duration": 183485,
    "start_time": "2025-02-10T06:51:32.580Z"
   },
   {
    "duration": 10587,
    "start_time": "2025-02-10T07:07:57.378Z"
   },
   {
    "duration": 4,
    "start_time": "2025-02-10T07:08:07.967Z"
   },
   {
    "duration": 890,
    "start_time": "2025-02-10T07:08:07.972Z"
   },
   {
    "duration": 167,
    "start_time": "2025-02-10T07:08:08.865Z"
   },
   {
    "duration": 160,
    "start_time": "2025-02-10T07:08:09.034Z"
   },
   {
    "duration": 2,
    "start_time": "2025-02-10T07:08:09.196Z"
   },
   {
    "duration": 193,
    "start_time": "2025-02-10T07:08:09.200Z"
   },
   {
    "duration": 134,
    "start_time": "2025-02-10T07:08:09.394Z"
   },
   {
    "duration": 2917,
    "start_time": "2025-02-10T07:08:09.530Z"
   },
   {
    "duration": 7630,
    "start_time": "2025-02-10T07:08:12.450Z"
   },
   {
    "duration": 501,
    "start_time": "2025-02-10T07:08:20.082Z"
   },
   {
    "duration": 8835,
    "start_time": "2025-02-10T07:08:20.584Z"
   },
   {
    "duration": 41,
    "start_time": "2025-02-10T07:08:29.420Z"
   },
   {
    "duration": 2,
    "start_time": "2025-02-10T07:08:29.463Z"
   },
   {
    "duration": 6455,
    "start_time": "2025-02-10T07:08:29.467Z"
   },
   {
    "duration": 269,
    "start_time": "2025-02-10T07:08:35.924Z"
   },
   {
    "duration": 6728,
    "start_time": "2025-02-10T07:08:36.195Z"
   },
   {
    "duration": 128,
    "start_time": "2025-02-10T07:08:42.924Z"
   },
   {
    "duration": 211,
    "start_time": "2025-02-10T07:08:43.054Z"
   },
   {
    "duration": 4,
    "start_time": "2025-02-10T07:08:43.266Z"
   },
   {
    "duration": 9,
    "start_time": "2025-02-10T07:08:43.272Z"
   },
   {
    "duration": 167622,
    "start_time": "2025-02-10T07:08:43.283Z"
   },
   {
    "duration": 9,
    "start_time": "2025-02-10T07:11:30.908Z"
   },
   {
    "duration": 128,
    "start_time": "2025-02-10T07:11:30.919Z"
   },
   {
    "duration": 0,
    "start_time": "2025-02-10T07:11:31.049Z"
   },
   {
    "duration": 0,
    "start_time": "2025-02-10T07:11:31.051Z"
   },
   {
    "duration": 12,
    "start_time": "2025-02-10T07:13:36.768Z"
   },
   {
    "duration": 11954,
    "start_time": "2025-02-10T07:13:52.025Z"
   },
   {
    "duration": 134148,
    "start_time": "2025-02-10T07:14:09.603Z"
   },
   {
    "duration": 210,
    "start_time": "2025-02-10T07:16:41.407Z"
   },
   {
    "duration": 3,
    "start_time": "2025-02-10T07:16:41.981Z"
   },
   {
    "duration": 5,
    "start_time": "2025-02-10T07:16:46.626Z"
   },
   {
    "duration": 57,
    "start_time": "2025-02-10T07:19:28.958Z"
   },
   {
    "duration": 11933,
    "start_time": "2025-02-10T07:19:37.867Z"
   },
   {
    "duration": 4,
    "start_time": "2025-02-10T07:19:49.802Z"
   },
   {
    "duration": 985,
    "start_time": "2025-02-10T07:19:49.807Z"
   },
   {
    "duration": 178,
    "start_time": "2025-02-10T07:19:50.793Z"
   },
   {
    "duration": 230,
    "start_time": "2025-02-10T07:19:50.974Z"
   },
   {
    "duration": 2,
    "start_time": "2025-02-10T07:19:51.206Z"
   },
   {
    "duration": 204,
    "start_time": "2025-02-10T07:19:51.210Z"
   },
   {
    "duration": 139,
    "start_time": "2025-02-10T07:19:51.416Z"
   },
   {
    "duration": 3044,
    "start_time": "2025-02-10T07:19:51.562Z"
   },
   {
    "duration": 0,
    "start_time": "2025-02-10T07:20:27.986Z"
   },
   {
    "duration": 0,
    "start_time": "2025-02-10T07:20:27.988Z"
   },
   {
    "duration": 0,
    "start_time": "2025-02-10T07:20:27.990Z"
   },
   {
    "duration": 0,
    "start_time": "2025-02-10T07:20:27.992Z"
   },
   {
    "duration": 0,
    "start_time": "2025-02-10T07:20:27.993Z"
   },
   {
    "duration": 0,
    "start_time": "2025-02-10T07:20:27.995Z"
   },
   {
    "duration": 0,
    "start_time": "2025-02-10T07:20:27.996Z"
   },
   {
    "duration": 0,
    "start_time": "2025-02-10T07:20:28.000Z"
   },
   {
    "duration": 0,
    "start_time": "2025-02-10T07:20:28.001Z"
   },
   {
    "duration": 0,
    "start_time": "2025-02-10T07:20:28.003Z"
   },
   {
    "duration": 0,
    "start_time": "2025-02-10T07:20:28.005Z"
   },
   {
    "duration": 0,
    "start_time": "2025-02-10T07:20:28.006Z"
   },
   {
    "duration": 0,
    "start_time": "2025-02-10T07:20:28.008Z"
   },
   {
    "duration": 0,
    "start_time": "2025-02-10T07:20:28.010Z"
   },
   {
    "duration": 0,
    "start_time": "2025-02-10T07:20:28.012Z"
   },
   {
    "duration": 0,
    "start_time": "2025-02-10T07:20:28.013Z"
   },
   {
    "duration": 0,
    "start_time": "2025-02-10T07:20:28.014Z"
   },
   {
    "duration": 0,
    "start_time": "2025-02-10T07:20:28.015Z"
   },
   {
    "duration": 0,
    "start_time": "2025-02-10T07:20:28.061Z"
   },
   {
    "duration": 0,
    "start_time": "2025-02-10T07:20:28.062Z"
   },
   {
    "duration": 0,
    "start_time": "2025-02-10T07:20:28.064Z"
   },
   {
    "duration": 0,
    "start_time": "2025-02-10T07:20:28.065Z"
   },
   {
    "duration": 0,
    "start_time": "2025-02-10T07:20:28.066Z"
   },
   {
    "duration": 0,
    "start_time": "2025-02-10T07:20:28.067Z"
   },
   {
    "duration": 0,
    "start_time": "2025-02-10T07:20:28.068Z"
   },
   {
    "duration": 0,
    "start_time": "2025-02-10T07:20:28.069Z"
   },
   {
    "duration": 10937,
    "start_time": "2025-02-10T07:20:50.921Z"
   },
   {
    "duration": 3,
    "start_time": "2025-02-10T07:21:01.861Z"
   },
   {
    "duration": 905,
    "start_time": "2025-02-10T07:21:01.866Z"
   },
   {
    "duration": 173,
    "start_time": "2025-02-10T07:21:02.773Z"
   },
   {
    "duration": 133,
    "start_time": "2025-02-10T07:21:02.948Z"
   },
   {
    "duration": 3,
    "start_time": "2025-02-10T07:21:03.083Z"
   },
   {
    "duration": 275,
    "start_time": "2025-02-10T07:21:03.087Z"
   },
   {
    "duration": 134,
    "start_time": "2025-02-10T07:21:03.363Z"
   },
   {
    "duration": 3019,
    "start_time": "2025-02-10T07:21:03.498Z"
   },
   {
    "duration": 8061,
    "start_time": "2025-02-10T07:21:06.519Z"
   },
   {
    "duration": 505,
    "start_time": "2025-02-10T07:21:14.582Z"
   },
   {
    "duration": 9438,
    "start_time": "2025-02-10T07:21:15.089Z"
   },
   {
    "duration": 40,
    "start_time": "2025-02-10T07:21:24.528Z"
   },
   {
    "duration": 3,
    "start_time": "2025-02-10T07:21:24.571Z"
   },
   {
    "duration": 6867,
    "start_time": "2025-02-10T07:21:24.575Z"
   },
   {
    "duration": 308,
    "start_time": "2025-02-10T07:21:31.444Z"
   },
   {
    "duration": 7367,
    "start_time": "2025-02-10T07:21:31.754Z"
   },
   {
    "duration": 118,
    "start_time": "2025-02-10T07:21:50.281Z"
   },
   {
    "duration": 232,
    "start_time": "2025-02-10T07:21:51.026Z"
   },
   {
    "duration": 220,
    "start_time": "2025-02-10T07:22:05.615Z"
   },
   {
    "duration": 224,
    "start_time": "2025-02-10T07:22:21.754Z"
   },
   {
    "duration": 3,
    "start_time": "2025-02-10T07:22:23.556Z"
   },
   {
    "duration": 5,
    "start_time": "2025-02-10T07:22:27.571Z"
   },
   {
    "duration": 13655,
    "start_time": "2025-02-10T07:31:38.397Z"
   },
   {
    "duration": 3,
    "start_time": "2025-02-10T07:31:52.054Z"
   },
   {
    "duration": 983,
    "start_time": "2025-02-10T07:31:52.058Z"
   },
   {
    "duration": 178,
    "start_time": "2025-02-10T07:31:53.043Z"
   },
   {
    "duration": 174,
    "start_time": "2025-02-10T07:31:53.224Z"
   },
   {
    "duration": 3,
    "start_time": "2025-02-10T07:31:53.400Z"
   },
   {
    "duration": 194,
    "start_time": "2025-02-10T07:31:53.405Z"
   },
   {
    "duration": 135,
    "start_time": "2025-02-10T07:31:53.601Z"
   },
   {
    "duration": 3023,
    "start_time": "2025-02-10T07:31:53.738Z"
   },
   {
    "duration": 7955,
    "start_time": "2025-02-10T07:31:56.762Z"
   },
   {
    "duration": 544,
    "start_time": "2025-02-10T07:32:04.719Z"
   },
   {
    "duration": 11821,
    "start_time": "2025-02-10T07:32:05.265Z"
   },
   {
    "duration": 16,
    "start_time": "2025-02-10T07:32:17.087Z"
   },
   {
    "duration": 61,
    "start_time": "2025-02-10T07:32:17.106Z"
   },
   {
    "duration": 501,
    "start_time": "2025-02-10T07:32:17.169Z"
   },
   {
    "duration": 0,
    "start_time": "2025-02-10T07:32:17.672Z"
   },
   {
    "duration": 0,
    "start_time": "2025-02-10T07:32:17.673Z"
   },
   {
    "duration": 0,
    "start_time": "2025-02-10T07:32:17.675Z"
   },
   {
    "duration": 0,
    "start_time": "2025-02-10T07:32:17.676Z"
   },
   {
    "duration": 0,
    "start_time": "2025-02-10T07:32:17.677Z"
   },
   {
    "duration": 0,
    "start_time": "2025-02-10T07:32:17.678Z"
   },
   {
    "duration": 0,
    "start_time": "2025-02-10T07:32:17.679Z"
   },
   {
    "duration": 0,
    "start_time": "2025-02-10T07:32:17.680Z"
   },
   {
    "duration": 0,
    "start_time": "2025-02-10T07:32:17.681Z"
   },
   {
    "duration": 0,
    "start_time": "2025-02-10T07:32:17.682Z"
   },
   {
    "duration": 0,
    "start_time": "2025-02-10T07:32:17.683Z"
   },
   {
    "duration": 10590,
    "start_time": "2025-02-10T07:32:21.185Z"
   },
   {
    "duration": 4,
    "start_time": "2025-02-10T07:32:31.778Z"
   },
   {
    "duration": 919,
    "start_time": "2025-02-10T07:32:31.783Z"
   },
   {
    "duration": 177,
    "start_time": "2025-02-10T07:32:32.703Z"
   },
   {
    "duration": 130,
    "start_time": "2025-02-10T07:32:32.883Z"
   },
   {
    "duration": 3,
    "start_time": "2025-02-10T07:32:33.015Z"
   },
   {
    "duration": 177,
    "start_time": "2025-02-10T07:32:33.020Z"
   },
   {
    "duration": 151,
    "start_time": "2025-02-10T07:32:33.199Z"
   },
   {
    "duration": 3019,
    "start_time": "2025-02-10T07:32:33.360Z"
   },
   {
    "duration": 8005,
    "start_time": "2025-02-10T07:32:36.381Z"
   },
   {
    "duration": 474,
    "start_time": "2025-02-10T07:32:44.387Z"
   },
   {
    "duration": 9412,
    "start_time": "2025-02-10T07:32:44.863Z"
   },
   {
    "duration": 15,
    "start_time": "2025-02-10T07:32:54.277Z"
   },
   {
    "duration": 2,
    "start_time": "2025-02-10T07:32:54.294Z"
   },
   {
    "duration": 6731,
    "start_time": "2025-02-10T07:32:54.298Z"
   },
   {
    "duration": 262,
    "start_time": "2025-02-10T07:33:01.030Z"
   },
   {
    "duration": 7204,
    "start_time": "2025-02-10T07:33:01.294Z"
   },
   {
    "duration": 105,
    "start_time": "2025-02-10T07:33:08.500Z"
   },
   {
    "duration": 218,
    "start_time": "2025-02-10T07:33:08.606Z"
   },
   {
    "duration": 3,
    "start_time": "2025-02-10T07:33:08.826Z"
   },
   {
    "duration": 7,
    "start_time": "2025-02-10T07:33:08.831Z"
   },
   {
    "duration": 175648,
    "start_time": "2025-02-10T07:33:08.839Z"
   },
   {
    "duration": 8,
    "start_time": "2025-02-10T07:36:04.489Z"
   },
   {
    "duration": 24,
    "start_time": "2025-02-10T07:36:04.498Z"
   },
   {
    "duration": 0,
    "start_time": "2025-02-10T07:36:04.524Z"
   },
   {
    "duration": 0,
    "start_time": "2025-02-10T07:36:04.525Z"
   },
   {
    "duration": 175158,
    "start_time": "2025-02-10T07:37:05.594Z"
   },
   {
    "duration": 2764,
    "start_time": "2025-02-10T07:40:00.762Z"
   },
   {
    "duration": 8,
    "start_time": "2025-02-10T07:40:03.528Z"
   },
   {
    "duration": 11928,
    "start_time": "2025-02-10T07:41:47.068Z"
   },
   {
    "duration": 4,
    "start_time": "2025-02-10T07:41:58.998Z"
   },
   {
    "duration": 873,
    "start_time": "2025-02-10T07:41:59.003Z"
   },
   {
    "duration": 168,
    "start_time": "2025-02-10T07:41:59.878Z"
   },
   {
    "duration": 172,
    "start_time": "2025-02-10T07:42:00.048Z"
   },
   {
    "duration": 3,
    "start_time": "2025-02-10T07:42:00.221Z"
   },
   {
    "duration": 242,
    "start_time": "2025-02-10T07:42:00.225Z"
   },
   {
    "duration": 134,
    "start_time": "2025-02-10T07:42:00.469Z"
   },
   {
    "duration": 2957,
    "start_time": "2025-02-10T07:42:00.606Z"
   },
   {
    "duration": 8285,
    "start_time": "2025-02-10T07:42:03.566Z"
   },
   {
    "duration": 549,
    "start_time": "2025-02-10T07:42:11.853Z"
   },
   {
    "duration": 9338,
    "start_time": "2025-02-10T07:42:12.404Z"
   },
   {
    "duration": 15,
    "start_time": "2025-02-10T07:42:21.743Z"
   },
   {
    "duration": 27,
    "start_time": "2025-02-10T07:42:21.760Z"
   },
   {
    "duration": 6507,
    "start_time": "2025-02-10T07:42:21.789Z"
   },
   {
    "duration": 266,
    "start_time": "2025-02-10T07:42:28.298Z"
   },
   {
    "duration": 6766,
    "start_time": "2025-02-10T07:42:28.566Z"
   },
   {
    "duration": 108,
    "start_time": "2025-02-10T07:42:35.333Z"
   },
   {
    "duration": 209,
    "start_time": "2025-02-10T07:42:35.443Z"
   },
   {
    "duration": 8,
    "start_time": "2025-02-10T07:42:35.654Z"
   },
   {
    "duration": 7,
    "start_time": "2025-02-10T07:42:35.663Z"
   },
   {
    "duration": 162443,
    "start_time": "2025-02-10T07:42:35.672Z"
   },
   {
    "duration": 9,
    "start_time": "2025-02-10T07:45:18.116Z"
   },
   {
    "duration": 176955,
    "start_time": "2025-02-10T07:45:18.126Z"
   },
   {
    "duration": 2999,
    "start_time": "2025-02-10T07:48:15.083Z"
   },
   {
    "duration": 10,
    "start_time": "2025-02-10T07:48:18.084Z"
   }
  ],
  "kernelspec": {
   "display_name": "Python 3 (ipykernel)",
   "language": "python",
   "name": "python3"
  },
  "language_info": {
   "codemirror_mode": {
    "name": "ipython",
    "version": 3
   },
   "file_extension": ".py",
   "mimetype": "text/x-python",
   "name": "python",
   "nbconvert_exporter": "python",
   "pygments_lexer": "ipython3",
   "version": "3.9.5"
  },
  "toc": {
   "base_numbering": 1,
   "nav_menu": {},
   "number_sections": true,
   "sideBar": true,
   "skip_h1_title": true,
   "title_cell": "Table of Contents",
   "title_sidebar": "Contents",
   "toc_cell": false,
   "toc_position": {
    "height": "calc(100% - 180px)",
    "left": "10px",
    "top": "150px",
    "width": "371.188px"
   },
   "toc_section_display": true,
   "toc_window_display": true
  }
 },
 "nbformat": 4,
 "nbformat_minor": 2
}
