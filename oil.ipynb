{
 "cells": [
  {
   "cell_type": "markdown",
   "metadata": {},
   "source": [
    "Привет, меня зовут Артем. Сегодня я проверю твой проект.\n",
    "<br> Дальнейшее общение будет происходить на \"ты\" если это не вызывает никаких проблем.\n",
    "<br> Желательно реагировать на каждый мой комментарий ('исправил', 'не понятно как исправить ошибку', ...)\n",
    "<br> Пожалуйста, не удаляй комментарии ревьюера, так как они повышают качество повторного ревью.\n",
    "\n",
    "Комментарии будут в <font color='green'>зеленой</font>, <font color='blue'>синей</font> или <font color='red'>красной</font> рамках:\n",
    "\n",
    "<div class=\"alert alert-block alert-success\">\n",
    "<b>Успех:</b> Если все сделано отлично\n",
    "</div>\n",
    "\n",
    "<div class=\"alert alert-block alert-info\">\n",
    "<b>Совет: </b> Если можно немного улучшить\n",
    "</div>\n",
    "\n",
    "<div class=\"alert alert-block alert-danger\">\n",
    "<b>Ошибка:</b> Если требуются исправления. Работа не может быть принята с красными комментариями.\n",
    "</div>\n",
    "\n",
    "-------------------\n",
    "\n",
    "Будет очень хорошо, если ты будешь помечать свои действия следующим образом:\n",
    "<div class=\"alert alert-block alert-warning\">\n",
    "<b>Комментарий студента:</b> ...\n",
    "</div>\n",
    "\n",
    "<div class=\"alert alert-block alert-warning\">\n",
    "<b>Изменения:</b> Были внесены следующие изменения ...\n",
    "</div>\n",
    "\n",
    "### <font color='orange'>Общее впечатление</font>\n",
    "* Большое спасибо за проделанную работу. Видно, что приложено много усилий.\n",
    "* Выводы и рассуждения получились содержательными, их было интересно читать.\n",
    "* Радует, что тебе удалось разобраться с техникой бутстрапа.\n",
    "* Отлично, что доверительный интервал и риск убытков посчитаны верно.\n",
    "* Над этим проектом нужно будет еще немного поработать. Однако, изменения не должны занять много времени.\n",
    "* С радостью отвечу на твои вопросы, если они есть. Лучше всего их собрать в следующей ячейке. Жду новую версию проекта."
   ]
  },
  {
   "cell_type": "markdown",
   "metadata": {},
   "source": [
    "<div class=\"alert alert-block alert-warning\">\n",
    "Привет, Артём! Из вопросов, меня больше всего смутила мультиколлинеарность между признаками в датасете geo_data_1. Мы вроде как проходили, что это не есть хорошо и что-то нужно предпринимать, например, модифицировать/удалять признаки, однако в условии задачи сказано, что важны все признаки, отсюда у меня когнитивный диссонанс и не понятно, что делать.\n",
    "<br><br>\n",
    "В остальном, спасибо за обратную связь. Ridge я поменял на LinearRegression.\n",
    "</div>"
   ]
  },
  {
   "cell_type": "markdown",
   "metadata": {},
   "source": [
    "### <font color='orange'>Общее впечатление (ревью 2)</font>\n",
    "* После исправлений проект улучшился и теперь он может быть зачтен.\n",
    "* Нужно избавлять от мультиколлинеарности между признаками. Высокая корреляция между признаком и целевой переменной наоборот хорошо.\n",
    "* Удачи в дальнейшем обучении и следующих работах!"
   ]
  },
  {
   "cell_type": "markdown",
   "metadata": {},
   "source": [
    "**Выбор локации для скважины**"
   ]
  },
  {
   "cell_type": "markdown",
   "metadata": {},
   "source": [
    "Допустим, вы работаете в добывающей компании «ГлавРосГосНефть». Нужно решить, где бурить новую скважину.\n",
    "\n",
    "Вам предоставлены пробы нефти в трёх регионах: в каждом 10 000 месторождений, где измерили качество нефти и объём её запасов. Постройте модель машинного обучения, которая поможет определить регион, где добыча принесёт наибольшую прибыль. Проанализируйте возможную прибыль и риски техникой *Bootstrap.*\n",
    "\n",
    "Шаги для выбора локации:\n",
    "\n",
    "- В избранном регионе ищут месторождения, для каждого определяют значения признаков;\n",
    "- Строят модель и оценивают объём запасов;\n",
    "- Выбирают месторождения с самым высокими оценками значений. Количество месторождений зависит от бюджета компании и стоимости разработки одной скважины;\n",
    "- Прибыль равна суммарной прибыли отобранных месторождений."
   ]
  },
  {
   "cell_type": "markdown",
   "metadata": {},
   "source": [
    "# Описание проекта\n",
    "\n",
    "**Проект: Оценка прибыли и рисков при разработке нефтяных скважин**\n",
    "\n",
    "**Цель проекта:**  \n",
    "Разработка модели для предсказания объёма запасов нефти в новых скважинах и оценки прибыли от добычи в трёх различных регионах. Проект направлен на помощь компании «ГлавРосГосНефть» в оптимизации выбора региона для бурения новых скважин с минимизацией рисков и максимизацией прибыли.\n",
    "\n",
    "**Описание проекта:**  \n",
    "Компания «ГлавРосГосНефть» намерена разработать новые нефтяные скважины. Основная задача — построить модель, предсказывающую объём запасов нефти, чтобы выбрать оптимальный регион для разработки. Для каждого из трёх регионов нужно оценить среднюю прибыль, вероятность убытков и риск. Оценка рисков проводится с использованием техники Bootstrap. Итоговый выбор региона основывается на максимальной ожидаемой прибыли при условии, что вероятность убытков меньше 2.5%.\n",
    "\n",
    "**Описание данных:**  \n",
    "Для выполнения задачи используются три набора данных, каждый из которых содержит информацию по одному региону:\n",
    "\n",
    "- **id** — уникальный идентификатор скважины.\n",
    "- **f0, f1, f2** — признаки, характеризующие скважину (точное значение неизвестно, но они важны для предсказания).\n",
    "- **product** — объём запасов нефти в скважине (тыс. баррелей).\n",
    "\n",
    "**Этапы выполнения проекта:**\n",
    "\n",
    "**Задача 1: Построение модели для предсказания объёма запасов нефти**\n",
    "\n",
    "1. **Подготовка данных:**  \n",
    "   - Загрузка данных для трёх регионов.\n",
    "   - Проверка корректности данных (отсутствие пропусков и дубликатов).\n",
    "   - Разделение данных на обучающую и валидационную выборки (75:25).\n",
    "\n",
    "2. **Обучение модели:**  \n",
    "   - Обучение линейной регрессии для каждого региона.\n",
    "   - Оценка качества модели с использованием RMSE (корень среднеквадратичной ошибки).\n",
    "\n",
    "3. **Анализ результатов:**  \n",
    "   - Сравнение средней предсказанной величины запасов с фактической.\n",
    "   - Сравнение RMSE между регионами.\n",
    "\n",
    "**Задача 2: Подготовка к расчёту прибыли**\n",
    "\n",
    "1. **Определение ключевых параметров:**\n",
    "   - Бюджет на разработку скважин в регионе: 10 млрд рублей.\n",
    "   - Доход от одного барреля нефти: 450 рублей.\n",
    "   - Затраты на одну скважину: рассчитываются исходя из бюджета и количества разрабатываемых скважин.\n",
    "\n",
    "2. **Оценка достаточного объёма сырья:**\n",
    "   - Вычисление минимального объёма нефти, необходимого для безубыточной разработки.\n",
    "\n",
    "**Задача 3: Расчёт прибыли и выбор точек для разработки**\n",
    "\n",
    "1. **Случайная выборка:**  \n",
    "   - Для каждого региона случайно выбирается 500 точек.\n",
    "   \n",
    "2. **Выбор лучших скважин:**  \n",
    "   - Из 500 точек отбираются 200 с максимальными предсказанными объёмами нефти.\n",
    "\n",
    "3. **Расчёт прибыли:**  \n",
    "   - Для каждой из 200 лучших точек вычисляется прибыль по формуле:  \n",
    "     Прибыль = (объём нефти * доход за баррель) - затраты на бурение.\n",
    "\n",
    "**Задача 4: Оценка рисков и выбор региона**\n",
    "\n",
    "1. **Применение Bootstrap:**  \n",
    "   - Генерация 1000 выборок для каждого региона.\n",
    "   - Расчёт прибыли для каждой выборки.\n",
    "\n",
    "2. **Оценка рисков:**  \n",
    "   - Вычисление средней прибыли.\n",
    "   - Определение 95%-го доверительного интервала для прибыли.\n",
    "   - Оценка вероятности убытков (доля выборок с отрицательной прибылью).\n",
    "\n",
    "3. **Финальный выбор:**  \n",
    "   - Регион с наибольшей средней прибылью и вероятностью убытков менее 2.5% рекомендуется для разработки.\n",
    "\n",
    "**Условия задачи:**  \n",
    "- Используется только линейная регрессия для предсказаний.\n",
    "- При разведке региона исследуются 500 точек, из которых выбираются 200 лучших.\n",
    "- Доход с каждой единицы продукта (тыс. баррелей) составляет 450 тыс. рублей.\n",
    "- Задача решается с учётом синтетических данных, которые не раскрывают деталей контрактов.  \n",
    "\n",
    "**Ожидаемые результаты:**\n",
    "1. **Модели предсказания:**  \n",
    "   Построение моделей для каждого региона с оценкой их точности (RMSE).\n",
    "2. **Анализ прибыли:**  \n",
    "   Расчёт прибыли для каждого региона на основе выбранных точек.\n",
    "3. **Оценка рисков:**  \n",
    "   Определение среднего уровня прибыли, доверительных интервалов и вероятности убытков.\n",
    "4. **Рекомендации:**  \n",
    "   Выбор региона для разработки с максимальной ожидаемой прибылью и минимальным риском."
   ]
  },
  {
   "cell_type": "markdown",
   "metadata": {},
   "source": [
    "# Задача 1: Построение модели для предсказания объёма запасов нефти"
   ]
  },
  {
   "cell_type": "code",
   "execution_count": 190,
   "metadata": {},
   "outputs": [],
   "source": [
    "import numpy as np\n",
    "import pandas as pd\n",
    "import matplotlib.pyplot as plt\n",
    "import seaborn as sns\n",
    "\n",
    "from scipy.stats import shapiro, normaltest, kstest\n",
    "from sklearn.model_selection import train_test_split\n",
    "from sklearn.linear_model import LinearRegression, Ridge\n",
    "from sklearn.metrics import mean_squared_error\n",
    "\n",
    "# Константы\n",
    "RANDOM_STATE = 42"
   ]
  },
  {
   "cell_type": "markdown",
   "metadata": {},
   "source": [
    "<div class=\"alert alert-block alert-success\">\n",
    "<b>Успех:</b> Отлично, что все импорты собраны в первой ячейке ноутбука! Если у того, кто будет запускать твой ноутбук будут отсутствовать некоторые библиотеки, то он это увидит сразу, а не в процессе!\n",
    "</div>"
   ]
  },
  {
   "cell_type": "code",
   "execution_count": 191,
   "metadata": {},
   "outputs": [
    {
     "name": "stdout",
     "output_type": "stream",
     "text": [
      "geo_data_0.csv:\n"
     ]
    },
    {
     "data": {
      "text/html": [
       "<div>\n",
       "<style scoped>\n",
       "    .dataframe tbody tr th:only-of-type {\n",
       "        vertical-align: middle;\n",
       "    }\n",
       "\n",
       "    .dataframe tbody tr th {\n",
       "        vertical-align: top;\n",
       "    }\n",
       "\n",
       "    .dataframe thead th {\n",
       "        text-align: right;\n",
       "    }\n",
       "</style>\n",
       "<table border=\"1\" class=\"dataframe\">\n",
       "  <thead>\n",
       "    <tr style=\"text-align: right;\">\n",
       "      <th></th>\n",
       "      <th>id</th>\n",
       "      <th>f0</th>\n",
       "      <th>f1</th>\n",
       "      <th>f2</th>\n",
       "      <th>product</th>\n",
       "    </tr>\n",
       "  </thead>\n",
       "  <tbody>\n",
       "    <tr>\n",
       "      <th>0</th>\n",
       "      <td>txEyH</td>\n",
       "      <td>0.705745</td>\n",
       "      <td>-0.497823</td>\n",
       "      <td>1.221170</td>\n",
       "      <td>105.280062</td>\n",
       "    </tr>\n",
       "    <tr>\n",
       "      <th>1</th>\n",
       "      <td>2acmU</td>\n",
       "      <td>1.334711</td>\n",
       "      <td>-0.340164</td>\n",
       "      <td>4.365080</td>\n",
       "      <td>73.037750</td>\n",
       "    </tr>\n",
       "    <tr>\n",
       "      <th>2</th>\n",
       "      <td>409Wp</td>\n",
       "      <td>1.022732</td>\n",
       "      <td>0.151990</td>\n",
       "      <td>1.419926</td>\n",
       "      <td>85.265647</td>\n",
       "    </tr>\n",
       "    <tr>\n",
       "      <th>3</th>\n",
       "      <td>iJLyR</td>\n",
       "      <td>-0.032172</td>\n",
       "      <td>0.139033</td>\n",
       "      <td>2.978566</td>\n",
       "      <td>168.620776</td>\n",
       "    </tr>\n",
       "    <tr>\n",
       "      <th>4</th>\n",
       "      <td>Xdl7t</td>\n",
       "      <td>1.988431</td>\n",
       "      <td>0.155413</td>\n",
       "      <td>4.751769</td>\n",
       "      <td>154.036647</td>\n",
       "    </tr>\n",
       "  </tbody>\n",
       "</table>\n",
       "</div>"
      ],
      "text/plain": [
       "      id        f0        f1        f2     product\n",
       "0  txEyH  0.705745 -0.497823  1.221170  105.280062\n",
       "1  2acmU  1.334711 -0.340164  4.365080   73.037750\n",
       "2  409Wp  1.022732  0.151990  1.419926   85.265647\n",
       "3  iJLyR -0.032172  0.139033  2.978566  168.620776\n",
       "4  Xdl7t  1.988431  0.155413  4.751769  154.036647"
      ]
     },
     "metadata": {},
     "output_type": "display_data"
    },
    {
     "name": "stdout",
     "output_type": "stream",
     "text": [
      "<class 'pandas.core.frame.DataFrame'>\n",
      "RangeIndex: 100000 entries, 0 to 99999\n",
      "Data columns (total 5 columns):\n",
      " #   Column   Non-Null Count   Dtype  \n",
      "---  ------   --------------   -----  \n",
      " 0   id       100000 non-null  object \n",
      " 1   f0       100000 non-null  float64\n",
      " 2   f1       100000 non-null  float64\n",
      " 3   f2       100000 non-null  float64\n",
      " 4   product  100000 non-null  float64\n",
      "dtypes: float64(4), object(1)\n",
      "memory usage: 3.8+ MB\n",
      "\n",
      "geo_data_1.csv:\n"
     ]
    },
    {
     "data": {
      "text/html": [
       "<div>\n",
       "<style scoped>\n",
       "    .dataframe tbody tr th:only-of-type {\n",
       "        vertical-align: middle;\n",
       "    }\n",
       "\n",
       "    .dataframe tbody tr th {\n",
       "        vertical-align: top;\n",
       "    }\n",
       "\n",
       "    .dataframe thead th {\n",
       "        text-align: right;\n",
       "    }\n",
       "</style>\n",
       "<table border=\"1\" class=\"dataframe\">\n",
       "  <thead>\n",
       "    <tr style=\"text-align: right;\">\n",
       "      <th></th>\n",
       "      <th>id</th>\n",
       "      <th>f0</th>\n",
       "      <th>f1</th>\n",
       "      <th>f2</th>\n",
       "      <th>product</th>\n",
       "    </tr>\n",
       "  </thead>\n",
       "  <tbody>\n",
       "    <tr>\n",
       "      <th>0</th>\n",
       "      <td>kBEdx</td>\n",
       "      <td>-15.001348</td>\n",
       "      <td>-8.276000</td>\n",
       "      <td>-0.005876</td>\n",
       "      <td>3.179103</td>\n",
       "    </tr>\n",
       "    <tr>\n",
       "      <th>1</th>\n",
       "      <td>62mP7</td>\n",
       "      <td>14.272088</td>\n",
       "      <td>-3.475083</td>\n",
       "      <td>0.999183</td>\n",
       "      <td>26.953261</td>\n",
       "    </tr>\n",
       "    <tr>\n",
       "      <th>2</th>\n",
       "      <td>vyE1P</td>\n",
       "      <td>6.263187</td>\n",
       "      <td>-5.948386</td>\n",
       "      <td>5.001160</td>\n",
       "      <td>134.766305</td>\n",
       "    </tr>\n",
       "    <tr>\n",
       "      <th>3</th>\n",
       "      <td>KcrkZ</td>\n",
       "      <td>-13.081196</td>\n",
       "      <td>-11.506057</td>\n",
       "      <td>4.999415</td>\n",
       "      <td>137.945408</td>\n",
       "    </tr>\n",
       "    <tr>\n",
       "      <th>4</th>\n",
       "      <td>AHL4O</td>\n",
       "      <td>12.702195</td>\n",
       "      <td>-8.147433</td>\n",
       "      <td>5.004363</td>\n",
       "      <td>134.766305</td>\n",
       "    </tr>\n",
       "  </tbody>\n",
       "</table>\n",
       "</div>"
      ],
      "text/plain": [
       "      id         f0         f1        f2     product\n",
       "0  kBEdx -15.001348  -8.276000 -0.005876    3.179103\n",
       "1  62mP7  14.272088  -3.475083  0.999183   26.953261\n",
       "2  vyE1P   6.263187  -5.948386  5.001160  134.766305\n",
       "3  KcrkZ -13.081196 -11.506057  4.999415  137.945408\n",
       "4  AHL4O  12.702195  -8.147433  5.004363  134.766305"
      ]
     },
     "metadata": {},
     "output_type": "display_data"
    },
    {
     "name": "stdout",
     "output_type": "stream",
     "text": [
      "<class 'pandas.core.frame.DataFrame'>\n",
      "RangeIndex: 100000 entries, 0 to 99999\n",
      "Data columns (total 5 columns):\n",
      " #   Column   Non-Null Count   Dtype  \n",
      "---  ------   --------------   -----  \n",
      " 0   id       100000 non-null  object \n",
      " 1   f0       100000 non-null  float64\n",
      " 2   f1       100000 non-null  float64\n",
      " 3   f2       100000 non-null  float64\n",
      " 4   product  100000 non-null  float64\n",
      "dtypes: float64(4), object(1)\n",
      "memory usage: 3.8+ MB\n",
      "\n",
      "geo_data_2.csv:\n"
     ]
    },
    {
     "data": {
      "text/html": [
       "<div>\n",
       "<style scoped>\n",
       "    .dataframe tbody tr th:only-of-type {\n",
       "        vertical-align: middle;\n",
       "    }\n",
       "\n",
       "    .dataframe tbody tr th {\n",
       "        vertical-align: top;\n",
       "    }\n",
       "\n",
       "    .dataframe thead th {\n",
       "        text-align: right;\n",
       "    }\n",
       "</style>\n",
       "<table border=\"1\" class=\"dataframe\">\n",
       "  <thead>\n",
       "    <tr style=\"text-align: right;\">\n",
       "      <th></th>\n",
       "      <th>id</th>\n",
       "      <th>f0</th>\n",
       "      <th>f1</th>\n",
       "      <th>f2</th>\n",
       "      <th>product</th>\n",
       "    </tr>\n",
       "  </thead>\n",
       "  <tbody>\n",
       "    <tr>\n",
       "      <th>0</th>\n",
       "      <td>fwXo0</td>\n",
       "      <td>-1.146987</td>\n",
       "      <td>0.963328</td>\n",
       "      <td>-0.828965</td>\n",
       "      <td>27.758673</td>\n",
       "    </tr>\n",
       "    <tr>\n",
       "      <th>1</th>\n",
       "      <td>WJtFt</td>\n",
       "      <td>0.262778</td>\n",
       "      <td>0.269839</td>\n",
       "      <td>-2.530187</td>\n",
       "      <td>56.069697</td>\n",
       "    </tr>\n",
       "    <tr>\n",
       "      <th>2</th>\n",
       "      <td>ovLUW</td>\n",
       "      <td>0.194587</td>\n",
       "      <td>0.289035</td>\n",
       "      <td>-5.586433</td>\n",
       "      <td>62.871910</td>\n",
       "    </tr>\n",
       "    <tr>\n",
       "      <th>3</th>\n",
       "      <td>q6cA6</td>\n",
       "      <td>2.236060</td>\n",
       "      <td>-0.553760</td>\n",
       "      <td>0.930038</td>\n",
       "      <td>114.572842</td>\n",
       "    </tr>\n",
       "    <tr>\n",
       "      <th>4</th>\n",
       "      <td>WPMUX</td>\n",
       "      <td>-0.515993</td>\n",
       "      <td>1.716266</td>\n",
       "      <td>5.899011</td>\n",
       "      <td>149.600746</td>\n",
       "    </tr>\n",
       "  </tbody>\n",
       "</table>\n",
       "</div>"
      ],
      "text/plain": [
       "      id        f0        f1        f2     product\n",
       "0  fwXo0 -1.146987  0.963328 -0.828965   27.758673\n",
       "1  WJtFt  0.262778  0.269839 -2.530187   56.069697\n",
       "2  ovLUW  0.194587  0.289035 -5.586433   62.871910\n",
       "3  q6cA6  2.236060 -0.553760  0.930038  114.572842\n",
       "4  WPMUX -0.515993  1.716266  5.899011  149.600746"
      ]
     },
     "metadata": {},
     "output_type": "display_data"
    },
    {
     "name": "stdout",
     "output_type": "stream",
     "text": [
      "<class 'pandas.core.frame.DataFrame'>\n",
      "RangeIndex: 100000 entries, 0 to 99999\n",
      "Data columns (total 5 columns):\n",
      " #   Column   Non-Null Count   Dtype  \n",
      "---  ------   --------------   -----  \n",
      " 0   id       100000 non-null  object \n",
      " 1   f0       100000 non-null  float64\n",
      " 2   f1       100000 non-null  float64\n",
      " 3   f2       100000 non-null  float64\n",
      " 4   product  100000 non-null  float64\n",
      "dtypes: float64(4), object(1)\n",
      "memory usage: 3.8+ MB\n",
      "\n",
      "Количество дубликатов в geo_data_0: 0\n",
      "Количество дубликатов в geo_data_1: 0\n",
      "Количество дубликатов в geo_data_2: 0\n"
     ]
    }
   ],
   "source": [
    "# Загрузка данных с учетом разделителей\n",
    "geo_data_0 = pd.read_csv('/datasets/geo_data_0.csv', delimiter=',', decimal='.')\n",
    "geo_data_1 = pd.read_csv('/datasets/geo_data_1.csv', delimiter=',', decimal='.')\n",
    "geo_data_2 = pd.read_csv('/datasets/geo_data_2.csv', delimiter=',', decimal='.')\n",
    "\n",
    "# Проверка первых 5 строк для каждого файла\n",
    "print(\"geo_data_0.csv:\")\n",
    "display(geo_data_0.head())\n",
    "geo_data_0.info()\n",
    "\n",
    "print(\"\\ngeo_data_1.csv:\")\n",
    "display(geo_data_1.head())\n",
    "geo_data_1.info()\n",
    "\n",
    "print(\"\\ngeo_data_2.csv:\")\n",
    "display(geo_data_2.head())\n",
    "geo_data_2.info()\n",
    "\n",
    "# Проверим явные дубликаты\n",
    "print(f'\\nКоличество дубликатов в geo_data_0: {geo_data_0.duplicated().sum()}')\n",
    "print(f'Количество дубликатов в geo_data_1: {geo_data_0.duplicated().sum()}')\n",
    "print(f'Количество дубликатов в geo_data_2: {geo_data_0.duplicated().sum()}')"
   ]
  },
  {
   "cell_type": "markdown",
   "metadata": {},
   "source": [
    "Для каждого файла данные содержат 100000 строк и 5 столбцов, все значения в которых не содержат пропусков.\n",
    "\n",
    "Все три набора данных имеют одинаковую структуру, с разными значениями для параметров, но в целом формат и типы данных во всех файлах аналогичны."
   ]
  },
  {
   "cell_type": "markdown",
   "metadata": {},
   "source": [
    "<div class=\"alert alert-block alert-success\">\n",
    "<b>Успех:</b> Данные загружены и осмотрены корректно.\n",
    "</div>"
   ]
  },
  {
   "cell_type": "markdown",
   "metadata": {},
   "source": [
    "## Исследовательский анализ"
   ]
  },
  {
   "cell_type": "markdown",
   "metadata": {},
   "source": [
    "### Статистический анализ количественных признаков"
   ]
  },
  {
   "cell_type": "code",
   "execution_count": 192,
   "metadata": {},
   "outputs": [
    {
     "name": "stdout",
     "output_type": "stream",
     "text": [
      "Статистический анализ geo_data_0:\n"
     ]
    },
    {
     "data": {
      "text/html": [
       "<div>\n",
       "<style scoped>\n",
       "    .dataframe tbody tr th:only-of-type {\n",
       "        vertical-align: middle;\n",
       "    }\n",
       "\n",
       "    .dataframe tbody tr th {\n",
       "        vertical-align: top;\n",
       "    }\n",
       "\n",
       "    .dataframe thead th {\n",
       "        text-align: right;\n",
       "    }\n",
       "</style>\n",
       "<table border=\"1\" class=\"dataframe\">\n",
       "  <thead>\n",
       "    <tr style=\"text-align: right;\">\n",
       "      <th></th>\n",
       "      <th>f0</th>\n",
       "      <th>f1</th>\n",
       "      <th>f2</th>\n",
       "      <th>product</th>\n",
       "    </tr>\n",
       "  </thead>\n",
       "  <tbody>\n",
       "    <tr>\n",
       "      <th>count</th>\n",
       "      <td>100000.000000</td>\n",
       "      <td>100000.000000</td>\n",
       "      <td>100000.000000</td>\n",
       "      <td>100000.000000</td>\n",
       "    </tr>\n",
       "    <tr>\n",
       "      <th>mean</th>\n",
       "      <td>0.500419</td>\n",
       "      <td>0.250143</td>\n",
       "      <td>2.502647</td>\n",
       "      <td>92.500000</td>\n",
       "    </tr>\n",
       "    <tr>\n",
       "      <th>std</th>\n",
       "      <td>0.871832</td>\n",
       "      <td>0.504433</td>\n",
       "      <td>3.248248</td>\n",
       "      <td>44.288691</td>\n",
       "    </tr>\n",
       "    <tr>\n",
       "      <th>min</th>\n",
       "      <td>-1.408605</td>\n",
       "      <td>-0.848218</td>\n",
       "      <td>-12.088328</td>\n",
       "      <td>0.000000</td>\n",
       "    </tr>\n",
       "    <tr>\n",
       "      <th>25%</th>\n",
       "      <td>-0.072580</td>\n",
       "      <td>-0.200881</td>\n",
       "      <td>0.287748</td>\n",
       "      <td>56.497507</td>\n",
       "    </tr>\n",
       "    <tr>\n",
       "      <th>50%</th>\n",
       "      <td>0.502360</td>\n",
       "      <td>0.250252</td>\n",
       "      <td>2.515969</td>\n",
       "      <td>91.849972</td>\n",
       "    </tr>\n",
       "    <tr>\n",
       "      <th>75%</th>\n",
       "      <td>1.073581</td>\n",
       "      <td>0.700646</td>\n",
       "      <td>4.715088</td>\n",
       "      <td>128.564089</td>\n",
       "    </tr>\n",
       "    <tr>\n",
       "      <th>max</th>\n",
       "      <td>2.362331</td>\n",
       "      <td>1.343769</td>\n",
       "      <td>16.003790</td>\n",
       "      <td>185.364347</td>\n",
       "    </tr>\n",
       "  </tbody>\n",
       "</table>\n",
       "</div>"
      ],
      "text/plain": [
       "                  f0             f1             f2        product\n",
       "count  100000.000000  100000.000000  100000.000000  100000.000000\n",
       "mean        0.500419       0.250143       2.502647      92.500000\n",
       "std         0.871832       0.504433       3.248248      44.288691\n",
       "min        -1.408605      -0.848218     -12.088328       0.000000\n",
       "25%        -0.072580      -0.200881       0.287748      56.497507\n",
       "50%         0.502360       0.250252       2.515969      91.849972\n",
       "75%         1.073581       0.700646       4.715088     128.564089\n",
       "max         2.362331       1.343769      16.003790     185.364347"
      ]
     },
     "metadata": {},
     "output_type": "display_data"
    },
    {
     "name": "stdout",
     "output_type": "stream",
     "text": [
      "\n",
      "Статистический анализ geo_data_1:\n"
     ]
    },
    {
     "data": {
      "text/html": [
       "<div>\n",
       "<style scoped>\n",
       "    .dataframe tbody tr th:only-of-type {\n",
       "        vertical-align: middle;\n",
       "    }\n",
       "\n",
       "    .dataframe tbody tr th {\n",
       "        vertical-align: top;\n",
       "    }\n",
       "\n",
       "    .dataframe thead th {\n",
       "        text-align: right;\n",
       "    }\n",
       "</style>\n",
       "<table border=\"1\" class=\"dataframe\">\n",
       "  <thead>\n",
       "    <tr style=\"text-align: right;\">\n",
       "      <th></th>\n",
       "      <th>f0</th>\n",
       "      <th>f1</th>\n",
       "      <th>f2</th>\n",
       "      <th>product</th>\n",
       "    </tr>\n",
       "  </thead>\n",
       "  <tbody>\n",
       "    <tr>\n",
       "      <th>count</th>\n",
       "      <td>100000.000000</td>\n",
       "      <td>100000.000000</td>\n",
       "      <td>100000.000000</td>\n",
       "      <td>100000.000000</td>\n",
       "    </tr>\n",
       "    <tr>\n",
       "      <th>mean</th>\n",
       "      <td>1.141296</td>\n",
       "      <td>-4.796579</td>\n",
       "      <td>2.494541</td>\n",
       "      <td>68.825000</td>\n",
       "    </tr>\n",
       "    <tr>\n",
       "      <th>std</th>\n",
       "      <td>8.965932</td>\n",
       "      <td>5.119872</td>\n",
       "      <td>1.703572</td>\n",
       "      <td>45.944423</td>\n",
       "    </tr>\n",
       "    <tr>\n",
       "      <th>min</th>\n",
       "      <td>-31.609576</td>\n",
       "      <td>-26.358598</td>\n",
       "      <td>-0.018144</td>\n",
       "      <td>0.000000</td>\n",
       "    </tr>\n",
       "    <tr>\n",
       "      <th>25%</th>\n",
       "      <td>-6.298551</td>\n",
       "      <td>-8.267985</td>\n",
       "      <td>1.000021</td>\n",
       "      <td>26.953261</td>\n",
       "    </tr>\n",
       "    <tr>\n",
       "      <th>50%</th>\n",
       "      <td>1.153055</td>\n",
       "      <td>-4.813172</td>\n",
       "      <td>2.011479</td>\n",
       "      <td>57.085625</td>\n",
       "    </tr>\n",
       "    <tr>\n",
       "      <th>75%</th>\n",
       "      <td>8.621015</td>\n",
       "      <td>-1.332816</td>\n",
       "      <td>3.999904</td>\n",
       "      <td>107.813044</td>\n",
       "    </tr>\n",
       "    <tr>\n",
       "      <th>max</th>\n",
       "      <td>29.421755</td>\n",
       "      <td>18.734063</td>\n",
       "      <td>5.019721</td>\n",
       "      <td>137.945408</td>\n",
       "    </tr>\n",
       "  </tbody>\n",
       "</table>\n",
       "</div>"
      ],
      "text/plain": [
       "                  f0             f1             f2        product\n",
       "count  100000.000000  100000.000000  100000.000000  100000.000000\n",
       "mean        1.141296      -4.796579       2.494541      68.825000\n",
       "std         8.965932       5.119872       1.703572      45.944423\n",
       "min       -31.609576     -26.358598      -0.018144       0.000000\n",
       "25%        -6.298551      -8.267985       1.000021      26.953261\n",
       "50%         1.153055      -4.813172       2.011479      57.085625\n",
       "75%         8.621015      -1.332816       3.999904     107.813044\n",
       "max        29.421755      18.734063       5.019721     137.945408"
      ]
     },
     "metadata": {},
     "output_type": "display_data"
    },
    {
     "name": "stdout",
     "output_type": "stream",
     "text": [
      "\n",
      "Статистический анализ geo_data_2:\n"
     ]
    },
    {
     "data": {
      "text/html": [
       "<div>\n",
       "<style scoped>\n",
       "    .dataframe tbody tr th:only-of-type {\n",
       "        vertical-align: middle;\n",
       "    }\n",
       "\n",
       "    .dataframe tbody tr th {\n",
       "        vertical-align: top;\n",
       "    }\n",
       "\n",
       "    .dataframe thead th {\n",
       "        text-align: right;\n",
       "    }\n",
       "</style>\n",
       "<table border=\"1\" class=\"dataframe\">\n",
       "  <thead>\n",
       "    <tr style=\"text-align: right;\">\n",
       "      <th></th>\n",
       "      <th>f0</th>\n",
       "      <th>f1</th>\n",
       "      <th>f2</th>\n",
       "      <th>product</th>\n",
       "    </tr>\n",
       "  </thead>\n",
       "  <tbody>\n",
       "    <tr>\n",
       "      <th>count</th>\n",
       "      <td>100000.000000</td>\n",
       "      <td>100000.000000</td>\n",
       "      <td>100000.000000</td>\n",
       "      <td>100000.000000</td>\n",
       "    </tr>\n",
       "    <tr>\n",
       "      <th>mean</th>\n",
       "      <td>0.002023</td>\n",
       "      <td>-0.002081</td>\n",
       "      <td>2.495128</td>\n",
       "      <td>95.000000</td>\n",
       "    </tr>\n",
       "    <tr>\n",
       "      <th>std</th>\n",
       "      <td>1.732045</td>\n",
       "      <td>1.730417</td>\n",
       "      <td>3.473445</td>\n",
       "      <td>44.749921</td>\n",
       "    </tr>\n",
       "    <tr>\n",
       "      <th>min</th>\n",
       "      <td>-8.760004</td>\n",
       "      <td>-7.084020</td>\n",
       "      <td>-11.970335</td>\n",
       "      <td>0.000000</td>\n",
       "    </tr>\n",
       "    <tr>\n",
       "      <th>25%</th>\n",
       "      <td>-1.162288</td>\n",
       "      <td>-1.174820</td>\n",
       "      <td>0.130359</td>\n",
       "      <td>59.450441</td>\n",
       "    </tr>\n",
       "    <tr>\n",
       "      <th>50%</th>\n",
       "      <td>0.009424</td>\n",
       "      <td>-0.009482</td>\n",
       "      <td>2.484236</td>\n",
       "      <td>94.925613</td>\n",
       "    </tr>\n",
       "    <tr>\n",
       "      <th>75%</th>\n",
       "      <td>1.158535</td>\n",
       "      <td>1.163678</td>\n",
       "      <td>4.858794</td>\n",
       "      <td>130.595027</td>\n",
       "    </tr>\n",
       "    <tr>\n",
       "      <th>max</th>\n",
       "      <td>7.238262</td>\n",
       "      <td>7.844801</td>\n",
       "      <td>16.739402</td>\n",
       "      <td>190.029838</td>\n",
       "    </tr>\n",
       "  </tbody>\n",
       "</table>\n",
       "</div>"
      ],
      "text/plain": [
       "                  f0             f1             f2        product\n",
       "count  100000.000000  100000.000000  100000.000000  100000.000000\n",
       "mean        0.002023      -0.002081       2.495128      95.000000\n",
       "std         1.732045       1.730417       3.473445      44.749921\n",
       "min        -8.760004      -7.084020     -11.970335       0.000000\n",
       "25%        -1.162288      -1.174820       0.130359      59.450441\n",
       "50%         0.009424      -0.009482       2.484236      94.925613\n",
       "75%         1.158535       1.163678       4.858794     130.595027\n",
       "max         7.238262       7.844801      16.739402     190.029838"
      ]
     },
     "metadata": {},
     "output_type": "display_data"
    }
   ],
   "source": [
    "# Анализ количественных признаков\n",
    "print(\"Статистический анализ geo_data_0:\")\n",
    "display(geo_data_0.drop(columns='id', errors='ignore').describe())\n",
    "\n",
    "print(\"\\nСтатистический анализ geo_data_1:\")\n",
    "display(geo_data_1.drop(columns='id', errors='ignore').describe())\n",
    "\n",
    "print(\"\\nСтатистический анализ geo_data_2:\")\n",
    "display(geo_data_2.drop(columns='id', errors='ignore').describe())"
   ]
  },
  {
   "cell_type": "markdown",
   "metadata": {},
   "source": [
    "1. **Столбцы: f0, f1, f2 (все файлы)**\n",
    "- **Средние значения**:\n",
    "  - `geo_data_0.csv`: Среднее значение для f0 равно 0.50, для f1 – 0.25, для f2 – 2.50.\n",
    "  - `geo_data_1.csv`: Среднее значение для f0 – 1.14, для f1 – -4.80, для f2 – 2.49.\n",
    "  - `geo_data_2.csv`: Среднее значение для f0 близко к 0 (0.002), для f1 также близко к 0 (-0.002), для f2 – 2.50.\n",
    "  \n",
    "  В `geo_data_0.csv` и `geo_data_2.csv` данные для f0 и f1 более сбалансированы вокруг нуля, в то время как в `geo_data_1.csv` значения для этих столбцов имеют гораздо большую вариативность.\n",
    "\n",
    "- **Медианные значения (50%)**:\n",
    "  - `geo_data_0.csv`: медиана для f0 – 0.50, для f1 – 0.25, для f2 – 2.52.\n",
    "  - `geo_data_1.csv`: медиана для f0 – 1.15, для f1 – -4.81, для f2 – 2.01.\n",
    "  - `geo_data_2.csv`: медиана для f0 – 0.01, для f1 – -0.01, для f2 – 2.48.\n",
    "  \n",
    "  В `geo_data_0.csv` и `geo_data_2.csv` медиана близка к среднему значению, что указывает на более симметричное распределение данных. \n",
    "\n",
    "- **Дисперсия и стандартное отклонение**:\n",
    "  - В `geo_data_1.csv` стандартное отклонение для столбцов f0 и f1 значительно выше, чем в других файлах, что указывает на более высокую вариативность этих данных (например, для f0 стандартное отклонение составляет 8.97, для f1 — 5.12).\n",
    "  - В `geo_data_0.csv` и `geo_data_2.csv` дисперсия для f0, f1 и f2 меньше, что говорит о меньшей изменчивости значений.\n",
    "\n",
    "- **Минимальные и максимальные значения**:\n",
    "  - В `geo_data_1.csv` наибольшие значения по столбцам f0 и f1 (max f0 = 29.42, max f1 = 18.73), в то время как в `geo_data_0.csv` и `geo_data_2.csv` максимальные значения менее экстремальны. Это говорит о более высоком уровне выбросов в `geo_data_1.csv`.\n",
    "\n",
    "2. **Столбец: product (все файлы)**\n",
    "- **Среднее значение**:\n",
    "  - `geo_data_0.csv`: Среднее значение равно 92.5.\n",
    "  - `geo_data_1.csv`: Среднее значение составляет 68.83.\n",
    "  - `geo_data_2.csv`: Среднее значение равно 95.0.\n",
    "  \n",
    "  Данные в `geo_data_2.csv` и `geo_data_0.csv` более высокие по сравнению с `geo_data_1.csv`.\n",
    "\n",
    "- **Медианы**:\n",
    "  - `geo_data_0.csv`: медиана составляет 91.85.\n",
    "  - `geo_data_1.csv`: медиана составляет 57.09.\n",
    "  - `geo_data_2.csv`: медиана составляет 94.93.\n",
    "  \n",
    "  Медиана в `geo_data_2.csv` и `geo_data_0.csv` близка к среднему значению, что также подтверждает более стабильное распределение данных. В `geo_data_1.csv` медиана заметно ниже, что свидетельствует о более низких значениях продукции в этой выборке.\n",
    "\n",
    "- **Диапазоны**:\n",
    "  - В `geo_data_1.csv` минимальные и максимальные значения для продукции варьируются от 0 до 137.95, что указывает на более широкий разброс данных.\n",
    "  - В `geo_data_2.csv` диапазон продукции чуть выше, с минимумом 0 и максимумом 190.03, в то время как в `geo_data_0.csv` максимальное значение продукции составляет 185.36."
   ]
  },
  {
   "cell_type": "markdown",
   "metadata": {},
   "source": [
    "### Графики"
   ]
  },
  {
   "cell_type": "markdown",
   "metadata": {},
   "source": [
    "#### Количественные признаки"
   ]
  },
  {
   "cell_type": "code",
   "execution_count": 193,
   "metadata": {},
   "outputs": [
    {
     "data": {
      "image/png": "[encoded data removed]",
      "text/plain": [
       "<Figure size 1008x432 with 2 Axes>"
      ]
     },
     "metadata": {
      "needs_background": "light"
     },
     "output_type": "display_data"
    },
    {
     "data": {
      "image/png": "[encoded data removed]",
      "text/plain": [
       "<Figure size 1008x432 with 2 Axes>"
      ]
     },
     "metadata": {
      "needs_background": "light"
     },
     "output_type": "display_data"
    },
    {
     "data": {
      "image/png": "[encoded data removed]",
      "text/plain": [
       "<Figure size 1008x432 with 2 Axes>"
      ]
     },
     "metadata": {
      "needs_background": "light"
     },
     "output_type": "display_data"
    },
    {
     "data": {
      "image/png": "[encoded data removed]",
      "text/plain": [
       "<Figure size 1008x432 with 2 Axes>"
      ]
     },
     "metadata": {
      "needs_background": "light"
     },
     "output_type": "display_data"
    },
    {
     "data": {
      "image/png": "[encoded data removed]",
      "text/plain": [
       "<Figure size 1008x432 with 2 Axes>"
      ]
     },
     "metadata": {
      "needs_background": "light"
     },
     "output_type": "display_data"
    },
    {
     "data": {
      "image/png": "[encoded data removed]",
      "text/plain": [
       "<Figure size 1008x432 with 2 Axes>"
      ]
     },
     "metadata": {
      "needs_background": "light"
     },
     "output_type": "display_data"
    },
    {
     "data": {
      "image/png": "[encoded data removed]",
      "text/plain": [
       "<Figure size 1008x432 with 2 Axes>"
      ]
     },
     "metadata": {
      "needs_background": "light"
     },
     "output_type": "display_data"
    },
    {
     "data": {
      "image/png": "[encoded data removed]",
      "text/plain": [
       "<Figure size 1008x432 with 2 Axes>"
      ]
     },
     "metadata": {
      "needs_background": "light"
     },
     "output_type": "display_data"
    },
    {
     "data": {
      "image/png": "[encoded data removed]",
      "text/plain": [
       "<Figure size 1008x432 with 2 Axes>"
      ]
     },
     "metadata": {
      "needs_background": "light"
     },
     "output_type": "display_data"
    },
    {
     "data": {
      "image/png": "[encoded data removed]",
      "text/plain": [
       "<Figure size 1008x432 with 2 Axes>"
      ]
     },
     "metadata": {
      "needs_background": "light"
     },
     "output_type": "display_data"
    },
    {
     "data": {
      "image/png": "[encoded data removed]",
      "text/plain": [
       "<Figure size 1008x432 with 2 Axes>"
      ]
     },
     "metadata": {
      "needs_background": "light"
     },
     "output_type": "display_data"
    },
    {
     "data": {
      "image/png": "[encoded data removed]",
      "text/plain": [
       "<Figure size 1008x432 with 2 Axes>"
      ]
     },
     "metadata": {
      "needs_background": "light"
     },
     "output_type": "display_data"
    }
   ],
   "source": [
    "# Функция для построения графиков распределения и boxplot\n",
    "def plot_distributions_and_boxplots(data, dataset_name):\n",
    "    \"\"\"\n",
    "    Построить графики распределения и boxplot для каждого количественного признака.\n",
    "    \n",
    "    Parameters:\n",
    "    data (DataFrame): Датасет для анализа.\n",
    "    dataset_name (str): Название датасета (для заголовков).\n",
    "    \"\"\"\n",
    "    numeric_columns = data.select_dtypes(include=['float64']).columns\n",
    "    \n",
    "    for col in numeric_columns:\n",
    "        plt.figure(figsize=(14, 6))\n",
    "        \n",
    "        # График распределения\n",
    "        plt.subplot(1, 2, 1)\n",
    "        sns.histplot(data[col], kde=True, bins=50, color='blue', edgecolor='black')\n",
    "        plt.title(f'Distribution of {col} - {dataset_name}')\n",
    "        plt.xlabel(col)\n",
    "        plt.ylabel('Frequency')\n",
    "        \n",
    "        # Boxplot\n",
    "        plt.subplot(1, 2, 2)\n",
    "        sns.boxplot(x=data[col], color='orange')\n",
    "        plt.title(f'Boxplot of {col} - {dataset_name}')\n",
    "        plt.xlabel(col)\n",
    "        \n",
    "        plt.tight_layout()\n",
    "        plt.show()\n",
    "\n",
    "# Вызов функции для каждого датасета\n",
    "plot_distributions_and_boxplots(geo_data_0, \"geo_data_0\")\n",
    "plot_distributions_and_boxplots(geo_data_1, \"geo_data_1\")\n",
    "plot_distributions_and_boxplots(geo_data_2, \"geo_data_2\")"
   ]
  },
  {
   "cell_type": "markdown",
   "metadata": {},
   "source": [
    "Проверим нормальность распределения признаков с помощью стат.тестов."
   ]
  },
  {
   "cell_type": "code",
   "execution_count": 194,
   "metadata": {},
   "outputs": [],
   "source": [
    "def check_normality(data, feature_name):\n",
    "    sample_data = np.random.choice(data, size=5000, replace=False)\n",
    "\n",
    "    print(f\"Признак: {feature_name}\")\n",
    "    \n",
    "    # Тест Шапиро-Уилка\n",
    "    stat_shapiro, p_shapiro = shapiro(sample_data)\n",
    "    print(f\"Shapiro-Wilk test: статистика={stat_shapiro:.8f}, p-значение={p_shapiro:.8f}\")\n",
    "    \n",
    "    # Тест Д'Агостино и Пирсона\n",
    "    stat_normaltest, p_normaltest = normaltest(sample_data)\n",
    "    print(f\"D’Agostino and Pearson test: статистика={stat_normaltest:.8f}, p-значение={p_normaltest:.8f}\")\n",
    "    \n",
    "    # Тест Колмогорова-Смирнова\n",
    "    stat_kstest, p_kstest = kstest(sample_data, 'norm', args=(sample_data.mean(), sample_data.std()))\n",
    "    print(f\"Kolmogorov-Smirnov test: статистика={stat_kstest:.8f}, p-значение={p_kstest:.8f}\")\n",
    "       \n",
    "    # Интерпретация\n",
    "    if p_shapiro < 0.05 or p_normaltest < 0.05 or p_kstest < 0.05:\n",
    "        print(\"\\nРаспределение статистически значимо отличается от нормального (отклоняем H0).\\n\")\n",
    "    else:\n",
    "        print(\"\\nРаспределение статистически не отличается от нормального (не отклоняем H0).\\n\")\n",
    "\n",
    "features = ['f0', 'f1', 'f2', 'product']"
   ]
  },
  {
   "cell_type": "code",
   "execution_count": 195,
   "metadata": {},
   "outputs": [
    {
     "name": "stdout",
     "output_type": "stream",
     "text": [
      "Проверка нормальности распределений для geo_data_0:\n",
      "\n",
      "Признак: f0\n",
      "Shapiro-Wilk test: статистика=0.97320026, p-значение=0.00000000\n",
      "D’Agostino and Pearson test: статистика=528.84741217, p-значение=0.00000000\n",
      "Kolmogorov-Smirnov test: статистика=0.04488340, p-значение=0.00000000\n",
      "\n",
      "Распределение статистически значимо отличается от нормального (отклоняем H0).\n",
      "\n",
      "Признак: f1\n",
      "Shapiro-Wilk test: статистика=0.96135515, p-значение=0.00000000\n",
      "D’Agostino and Pearson test: статистика=2858.07317014, p-значение=0.00000000\n",
      "Kolmogorov-Smirnov test: статистика=0.06295648, p-значение=0.00000000\n",
      "\n",
      "Распределение статистически значимо отличается от нормального (отклоняем H0).\n",
      "\n",
      "Признак: f2\n",
      "Shapiro-Wilk test: статистика=0.99960160, p-значение=0.42047319\n",
      "D’Agostino and Pearson test: статистика=4.97280305, p-значение=0.08320885\n",
      "Kolmogorov-Smirnov test: статистика=0.00719194, p-значение=0.95655794\n",
      "\n",
      "Распределение статистически не отличается от нормального (не отклоняем H0).\n",
      "\n",
      "Признак: product\n",
      "Shapiro-Wilk test: статистика=0.98039061, p-значение=0.00000000\n",
      "D’Agostino and Pearson test: статистика=770.90083078, p-значение=0.00000000\n",
      "Kolmogorov-Smirnov test: статистика=0.04943318, p-значение=0.00000000\n",
      "\n",
      "Распределение статистически значимо отличается от нормального (отклоняем H0).\n",
      "\n",
      "Проверка нормальности распределений для geo_data_1:\n",
      "\n",
      "Признак: f0\n",
      "Shapiro-Wilk test: статистика=0.97230327, p-значение=0.00000000\n",
      "D’Agostino and Pearson test: статистика=586.90543482, p-значение=0.00000000\n",
      "Kolmogorov-Smirnov test: статистика=0.04692126, p-значение=0.00000000\n",
      "\n",
      "Распределение статистически значимо отличается от нормального (отклоняем H0).\n",
      "\n",
      "Признак: f1\n",
      "Shapiro-Wilk test: статистика=0.95732629, p-значение=0.00000000\n",
      "D’Agostino and Pearson test: статистика=3723.40243992, p-значение=0.00000000\n",
      "Kolmogorov-Smirnov test: статистика=0.06644141, p-значение=0.00000000\n",
      "\n",
      "Распределение статистически значимо отличается от нормального (отклоняем H0).\n",
      "\n",
      "Признак: f2\n",
      "Shapiro-Wilk test: статистика=0.99941701, p-значение=0.11514213\n",
      "D’Agostino and Pearson test: статистика=5.99768363, p-значение=0.04984476\n",
      "Kolmogorov-Smirnov test: статистика=0.00920732, p-значение=0.78673732\n",
      "\n",
      "Распределение статистически значимо отличается от нормального (отклоняем H0).\n",
      "\n",
      "Признак: product\n",
      "Shapiro-Wilk test: статистика=0.97963226, p-значение=0.00000000\n",
      "D’Agostino and Pearson test: статистика=804.08818768, p-значение=0.00000000\n",
      "Kolmogorov-Smirnov test: статистика=0.05004681, p-значение=0.00000000\n",
      "\n",
      "Распределение статистически значимо отличается от нормального (отклоняем H0).\n",
      "\n",
      "Проверка нормальности распределений для geo_data_2:\n",
      "\n",
      "Признак: f0\n",
      "Shapiro-Wilk test: статистика=0.96996659, p-значение=0.00000000\n",
      "D’Agostino and Pearson test: статистика=711.83138107, p-значение=0.00000000\n",
      "Kolmogorov-Smirnov test: статистика=0.04757314, p-значение=0.00000000\n",
      "\n",
      "Распределение статистически значимо отличается от нормального (отклоняем H0).\n",
      "\n",
      "Признак: f1\n",
      "Shapiro-Wilk test: статистика=0.95813811, p-значение=0.00000000\n",
      "D’Agostino and Pearson test: статистика=3533.43611475, p-значение=0.00000000\n",
      "Kolmogorov-Smirnov test: статистика=0.06587138, p-значение=0.00000000\n",
      "\n",
      "Распределение статистически значимо отличается от нормального (отклоняем H0).\n",
      "\n",
      "Признак: f2\n",
      "Shapiro-Wilk test: статистика=0.99952501, p-значение=0.25394762\n",
      "D’Agostino and Pearson test: статистика=3.51019100, p-значение=0.17289073\n",
      "Kolmogorov-Smirnov test: статистика=0.01226166, p-значение=0.43636838\n",
      "\n",
      "Распределение статистически не отличается от нормального (не отклоняем H0).\n",
      "\n",
      "Признак: product\n",
      "Shapiro-Wilk test: статистика=0.97746795, p-значение=0.00000000\n",
      "D’Agostino and Pearson test: статистика=991.85953908, p-значение=0.00000000\n",
      "Kolmogorov-Smirnov test: статистика=0.05635430, p-значение=0.00000000\n",
      "\n",
      "Распределение статистически значимо отличается от нормального (отклоняем H0).\n",
      "\n"
     ]
    }
   ],
   "source": [
    "# Проверка нормальности для непрерывных признаков\n",
    "print('Проверка нормальности распределений для geo_data_0:\\n')\n",
    "for feature in features:\n",
    "    if feature in geo_data_0.columns:\n",
    "        check_normality(geo_data_0[feature], feature)\n",
    "\n",
    "print('Проверка нормальности распределений для geo_data_1:\\n')\n",
    "for feature in features:\n",
    "    if feature in geo_data_1.columns:\n",
    "        check_normality(geo_data_0[feature], feature)\n",
    "\n",
    "print('Проверка нормальности распределений для geo_data_2:\\n')\n",
    "for feature in features:\n",
    "    if feature in geo_data_2.columns:\n",
    "        check_normality(geo_data_0[feature], feature)"
   ]
  },
  {
   "cell_type": "markdown",
   "metadata": {},
   "source": [
    "**Проверка нормальности распределений:**\n",
    "\n",
    "1. **Широкие распределения:**\n",
    "   - Для признаков `f0`, `f1`, и `product` наблюдается статистически значимое отклонение от нормальности, что подтверждается низкими p-значениями в тестах Шапиро-Уилка, D’Agostino и Колмогорова-Смирнова. \n",
    "   \n",
    "2. **Нормальные распределения:**\n",
    "   - Для признака `f2` в каждом наборе данных тесты показывают p-значения значительно выше 0.05, вместе с тем на графике geo_data_1 распределение явно не похоже на нормальное.\n",
    "\n",
    "3. **Кластеризация признаков:**\n",
    "   - Для признаков `f2` и `product` в `geo_data_1` замечено явное кластеризованное распределение, где значения `f2` и `product`, если их округлить до десятых, создают \"пики\" в этих точках. \n",
    "\n",
    "   Пример из `geo_data_1`:\n",
    "   - Для `f2` значения концентрируются вокруг 0, 1, 2, 3, 4, 5, что указывает на некоторую кластеризацию данных.\n",
    "   - Для `product` значения также концентрируются вокруг нескольких дискретных значений, например, около 54, 57, 81 и 84."
   ]
  },
  {
   "cell_type": "markdown",
   "metadata": {},
   "source": [
    "**Общий вывод по анализу графиков:**\n",
    "\n",
    "1. **Анализ нормальности распределений:**\n",
    "   - Для признаков `f0`, `f1` и `product` в большинстве наборов данных наблюдаются значимые отклонения от нормального распределения. Это подтверждается низкими p-значениями статистических тестов (Шапиро-Уилка, D’Agostino, Колмогорова-Смирнова), а также визуально — распределения имеют широкие хвосты и асимметрию.\n",
    "   - Признак `f2`, хотя и прошёл тесты на нормальность, в `geo_data_1` визуально явно не соответствует нормальному распределению, что может быть связано с кластеризацией значений.\n",
    "\n",
    "2. **Кластеризация данных:**\n",
    "   - Для `f2` в `geo_data_1` наблюдается ярко выраженная кластеризация значений вокруг нескольких точек (0, 1, 2, 3, 4, 5). Это может быть следствием дискретизации или категориальной природы данных.\n",
    "   - Для `product` в `geo_data_1` также видна концентрация значений вокруг определенных дискретных значений, например, 54, 57, 81, 84. Это может указывать на предварительную обработку данных (например, округление или агрегирование).\n",
    "\n",
    "3. **Выбросы:**\n",
    "   - В `geo_data_0` выбросы обнаружены для признака `f2` с обеих сторон распределения.\n",
    "   - В `geo_data_1` выбросы значительны для признака `f1`, что подтверждается длинными хвостами распределения.\n",
    "   - В `geo_data_2` выбросы присутствуют в признаках `f0`, `f1` и `f2`."
   ]
  },
  {
   "cell_type": "markdown",
   "metadata": {},
   "source": [
    "## Корреляционный анализ"
   ]
  },
  {
   "cell_type": "markdown",
   "metadata": {},
   "source": [
    "Не все признаки распределены нормально, поэтому используем корреляцию Phik."
   ]
  },
  {
   "cell_type": "code",
   "execution_count": 196,
   "metadata": {},
   "outputs": [
    {
     "name": "stdout",
     "output_type": "stream",
     "text": [
      "geo_data_0:\n"
     ]
    },
    {
     "data": {
      "image/png": "[encoded data removed]",
      "text/plain": [
       "<Figure size 576x432 with 2 Axes>"
      ]
     },
     "metadata": {
      "needs_background": "light"
     },
     "output_type": "display_data"
    },
    {
     "name": "stdout",
     "output_type": "stream",
     "text": [
      "Пары признаков с высокой корреляцией (больше 0.9):\n",
      "Empty DataFrame\n",
      "Columns: [feature_1, feature_2, pearson_corr]\n",
      "Index: []\n",
      "\n",
      "geo_data_1:\n"
     ]
    },
    {
     "data": {
      "image/png": "[encoded data removed]",
      "text/plain": [
       "<Figure size 576x432 with 2 Axes>"
      ]
     },
     "metadata": {
      "needs_background": "light"
     },
     "output_type": "display_data"
    },
    {
     "name": "stdout",
     "output_type": "stream",
     "text": [
      "Пары признаков с высокой корреляцией (больше 0.9):\n",
      "   feature_1 feature_2  pearson_corr\n",
      "11        f2   product      0.999397\n",
      "14   product        f2      0.999397\n",
      "\n",
      "geo_data_2:\n"
     ]
    },
    {
     "data": {
      "image/png": "[encoded data removed]",
      "text/plain": [
       "<Figure size 576x432 with 2 Axes>"
      ]
     },
     "metadata": {
      "needs_background": "light"
     },
     "output_type": "display_data"
    },
    {
     "name": "stdout",
     "output_type": "stream",
     "text": [
      "Пары признаков с высокой корреляцией (больше 0.9):\n",
      "Empty DataFrame\n",
      "Columns: [feature_1, feature_2, pearson_corr]\n",
      "Index: []\n"
     ]
    }
   ],
   "source": [
    "# Функция для построения матрицы корреляций Пирсона\n",
    "def plot_pearson_correlation(data, features):\n",
    "    \"\"\"\n",
    "    Построить матрицу корреляции Пирсона для количественных признаков.\n",
    "    Вывести пары признаков с высокой корреляцией (больше 0.9) для оценки мультиколлинеарности.\n",
    "    \n",
    "    Parameters:\n",
    "    data (DataFrame): Датасет.\n",
    "    features (list): Список количественных признаков.\n",
    "    \"\"\"\n",
    "    # Вычисляем корреляционную матрицу\n",
    "    pearson_corr = data[features].corr(method='pearson')\n",
    "    \n",
    "    # Визуализация матрицы корреляций\n",
    "    plt.figure(figsize=(8, 6))\n",
    "    sns.heatmap(pearson_corr, annot=True, fmt=\".2f\", cmap=\"coolwarm\", cbar_kws={\"shrink\": 0.8})\n",
    "    plt.title(\"Матрица корреляции Пирсона\")\n",
    "    plt.show()\n",
    "\n",
    "    # Фильтрация пар с высокой корреляцией (корреляция > 0.9)\n",
    "    high_corr = pearson_corr.stack().reset_index()\n",
    "    high_corr.columns = ['feature_1', 'feature_2', 'pearson_corr']\n",
    "\n",
    "    # Убираем самокорреляцию и оставляем только высокую корреляцию\n",
    "    high_corr = high_corr[(high_corr['pearson_corr'] > 0.9) & (high_corr['feature_1'] != high_corr['feature_2'])]\n",
    "\n",
    "    print(\"Пары признаков с высокой корреляцией (больше 0.9):\")\n",
    "    print(high_corr)\n",
    "\n",
    "# Для geo_data_0\n",
    "print(\"geo_data_0:\")\n",
    "plot_pearson_correlation(geo_data_0, features)\n",
    "\n",
    "# Для geo_data_1\n",
    "print(\"\\ngeo_data_1:\")\n",
    "plot_pearson_correlation(geo_data_1, features)\n",
    "\n",
    "# Для geo_data_2\n",
    "print(\"\\ngeo_data_2:\")\n",
    "plot_pearson_correlation(geo_data_2, features)"
   ]
  },
  {
   "cell_type": "markdown",
   "metadata": {},
   "source": [
    "**Вывод по результатам анализа корреляции:**\n",
    "\n",
    "1. **geo_data_0**:\n",
    "   - Матрица корреляции показывает умеренную связь между `f2` и `product` (коэффициент корреляции 0.483663).\n",
    "   - Остальные признаки имеют низкую или отрицательную корреляцию друг с другом.\n",
    "   - Сильно коррелирующих пар признаков (с корреляцией > 0.9) не обнаружено.\n",
    "\n",
    "2. **geo_data_1**:\n",
    "   - Явно выражена очень сильная корреляция между `f2` и `product` (коэффициент корреляции 0.999397). Это указывает на почти полную линейную зависимость между этими признаками.\n",
    "   - Остальные признаки имеют слабую или практически нулевую корреляцию.\n",
    "   - Сильно коррелирующая пара `f2` и `product` (корреляция 0.999397) требует внимания, поскольку она может создать проблему мультиколлинеарности в линейной регрессии.\n",
    "\n",
    "3. **geo_data_2**:\n",
    "   - Признак `f2` имеет умеренную корреляцию с `product` (0.445871), что указывает на наличие некоторой связи, но она недостаточно сильная для мультиколлинеарности.\n",
    "   - Все остальные признаки имеют слабую или практически нулевую корреляцию.\n",
    "   - Сильно коррелирующих пар признаков (с корреляцией > 0.9) не обнаружено.\n",
    "\n",
    "---\n",
    "\n",
    "Из-за проблемы мультиколлинеарности возможно, стоило бы удалить признак `f2` в geo_data_1, однако по условию задачи, этот признак также важен, как и все остальные, поэтому оставляем."
   ]
  },
  {
   "cell_type": "markdown",
   "metadata": {},
   "source": [
    "<div class=\"alert alert-block alert-success\">\n",
    "<b>Успех:</b> Радует, что распределения и корреляции были визуализированы!\n",
    "</div>"
   ]
  },
  {
   "cell_type": "markdown",
   "metadata": {},
   "source": [
    "## Модель"
   ]
  },
  {
   "cell_type": "markdown",
   "metadata": {},
   "source": [
    "Подготовим функцию для разделения выборок и печати количества дубликатов"
   ]
  },
  {
   "cell_type": "code",
   "execution_count": 197,
   "metadata": {},
   "outputs": [],
   "source": [
    "# Функция для разделения данных на обучающую и валидационную выборки\n",
    "def create_train_val(data):\n",
    "    \"\"\"\n",
    "    Разделить данные на обучающую и валидационную выборки\n",
    "    в соотношении 75:25\n",
    "\n",
    "    Parameters:\n",
    "    data (DataFrame): Датасет для разделения\n",
    "\n",
    "    Prints: количество дубликатов после удаления id\n",
    "\n",
    "    Returns:\n",
    "    X_train, X_val, y_train, y_val: Обучающие и валидационные выборки \n",
    "    для признаков и целевой переменной\n",
    "    \"\"\"\n",
    "    X = data.drop(['product', 'id'], axis=1)\n",
    "    y = data['product'].drop(columns=['id'], errors='ignore')\n",
    "\n",
    "    duplicates = X.duplicated().sum()\n",
    "    print(f\"Количество дубликатов в тренировочной выборке: {duplicates}\")\n",
    "\n",
    "    X_train, X_val, y_train, y_val = train_test_split(X, y, test_size=0.25, random_state=RANDOM_STATE)\n",
    "\n",
    "    return X_train, X_val, y_train, y_val"
   ]
  },
  {
   "cell_type": "markdown",
   "metadata": {},
   "source": [
    "Добавим функцию расчёта RMSE"
   ]
  },
  {
   "cell_type": "code",
   "execution_count": 198,
   "metadata": {},
   "outputs": [],
   "source": [
    "# Функция для вычисления RMSE\n",
    "def root_mean_squared_error(y_true, y_pred):\n",
    "    \"\"\"Вычислить корень среднеквадратичной ошибки (RMSE)\"\"\"\n",
    "    mse = mean_squared_error(y_true, y_pred)\n",
    "    return np.sqrt(mse)\n"
   ]
  },
  {
   "cell_type": "markdown",
   "metadata": {},
   "source": [
    "Функцию для обучения модели и предсказаний.\n",
    "\n",
    "Вместо LinearRegression используем Ridge модель с регуляризацией, так как вынуждены в датасете geo_data_1 столкнуться с мультиколлинеарностью. "
   ]
  },
  {
   "cell_type": "markdown",
   "metadata": {},
   "source": [
    "<div class=\"alert alert-block alert-warning\">\n",
    "Заменил модель Ridge на Linear Regression\n",
    "</div>"
   ]
  },
  {
   "cell_type": "code",
   "execution_count": 199,
   "metadata": {},
   "outputs": [],
   "source": [
    "# Функция для обучения модели и предсказаний\n",
    "# def linear_regression_with_regularization (X_train, X_val, y_train, y_val, alpha=100000):\n",
    "#     \"\"\"\n",
    "#     Обучить модель линейной регрессии, \n",
    "#     сделать предсказания на валидационной выборке,\n",
    "#     оценить качество модели с помощью RMSE\n",
    "\n",
    "#     Parameters:\n",
    "#     X_train, X_val, y_train, y_val: Обучающие и валидационные выборки \n",
    "#     для признаков и целевой переменной\n",
    "\n",
    "#     Returns:\n",
    "#     rmse: корень среднеквадратичной ошибки\n",
    "#     pred_df: DataFrame с фактическими и предсказанными значениями\n",
    "#     \"\"\"\n",
    "#     # Обучение модели линейной регрессии\n",
    "#     model = Ridge(alpha=alpha, random_state=RANDOM_STATE)\n",
    "#     model.fit(X_train, y_train)\n",
    "\n",
    "#     # Предсказания на валидационной выборке\n",
    "#     y_pred = model.predict(X_val)\n",
    "\n",
    "#     # Оценка качества модели\n",
    "#     rmse = root_mean_squared_error(y_val, y_pred)\n",
    "\n",
    "#     # Создание DataFrame с предсказаниями\n",
    "#     pred_df = pd.DataFrame({\n",
    "#         'Actual': y_val.values,\n",
    "#         'Predicted': y_pred\n",
    "#     })\n",
    "\n",
    "#     return rmse, pred_df\n",
    "\n",
    "def linear_regression(X_train, X_val, y_train, y_val):\n",
    "    \"\"\"\n",
    "    Обучить модель линейной регрессии, \n",
    "    сделать предсказания на валидационной выборке,\n",
    "    оценить качество модели с помощью RMSE\n",
    "\n",
    "    Parameters:\n",
    "    X_train, X_val, y_train, y_val: Обучающие и валидационные выборки \n",
    "    для признаков и целевой переменной\n",
    "\n",
    "    Returns:\n",
    "    rmse: корень среднеквадратичной ошибки\n",
    "    pred_df: DataFrame с фактическими и предсказанными значениями\n",
    "    \"\"\"\n",
    "    # Обучение модели линейной регрессии\n",
    "    model = LinearRegression()\n",
    "    model.fit(X_train, y_train)\n",
    "\n",
    "    # Предсказания на валидационной выборке\n",
    "    y_pred = model.predict(X_val)\n",
    "\n",
    "    # Оценка качества модели\n",
    "    rmse = np.sqrt(mean_squared_error(y_val, y_pred))\n",
    "\n",
    "    # Создание DataFrame с предсказаниями\n",
    "    pred_df = pd.DataFrame({\n",
    "        'Actual': y_val.values,\n",
    "        'Predicted': y_pred\n",
    "    })\n",
    "\n",
    "    return rmse, pred_df\n"
   ]
  },
  {
   "cell_type": "markdown",
   "metadata": {},
   "source": [
    "Применим функции в деле."
   ]
  },
  {
   "cell_type": "code",
   "execution_count": 200,
   "metadata": {},
   "outputs": [
    {
     "name": "stdout",
     "output_type": "stream",
     "text": [
      "Количество дубликатов в тренировочной выборке: 0\n",
      "Количество дубликатов в тренировочной выборке: 0\n",
      "Количество дубликатов в тренировочной выборке: 0\n"
     ]
    }
   ],
   "source": [
    "# Разделяем данные на обучающую и валидационную выборки для каждого датасета\n",
    "X_train_0, X_val_0, y_train_0, y_val_0 = create_train_val(geo_data_0)\n",
    "X_train_1, X_val_1, y_train_1, y_val_1 = create_train_val(geo_data_1)\n",
    "X_train_2, X_val_2, y_train_2, y_val_2 = create_train_val(geo_data_2)"
   ]
  },
  {
   "cell_type": "markdown",
   "metadata": {},
   "source": [
    "Обучим модели и сделаем предсказания"
   ]
  },
  {
   "cell_type": "code",
   "execution_count": 201,
   "metadata": {},
   "outputs": [],
   "source": [
    "# Обучение моделей и предсказания\n",
    "rmse_0, pred_0 = linear_regression(X_train_0, X_val_0, y_train_0, y_val_0)\n",
    "y_pred_0 = pred_0['Predicted'].values\n",
    "\n",
    "rmse_1, pred_1 = linear_regression(X_train_1, X_val_1, y_train_1, y_val_1)\n",
    "y_pred_1 = pred_1['Predicted'].values\n",
    "\n",
    "rmse_2, pred_2 = linear_regression(X_train_2, X_val_2, y_train_2, y_val_2)\n",
    "y_pred_2 = pred_2['Predicted'].values"
   ]
  },
  {
   "cell_type": "code",
   "execution_count": 202,
   "metadata": {},
   "outputs": [
    {
     "name": "stdout",
     "output_type": "stream",
     "text": [
      "RMSE для geo_data_0: 37.75660035026169\n",
      "RMSE для geo_data_1: 0.890280100102884\n",
      "RMSE для geo_data_2: 40.145872311342174\n"
     ]
    }
   ],
   "source": [
    "print(f'RMSE для geo_data_0: {rmse_0}')\n",
    "print(f'RMSE для geo_data_1: {rmse_1}')\n",
    "print(f'RMSE для geo_data_2: {rmse_2}')"
   ]
  },
  {
   "cell_type": "markdown",
   "metadata": {},
   "source": [
    "**Выводы**\n",
    "\n",
    "**Максимальная точность:**\n",
    "   - `geo_data_1` демонстрирует наилучшее качество модели (самое низкое RMSE). Это точно связано с мультиколлинеарностью между признаками `f2` и `product`.\n",
    "\n",
    "**Остальные:**\n",
    "   - `geo_data_0` и `geo_data_2` показывают - RMSE около 40. В датасетах отсутствует мультиколлинеарность между признаками и предсказательная способность моделей примерно одинаковая."
   ]
  },
  {
   "cell_type": "markdown",
   "metadata": {},
   "source": [
    "<div class=\"alert alert-block alert-danger\">\n",
    "<b>Ошибка:</b> Попробуй еще и другие модели. Например, линейную регрессию.\n",
    "</div>"
   ]
  },
  {
   "cell_type": "markdown",
   "metadata": {},
   "source": [
    "<div class=\"alert alert-block alert-warning\">\n",
    "Поменял модель выше\n",
    "</div>"
   ]
  },
  {
   "cell_type": "markdown",
   "metadata": {},
   "source": [
    "# Задача 2: Подготовка к расчёту прибыли"
   ]
  },
  {
   "cell_type": "code",
   "execution_count": 203,
   "metadata": {},
   "outputs": [
    {
     "name": "stdout",
     "output_type": "stream",
     "text": [
      "Доход с каждой единицы продукта: 450000 рублей\n",
      "Достаточный объём сырья для безубыточной разработки (тыс. баррелей): 111.11\n"
     ]
    }
   ],
   "source": [
    "# Подготовка к расчёту прибыли\n",
    "BUDGET = 10_000_000_000  # Бюджет на разработку (рублей)\n",
    "N_WELLS = 200  # Количество скважин для разработки\n",
    "WELL_COST = BUDGET / N_WELLS # Стоимость бурения одной скважины (рублей)\n",
    "BARREL_PRICE = 450  # Цена за баррель (рублей)\n",
    "\n",
    "# Расчёт дохода с 1 единицы продукта (в тысячах баррелей)\n",
    "REVENUE_PER_UNIT = BARREL_PRICE * 1_000\n",
    "print(f\"Доход с каждой единицы продукта: {REVENUE_PER_UNIT} рублей\")\n",
    "\n",
    "# Достаточный объём сырья для безубыточной разработки\n",
    "BREAK_EVEN_VOLUME = WELL_COST / REVENUE_PER_UNIT\n",
    "print(f\"Достаточный объём сырья для безубыточной разработки (тыс. баррелей): {BREAK_EVEN_VOLUME:.2f}\")"
   ]
  },
  {
   "cell_type": "markdown",
   "metadata": {},
   "source": [
    "**Выводы по этапу подготовки расчёта прибыли:**\n",
    "\n",
    "1. **Исходные параметры для расчёта прибыли:**\n",
    "   - **Бюджет на разработку:** 10 миллиардов рублей.\n",
    "   - **Стоимость бурения одной скважины:** 50 миллионов рублей.\n",
    "   - **Цена за баррель нефти:** 450 рублей.\n",
    "   - **Количество скважин для разработки:** 200.\n",
    "   - **Доход с каждой единицы продукта:** 450,000 рублей (за 1 тыс. баррелей).\n",
    "\n",
    "2. **Достаточный объём сырья для безубыточной разработки:**\n",
    "   - Для покрытия затрат на одну скважину необходимо добыть не менее: 111.11 тыс. баррелей на скважину.\n",
    "\n",
    "3. **Анализ расчётов:**\n",
    "   - Этот объём (111.11 тыс. баррелей) — минимальное значение для достижения безубыточности при разработке одной скважины.\n",
    "   - Если средний объём сырья на выбранных для разработки скважинах будет ниже этого значения, проект будет убыточным."
   ]
  },
  {
   "cell_type": "markdown",
   "metadata": {},
   "source": [
    "**Выводы по этапу подготовки расчёта прибыли:**\n",
    "\n",
    "1. **Исходные параметры для расчёта прибыли:**\n",
    "   - **Бюджет на разработку:** 10 миллиардов рублей.\n",
    "   - **Стоимость бурения одной скважины:** 50 миллионов рублей.\n",
    "   - **Цена за баррель нефти:** 450 рублей.\n",
    "   - **Количество скважин для разработки:** 200.\n",
    "   - **Доход с каждой единицы продукта:** 450,000 рублей (за 1 тыс. баррелей).\n",
    "\n",
    "2. **Достаточный объём сырья для безубыточной разработки:**\n",
    "   - Для покрытия затрат на одну скважину необходимо добыть не менее: 111.11 тыс. баррелей на скважину.\n",
    "\n",
    "3. **Анализ расчётов:**\n",
    "   - Этот объём (111.11 тыс. баррелей) — минимальное значение для достижения безубыточности при разработке одной скважины.\n",
    "   - Если средний объём сырья на выбранных для разработки скважинах будет ниже этого значения, проект будет убыточным."
   ]
  },
  {
   "cell_type": "markdown",
   "metadata": {},
   "source": [
    "<div class=\"alert alert-block alert-success\">\n",
    "<b>Успех:</b> Точка безубыточности найдена верно, сравнение проведено!\n",
    "</div>"
   ]
  },
  {
   "cell_type": "markdown",
   "metadata": {},
   "source": [
    "# Задача 3: Расчёт прибыли и выбор точек для разработки"
   ]
  },
  {
   "cell_type": "markdown",
   "metadata": {},
   "source": [
    "Подготовим функцию, которая будет получать на вход предсказанные значения, фактические значения прибыли, количество скважин для разработки, доход с каждой скважины и стоимость бурения одной скважины."
   ]
  },
  {
   "cell_type": "code",
   "execution_count": 204,
   "metadata": {},
   "outputs": [],
   "source": [
    "# Функция для расчёта прибыли по выбранным скважинам\n",
    "def calculate_profit(predictions, target, n_wells, revenue_per_unit, well_cost):\n",
    "    \"\"\"\n",
    "    Рассчитать прибыль для выбранных скважин с учётом затрат на бурение.\n",
    "\n",
    "    Parameters:\n",
    "    predictions (array-like): Предсказанные значения объёмов сырья.\n",
    "    target (array-like): Фактические значения объёмов сырья.\n",
    "    n_wells (int): Количество скважин для разработки.\n",
    "    revenue_per_unit (float): Доход с каждой единицы продукта (в тысячах баррелей).\n",
    "    well_cost (float): Стоимость бурения одной скважины.\n",
    "\n",
    "    Returns:\n",
    "    total_profit (float): Общая прибыль с учётом затрат.\n",
    "    \"\"\"\n",
    "    # Создание DataFrame для сортировки\n",
    "    data = pd.DataFrame({\n",
    "        'Predicted': predictions,\n",
    "        'Actual': target\n",
    "    })\n",
    "    \n",
    "    # Выбор n_wells с максимальными предсказанными значениями\n",
    "    top_wells = data.nlargest(n_wells, 'Predicted')\n",
    "\n",
    "    # Суммируем фактические объёмы сырья для выбранных скважин\n",
    "    total_volume = top_wells['Actual'].sum()\n",
    "\n",
    "    # Рассчитываем прибыль\n",
    "    total_profit = (total_volume * revenue_per_unit) - (n_wells * well_cost)\n",
    "\n",
    "    return total_profit\n"
   ]
  },
  {
   "cell_type": "markdown",
   "metadata": {},
   "source": [
    "## Bootstrap"
   ]
  },
  {
   "cell_type": "markdown",
   "metadata": {},
   "source": [
    "Подготовим функцию, которая будет применять технику Bootstrap для построения распределения прибыли."
   ]
  },
  {
   "cell_type": "code",
   "execution_count": 205,
   "metadata": {},
   "outputs": [],
   "source": [
    "# Функция для применения Bootstrap и нахождения распределения прибыли\n",
    "def bootstrap_profit(predictions, target, n_wells, revenue_per_unit, well_cost, n_iterations=1000, random_state=RANDOM_STATE):\n",
    "    \"\"\"\n",
    "    Применить технику Bootstrap для оценки распределения прибыли.\n",
    "\n",
    "    Parameters:\n",
    "    predictions (array-like): Предсказанные значения объёмов сырья.\n",
    "    target (array-like): Фактические значения объёмов сырья.\n",
    "    n_wells (int): Количество скважин для разработки.\n",
    "    revenue_per_unit (float): Доход с каждой единицы продукта (в тысячах баррелей).\n",
    "    n_iterations (int): Количество итераций Bootstrap.\n",
    "    random_state (int): Фиксированный seed для воспроизводимости.\n",
    "\n",
    "    Returns:\n",
    "    profits (list): Список рассчитанных прибылей для каждой итерации.\n",
    "    \"\"\"\n",
    "    np.random.seed(random_state)\n",
    "    profits = []\n",
    "\n",
    "    for _ in range(n_iterations):\n",
    "        # Bootstrap выборка\n",
    "        indices = np.random.choice(len(predictions), size=len(predictions), replace=True)\n",
    "        sampled_predictions = predictions[indices]\n",
    "        sampled_target = target[indices]\n",
    "\n",
    "        # Рассчитываем прибыль для текущей выборки\n",
    "        profit = calculate_profit(sampled_predictions, sampled_target, n_wells, revenue_per_unit, well_cost)\n",
    "        profits.append(profit)\n",
    "\n",
    "    return profits"
   ]
  },
  {
   "cell_type": "markdown",
   "metadata": {},
   "source": [
    "Добавим функцию для выборки 500 случайных точек для разработки."
   ]
  },
  {
   "cell_type": "code",
   "execution_count": 206,
   "metadata": {},
   "outputs": [],
   "source": [
    "# Функция для выборки 500 случайных точек\n",
    "def select_random_points(predictions_df, n_points=500):\n",
    "    \"\"\"\n",
    "    Выбрать случайные точки из предсказаний валидационной выборки.\n",
    "\n",
    "    Parameters:\n",
    "    predictions_df (DataFrame): DataFrame с предсказаниями и фактическими значениями.\n",
    "    n_points (int): Количество случайных точек для выборки.\n",
    "\n",
    "    Returns:\n",
    "    sampled_data (DataFrame): Случайная выборка из валидационной выборки.\n",
    "    \"\"\"\n",
    "    return predictions_df.sample(n=n_points, random_state=RANDOM_STATE)"
   ]
  },
  {
   "cell_type": "markdown",
   "metadata": {},
   "source": [
    "Добавим функцию выбора 200 лучших из выбранных ранее 500 точек."
   ]
  },
  {
   "cell_type": "code",
   "execution_count": 207,
   "metadata": {},
   "outputs": [],
   "source": [
    "# Функция для выборки 200 лучших точек из 500 случайных точек\n",
    "def select_top_wells(data, n_wells=200):\n",
    "    \"\"\"\n",
    "    Выбрать лучшие точки для разработки на основе предсказаний.\n",
    "\n",
    "    Parameters:\n",
    "    data (DataFrame): Датасет с предсказаниями.\n",
    "    n_wells (int): Количество лучших точек для выборки.\n",
    "\n",
    "    Returns:\n",
    "    top_wells (DataFrame): Выбранные точки для разработки.\n",
    "    \"\"\"\n",
    "    top_wells = data.nlargest(n_wells, 'Predicted')\n",
    "    return top_wells"
   ]
  },
  {
   "cell_type": "markdown",
   "metadata": {},
   "source": [
    "Добавим функцию для анализа распределения прибыли."
   ]
  },
  {
   "cell_type": "code",
   "execution_count": 208,
   "metadata": {},
   "outputs": [],
   "source": [
    "# Функция для анализа распределения прибыли\n",
    "def analyze_profits(profits):\n",
    "    \"\"\"\n",
    "    Анализ распределения прибыли: средняя прибыль, доверительный интервал и риск убытков.\n",
    "\n",
    "    Parameters:\n",
    "    profits (list): Список рассчитанных прибылей.\n",
    "\n",
    "    Returns:\n",
    "    mean_profit (float): Средняя прибыль.\n",
    "    confidence_interval (tuple): 95%-й доверительный интервал.\n",
    "    loss_risk (float): Риск убытков (доля отрицательных прибылей).\n",
    "    \"\"\"\n",
    "    mean_profit = np.mean(profits)\n",
    "    confidence_interval = np.percentile(profits, [2.5, 97.5])\n",
    "    loss_risk = (np.array(profits) < 0).mean()\n",
    "\n",
    "    return mean_profit, confidence_interval, loss_risk"
   ]
  },
  {
   "cell_type": "markdown",
   "metadata": {},
   "source": [
    "Получим 200 лучших точек из 500 выбранных по валидационной выборке."
   ]
  },
  {
   "cell_type": "code",
   "execution_count": 209,
   "metadata": {},
   "outputs": [],
   "source": [
    "# Получаем выборки 200 лучших скважин из 500 точек по каждому региону\n",
    "sampled_val_0 = select_random_points(pred_0, n_points=500)\n",
    "top_wells_0 = select_top_wells(sampled_val_0, n_wells=200)\n",
    "\n",
    "sampled_val_1 = select_random_points(pred_1, n_points=500)\n",
    "top_wells_1 = select_top_wells(sampled_val_1, n_wells=200)\n",
    "\n",
    "sampled_val_2 = select_random_points(pred_2, n_points=500)\n",
    "top_wells_2 = select_top_wells(sampled_val_2, n_wells=200)"
   ]
  },
  {
   "cell_type": "markdown",
   "metadata": {},
   "source": [
    "# Задача 4: Оценка рисков и выбор региона"
   ]
  },
  {
   "cell_type": "code",
   "execution_count": 210,
   "metadata": {},
   "outputs": [
    {
     "name": "stdout",
     "output_type": "stream",
     "text": [
      "Общая прибыль для geo_data_0: 0.18 млрд рублей\n",
      "Общая прибыль для geo_data_1: 0.44 млрд рублей\n",
      "Общая прибыль для geo_data_2: 0.47 млрд рублей\n"
     ]
    }
   ],
   "source": [
    "# Подсчёт прибыли\n",
    "profit_0 = calculate_profit(top_wells_0['Predicted'], top_wells_0['Actual'], N_WELLS, REVENUE_PER_UNIT, WELL_COST)\n",
    "profit_1 = calculate_profit(top_wells_1['Predicted'], top_wells_1['Actual'], N_WELLS, REVENUE_PER_UNIT, WELL_COST)\n",
    "profit_2 = calculate_profit(top_wells_2['Predicted'], top_wells_2['Actual'], N_WELLS, REVENUE_PER_UNIT, WELL_COST)\n",
    "\n",
    "print(f\"Общая прибыль для geo_data_0: {profit_0 / 1e9:.2f} млрд рублей\")\n",
    "print(f\"Общая прибыль для geo_data_1: {profit_1 / 1e9:.2f} млрд рублей\")\n",
    "print(f\"Общая прибыль для geo_data_2: {profit_2 / 1e9:.2f} млрд рублей\")"
   ]
  },
  {
   "cell_type": "code",
   "execution_count": 211,
   "metadata": {},
   "outputs": [],
   "source": [
    "# Применение Bootstrap\n",
    "profits_0 = bootstrap_profit(top_wells_0['Predicted'].values, top_wells_0['Actual'].values, N_WELLS, REVENUE_PER_UNIT, WELL_COST)\n",
    "profits_1 = bootstrap_profit(top_wells_1['Predicted'].values, top_wells_1['Actual'].values, N_WELLS, REVENUE_PER_UNIT, WELL_COST)\n",
    "profits_2 = bootstrap_profit(top_wells_2['Predicted'].values, top_wells_2['Actual'].values, N_WELLS, REVENUE_PER_UNIT, WELL_COST)"
   ]
  },
  {
   "cell_type": "code",
   "execution_count": 212,
   "metadata": {},
   "outputs": [
    {
     "name": "stdout",
     "output_type": "stream",
     "text": [
      "Средняя прибыль для geo_data_0: 0.18 млрд рублей, 95%-й доверительный интервал: [-0.35548048  0.67049744], риск убытков: 23.80%\n",
      "Средняя прибыль для geo_data_1: 0.44 млрд рублей, 95%-й доверительный интервал: [0.21579856 0.67973779], риск убытков: 0.00%\n",
      "Средняя прибыль для geo_data_2: 0.46 млрд рублей, 95%-й доверительный интервал: [-0.02542297  0.93230132], риск убытков: 3.20%\n"
     ]
    }
   ],
   "source": [
    "# Анализ распределения прибыли\n",
    "mean_profit_0, conf_int_0, risk_0 = analyze_profits(profits_0)\n",
    "mean_profit_1, conf_int_1, risk_1 = analyze_profits(profits_1)\n",
    "mean_profit_2, conf_int_2, risk_2 = analyze_profits(profits_2)\n",
    "\n",
    "print(f\"Средняя прибыль для geo_data_0: {mean_profit_0 / 1e9:.2f} млрд рублей, 95%-й доверительный интервал: {conf_int_0 / 1e9}, риск убытков: {risk_0:.2%}\")\n",
    "print(f\"Средняя прибыль для geo_data_1: {mean_profit_1 / 1e9:.2f} млрд рублей, 95%-й доверительный интервал: {conf_int_1 / 1e9}, риск убытков: {risk_1:.2%}\")\n",
    "print(f\"Средняя прибыль для geo_data_2: {mean_profit_2 / 1e9:.2f} млрд рублей, 95%-й доверительный интервал: {conf_int_2 / 1e9}, риск убытков: {risk_2:.2%}\")"
   ]
  },
  {
   "cell_type": "markdown",
   "metadata": {},
   "source": [
    "<div class=\"alert alert-block alert-success\">\n",
    "<b>Успех:</b> Отлично, что для подсчета доверительного интервала использовался именно метод квантилей!\n",
    "</div>\n",
    "\n",
    "<div class=\"alert alert-block alert-success\">\n",
    "<b>Успех:</b> Риск найден очень элегантно.\n",
    "</div>"
   ]
  },
  {
   "cell_type": "markdown",
   "metadata": {},
   "source": [
    "**Выводы:**\n",
    "\n",
    "1. **Средняя прибыль по регионам:**\n",
    "   - **geo_data_0:** Средняя прибыль составляет **0.18 млрд рублей**, что говорит о высоких рисках убытков. Риск убытков составляет **23.80%**, а 95%-й доверительный интервал включает как отрицательные, так и положительные значения прибыли. Это делает регион неподходящим для разработки.\n",
    "   - **geo_data_1:** Средняя прибыль составляет **0.44 млрд рублей**, доверительный интервал находится в положительной области (**[0.21, 0.68] млрд рублей**), а риск убытков равен **0.00%**, что делает этот регион наиболее стабильным и безопасным.\n",
    "   - **geo_data_2:** Средняя прибыль составляет **0.46 млрд рублей**, но доверительный интервал (**[-0.03, 0.93] млрд рублей**) включает отрицательные значения. Риск убытков составляет **3.20%**, что выше допустимого уровня (**2.5%**).\n",
    "\n",
    "2. **Анализ рисков:**\n",
    "   - Регион **geo_data_0** имеет наивысший риск убытков, который составляет более половины случаев (**23.80%**), что делает его неподходящим для разработки.\n",
    "   - Регион **geo_data_1** имеет нулевой риск убытков и стабильные значения прибыли, что делает его предпочтительным выбором.\n",
    "   - Регион **geo_data_2**, хотя и демонстрирует немного более высокую среднюю прибыль, всё же имеет риск убытков в **3.20%**, что превышает допустимый уровень риска в **2.5%**."
   ]
  },
  {
   "cell_type": "markdown",
   "metadata": {},
   "source": [
    "# Общий вывод"
   ]
  },
  {
   "cell_type": "markdown",
   "metadata": {},
   "source": [
    "**Описание задачи**\n",
    "\n",
    "Компания «ГлавРосГосНефть» планирует бурение новых нефтяных скважин в трёх регионах. Цель проекта — разработка моделей для предсказания объёмов нефти, расчёт ожидаемой прибыли и оценка рисков. Итоговый выбор региона для разработки основывается на минимизации рисков и максимизации прибыли. Успешная реализация позволит компании повысить эффективность инвестиций и минимизировать убытки.\n",
    "\n",
    "---\n",
    "\n",
    "**Этапы работы**\n",
    "\n",
    "**1. Анализ и подготовка данных**\n",
    "- Загружены и изучены данные по трём регионам. Каждый набор содержит:\n",
    "  - Признаки `f0`, `f1`, `f2`, влияющие на объёмы добычи.\n",
    "  - Целевой признак `product` — объём запасов нефти.\n",
    "- Проведена проверка на пропуски и дубликаты. Пропуски отсутствуют.\n",
    "- Данные разделены на обучающую и валидационную выборки (75:25). Размеры валидационных выборок составили по 25,000 строк.\n",
    "\n",
    "---\n",
    "\n",
    "**2. Построение моделей**\n",
    "- Для предсказания объёмов нефти обучены модели линейной регрессии с использованием Ridge-регуляризации.\n",
    "- Качество моделей оценено с помощью RMSE:\n",
    "  - **geo_data_0:** 38.33 тыс. баррелей.\n",
    "  - **geo_data_1:** 14.48 тыс. баррелей (наилучший результат благодаря высокой корреляции между `f2` и `product`).\n",
    "  - **geo_data_2:** 40.19 тыс. баррелей.\n",
    "\n",
    "---\n",
    "\n",
    "**3. Расчёт прибыли**\n",
    "- Выборка для анализа: случайно выбраны 500 точек из валидационной выборки каждого региона.\n",
    "- Из них отобраны 200 лучших точек с максимальными предсказаниями.\n",
    "- Рассчитана прибыль с учётом следующих параметров:\n",
    "  - Бюджет разработки: 10 млрд рублей.\n",
    "  - Затраты на бурение одной скважины: 50 млн рублей.\n",
    "  - Цена за баррель нефти: 450 рублей.\n",
    "\n",
    "---\n",
    "\n",
    "**4. Оценка рисков**\n",
    "- Для оценки рисков применена техника Bootstrap (1000 итераций).\n",
    "- Вычислены средняя прибыль, доверительный интервал (95%) и вероятность убытков:\n",
    "  - **geo_data_0:** Средняя прибыль: **-0.00 млрд рублей**. Риск убытков: **23.80%**.\n",
    "  - **geo_data_1:** Средняя прибыль: **0.44 млрд рублей**. Риск убытков: **0.00%**.\n",
    "  - **geo_data_2:** Средняя прибыль: **0.46 млрд рублей**. Риск убытков: **3.20%**.\n",
    "\n",
    "---\n",
    "\n",
    "**Результаты и выводы**\n",
    "\n",
    "1. **Средняя прибыль и риски:**\n",
    "   - Регион **geo_data_0** показывает высокий риск убытков (23.80%) и не является экономически выгодным.\n",
    "   - Регион **geo_data_1** демонстрирует стабильные показатели: средняя прибыль 0.44 млрд рублей, отсутствие риска убытков.\n",
    "   - Регион **geo_data_2**, хотя и имеет чуть более высокую среднюю прибыль (0.46 млрд рублей), превышает допустимый уровень риска убытков (3.20% > 2.5%).\n",
    "\n",
    "2. **Наиболее перспективный регион:**\n",
    "   - **geo_data_1**. Этот регион предлагает наиболее безопасные и стабильные условия разработки.\n",
    "\n",
    "---"
   ]
  },
  {
   "cell_type": "markdown",
   "metadata": {},
   "source": [
    "<div class=\"alert alert-block alert-success\">\n",
    "<b>Успех:</b> Приятно видеть подробный вывод в конце проекта!\n",
    "</div>"
   ]
  },
  {
   "cell_type": "markdown",
   "metadata": {},
   "source": [
    "## Чек-лист готовности проекта"
   ]
  },
  {
   "cell_type": "markdown",
   "metadata": {},
   "source": [
    "Поставьте 'x' в выполненных пунктах. Далее нажмите Shift+Enter."
   ]
  },
  {
   "cell_type": "markdown",
   "metadata": {},
   "source": [
    "- [x]  Jupyter Notebook открыт\n",
    "- [x]  Весь код выполняется без ошибок\n",
    "- [x]  Ячейки с кодом расположены в порядке исполнения\n",
    "- [x]  Выполнен шаг 1: данные подготовлены\n",
    "- [x]  Выполнен шаг 2: модели обучены и проверены\n",
    "    - [x]  Данные корректно разбиты на обучающую и валидационную выборки\n",
    "    - [x]  Модели обучены, предсказания сделаны\n",
    "    - [x]  Предсказания и правильные ответы на валидационной выборке сохранены\n",
    "    - [x]  На экране напечатаны результаты\n",
    "    - [x]  Сделаны выводы\n",
    "- [x]  Выполнен шаг 3: проведена подготовка к расчёту прибыли\n",
    "    - [x]  Для всех ключевых значений созданы константы Python\n",
    "    - [x]  Посчитано минимальное среднее количество продукта в месторождениях региона, достаточное для разработки\n",
    "    - [x]  По предыдущему пункту сделаны выводы\n",
    "    - [x]  Написана функция расчёта прибыли\n",
    "- [x]  Выполнен шаг 4: посчитаны риски и прибыль\n",
    "    - [x]  Проведена процедура *Bootstrap*\n",
    "    - [x]  Все параметры бутстрепа соответствуют условию\n",
    "    - [x]  Найдены все нужные величины\n",
    "    - [x]  Предложен регион для разработки месторождения\n",
    "    - [x]  Выбор региона обоснован"
   ]
  },
  {
   "cell_type": "code",
   "execution_count": null,
   "metadata": {},
   "outputs": [],
   "source": []
  }
 ],
 "metadata": {
  "ExecuteTimeLog": [
   {
    "duration": 93,
    "start_time": "2025-01-04T12:00:32.239Z"
   },
   {
    "duration": 3,
    "start_time": "2025-01-04T12:02:47.021Z"
   },
   {
    "duration": 1773,
    "start_time": "2025-01-04T12:03:17.584Z"
   },
   {
    "duration": 101,
    "start_time": "2025-01-04T12:03:53.100Z"
   },
   {
    "duration": 11287,
    "start_time": "2025-01-04T12:04:35.452Z"
   },
   {
    "duration": 5,
    "start_time": "2025-01-04T12:05:05.426Z"
   },
   {
    "duration": 132,
    "start_time": "2025-01-04T12:05:13.676Z"
   },
   {
    "duration": 83,
    "start_time": "2025-01-04T12:05:52.644Z"
   },
   {
    "duration": 1041,
    "start_time": "2025-01-04T12:06:01.031Z"
   },
   {
    "duration": 4,
    "start_time": "2025-01-04T12:06:37.992Z"
   },
   {
    "duration": 4,
    "start_time": "2025-01-04T12:06:48.469Z"
   },
   {
    "duration": 4,
    "start_time": "2025-01-04T12:07:07.062Z"
   },
   {
    "duration": 76,
    "start_time": "2025-01-04T12:07:18.229Z"
   },
   {
    "duration": 38,
    "start_time": "2025-01-04T12:07:30.353Z"
   },
   {
    "duration": 3,
    "start_time": "2025-01-04T12:07:35.357Z"
   },
   {
    "duration": 6,
    "start_time": "2025-01-04T12:08:00.138Z"
   },
   {
    "duration": 4,
    "start_time": "2025-01-04T12:08:43.371Z"
   },
   {
    "duration": 4,
    "start_time": "2025-01-04T12:09:05.862Z"
   },
   {
    "duration": 3,
    "start_time": "2025-01-04T12:09:23.381Z"
   },
   {
    "duration": 3,
    "start_time": "2025-01-04T12:09:40.596Z"
   },
   {
    "duration": 4,
    "start_time": "2025-01-04T12:09:53.464Z"
   },
   {
    "duration": 9,
    "start_time": "2025-01-04T12:10:09.662Z"
   },
   {
    "duration": 10,
    "start_time": "2025-01-04T12:10:23.246Z"
   },
   {
    "duration": 3194,
    "start_time": "2025-01-04T12:10:29.681Z"
   },
   {
    "duration": 7,
    "start_time": "2025-01-04T12:10:33.890Z"
   },
   {
    "duration": 4,
    "start_time": "2025-01-04T12:11:27.675Z"
   },
   {
    "duration": 543,
    "start_time": "2025-01-04T12:11:27.680Z"
   },
   {
    "duration": 107,
    "start_time": "2025-01-04T12:11:28.224Z"
   },
   {
    "duration": 11421,
    "start_time": "2025-01-04T12:11:28.333Z"
   },
   {
    "duration": 5,
    "start_time": "2025-01-04T12:11:39.755Z"
   },
   {
    "duration": 177,
    "start_time": "2025-01-04T12:11:39.762Z"
   },
   {
    "duration": 950,
    "start_time": "2025-01-04T12:11:39.941Z"
   },
   {
    "duration": 5,
    "start_time": "2025-01-04T12:11:40.893Z"
   },
   {
    "duration": 17,
    "start_time": "2025-01-04T12:11:40.900Z"
   },
   {
    "duration": 5,
    "start_time": "2025-01-04T12:11:40.919Z"
   },
   {
    "duration": 85,
    "start_time": "2025-01-04T12:11:40.925Z"
   },
   {
    "duration": 84,
    "start_time": "2025-01-04T12:11:41.012Z"
   },
   {
    "duration": 4,
    "start_time": "2025-01-04T12:11:41.188Z"
   },
   {
    "duration": 94,
    "start_time": "2025-01-04T12:11:41.194Z"
   },
   {
    "duration": 13,
    "start_time": "2025-01-04T12:11:41.290Z"
   },
   {
    "duration": 10,
    "start_time": "2025-01-04T12:11:41.304Z"
   },
   {
    "duration": 11,
    "start_time": "2025-01-04T12:11:41.315Z"
   },
   {
    "duration": 4,
    "start_time": "2025-01-04T12:11:41.328Z"
   },
   {
    "duration": 7,
    "start_time": "2025-01-04T12:11:41.334Z"
   },
   {
    "duration": 23,
    "start_time": "2025-01-04T12:11:41.342Z"
   },
   {
    "duration": 29,
    "start_time": "2025-01-04T12:11:41.367Z"
   },
   {
    "duration": 3124,
    "start_time": "2025-01-04T12:11:41.398Z"
   },
   {
    "duration": 6,
    "start_time": "2025-01-04T12:11:44.524Z"
   },
   {
    "duration": 6587,
    "start_time": "2025-01-04T12:36:05.094Z"
   },
   {
    "duration": 1782,
    "start_time": "2025-01-04T12:36:11.683Z"
   },
   {
    "duration": 126,
    "start_time": "2025-01-04T12:36:13.467Z"
   },
   {
    "duration": 11569,
    "start_time": "2025-01-04T12:36:13.595Z"
   },
   {
    "duration": 5,
    "start_time": "2025-01-04T12:36:25.166Z"
   },
   {
    "duration": 160,
    "start_time": "2025-01-04T12:36:25.172Z"
   },
   {
    "duration": 1140,
    "start_time": "2025-01-04T12:36:25.334Z"
   },
   {
    "duration": 12,
    "start_time": "2025-01-04T12:36:26.476Z"
   },
   {
    "duration": 6,
    "start_time": "2025-01-04T12:36:26.490Z"
   },
   {
    "duration": 5,
    "start_time": "2025-01-04T12:36:26.497Z"
   },
   {
    "duration": 89,
    "start_time": "2025-01-04T12:36:26.503Z"
   },
   {
    "duration": 102,
    "start_time": "2025-01-04T12:36:26.594Z"
   },
   {
    "duration": 4,
    "start_time": "2025-01-04T12:36:26.788Z"
   },
   {
    "duration": 5,
    "start_time": "2025-01-04T12:36:38.834Z"
   },
   {
    "duration": 76,
    "start_time": "2025-01-04T12:36:39.544Z"
   },
   {
    "duration": 115,
    "start_time": "2025-01-04T12:36:40.191Z"
   },
   {
    "duration": 3,
    "start_time": "2025-01-04T12:36:40.563Z"
   },
   {
    "duration": 4,
    "start_time": "2025-01-04T12:36:49.153Z"
   },
   {
    "duration": 76,
    "start_time": "2025-01-04T12:36:49.482Z"
   },
   {
    "duration": 94,
    "start_time": "2025-01-04T12:36:49.896Z"
   },
   {
    "duration": 3,
    "start_time": "2025-01-04T12:36:50.809Z"
   },
   {
    "duration": 5,
    "start_time": "2025-01-04T12:36:53.651Z"
   },
   {
    "duration": 75,
    "start_time": "2025-01-04T12:36:53.983Z"
   },
   {
    "duration": 35,
    "start_time": "2025-01-04T12:36:54.254Z"
   },
   {
    "duration": 4,
    "start_time": "2025-01-04T12:36:54.581Z"
   },
   {
    "duration": 3,
    "start_time": "2025-01-04T12:55:22.409Z"
   },
   {
    "duration": 4,
    "start_time": "2025-01-04T12:55:32.517Z"
   },
   {
    "duration": 553,
    "start_time": "2025-01-04T12:55:32.523Z"
   },
   {
    "duration": 127,
    "start_time": "2025-01-04T12:55:33.077Z"
   },
   {
    "duration": 11961,
    "start_time": "2025-01-04T12:55:33.207Z"
   },
   {
    "duration": 7,
    "start_time": "2025-01-04T12:55:45.170Z"
   },
   {
    "duration": 180,
    "start_time": "2025-01-04T12:55:45.186Z"
   },
   {
    "duration": 934,
    "start_time": "2025-01-04T12:55:45.368Z"
   },
   {
    "duration": 5,
    "start_time": "2025-01-04T12:55:46.303Z"
   },
   {
    "duration": 28,
    "start_time": "2025-01-04T12:55:46.310Z"
   },
   {
    "duration": 6,
    "start_time": "2025-01-04T12:55:46.341Z"
   },
   {
    "duration": 78,
    "start_time": "2025-01-04T12:55:46.348Z"
   },
   {
    "duration": 262,
    "start_time": "2025-01-04T12:55:46.427Z"
   },
   {
    "duration": 4,
    "start_time": "2025-01-04T12:55:46.691Z"
   },
   {
    "duration": 90,
    "start_time": "2025-01-04T12:55:46.697Z"
   },
   {
    "duration": 5,
    "start_time": "2025-01-04T12:55:46.789Z"
   },
   {
    "duration": 92,
    "start_time": "2025-01-04T12:55:46.796Z"
   },
   {
    "duration": 50,
    "start_time": "2025-01-04T12:55:46.890Z"
   },
   {
    "duration": 7,
    "start_time": "2025-01-04T12:55:46.942Z"
   },
   {
    "duration": 7,
    "start_time": "2025-01-04T12:55:46.950Z"
   },
   {
    "duration": 27,
    "start_time": "2025-01-04T12:55:46.959Z"
   },
   {
    "duration": 12,
    "start_time": "2025-01-04T12:55:46.987Z"
   },
   {
    "duration": 3453,
    "start_time": "2025-01-04T12:55:47.000Z"
   },
   {
    "duration": 7,
    "start_time": "2025-01-04T12:55:50.455Z"
   },
   {
    "duration": 4,
    "start_time": "2025-01-04T12:56:31.256Z"
   },
   {
    "duration": 505,
    "start_time": "2025-01-04T12:56:31.262Z"
   },
   {
    "duration": 100,
    "start_time": "2025-01-04T12:56:31.770Z"
   },
   {
    "duration": 11980,
    "start_time": "2025-01-04T12:56:31.886Z"
   },
   {
    "duration": 4,
    "start_time": "2025-01-04T12:56:43.869Z"
   },
   {
    "duration": 195,
    "start_time": "2025-01-04T12:56:43.875Z"
   },
   {
    "duration": 906,
    "start_time": "2025-01-04T12:56:44.071Z"
   },
   {
    "duration": 4,
    "start_time": "2025-01-04T12:56:44.986Z"
   },
   {
    "duration": 9,
    "start_time": "2025-01-04T12:56:44.991Z"
   },
   {
    "duration": 28,
    "start_time": "2025-01-04T12:56:45.002Z"
   },
   {
    "duration": 98,
    "start_time": "2025-01-04T12:56:45.033Z"
   },
   {
    "duration": 63,
    "start_time": "2025-01-04T12:56:45.133Z"
   },
   {
    "duration": 4,
    "start_time": "2025-01-04T12:56:45.288Z"
   },
   {
    "duration": 110,
    "start_time": "2025-01-04T12:56:45.293Z"
   },
   {
    "duration": 8,
    "start_time": "2025-01-04T12:56:45.405Z"
   },
   {
    "duration": 15,
    "start_time": "2025-01-04T12:56:45.414Z"
   },
   {
    "duration": 28,
    "start_time": "2025-01-04T12:56:45.431Z"
   },
   {
    "duration": 6,
    "start_time": "2025-01-04T12:56:45.461Z"
   },
   {
    "duration": 12,
    "start_time": "2025-01-04T12:56:45.469Z"
   },
   {
    "duration": 22,
    "start_time": "2025-01-04T12:56:45.482Z"
   },
   {
    "duration": 9,
    "start_time": "2025-01-04T12:56:45.506Z"
   },
   {
    "duration": 3149,
    "start_time": "2025-01-04T12:56:45.517Z"
   },
   {
    "duration": 7,
    "start_time": "2025-01-04T12:56:48.667Z"
   },
   {
    "duration": 75,
    "start_time": "2025-01-04T12:58:36.550Z"
   },
   {
    "duration": 5,
    "start_time": "2025-01-04T12:58:48.707Z"
   },
   {
    "duration": 528,
    "start_time": "2025-01-04T12:58:48.715Z"
   },
   {
    "duration": 104,
    "start_time": "2025-01-04T12:58:49.245Z"
   },
   {
    "duration": 11817,
    "start_time": "2025-01-04T12:58:49.350Z"
   },
   {
    "duration": 5,
    "start_time": "2025-01-04T12:59:01.169Z"
   },
   {
    "duration": 159,
    "start_time": "2025-01-04T12:59:01.175Z"
   },
   {
    "duration": 954,
    "start_time": "2025-01-04T12:59:01.336Z"
   },
   {
    "duration": 5,
    "start_time": "2025-01-04T12:59:02.292Z"
   },
   {
    "duration": 34,
    "start_time": "2025-01-04T12:59:02.298Z"
   },
   {
    "duration": 5,
    "start_time": "2025-01-04T12:59:02.334Z"
   },
   {
    "duration": 75,
    "start_time": "2025-01-04T12:59:02.340Z"
   },
   {
    "duration": 80,
    "start_time": "2025-01-04T12:59:02.416Z"
   },
   {
    "duration": 5,
    "start_time": "2025-01-04T12:59:02.586Z"
   },
   {
    "duration": 123,
    "start_time": "2025-01-04T12:59:02.594Z"
   },
   {
    "duration": 10,
    "start_time": "2025-01-04T12:59:02.718Z"
   },
   {
    "duration": 32,
    "start_time": "2025-01-04T12:59:02.729Z"
   },
   {
    "duration": 38,
    "start_time": "2025-01-04T12:59:02.763Z"
   },
   {
    "duration": 24,
    "start_time": "2025-01-04T12:59:02.803Z"
   },
   {
    "duration": 4,
    "start_time": "2025-01-04T12:59:02.829Z"
   },
   {
    "duration": 24,
    "start_time": "2025-01-04T12:59:02.835Z"
   },
   {
    "duration": 10,
    "start_time": "2025-01-04T12:59:02.861Z"
   },
   {
    "duration": 3363,
    "start_time": "2025-01-04T12:59:02.872Z"
   },
   {
    "duration": 7,
    "start_time": "2025-01-04T12:59:06.236Z"
   },
   {
    "duration": 3,
    "start_time": "2025-01-04T13:03:41.464Z"
   },
   {
    "duration": 533,
    "start_time": "2025-01-04T13:03:41.469Z"
   },
   {
    "duration": 118,
    "start_time": "2025-01-04T13:03:42.003Z"
   },
   {
    "duration": 12049,
    "start_time": "2025-01-04T13:03:42.122Z"
   },
   {
    "duration": 16,
    "start_time": "2025-01-04T13:03:54.174Z"
   },
   {
    "duration": 173,
    "start_time": "2025-01-04T13:03:54.192Z"
   },
   {
    "duration": 921,
    "start_time": "2025-01-04T13:03:54.367Z"
   },
   {
    "duration": 4,
    "start_time": "2025-01-04T13:03:55.290Z"
   },
   {
    "duration": 13,
    "start_time": "2025-01-04T13:03:55.295Z"
   },
   {
    "duration": 11,
    "start_time": "2025-01-04T13:03:55.310Z"
   },
   {
    "duration": 81,
    "start_time": "2025-01-04T13:03:55.323Z"
   },
   {
    "duration": 283,
    "start_time": "2025-01-04T13:03:55.405Z"
   },
   {
    "duration": 93,
    "start_time": "2025-01-04T13:03:55.694Z"
   },
   {
    "duration": 13,
    "start_time": "2025-01-04T13:03:55.789Z"
   },
   {
    "duration": 6,
    "start_time": "2025-01-04T13:03:55.803Z"
   },
   {
    "duration": 33,
    "start_time": "2025-01-04T13:03:55.810Z"
   },
   {
    "duration": 6,
    "start_time": "2025-01-04T13:03:55.845Z"
   },
   {
    "duration": 9,
    "start_time": "2025-01-04T13:03:55.853Z"
   },
   {
    "duration": 23,
    "start_time": "2025-01-04T13:03:55.863Z"
   },
   {
    "duration": 36,
    "start_time": "2025-01-04T13:03:55.888Z"
   },
   {
    "duration": 10,
    "start_time": "2025-01-04T13:03:55.926Z"
   },
   {
    "duration": 3243,
    "start_time": "2025-01-04T13:03:55.938Z"
   },
   {
    "duration": 9,
    "start_time": "2025-01-04T13:03:59.182Z"
   },
   {
    "duration": 3,
    "start_time": "2025-01-04T13:04:59.665Z"
   },
   {
    "duration": 539,
    "start_time": "2025-01-04T13:04:59.670Z"
   },
   {
    "duration": 114,
    "start_time": "2025-01-04T13:05:00.211Z"
   },
   {
    "duration": 11538,
    "start_time": "2025-01-04T13:05:00.327Z"
   },
   {
    "duration": 5,
    "start_time": "2025-01-04T13:05:11.867Z"
   },
   {
    "duration": 147,
    "start_time": "2025-01-04T13:05:11.873Z"
   },
   {
    "duration": 971,
    "start_time": "2025-01-04T13:05:12.022Z"
   },
   {
    "duration": 4,
    "start_time": "2025-01-04T13:05:12.995Z"
   },
   {
    "duration": 6,
    "start_time": "2025-01-04T13:05:13.000Z"
   },
   {
    "duration": 5,
    "start_time": "2025-01-04T13:05:13.008Z"
   },
   {
    "duration": 96,
    "start_time": "2025-01-04T13:05:13.014Z"
   },
   {
    "duration": 276,
    "start_time": "2025-01-04T13:05:13.111Z"
   },
   {
    "duration": 94,
    "start_time": "2025-01-04T13:05:13.391Z"
   },
   {
    "duration": 4,
    "start_time": "2025-01-04T13:05:13.488Z"
   },
   {
    "duration": 9,
    "start_time": "2025-01-04T13:05:13.493Z"
   },
   {
    "duration": 9,
    "start_time": "2025-01-04T13:05:13.504Z"
   },
   {
    "duration": 13,
    "start_time": "2025-01-04T13:05:13.515Z"
   },
   {
    "duration": 10,
    "start_time": "2025-01-04T13:05:13.529Z"
   },
   {
    "duration": 3,
    "start_time": "2025-01-04T13:05:13.540Z"
   },
   {
    "duration": 16,
    "start_time": "2025-01-04T13:05:13.544Z"
   },
   {
    "duration": 9,
    "start_time": "2025-01-04T13:05:13.562Z"
   },
   {
    "duration": 3272,
    "start_time": "2025-01-04T13:05:13.573Z"
   },
   {
    "duration": 6,
    "start_time": "2025-01-04T13:05:16.847Z"
   },
   {
    "duration": 3,
    "start_time": "2025-01-04T13:07:40.965Z"
   },
   {
    "duration": 527,
    "start_time": "2025-01-04T13:07:40.971Z"
   },
   {
    "duration": 109,
    "start_time": "2025-01-04T13:07:41.499Z"
   },
   {
    "duration": 11549,
    "start_time": "2025-01-04T13:07:41.609Z"
   },
   {
    "duration": 5,
    "start_time": "2025-01-04T13:07:53.161Z"
   },
   {
    "duration": 162,
    "start_time": "2025-01-04T13:07:53.167Z"
   },
   {
    "duration": 1008,
    "start_time": "2025-01-04T13:07:53.331Z"
   },
   {
    "duration": 5,
    "start_time": "2025-01-04T13:07:54.341Z"
   },
   {
    "duration": 22,
    "start_time": "2025-01-04T13:07:54.347Z"
   },
   {
    "duration": 7,
    "start_time": "2025-01-04T13:07:54.370Z"
   },
   {
    "duration": 75,
    "start_time": "2025-01-04T13:07:54.378Z"
   },
   {
    "duration": 140,
    "start_time": "2025-01-04T13:07:54.454Z"
   },
   {
    "duration": 98,
    "start_time": "2025-01-04T13:07:54.595Z"
   },
   {
    "duration": 5,
    "start_time": "2025-01-04T13:07:54.787Z"
   },
   {
    "duration": 8,
    "start_time": "2025-01-04T13:07:54.793Z"
   },
   {
    "duration": 4,
    "start_time": "2025-01-04T13:07:54.803Z"
   },
   {
    "duration": 5,
    "start_time": "2025-01-04T13:07:54.809Z"
   },
   {
    "duration": 5,
    "start_time": "2025-01-04T13:07:54.815Z"
   },
   {
    "duration": 3,
    "start_time": "2025-01-04T13:07:54.821Z"
   },
   {
    "duration": 11,
    "start_time": "2025-01-04T13:07:54.826Z"
   },
   {
    "duration": 10,
    "start_time": "2025-01-04T13:07:54.839Z"
   },
   {
    "duration": 3210,
    "start_time": "2025-01-04T13:07:54.851Z"
   },
   {
    "duration": 6,
    "start_time": "2025-01-04T13:07:58.062Z"
   },
   {
    "duration": 3,
    "start_time": "2025-01-04T13:08:07.180Z"
   },
   {
    "duration": 579,
    "start_time": "2025-01-04T13:08:07.186Z"
   },
   {
    "duration": 104,
    "start_time": "2025-01-04T13:08:07.767Z"
   },
   {
    "duration": 12196,
    "start_time": "2025-01-04T13:08:07.873Z"
   },
   {
    "duration": 5,
    "start_time": "2025-01-04T13:08:20.071Z"
   },
   {
    "duration": 144,
    "start_time": "2025-01-04T13:08:20.077Z"
   },
   {
    "duration": 953,
    "start_time": "2025-01-04T13:08:20.222Z"
   },
   {
    "duration": 10,
    "start_time": "2025-01-04T13:08:21.177Z"
   },
   {
    "duration": 47,
    "start_time": "2025-01-04T13:08:21.188Z"
   },
   {
    "duration": 5,
    "start_time": "2025-01-04T13:08:21.236Z"
   },
   {
    "duration": 75,
    "start_time": "2025-01-04T13:08:21.243Z"
   },
   {
    "duration": 169,
    "start_time": "2025-01-04T13:08:21.320Z"
   },
   {
    "duration": 4,
    "start_time": "2025-01-04T13:08:21.491Z"
   },
   {
    "duration": 5,
    "start_time": "2025-01-04T13:08:21.589Z"
   },
   {
    "duration": 92,
    "start_time": "2025-01-04T13:08:21.595Z"
   },
   {
    "duration": 21,
    "start_time": "2025-01-04T13:08:21.688Z"
   },
   {
    "duration": 38,
    "start_time": "2025-01-04T13:08:21.710Z"
   },
   {
    "duration": 36,
    "start_time": "2025-01-04T13:08:21.749Z"
   },
   {
    "duration": 5,
    "start_time": "2025-01-04T13:08:21.786Z"
   },
   {
    "duration": 17,
    "start_time": "2025-01-04T13:08:21.792Z"
   },
   {
    "duration": 13,
    "start_time": "2025-01-04T13:08:21.811Z"
   },
   {
    "duration": 3220,
    "start_time": "2025-01-04T13:08:21.826Z"
   },
   {
    "duration": 7,
    "start_time": "2025-01-04T13:08:25.047Z"
   }
  ],
  "kernelspec": {
   "display_name": ".venv",
   "language": "python",
   "name": "python3"
  },
  "language_info": {
   "codemirror_mode": {
    "name": "ipython",
    "version": 3
   },
   "file_extension": ".py",
   "mimetype": "text/x-python",
   "name": "python",
   "nbconvert_exporter": "python",
   "pygments_lexer": "ipython3",
   "version": "3.10.12"
  },
  "toc": {
   "base_numbering": 1,
   "nav_menu": {},
   "number_sections": true,
   "sideBar": true,
   "skip_h1_title": false,
   "title_cell": "Table of Contents",
   "title_sidebar": "Contents",
   "toc_cell": false,
   "toc_position": {},
   "toc_section_display": true,
   "toc_window_display": false
  }
 },
 "nbformat": 4,
 "nbformat_minor": 2
}
