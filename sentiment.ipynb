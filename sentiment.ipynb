{
 "cells": [
  {
   "cell_type": "markdown",
   "metadata": {},
   "source": [
    "# Определение тональности текста"
   ]
  },
  {
   "cell_type": "markdown",
   "metadata": {},
   "source": [
    "## Вступление\n",
    "\n",
    "Классификация тональности текста является важным инструментом для анализа общественного мнения, выявления позитивных и негативных настроений в текстах, например, в социальных сетях, отзывах пользователей или новостных статьях. \n",
    "\n",
    "В рамках данного проекта будет обучена модель логистической регрессии для классификации твитов на позитивные и негативные. Для этого будет использован набор данных с лемматизированными текстами твитов, где целевой признак — это столбец `positive`. Модель будет обучена на тренировочной выборке, а затем протестирована на тестовой выборке, для которой будет выполнено предсказание тональности текстов.\n",
    "\n",
    "## План выполнения\n",
    "\n",
    "1. **Загрузка данных:**\n",
    "   - Загрузить тренировочную выборку из файла `tweets_lemm_train.csv` и тестовую выборку из `tweets_lemm_test.csv` с помощью библиотеки pandas.\n",
    "   - Преобразовать столбец с текстами твитов в список строк.\n",
    "\n",
    "2. **Предобработка данных:**\n",
    "   - Извлечь из тренировочного набора целевой признак `positive`, который указывает на тональность текста (положительная или отрицательная).\n",
    "\n",
    "3. **Векторизация текста:**\n",
    "   - Для преобразования текста в числовые векторы использовать метод TF-IDF. Это поможет учесть как частоту появления слова в документе, так и его редкость в других документах.\n",
    "   - Применить `TfidfVectorizer` из библиотеки `sklearn.feature_extraction.text` для извлечения признаков.\n",
    "\n",
    "4. **Обучение модели:**\n",
    "   - Обучить модель логистической регрессии на тренировочных данных с использованием библиотеки `sklearn.linear_model`.\n",
    "   - Настроить гиперпараметры модели, если это необходимо, для улучшения точности.\n",
    "\n",
    "5. **Оценка качества модели:**\n",
    "   - Оценить качество модели с помощью метрики точности (accuracy) на тренировочной выборке, чтобы она не была ниже 0.62.\n",
    "   - Использовать кросс-валидацию для проверки стабильности результатов.\n",
    "\n",
    "6. **Предсказание на тестовой выборке:**\n",
    "   - Использовать обученную модель для предсказания тональности на тестовой выборке (файл `tweets_lemm_test.csv`).\n",
    "   - Сохранить результаты предсказания в новый файл с единственным столбцом `positive` (с нулями и единицами), используя метод `to_csv()` из pandas. Убедитесь, что файл не имеет расширения `.csv`, и в нем нет индексов.\n",
    "\n",
    "7. **Проверка файла:**\n",
    "   - Открыть полученный файл с результатами предсказания в текстовом редакторе и убедиться, что он содержит только один столбец с результатами (0 или 1).\n",
    "   \n",
    "8. **Заключение:**\n",
    "   - Сделать выводы о качестве работы модели."
   ]
  },
  {
   "cell_type": "markdown",
   "metadata": {},
   "source": [
    "## Подготовка данных"
   ]
  },
  {
   "cell_type": "markdown",
   "metadata": {},
   "source": [
    "### Загрузка"
   ]
  },
  {
   "cell_type": "code",
   "execution_count": 19,
   "metadata": {},
   "outputs": [],
   "source": [
    "# Базовые библиотеки\n",
    "import os, time, sklearn, warnings, nltk\n",
    "import numpy as np\n",
    "import pandas as pd\n",
    "from datetime import datetime\n",
    "\n",
    "# Модели и обработка данных\n",
    "from sklearn.linear_model import LogisticRegression\n",
    "from sklearn.metrics import accuracy_score\n",
    "from sklearn.feature_extraction.text import TfidfVectorizer\n",
    "from nltk.corpus import stopwords\n",
    "from nltk.stem import WordNetLemmatizer\n",
    "from nltk.tokenize import word_tokenize\n",
    "\n",
    "# Константы\n",
    "RANDOM_STATE = 42"
   ]
  },
  {
   "cell_type": "code",
   "execution_count": 14,
   "metadata": {},
   "outputs": [
    {
     "name": "stderr",
     "output_type": "stream",
     "text": [
      "[nltk_data] Downloading package stopwords to\n",
      "[nltk_data]     /home/nickolas/nltk_data...\n",
      "[nltk_data]   Package stopwords is already up-to-date!\n"
     ]
    }
   ],
   "source": [
    "# Загрузка данных с учетом разделителей\n",
    "train_path = 'sentiment/tweets_lemm_train.csv'\n",
    "test_path = 'sentiment/tweets_lemm_test.csv'\n",
    "\n",
    "# Загружаем список стоп-слов для русского языка\n",
    "nltk.download('stopwords')\n",
    "stop_words_russian = stopwords.words('russian')"
   ]
  },
  {
   "cell_type": "code",
   "execution_count": 15,
   "metadata": {},
   "outputs": [
    {
     "name": "stdout",
     "output_type": "stream",
     "text": [
      "Тренировочный набор данных загружен успешно! 5000 строк и 3 столбцов.\n",
      "Тестовый набор данных загружен успешно! 3000 строк и 2 столбцов.\n"
     ]
    }
   ],
   "source": [
    "# Проверка наличия файлов и их загрузка\n",
    "if os.path.exists(train_path):\n",
    "    train_data = pd.read_csv(train_path)\n",
    "    print(f'Тренировочный набор данных загружен успешно! {train_data.shape[0]} строк и {train_data.shape[1]} столбцов.')\n",
    "else:\n",
    "    print('Не удалось найти файл для тренировочного набора данных.')\n",
    "\n",
    "if os.path.exists(test_path):\n",
    "    test_data = pd.read_csv(test_path)\n",
    "    print(f'Тестовый набор данных загружен успешно! {test_data.shape[0]} строк и {test_data.shape[1]} столбцов.')\n",
    "else:\n",
    "    print('Не удалось найти файл для тестового набора данных.')"
   ]
  },
  {
   "cell_type": "code",
   "execution_count": 16,
   "metadata": {},
   "outputs": [
    {
     "data": {
      "text/html": [
       "<div>\n",
       "<style scoped>\n",
       "    .dataframe tbody tr th:only-of-type {\n",
       "        vertical-align: middle;\n",
       "    }\n",
       "\n",
       "    .dataframe tbody tr th {\n",
       "        vertical-align: top;\n",
       "    }\n",
       "\n",
       "    .dataframe thead th {\n",
       "        text-align: right;\n",
       "    }\n",
       "</style>\n",
       "<table border=\"1\" class=\"dataframe\">\n",
       "  <thead>\n",
       "    <tr style=\"text-align: right;\">\n",
       "      <th></th>\n",
       "      <th>text</th>\n",
       "      <th>positive</th>\n",
       "      <th>lemm_text</th>\n",
       "    </tr>\n",
       "  </thead>\n",
       "  <tbody>\n",
       "    <tr>\n",
       "      <th>0</th>\n",
       "      <td>@first_timee хоть я и школота, но поверь, у на...</td>\n",
       "      <td>1</td>\n",
       "      <td>хоть я и школотый но поверь у мы то же самый о...</td>\n",
       "    </tr>\n",
       "    <tr>\n",
       "      <th>1</th>\n",
       "      <td>Да, все-таки он немного похож на него. Но мой ...</td>\n",
       "      <td>1</td>\n",
       "      <td>да весь таки он немного похожий на он но мой м...</td>\n",
       "    </tr>\n",
       "    <tr>\n",
       "      <th>2</th>\n",
       "      <td>RT @KatiaCheh: Ну ты идиотка) я испугалась за ...</td>\n",
       "      <td>1</td>\n",
       "      <td>ну ты идиотка я испугаться за ты</td>\n",
       "    </tr>\n",
       "    <tr>\n",
       "      <th>3</th>\n",
       "      <td>RT @digger2912: \"Кто то в углу сидит и погибае...</td>\n",
       "      <td>1</td>\n",
       "      <td>кто то в угол сидеть и погибать от голод а мы ...</td>\n",
       "    </tr>\n",
       "    <tr>\n",
       "      <th>4</th>\n",
       "      <td>@irina_dyshkant Вот что значит страшилка :D\\r\\...</td>\n",
       "      <td>1</td>\n",
       "      <td>вот что значит страшилка но блин посмотреть ве...</td>\n",
       "    </tr>\n",
       "  </tbody>\n",
       "</table>\n",
       "</div>"
      ],
      "text/plain": [
       "                                                text  positive  \\\n",
       "0  @first_timee хоть я и школота, но поверь, у на...         1   \n",
       "1  Да, все-таки он немного похож на него. Но мой ...         1   \n",
       "2  RT @KatiaCheh: Ну ты идиотка) я испугалась за ...         1   \n",
       "3  RT @digger2912: \"Кто то в углу сидит и погибае...         1   \n",
       "4  @irina_dyshkant Вот что значит страшилка :D\\r\\...         1   \n",
       "\n",
       "                                           lemm_text  \n",
       "0  хоть я и школотый но поверь у мы то же самый о...  \n",
       "1  да весь таки он немного похожий на он но мой м...  \n",
       "2                  ну ты идиотка я испугаться за ты   \n",
       "3  кто то в угол сидеть и погибать от голод а мы ...  \n",
       "4  вот что значит страшилка но блин посмотреть ве...  "
      ]
     },
     "metadata": {},
     "output_type": "display_data"
    },
    {
     "data": {
      "text/html": [
       "<div>\n",
       "<style scoped>\n",
       "    .dataframe tbody tr th:only-of-type {\n",
       "        vertical-align: middle;\n",
       "    }\n",
       "\n",
       "    .dataframe tbody tr th {\n",
       "        vertical-align: top;\n",
       "    }\n",
       "\n",
       "    .dataframe thead th {\n",
       "        text-align: right;\n",
       "    }\n",
       "</style>\n",
       "<table border=\"1\" class=\"dataframe\">\n",
       "  <thead>\n",
       "    <tr style=\"text-align: right;\">\n",
       "      <th></th>\n",
       "      <th>text</th>\n",
       "      <th>lemm_text</th>\n",
       "    </tr>\n",
       "  </thead>\n",
       "  <tbody>\n",
       "    <tr>\n",
       "      <th>0</th>\n",
       "      <td>RT @tiredfennel: если криса так интересуют дет...</td>\n",
       "      <td>если крис так интересовать ребёнок то либо они...</td>\n",
       "    </tr>\n",
       "    <tr>\n",
       "      <th>1</th>\n",
       "      <td>@xsealord по 200 руб. в месяц можно разместить...</td>\n",
       "      <td>по рубль в месяц можно разместить ссылка на те...</td>\n",
       "    </tr>\n",
       "    <tr>\n",
       "      <th>2</th>\n",
       "      <td>@haosANDlaw @Etishkindyx учитывая, что сейчас ...</td>\n",
       "      <td>учитывать что сейчас преобладать один половина...</td>\n",
       "    </tr>\n",
       "    <tr>\n",
       "      <th>3</th>\n",
       "      <td>Товарищ    :) Но я никак не могу отдельно не о...</td>\n",
       "      <td>товарищ но я никак не мочь отдельно не отметит...</td>\n",
       "    </tr>\n",
       "    <tr>\n",
       "      <th>4</th>\n",
       "      <td>RT @BodyaNick: Квн был отличный !) Оооочень по...</td>\n",
       "      <td>квн быть отличный оооочень понравиться женский...</td>\n",
       "    </tr>\n",
       "  </tbody>\n",
       "</table>\n",
       "</div>"
      ],
      "text/plain": [
       "                                                text  \\\n",
       "0  RT @tiredfennel: если криса так интересуют дет...   \n",
       "1  @xsealord по 200 руб. в месяц можно разместить...   \n",
       "2  @haosANDlaw @Etishkindyx учитывая, что сейчас ...   \n",
       "3  Товарищ    :) Но я никак не могу отдельно не о...   \n",
       "4  RT @BodyaNick: Квн был отличный !) Оооочень по...   \n",
       "\n",
       "                                           lemm_text  \n",
       "0  если крис так интересовать ребёнок то либо они...  \n",
       "1  по рубль в месяц можно разместить ссылка на те...  \n",
       "2  учитывать что сейчас преобладать один половина...  \n",
       "3  товарищ но я никак не мочь отдельно не отметит...  \n",
       "4  квн быть отличный оооочень понравиться женский...  "
      ]
     },
     "metadata": {},
     "output_type": "display_data"
    }
   ],
   "source": [
    "display(train_data.head())\n",
    "display(test_data.head())"
   ]
  },
  {
   "cell_type": "code",
   "execution_count": 17,
   "metadata": {},
   "outputs": [
    {
     "name": "stdout",
     "output_type": "stream",
     "text": [
      "                                                text  positive\n",
      "0  @first_timee хоть я и школота, но поверь, у на...         1\n",
      "1  Да, все-таки он немного похож на него. Но мой ...         1\n",
      "2  RT @KatiaCheh: Ну ты идиотка) я испугалась за ...         1\n",
      "3  RT @digger2912: \"Кто то в углу сидит и погибае...         1\n",
      "4  @irina_dyshkant Вот что значит страшилка :D\\r\\...         1\n"
     ]
    }
   ],
   "source": [
    "# Извлекаем целевой признак\n",
    "y_train = train_data['positive']\n",
    "\n",
    "# Проверяем несколько примеров\n",
    "print(train_data[['text', 'positive']].head())"
   ]
  },
  {
   "cell_type": "markdown",
   "metadata": {},
   "source": [
    "## Векторизация текста"
   ]
  },
  {
   "cell_type": "code",
   "execution_count": 20,
   "metadata": {},
   "outputs": [],
   "source": [
    "# Подготовка данных (извлечение текста и целевого признака для обучения)\n",
    "X_train = train_data['text']\n",
    "y_train = train_data['positive']\n",
    "X_test = test_data['text']\n",
    "\n",
    "# Векторизация текста с использованием TF-IDF\n",
    "vectorizer = TfidfVectorizer(stop_words=stop_words_russian)\n",
    "X_train_tfidf = vectorizer.fit_transform(X_train)\n",
    "X_test_tfidf = vectorizer.transform(X_test)"
   ]
  },
  {
   "cell_type": "markdown",
   "metadata": {},
   "source": [
    "## Обучение модели"
   ]
  },
  {
   "cell_type": "code",
   "execution_count": 21,
   "metadata": {},
   "outputs": [
    {
     "name": "stdout",
     "output_type": "stream",
     "text": [
      "   positive\n",
      "0         1\n",
      "1         0\n",
      "2         0\n",
      "3         0\n",
      "4         1\n",
      "Accuracy на обучающей выборке: 0.94\n"
     ]
    }
   ],
   "source": [
    "# Создание и обучение модели логистической регрессии\n",
    "model = LogisticRegression(max_iter=1000)\n",
    "model.fit(X_train_tfidf, y_train)\n",
    "\n",
    "# Прогнозирование для тестовой выборки\n",
    "y_pred = model.predict(X_test_tfidf)\n",
    "\n",
    "# Сохраняем предсказания в новый DataFrame\n",
    "predictions_df = pd.DataFrame({'positive': y_pred})\n",
    "\n",
    "# Сохранение результатов в файл\n",
    "predictions_df.to_csv('predictions', index=False)\n",
    "\n",
    "# Печать первых 5 строк предсказаний\n",
    "print(predictions_df.head())\n",
    "\n",
    "# Вычисление точности модели (accuracy) на тестовой выборке\n",
    "accuracy = accuracy_score(y_train, model.predict(X_train_tfidf))\n",
    "print(f'Accuracy на обучающей выборке: {accuracy:.2f}')"
   ]
  },
  {
   "cell_type": "markdown",
   "metadata": {},
   "source": [
    "## Сохранение в файл"
   ]
  },
  {
   "cell_type": "code",
   "execution_count": null,
   "metadata": {},
   "outputs": [
    {
     "name": "stdout",
     "output_type": "stream",
     "text": [
      "   positive\n",
      "0         1\n",
      "1         0\n",
      "2         0\n",
      "3         0\n",
      "4         1\n"
     ]
    }
   ],
   "source": [
    "# Создание DataFrame с предсказаниями\n",
    "predictions_df = pd.DataFrame({'positive': y_pred})\n",
    "\n",
    "# Сохранение предсказаний в файл без расширения и без индексов\n",
    "predictions_df.to_csv('sentiment/predictions', index=False)\n",
    "\n",
    "# Печать первых 5 строк результата для проверки\n",
    "print(predictions_df.head())"
   ]
  },
  {
   "cell_type": "code",
   "execution_count": null,
   "metadata": {},
   "outputs": [],
   "source": []
  }
 ],
 "metadata": {
  "kernelspec": {
   "display_name": ".venv",
   "language": "python",
   "name": "python3"
  },
  "language_info": {
   "codemirror_mode": {
    "name": "ipython",
    "version": 3
   },
   "file_extension": ".py",
   "mimetype": "text/x-python",
   "name": "python",
   "nbconvert_exporter": "python",
   "pygments_lexer": "ipython3",
   "version": "3.10.12"
  }
 },
 "nbformat": 4,
 "nbformat_minor": 2
}
